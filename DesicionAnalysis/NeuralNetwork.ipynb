{
  "cells": [
    {
      "cell_type": "markdown",
      "metadata": {
        "id": "view-in-github",
        "colab_type": "text"
      },
      "source": [
        "<a href=\"https://colab.research.google.com/github/K-Viera/Python/blob/main/DesicionAnalysis/NeuralNetwork.ipynb\" target=\"_parent\"><img src=\"https://colab.research.google.com/assets/colab-badge.svg\" alt=\"Open In Colab\"/></a>"
      ]
    },
    {
      "cell_type": "code",
      "execution_count": null,
      "id": "a1652672",
      "metadata": {
        "id": "a1652672"
      },
      "outputs": [],
      "source": [
        "#Tratamiento de Datos\n",
        "import numpy as np\n",
        "import pandas as pd\n",
        "#Gráficos\n",
        "import matplotlib.pyplot as plt\n",
        "import seaborn as sns\n",
        "%matplotlib inline\n",
        "plt.style.use('ggplot')\n",
        "#Modelado\n",
        "from sklearn.neural_network import MLPRegressor\n",
        "from sklearn.compose import ColumnTransformer\n",
        "from sklearn.preprocessing import OneHotEncoder\n",
        "from sklearn.preprocessing import StandardScaler\n",
        "from sklearn.compose import make_column_selector\n",
        "from sklearn.pipeline import Pipeline\n",
        "from sklearn.metrics import mean_squared_error\n",
        "from sklearn.model_selection import RandomizedSearchCV\n",
        "from sklearn.model_selection import KFold\n",
        "from sklearn.model_selection import train_test_split\n",
        "from sklearn import set_config\n",
        "import multiprocessing\n",
        "#Advertencias\n",
        "import warnings\n",
        "warnings.filterwarnings('ignore')"
      ]
    },
    {
      "cell_type": "code",
      "execution_count": null,
      "id": "425369d0",
      "metadata": {
        "id": "425369d0",
        "outputId": "b102e0de-adfd-4242-d86c-11c61294b48d"
      },
      "outputs": [
        {
          "data": {
            "text/html": [
              "<div>\n",
              "<style scoped>\n",
              "    .dataframe tbody tr th:only-of-type {\n",
              "        vertical-align: middle;\n",
              "    }\n",
              "\n",
              "    .dataframe tbody tr th {\n",
              "        vertical-align: top;\n",
              "    }\n",
              "\n",
              "    .dataframe thead th {\n",
              "        text-align: right;\n",
              "    }\n",
              "</style>\n",
              "<table border=\"1\" class=\"dataframe\">\n",
              "  <thead>\n",
              "    <tr style=\"text-align: right;\">\n",
              "      <th></th>\n",
              "      <th>price</th>\n",
              "      <th>lotSize</th>\n",
              "      <th>age</th>\n",
              "      <th>landValue</th>\n",
              "      <th>livingArea</th>\n",
              "      <th>pctCollege</th>\n",
              "      <th>bedrooms</th>\n",
              "      <th>fireplaces</th>\n",
              "      <th>bathrooms</th>\n",
              "      <th>rooms</th>\n",
              "      <th>heating</th>\n",
              "      <th>fuel</th>\n",
              "      <th>sewer</th>\n",
              "      <th>waterfront</th>\n",
              "      <th>newConstruction</th>\n",
              "      <th>centralAir</th>\n",
              "    </tr>\n",
              "  </thead>\n",
              "  <tbody>\n",
              "    <tr>\n",
              "      <th>0</th>\n",
              "      <td>132500</td>\n",
              "      <td>0.09</td>\n",
              "      <td>42</td>\n",
              "      <td>50000</td>\n",
              "      <td>906</td>\n",
              "      <td>35</td>\n",
              "      <td>2</td>\n",
              "      <td>1</td>\n",
              "      <td>1.0</td>\n",
              "      <td>5</td>\n",
              "      <td>electric</td>\n",
              "      <td>electric</td>\n",
              "      <td>septic</td>\n",
              "      <td>No</td>\n",
              "      <td>No</td>\n",
              "      <td>No</td>\n",
              "    </tr>\n",
              "    <tr>\n",
              "      <th>1</th>\n",
              "      <td>181115</td>\n",
              "      <td>0.92</td>\n",
              "      <td>0</td>\n",
              "      <td>22300</td>\n",
              "      <td>1953</td>\n",
              "      <td>51</td>\n",
              "      <td>3</td>\n",
              "      <td>0</td>\n",
              "      <td>2.5</td>\n",
              "      <td>6</td>\n",
              "      <td>hot water/steam</td>\n",
              "      <td>gas</td>\n",
              "      <td>septic</td>\n",
              "      <td>No</td>\n",
              "      <td>No</td>\n",
              "      <td>No</td>\n",
              "    </tr>\n",
              "    <tr>\n",
              "      <th>2</th>\n",
              "      <td>109000</td>\n",
              "      <td>0.19</td>\n",
              "      <td>133</td>\n",
              "      <td>7300</td>\n",
              "      <td>1944</td>\n",
              "      <td>51</td>\n",
              "      <td>4</td>\n",
              "      <td>1</td>\n",
              "      <td>1.0</td>\n",
              "      <td>8</td>\n",
              "      <td>hot water/steam</td>\n",
              "      <td>gas</td>\n",
              "      <td>public/commercial</td>\n",
              "      <td>No</td>\n",
              "      <td>No</td>\n",
              "      <td>No</td>\n",
              "    </tr>\n",
              "    <tr>\n",
              "      <th>3</th>\n",
              "      <td>155000</td>\n",
              "      <td>0.41</td>\n",
              "      <td>13</td>\n",
              "      <td>18700</td>\n",
              "      <td>1944</td>\n",
              "      <td>51</td>\n",
              "      <td>3</td>\n",
              "      <td>1</td>\n",
              "      <td>1.5</td>\n",
              "      <td>5</td>\n",
              "      <td>hot air</td>\n",
              "      <td>gas</td>\n",
              "      <td>septic</td>\n",
              "      <td>No</td>\n",
              "      <td>No</td>\n",
              "      <td>No</td>\n",
              "    </tr>\n",
              "    <tr>\n",
              "      <th>4</th>\n",
              "      <td>86060</td>\n",
              "      <td>0.11</td>\n",
              "      <td>0</td>\n",
              "      <td>15000</td>\n",
              "      <td>840</td>\n",
              "      <td>51</td>\n",
              "      <td>2</td>\n",
              "      <td>0</td>\n",
              "      <td>1.0</td>\n",
              "      <td>3</td>\n",
              "      <td>hot air</td>\n",
              "      <td>gas</td>\n",
              "      <td>public/commercial</td>\n",
              "      <td>No</td>\n",
              "      <td>Yes</td>\n",
              "      <td>Yes</td>\n",
              "    </tr>\n",
              "  </tbody>\n",
              "</table>\n",
              "</div>"
            ],
            "text/plain": [
              "    price  lotSize  age  landValue  livingArea  pctCollege  bedrooms  \\\n",
              "0  132500     0.09   42      50000         906          35         2   \n",
              "1  181115     0.92    0      22300        1953          51         3   \n",
              "2  109000     0.19  133       7300        1944          51         4   \n",
              "3  155000     0.41   13      18700        1944          51         3   \n",
              "4   86060     0.11    0      15000         840          51         2   \n",
              "\n",
              "   fireplaces  bathrooms  rooms          heating      fuel              sewer  \\\n",
              "0           1        1.0      5         electric  electric             septic   \n",
              "1           0        2.5      6  hot water/steam       gas             septic   \n",
              "2           1        1.0      8  hot water/steam       gas  public/commercial   \n",
              "3           1        1.5      5          hot air       gas             septic   \n",
              "4           0        1.0      3          hot air       gas  public/commercial   \n",
              "\n",
              "  waterfront newConstruction centralAir  \n",
              "0         No              No         No  \n",
              "1         No              No         No  \n",
              "2         No              No         No  \n",
              "3         No              No         No  \n",
              "4         No             Yes        Yes  "
            ]
          },
          "execution_count": 2,
          "metadata": {},
          "output_type": "execute_result"
        }
      ],
      "source": [
        "#Descarga de Datos\n",
        "url = (\"https://raw.githubusercontent.com/JoaquinAmatRodrigo/\"\n",
        "       \"Estadistica-machine-learning-python/master/data/SaratogaHouses.csv\")\n",
        "datos = pd.read_csv(url, sep=\",\")\n",
        "datos.head()"
      ]
    },
    {
      "cell_type": "code",
      "execution_count": null,
      "id": "1eafadf6",
      "metadata": {
        "id": "1eafadf6",
        "outputId": "e8c08242-1494-4f55-c2ea-4baf2ea51aef"
      },
      "outputs": [
        {
          "data": {
            "text/html": [
              "<div>\n",
              "<style scoped>\n",
              "    .dataframe tbody tr th:only-of-type {\n",
              "        vertical-align: middle;\n",
              "    }\n",
              "\n",
              "    .dataframe tbody tr th {\n",
              "        vertical-align: top;\n",
              "    }\n",
              "\n",
              "    .dataframe thead th {\n",
              "        text-align: right;\n",
              "    }\n",
              "</style>\n",
              "<table border=\"1\" class=\"dataframe\">\n",
              "  <thead>\n",
              "    <tr style=\"text-align: right;\">\n",
              "      <th></th>\n",
              "      <th>precio</th>\n",
              "      <th>metros_totales</th>\n",
              "      <th>antiguedad</th>\n",
              "      <th>precio_terreno</th>\n",
              "      <th>metros_habitables</th>\n",
              "      <th>universitarios</th>\n",
              "      <th>dormitorios</th>\n",
              "      <th>chimenea</th>\n",
              "      <th>banyos</th>\n",
              "      <th>habitaciones</th>\n",
              "      <th>calefaccion</th>\n",
              "      <th>consumo_calefacion</th>\n",
              "      <th>desague</th>\n",
              "      <th>vistas_lago</th>\n",
              "      <th>nueva_construccion</th>\n",
              "      <th>aire_acondicionado</th>\n",
              "    </tr>\n",
              "  </thead>\n",
              "  <tbody>\n",
              "    <tr>\n",
              "      <th>0</th>\n",
              "      <td>132500</td>\n",
              "      <td>0.09</td>\n",
              "      <td>42</td>\n",
              "      <td>50000</td>\n",
              "      <td>906</td>\n",
              "      <td>35</td>\n",
              "      <td>2</td>\n",
              "      <td>1</td>\n",
              "      <td>1.0</td>\n",
              "      <td>5</td>\n",
              "      <td>electric</td>\n",
              "      <td>electric</td>\n",
              "      <td>septic</td>\n",
              "      <td>No</td>\n",
              "      <td>No</td>\n",
              "      <td>No</td>\n",
              "    </tr>\n",
              "    <tr>\n",
              "      <th>1</th>\n",
              "      <td>181115</td>\n",
              "      <td>0.92</td>\n",
              "      <td>0</td>\n",
              "      <td>22300</td>\n",
              "      <td>1953</td>\n",
              "      <td>51</td>\n",
              "      <td>3</td>\n",
              "      <td>0</td>\n",
              "      <td>2.5</td>\n",
              "      <td>6</td>\n",
              "      <td>hot water/steam</td>\n",
              "      <td>gas</td>\n",
              "      <td>septic</td>\n",
              "      <td>No</td>\n",
              "      <td>No</td>\n",
              "      <td>No</td>\n",
              "    </tr>\n",
              "    <tr>\n",
              "      <th>2</th>\n",
              "      <td>109000</td>\n",
              "      <td>0.19</td>\n",
              "      <td>133</td>\n",
              "      <td>7300</td>\n",
              "      <td>1944</td>\n",
              "      <td>51</td>\n",
              "      <td>4</td>\n",
              "      <td>1</td>\n",
              "      <td>1.0</td>\n",
              "      <td>8</td>\n",
              "      <td>hot water/steam</td>\n",
              "      <td>gas</td>\n",
              "      <td>public/commercial</td>\n",
              "      <td>No</td>\n",
              "      <td>No</td>\n",
              "      <td>No</td>\n",
              "    </tr>\n",
              "    <tr>\n",
              "      <th>3</th>\n",
              "      <td>155000</td>\n",
              "      <td>0.41</td>\n",
              "      <td>13</td>\n",
              "      <td>18700</td>\n",
              "      <td>1944</td>\n",
              "      <td>51</td>\n",
              "      <td>3</td>\n",
              "      <td>1</td>\n",
              "      <td>1.5</td>\n",
              "      <td>5</td>\n",
              "      <td>hot air</td>\n",
              "      <td>gas</td>\n",
              "      <td>septic</td>\n",
              "      <td>No</td>\n",
              "      <td>No</td>\n",
              "      <td>No</td>\n",
              "    </tr>\n",
              "    <tr>\n",
              "      <th>4</th>\n",
              "      <td>86060</td>\n",
              "      <td>0.11</td>\n",
              "      <td>0</td>\n",
              "      <td>15000</td>\n",
              "      <td>840</td>\n",
              "      <td>51</td>\n",
              "      <td>2</td>\n",
              "      <td>0</td>\n",
              "      <td>1.0</td>\n",
              "      <td>3</td>\n",
              "      <td>hot air</td>\n",
              "      <td>gas</td>\n",
              "      <td>public/commercial</td>\n",
              "      <td>No</td>\n",
              "      <td>Yes</td>\n",
              "      <td>Yes</td>\n",
              "    </tr>\n",
              "  </tbody>\n",
              "</table>\n",
              "</div>"
            ],
            "text/plain": [
              "   precio  metros_totales  antiguedad  precio_terreno  metros_habitables  \\\n",
              "0  132500            0.09          42           50000                906   \n",
              "1  181115            0.92           0           22300               1953   \n",
              "2  109000            0.19         133            7300               1944   \n",
              "3  155000            0.41          13           18700               1944   \n",
              "4   86060            0.11           0           15000                840   \n",
              "\n",
              "   universitarios  dormitorios  chimenea  banyos  habitaciones  \\\n",
              "0              35            2         1     1.0             5   \n",
              "1              51            3         0     2.5             6   \n",
              "2              51            4         1     1.0             8   \n",
              "3              51            3         1     1.5             5   \n",
              "4              51            2         0     1.0             3   \n",
              "\n",
              "       calefaccion consumo_calefacion            desague vistas_lago  \\\n",
              "0         electric           electric             septic          No   \n",
              "1  hot water/steam                gas             septic          No   \n",
              "2  hot water/steam                gas  public/commercial          No   \n",
              "3          hot air                gas             septic          No   \n",
              "4          hot air                gas  public/commercial          No   \n",
              "\n",
              "  nueva_construccion aire_acondicionado  \n",
              "0                 No                 No  \n",
              "1                 No                 No  \n",
              "2                 No                 No  \n",
              "3                 No                 No  \n",
              "4                Yes                Yes  "
            ]
          },
          "execution_count": 3,
          "metadata": {},
          "output_type": "execute_result"
        }
      ],
      "source": [
        "# Se renombran las columnas al español\n",
        "datos.columns = [\"precio\", \"metros_totales\", \"antiguedad\", \"precio_terreno\",\n",
        "                 \"metros_habitables\", \"universitarios\", \"dormitorios\", \n",
        "                 \"chimenea\", \"banyos\", \"habitaciones\", \"calefaccion\",\n",
        "                 \"consumo_calefacion\", \"desague\", \"vistas_lago\",\n",
        "                 \"nueva_construccion\", \"aire_acondicionado\"]\n",
        "datos.head()"
      ]
    },
    {
      "cell_type": "markdown",
      "id": "95eb8c84",
      "metadata": {
        "id": "95eb8c84"
      },
      "source": [
        "# Análisis Descriptivo"
      ]
    },
    {
      "cell_type": "code",
      "execution_count": null,
      "id": "e4747d4c",
      "metadata": {
        "id": "e4747d4c",
        "outputId": "923c4ecd-f5ea-44b1-9dba-d1b2fb263f4b"
      },
      "outputs": [
        {
          "name": "stdout",
          "output_type": "stream",
          "text": [
            "<class 'pandas.core.frame.DataFrame'>\n",
            "RangeIndex: 1728 entries, 0 to 1727\n",
            "Data columns (total 16 columns):\n",
            " #   Column              Non-Null Count  Dtype  \n",
            "---  ------              --------------  -----  \n",
            " 0   precio              1728 non-null   int64  \n",
            " 1   metros_totales      1728 non-null   float64\n",
            " 2   antiguedad          1728 non-null   int64  \n",
            " 3   precio_terreno      1728 non-null   int64  \n",
            " 4   metros_habitables   1728 non-null   int64  \n",
            " 5   universitarios      1728 non-null   int64  \n",
            " 6   dormitorios         1728 non-null   int64  \n",
            " 7   chimenea            1728 non-null   int64  \n",
            " 8   banyos              1728 non-null   float64\n",
            " 9   habitaciones        1728 non-null   int64  \n",
            " 10  calefaccion         1728 non-null   object \n",
            " 11  consumo_calefacion  1728 non-null   object \n",
            " 12  desague             1728 non-null   object \n",
            " 13  vistas_lago         1728 non-null   object \n",
            " 14  nueva_construccion  1728 non-null   object \n",
            " 15  aire_acondicionado  1728 non-null   object \n",
            "dtypes: float64(2), int64(8), object(6)\n",
            "memory usage: 216.1+ KB\n"
          ]
        }
      ],
      "source": [
        "#Tipo de Columnas\n",
        "datos.info()"
      ]
    },
    {
      "cell_type": "code",
      "execution_count": null,
      "id": "cfcba763",
      "metadata": {
        "id": "cfcba763",
        "outputId": "304f3ca7-2f11-4423-8dd6-6e69e633d322"
      },
      "outputs": [
        {
          "data": {
            "text/plain": [
              "precio                0\n",
              "metros_totales        0\n",
              "antiguedad            0\n",
              "precio_terreno        0\n",
              "metros_habitables     0\n",
              "universitarios        0\n",
              "dormitorios           0\n",
              "chimenea              0\n",
              "banyos                0\n",
              "habitaciones          0\n",
              "calefaccion           0\n",
              "consumo_calefacion    0\n",
              "desague               0\n",
              "vistas_lago           0\n",
              "nueva_construccion    0\n",
              "aire_acondicionado    0\n",
              "dtype: int64"
            ]
          },
          "execution_count": 5,
          "metadata": {},
          "output_type": "execute_result"
        }
      ],
      "source": [
        "#Número de datos vacíos por variable\n",
        "datos.isna().sum().sort_values()"
      ]
    },
    {
      "cell_type": "code",
      "execution_count": null,
      "id": "e2885dcf",
      "metadata": {
        "id": "e2885dcf",
        "outputId": "848a9643-ae64-4ebb-e045-20a860c7a3fb"
      },
      "outputs": [
        {
          "data": {
            "text/plain": [
              "Text(0.5, 0, 'precio')"
            ]
          },
          "execution_count": 6,
          "metadata": {},
          "output_type": "execute_result"
        },
        {
          "data": {
            "image/png": "[encoded data removed]",
            "text/plain": [
              "<Figure size 432x216 with 1 Axes>"
            ]
          },
          "metadata": {},
          "output_type": "display_data"
        }
      ],
      "source": [
        "#Distribución de la variable respuesta\n",
        "fig, ax = plt.subplots(nrows=1, ncols=1, figsize=(6, 3))\n",
        "sns.histplot(data=datos, x='precio', kde=True,ax=ax)\n",
        "ax.set_title(\"Distribución Precio\")\n",
        "ax.set_xlabel('precio')"
      ]
    },
    {
      "cell_type": "code",
      "execution_count": null,
      "id": "2f175a45",
      "metadata": {
        "id": "2f175a45",
        "outputId": "56cb06c7-ac84-44b3-c639-67f455e5b813"
      },
      "outputs": [
        {
          "data": {
            "text/plain": [
              "Text(0.5, 0.98, 'Distribución variables numéricas')"
            ]
          },
          "execution_count": 7,
          "metadata": {},
          "output_type": "execute_result"
        },
        {
          "data": {
            "image/png": "[encoded data removed]",
            "text/plain": [
              "<Figure size 864x504 with 9 Axes>"
            ]
          },
          "metadata": {},
          "output_type": "display_data"
        }
      ],
      "source": [
        "#Gráficos de distribución para cada variable numérica\n",
        "fig, axes = plt.subplots(nrows=3, ncols=3, figsize=(12, 7))\n",
        "axes = axes.flat\n",
        "columnas_numeric = datos.select_dtypes(include=['float64', 'int64']).columns\n",
        "columnas_numeric = columnas_numeric.drop('precio')\n",
        "\n",
        "for i, colum in enumerate(columnas_numeric):\n",
        "    sns.histplot(\n",
        "        data    = datos,\n",
        "        x       = colum,\n",
        "        stat    = \"count\",\n",
        "        kde     = True,\n",
        "        color   = (list(plt.rcParams['axes.prop_cycle'])*2)[i][\"color\"],\n",
        "        line_kws= {'linewidth': 2},\n",
        "        alpha   = 0.3,\n",
        "        ax      = axes[i]\n",
        "    )\n",
        "    axes[i].set_title(colum, fontsize = 7, fontweight = \"bold\")\n",
        "    axes[i].tick_params(labelsize = 6)\n",
        "    axes[i].set_xlabel(\"\")\n",
        "    axes[i].set_ylabel(\"\")\n",
        "    \n",
        "    \n",
        "fig.tight_layout()\n",
        "plt.subplots_adjust(top = 0.9)\n",
        "fig.suptitle('Distribución variables numéricas', fontsize = 10, fontweight = \"bold\")"
      ]
    },
    {
      "cell_type": "code",
      "execution_count": null,
      "id": "96868e30",
      "metadata": {
        "id": "96868e30",
        "outputId": "05cf6ee4-3ce3-47e7-c105-343dfaf59ac2"
      },
      "outputs": [
        {
          "data": {
            "text/plain": [
              "1    942\n",
              "0    740\n",
              "2     42\n",
              "4      2\n",
              "3      2\n",
              "Name: chimenea, dtype: int64"
            ]
          },
          "execution_count": 8,
          "metadata": {},
          "output_type": "execute_result"
        }
      ],
      "source": [
        "#Transformación de la variable chimenea\n",
        "datos.chimenea = datos.chimenea.astype(\"str\")\n",
        "datos.chimenea.value_counts()"
      ]
    },
    {
      "cell_type": "code",
      "execution_count": null,
      "id": "4df24b14",
      "metadata": {
        "id": "4df24b14",
        "outputId": "580c09f8-c0ad-4511-c0ad-070e8fc79e16"
      },
      "outputs": [
        {
          "data": {
            "text/html": [
              "<div>\n",
              "<style scoped>\n",
              "    .dataframe tbody tr th:only-of-type {\n",
              "        vertical-align: middle;\n",
              "    }\n",
              "\n",
              "    .dataframe tbody tr th {\n",
              "        vertical-align: top;\n",
              "    }\n",
              "\n",
              "    .dataframe thead th {\n",
              "        text-align: right;\n",
              "    }\n",
              "</style>\n",
              "<table border=\"1\" class=\"dataframe\">\n",
              "  <thead>\n",
              "    <tr style=\"text-align: right;\">\n",
              "      <th></th>\n",
              "      <th>chimenea</th>\n",
              "      <th>calefaccion</th>\n",
              "      <th>consumo_calefacion</th>\n",
              "      <th>desague</th>\n",
              "      <th>vistas_lago</th>\n",
              "      <th>nueva_construccion</th>\n",
              "      <th>aire_acondicionado</th>\n",
              "    </tr>\n",
              "  </thead>\n",
              "  <tbody>\n",
              "    <tr>\n",
              "      <th>count</th>\n",
              "      <td>1728</td>\n",
              "      <td>1728</td>\n",
              "      <td>1728</td>\n",
              "      <td>1728</td>\n",
              "      <td>1728</td>\n",
              "      <td>1728</td>\n",
              "      <td>1728</td>\n",
              "    </tr>\n",
              "    <tr>\n",
              "      <th>unique</th>\n",
              "      <td>5</td>\n",
              "      <td>3</td>\n",
              "      <td>3</td>\n",
              "      <td>3</td>\n",
              "      <td>2</td>\n",
              "      <td>2</td>\n",
              "      <td>2</td>\n",
              "    </tr>\n",
              "    <tr>\n",
              "      <th>top</th>\n",
              "      <td>1</td>\n",
              "      <td>hot air</td>\n",
              "      <td>gas</td>\n",
              "      <td>public/commercial</td>\n",
              "      <td>No</td>\n",
              "      <td>No</td>\n",
              "      <td>No</td>\n",
              "    </tr>\n",
              "    <tr>\n",
              "      <th>freq</th>\n",
              "      <td>942</td>\n",
              "      <td>1121</td>\n",
              "      <td>1197</td>\n",
              "      <td>1213</td>\n",
              "      <td>1713</td>\n",
              "      <td>1647</td>\n",
              "      <td>1093</td>\n",
              "    </tr>\n",
              "  </tbody>\n",
              "</table>\n",
              "</div>"
            ],
            "text/plain": [
              "       chimenea calefaccion consumo_calefacion            desague vistas_lago  \\\n",
              "count      1728        1728               1728               1728        1728   \n",
              "unique        5           3                  3                  3           2   \n",
              "top           1     hot air                gas  public/commercial          No   \n",
              "freq        942        1121               1197               1213        1713   \n",
              "\n",
              "       nueva_construccion aire_acondicionado  \n",
              "count                1728               1728  \n",
              "unique                  2                  2  \n",
              "top                    No                 No  \n",
              "freq                 1647               1093  "
            ]
          },
          "execution_count": 9,
          "metadata": {},
          "output_type": "execute_result"
        }
      ],
      "source": [
        "#Visualización de variables cualitativas\n",
        "datos.select_dtypes(include=['object']).describe()"
      ]
    },
    {
      "cell_type": "code",
      "execution_count": null,
      "id": "130e4a3d",
      "metadata": {
        "id": "130e4a3d",
        "outputId": "069acb60-2ce4-4076-9fdf-8ca1b6bf8458"
      },
      "outputs": [
        {
          "data": {
            "image/png": "[encoded data removed]",
            "text/plain": [
              "<Figure size 864x360 with 7 Axes>"
            ]
          },
          "metadata": {},
          "output_type": "display_data"
        }
      ],
      "source": [
        "#Gráficos de frecuencia para variables cualitativas\n",
        "fig, axes = plt.subplots(nrows=3, ncols=3, figsize=(12, 5))\n",
        "axes = axes.flat\n",
        "columnas_object = datos.select_dtypes(include=['object']).columns\n",
        "\n",
        "for i, colum in enumerate(columnas_object):\n",
        "    datos[colum].value_counts().plot.barh(ax = axes[i])\n",
        "    axes[i].set_title(colum, fontsize = 14)\n",
        "    axes[i].set_xlabel(\"\")\n",
        "\n",
        "# Se eliminan los axes vacíos\n",
        "for i in [7, 8]:\n",
        "    fig.delaxes(axes[i])\n",
        "    \n",
        "fig.tight_layout()"
      ]
    },
    {
      "cell_type": "code",
      "execution_count": null,
      "id": "21446d62",
      "metadata": {
        "id": "21446d62",
        "outputId": "e7a8cb66-0144-40b4-d32c-6475bffee7b6"
      },
      "outputs": [
        {
          "data": {
            "text/plain": [
              "0        740\n",
              "1        942\n",
              "2_mas     46\n",
              "Name: chimenea, dtype: int64"
            ]
          },
          "execution_count": 11,
          "metadata": {},
          "output_type": "execute_result"
        }
      ],
      "source": [
        "#Segunda transformación de variable chimenea\n",
        "dic_replace = {'2': \"2_mas\",\n",
        "               '3': \"2_mas\",\n",
        "               '4': \"2_mas\"}\n",
        "\n",
        "datos['chimenea'] = datos['chimenea'] \\\n",
        "                     .map(dic_replace) \\\n",
        "                     .fillna(datos['chimenea'])\n",
        "datos.chimenea.value_counts().sort_index()"
      ]
    },
    {
      "cell_type": "markdown",
      "id": "27a9bd49",
      "metadata": {
        "id": "27a9bd49"
      },
      "source": [
        "# División en Entrenamiento y Prueba"
      ]
    },
    {
      "cell_type": "code",
      "execution_count": null,
      "id": "c59ec4aa",
      "metadata": {
        "id": "c59ec4aa"
      },
      "outputs": [],
      "source": [
        "X_train, X_test, y_train, y_test = train_test_split(\n",
        "                                        datos.drop('precio', axis = 'columns'),\n",
        "                                        datos['precio'],\n",
        "                                        train_size   = 0.8,\n",
        "                                        random_state = 1234,\n",
        "                                        shuffle      = True\n",
        "                                    )"
      ]
    },
    {
      "cell_type": "code",
      "execution_count": null,
      "id": "5b16c8a5",
      "metadata": {
        "id": "5b16c8a5",
        "outputId": "50ac73f6-7145-40cd-fe48-bd1ca0e08120"
      },
      "outputs": [
        {
          "name": "stdout",
          "output_type": "stream",
          "text": [
            "Partición de entrenamento\n",
            "-----------------------\n"
          ]
        },
        {
          "data": {
            "text/plain": [
              "count      1382.000000\n",
              "mean     211436.516643\n",
              "std       96846.639129\n",
              "min       10300.000000\n",
              "25%      145625.000000\n",
              "50%      190000.000000\n",
              "75%      255000.000000\n",
              "max      775000.000000\n",
              "Name: precio, dtype: float64"
            ]
          },
          "metadata": {},
          "output_type": "display_data"
        },
        {
          "data": {
            "text/html": [
              "<div>\n",
              "<style scoped>\n",
              "    .dataframe tbody tr th:only-of-type {\n",
              "        vertical-align: middle;\n",
              "    }\n",
              "\n",
              "    .dataframe tbody tr th {\n",
              "        vertical-align: top;\n",
              "    }\n",
              "\n",
              "    .dataframe thead th {\n",
              "        text-align: right;\n",
              "    }\n",
              "</style>\n",
              "<table border=\"1\" class=\"dataframe\">\n",
              "  <thead>\n",
              "    <tr style=\"text-align: right;\">\n",
              "      <th></th>\n",
              "      <th>metros_totales</th>\n",
              "      <th>antiguedad</th>\n",
              "      <th>precio_terreno</th>\n",
              "      <th>metros_habitables</th>\n",
              "      <th>universitarios</th>\n",
              "      <th>dormitorios</th>\n",
              "      <th>banyos</th>\n",
              "      <th>habitaciones</th>\n",
              "    </tr>\n",
              "  </thead>\n",
              "  <tbody>\n",
              "    <tr>\n",
              "      <th>count</th>\n",
              "      <td>1382.000000</td>\n",
              "      <td>1382.000000</td>\n",
              "      <td>1382.000000</td>\n",
              "      <td>1382.000000</td>\n",
              "      <td>1382.000000</td>\n",
              "      <td>1382.000000</td>\n",
              "      <td>1382.000000</td>\n",
              "      <td>1382.000000</td>\n",
              "    </tr>\n",
              "    <tr>\n",
              "      <th>mean</th>\n",
              "      <td>0.501331</td>\n",
              "      <td>27.494211</td>\n",
              "      <td>34232.141823</td>\n",
              "      <td>1755.940666</td>\n",
              "      <td>55.439942</td>\n",
              "      <td>3.165702</td>\n",
              "      <td>1.902677</td>\n",
              "      <td>7.073082</td>\n",
              "    </tr>\n",
              "    <tr>\n",
              "      <th>std</th>\n",
              "      <td>0.671766</td>\n",
              "      <td>28.212721</td>\n",
              "      <td>35022.662319</td>\n",
              "      <td>621.262215</td>\n",
              "      <td>10.356656</td>\n",
              "      <td>0.825487</td>\n",
              "      <td>0.660053</td>\n",
              "      <td>2.315395</td>\n",
              "    </tr>\n",
              "    <tr>\n",
              "      <th>min</th>\n",
              "      <td>0.000000</td>\n",
              "      <td>0.000000</td>\n",
              "      <td>200.000000</td>\n",
              "      <td>616.000000</td>\n",
              "      <td>20.000000</td>\n",
              "      <td>1.000000</td>\n",
              "      <td>0.000000</td>\n",
              "      <td>2.000000</td>\n",
              "    </tr>\n",
              "    <tr>\n",
              "      <th>25%</th>\n",
              "      <td>0.170000</td>\n",
              "      <td>13.000000</td>\n",
              "      <td>15100.000000</td>\n",
              "      <td>1302.000000</td>\n",
              "      <td>52.000000</td>\n",
              "      <td>3.000000</td>\n",
              "      <td>1.500000</td>\n",
              "      <td>5.000000</td>\n",
              "    </tr>\n",
              "    <tr>\n",
              "      <th>50%</th>\n",
              "      <td>0.370000</td>\n",
              "      <td>19.000000</td>\n",
              "      <td>25000.000000</td>\n",
              "      <td>1650.000000</td>\n",
              "      <td>57.000000</td>\n",
              "      <td>3.000000</td>\n",
              "      <td>2.000000</td>\n",
              "      <td>7.000000</td>\n",
              "    </tr>\n",
              "    <tr>\n",
              "      <th>75%</th>\n",
              "      <td>0.540000</td>\n",
              "      <td>33.750000</td>\n",
              "      <td>39200.000000</td>\n",
              "      <td>2127.250000</td>\n",
              "      <td>63.000000</td>\n",
              "      <td>4.000000</td>\n",
              "      <td>2.500000</td>\n",
              "      <td>9.000000</td>\n",
              "    </tr>\n",
              "    <tr>\n",
              "      <th>max</th>\n",
              "      <td>8.970000</td>\n",
              "      <td>201.000000</td>\n",
              "      <td>412600.000000</td>\n",
              "      <td>4856.000000</td>\n",
              "      <td>82.000000</td>\n",
              "      <td>7.000000</td>\n",
              "      <td>4.500000</td>\n",
              "      <td>12.000000</td>\n",
              "    </tr>\n",
              "  </tbody>\n",
              "</table>\n",
              "</div>"
            ],
            "text/plain": [
              "       metros_totales   antiguedad  precio_terreno  metros_habitables  \\\n",
              "count     1382.000000  1382.000000     1382.000000        1382.000000   \n",
              "mean         0.501331    27.494211    34232.141823        1755.940666   \n",
              "std          0.671766    28.212721    35022.662319         621.262215   \n",
              "min          0.000000     0.000000      200.000000         616.000000   \n",
              "25%          0.170000    13.000000    15100.000000        1302.000000   \n",
              "50%          0.370000    19.000000    25000.000000        1650.000000   \n",
              "75%          0.540000    33.750000    39200.000000        2127.250000   \n",
              "max          8.970000   201.000000   412600.000000        4856.000000   \n",
              "\n",
              "       universitarios  dormitorios       banyos  habitaciones  \n",
              "count     1382.000000  1382.000000  1382.000000   1382.000000  \n",
              "mean        55.439942     3.165702     1.902677      7.073082  \n",
              "std         10.356656     0.825487     0.660053      2.315395  \n",
              "min         20.000000     1.000000     0.000000      2.000000  \n",
              "25%         52.000000     3.000000     1.500000      5.000000  \n",
              "50%         57.000000     3.000000     2.000000      7.000000  \n",
              "75%         63.000000     4.000000     2.500000      9.000000  \n",
              "max         82.000000     7.000000     4.500000     12.000000  "
            ]
          },
          "metadata": {},
          "output_type": "display_data"
        },
        {
          "data": {
            "text/html": [
              "<div>\n",
              "<style scoped>\n",
              "    .dataframe tbody tr th:only-of-type {\n",
              "        vertical-align: middle;\n",
              "    }\n",
              "\n",
              "    .dataframe tbody tr th {\n",
              "        vertical-align: top;\n",
              "    }\n",
              "\n",
              "    .dataframe thead th {\n",
              "        text-align: right;\n",
              "    }\n",
              "</style>\n",
              "<table border=\"1\" class=\"dataframe\">\n",
              "  <thead>\n",
              "    <tr style=\"text-align: right;\">\n",
              "      <th></th>\n",
              "      <th>chimenea</th>\n",
              "      <th>calefaccion</th>\n",
              "      <th>consumo_calefacion</th>\n",
              "      <th>desague</th>\n",
              "      <th>vistas_lago</th>\n",
              "      <th>nueva_construccion</th>\n",
              "      <th>aire_acondicionado</th>\n",
              "    </tr>\n",
              "  </thead>\n",
              "  <tbody>\n",
              "    <tr>\n",
              "      <th>count</th>\n",
              "      <td>1382</td>\n",
              "      <td>1382</td>\n",
              "      <td>1382</td>\n",
              "      <td>1382</td>\n",
              "      <td>1382</td>\n",
              "      <td>1382</td>\n",
              "      <td>1382</td>\n",
              "    </tr>\n",
              "    <tr>\n",
              "      <th>unique</th>\n",
              "      <td>3</td>\n",
              "      <td>3</td>\n",
              "      <td>3</td>\n",
              "      <td>3</td>\n",
              "      <td>2</td>\n",
              "      <td>2</td>\n",
              "      <td>2</td>\n",
              "    </tr>\n",
              "    <tr>\n",
              "      <th>top</th>\n",
              "      <td>1</td>\n",
              "      <td>hot air</td>\n",
              "      <td>gas</td>\n",
              "      <td>public/commercial</td>\n",
              "      <td>No</td>\n",
              "      <td>No</td>\n",
              "      <td>No</td>\n",
              "    </tr>\n",
              "    <tr>\n",
              "      <th>freq</th>\n",
              "      <td>741</td>\n",
              "      <td>915</td>\n",
              "      <td>972</td>\n",
              "      <td>970</td>\n",
              "      <td>1370</td>\n",
              "      <td>1321</td>\n",
              "      <td>863</td>\n",
              "    </tr>\n",
              "  </tbody>\n",
              "</table>\n",
              "</div>"
            ],
            "text/plain": [
              "       chimenea calefaccion consumo_calefacion            desague vistas_lago  \\\n",
              "count      1382        1382               1382               1382        1382   \n",
              "unique        3           3                  3                  3           2   \n",
              "top           1     hot air                gas  public/commercial          No   \n",
              "freq        741         915                972                970        1370   \n",
              "\n",
              "       nueva_construccion aire_acondicionado  \n",
              "count                1382               1382  \n",
              "unique                  2                  2  \n",
              "top                    No                 No  \n",
              "freq                 1321                863  "
            ]
          },
          "metadata": {},
          "output_type": "display_data"
        },
        {
          "name": "stdout",
          "output_type": "stream",
          "text": [
            " \n",
            "Partición de prueba\n",
            "-----------------------\n"
          ]
        },
        {
          "data": {
            "text/plain": [
              "count       346.000000\n",
              "mean     214084.395954\n",
              "std      104689.155889\n",
              "min        5000.000000\n",
              "25%      139000.000000\n",
              "50%      180750.000000\n",
              "75%      271750.000000\n",
              "max      670000.000000\n",
              "Name: precio, dtype: float64"
            ]
          },
          "metadata": {},
          "output_type": "display_data"
        },
        {
          "data": {
            "text/html": [
              "<div>\n",
              "<style scoped>\n",
              "    .dataframe tbody tr th:only-of-type {\n",
              "        vertical-align: middle;\n",
              "    }\n",
              "\n",
              "    .dataframe tbody tr th {\n",
              "        vertical-align: top;\n",
              "    }\n",
              "\n",
              "    .dataframe thead th {\n",
              "        text-align: right;\n",
              "    }\n",
              "</style>\n",
              "<table border=\"1\" class=\"dataframe\">\n",
              "  <thead>\n",
              "    <tr style=\"text-align: right;\">\n",
              "      <th></th>\n",
              "      <th>metros_totales</th>\n",
              "      <th>antiguedad</th>\n",
              "      <th>precio_terreno</th>\n",
              "      <th>metros_habitables</th>\n",
              "      <th>universitarios</th>\n",
              "      <th>dormitorios</th>\n",
              "      <th>banyos</th>\n",
              "      <th>habitaciones</th>\n",
              "    </tr>\n",
              "  </thead>\n",
              "  <tbody>\n",
              "    <tr>\n",
              "      <th>count</th>\n",
              "      <td>346.000000</td>\n",
              "      <td>346.000000</td>\n",
              "      <td>346.000000</td>\n",
              "      <td>346.000000</td>\n",
              "      <td>346.000000</td>\n",
              "      <td>346.000000</td>\n",
              "      <td>346.000000</td>\n",
              "      <td>346.000000</td>\n",
              "    </tr>\n",
              "    <tr>\n",
              "      <th>mean</th>\n",
              "      <td>0.495751</td>\n",
              "      <td>29.601156</td>\n",
              "      <td>35855.491329</td>\n",
              "      <td>1751.121387</td>\n",
              "      <td>56.078035</td>\n",
              "      <td>3.109827</td>\n",
              "      <td>1.890173</td>\n",
              "      <td>6.916185</td>\n",
              "    </tr>\n",
              "    <tr>\n",
              "      <th>std</th>\n",
              "      <td>0.798240</td>\n",
              "      <td>32.884116</td>\n",
              "      <td>35035.761216</td>\n",
              "      <td>615.486848</td>\n",
              "      <td>10.239861</td>\n",
              "      <td>0.783575</td>\n",
              "      <td>0.652368</td>\n",
              "      <td>2.319776</td>\n",
              "    </tr>\n",
              "    <tr>\n",
              "      <th>min</th>\n",
              "      <td>0.010000</td>\n",
              "      <td>0.000000</td>\n",
              "      <td>300.000000</td>\n",
              "      <td>792.000000</td>\n",
              "      <td>20.000000</td>\n",
              "      <td>1.000000</td>\n",
              "      <td>1.000000</td>\n",
              "      <td>2.000000</td>\n",
              "    </tr>\n",
              "    <tr>\n",
              "      <th>25%</th>\n",
              "      <td>0.160000</td>\n",
              "      <td>13.000000</td>\n",
              "      <td>15100.000000</td>\n",
              "      <td>1296.000000</td>\n",
              "      <td>52.000000</td>\n",
              "      <td>3.000000</td>\n",
              "      <td>1.500000</td>\n",
              "      <td>5.000000</td>\n",
              "    </tr>\n",
              "    <tr>\n",
              "      <th>50%</th>\n",
              "      <td>0.370000</td>\n",
              "      <td>19.000000</td>\n",
              "      <td>26700.000000</td>\n",
              "      <td>1608.000000</td>\n",
              "      <td>57.000000</td>\n",
              "      <td>3.000000</td>\n",
              "      <td>2.000000</td>\n",
              "      <td>7.000000</td>\n",
              "    </tr>\n",
              "    <tr>\n",
              "      <th>75%</th>\n",
              "      <td>0.557500</td>\n",
              "      <td>34.000000</td>\n",
              "      <td>45950.000000</td>\n",
              "      <td>2181.000000</td>\n",
              "      <td>64.000000</td>\n",
              "      <td>4.000000</td>\n",
              "      <td>2.500000</td>\n",
              "      <td>8.000000</td>\n",
              "    </tr>\n",
              "    <tr>\n",
              "      <th>max</th>\n",
              "      <td>12.200000</td>\n",
              "      <td>225.000000</td>\n",
              "      <td>233000.000000</td>\n",
              "      <td>5228.000000</td>\n",
              "      <td>82.000000</td>\n",
              "      <td>6.000000</td>\n",
              "      <td>4.000000</td>\n",
              "      <td>12.000000</td>\n",
              "    </tr>\n",
              "  </tbody>\n",
              "</table>\n",
              "</div>"
            ],
            "text/plain": [
              "       metros_totales  antiguedad  precio_terreno  metros_habitables  \\\n",
              "count      346.000000  346.000000      346.000000         346.000000   \n",
              "mean         0.495751   29.601156    35855.491329        1751.121387   \n",
              "std          0.798240   32.884116    35035.761216         615.486848   \n",
              "min          0.010000    0.000000      300.000000         792.000000   \n",
              "25%          0.160000   13.000000    15100.000000        1296.000000   \n",
              "50%          0.370000   19.000000    26700.000000        1608.000000   \n",
              "75%          0.557500   34.000000    45950.000000        2181.000000   \n",
              "max         12.200000  225.000000   233000.000000        5228.000000   \n",
              "\n",
              "       universitarios  dormitorios      banyos  habitaciones  \n",
              "count      346.000000   346.000000  346.000000    346.000000  \n",
              "mean        56.078035     3.109827    1.890173      6.916185  \n",
              "std         10.239861     0.783575    0.652368      2.319776  \n",
              "min         20.000000     1.000000    1.000000      2.000000  \n",
              "25%         52.000000     3.000000    1.500000      5.000000  \n",
              "50%         57.000000     3.000000    2.000000      7.000000  \n",
              "75%         64.000000     4.000000    2.500000      8.000000  \n",
              "max         82.000000     6.000000    4.000000     12.000000  "
            ]
          },
          "metadata": {},
          "output_type": "display_data"
        },
        {
          "data": {
            "text/html": [
              "<div>\n",
              "<style scoped>\n",
              "    .dataframe tbody tr th:only-of-type {\n",
              "        vertical-align: middle;\n",
              "    }\n",
              "\n",
              "    .dataframe tbody tr th {\n",
              "        vertical-align: top;\n",
              "    }\n",
              "\n",
              "    .dataframe thead th {\n",
              "        text-align: right;\n",
              "    }\n",
              "</style>\n",
              "<table border=\"1\" class=\"dataframe\">\n",
              "  <thead>\n",
              "    <tr style=\"text-align: right;\">\n",
              "      <th></th>\n",
              "      <th>chimenea</th>\n",
              "      <th>calefaccion</th>\n",
              "      <th>consumo_calefacion</th>\n",
              "      <th>desague</th>\n",
              "      <th>vistas_lago</th>\n",
              "      <th>nueva_construccion</th>\n",
              "      <th>aire_acondicionado</th>\n",
              "    </tr>\n",
              "  </thead>\n",
              "  <tbody>\n",
              "    <tr>\n",
              "      <th>count</th>\n",
              "      <td>346</td>\n",
              "      <td>346</td>\n",
              "      <td>346</td>\n",
              "      <td>346</td>\n",
              "      <td>346</td>\n",
              "      <td>346</td>\n",
              "      <td>346</td>\n",
              "    </tr>\n",
              "    <tr>\n",
              "      <th>unique</th>\n",
              "      <td>3</td>\n",
              "      <td>3</td>\n",
              "      <td>3</td>\n",
              "      <td>3</td>\n",
              "      <td>2</td>\n",
              "      <td>2</td>\n",
              "      <td>2</td>\n",
              "    </tr>\n",
              "    <tr>\n",
              "      <th>top</th>\n",
              "      <td>1</td>\n",
              "      <td>hot air</td>\n",
              "      <td>gas</td>\n",
              "      <td>public/commercial</td>\n",
              "      <td>No</td>\n",
              "      <td>No</td>\n",
              "      <td>No</td>\n",
              "    </tr>\n",
              "    <tr>\n",
              "      <th>freq</th>\n",
              "      <td>201</td>\n",
              "      <td>206</td>\n",
              "      <td>225</td>\n",
              "      <td>243</td>\n",
              "      <td>343</td>\n",
              "      <td>326</td>\n",
              "      <td>230</td>\n",
              "    </tr>\n",
              "  </tbody>\n",
              "</table>\n",
              "</div>"
            ],
            "text/plain": [
              "       chimenea calefaccion consumo_calefacion            desague vistas_lago  \\\n",
              "count       346         346                346                346         346   \n",
              "unique        3           3                  3                  3           2   \n",
              "top           1     hot air                gas  public/commercial          No   \n",
              "freq        201         206                225                243         343   \n",
              "\n",
              "       nueva_construccion aire_acondicionado  \n",
              "count                 346                346  \n",
              "unique                  2                  2  \n",
              "top                    No                 No  \n",
              "freq                  326                230  "
            ]
          },
          "metadata": {},
          "output_type": "display_data"
        }
      ],
      "source": [
        "print(\"Partición de entrenamento\")\n",
        "print(\"-----------------------\")\n",
        "display(y_train.describe())\n",
        "display(X_train.describe())\n",
        "display(X_train.describe(include = 'object'))\n",
        "print(\" \")\n",
        "\n",
        "print(\"Partición de prueba\")\n",
        "print(\"-----------------------\")\n",
        "display(y_test.describe())\n",
        "display(X_test.describe())\n",
        "display(X_test.describe(include = 'object'))"
      ]
    },
    {
      "cell_type": "markdown",
      "id": "15be9036",
      "metadata": {
        "id": "15be9036"
      },
      "source": [
        "# Preprocesado (Codificación y Escalamiento)"
      ]
    },
    {
      "cell_type": "code",
      "execution_count": null,
      "id": "de692a9f",
      "metadata": {
        "id": "de692a9f"
      },
      "outputs": [],
      "source": [
        "numeric_cols = X_train.select_dtypes(include=['float64', 'int64']).columns.to_list()\n",
        "cat_cols = X_train.select_dtypes(include=['object', 'category']).columns.to_list()"
      ]
    },
    {
      "cell_type": "code",
      "execution_count": null,
      "id": "49acbc5f",
      "metadata": {
        "id": "49acbc5f"
      },
      "outputs": [],
      "source": [
        "#Variables Numéricas\n",
        "numeric_transformer = Pipeline(steps=[('scaler', StandardScaler())])"
      ]
    },
    {
      "cell_type": "code",
      "execution_count": null,
      "id": "1c1fe7a6",
      "metadata": {
        "id": "1c1fe7a6"
      },
      "outputs": [],
      "source": [
        "#Variables Categóricas\n",
        "categorical_transformer = Pipeline(steps=[('onehot', OneHotEncoder(handle_unknown='ignore'))])"
      ]
    },
    {
      "cell_type": "code",
      "execution_count": null,
      "id": "76d5b9b2",
      "metadata": {
        "id": "76d5b9b2"
      },
      "outputs": [],
      "source": [
        "#Preprocesado\n",
        "preprocessor = ColumnTransformer(\n",
        "                    transformers=[\n",
        "                        ('numeric', numeric_transformer, numeric_cols),\n",
        "                        ('cat', categorical_transformer, cat_cols)\n",
        "                    ],\n",
        "                    remainder='passthrough'\n",
        "                )"
      ]
    },
    {
      "cell_type": "code",
      "execution_count": null,
      "id": "167aee1e",
      "metadata": {
        "id": "167aee1e",
        "outputId": "7da29e71-5c5c-4dcb-dc0c-4deafcb60a84"
      },
      "outputs": [
        {
          "data": {
            "text/html": [
              "<style>div.sk-top-container {color: black;background-color: white;}div.sk-toggleable {background-color: white;}label.sk-toggleable__label {cursor: pointer;display: block;width: 100%;margin-bottom: 0;padding: 0.2em 0.3em;box-sizing: border-box;text-align: center;}div.sk-toggleable__content {max-height: 0;max-width: 0;overflow: hidden;text-align: left;background-color: #f0f8ff;}div.sk-toggleable__content pre {margin: 0.2em;color: black;border-radius: 0.25em;background-color: #f0f8ff;}input.sk-toggleable__control:checked~div.sk-toggleable__content {max-height: 200px;max-width: 100%;overflow: auto;}div.sk-estimator input.sk-toggleable__control:checked~label.sk-toggleable__label {background-color: #d4ebff;}div.sk-label input.sk-toggleable__control:checked~label.sk-toggleable__label {background-color: #d4ebff;}input.sk-hidden--visually {border: 0;clip: rect(1px 1px 1px 1px);clip: rect(1px, 1px, 1px, 1px);height: 1px;margin: -1px;overflow: hidden;padding: 0;position: absolute;width: 1px;}div.sk-estimator {font-family: monospace;background-color: #f0f8ff;margin: 0.25em 0.25em;border: 1px dotted black;border-radius: 0.25em;box-sizing: border-box;}div.sk-estimator:hover {background-color: #d4ebff;}div.sk-parallel-item::after {content: \"\";width: 100%;border-bottom: 1px solid gray;flex-grow: 1;}div.sk-label:hover label.sk-toggleable__label {background-color: #d4ebff;}div.sk-serial::before {content: \"\";position: absolute;border-left: 1px solid gray;box-sizing: border-box;top: 2em;bottom: 0;left: 50%;}div.sk-serial {display: flex;flex-direction: column;align-items: center;background-color: white;}div.sk-item {z-index: 1;}div.sk-parallel {display: flex;align-items: stretch;justify-content: center;background-color: white;}div.sk-parallel-item {display: flex;flex-direction: column;position: relative;background-color: white;}div.sk-parallel-item:first-child::after {align-self: flex-end;width: 50%;}div.sk-parallel-item:last-child::after {align-self: flex-start;width: 50%;}div.sk-parallel-item:only-child::after {width: 0;}div.sk-dashed-wrapped {border: 1px dashed gray;margin: 0.2em;box-sizing: border-box;padding-bottom: 0.1em;background-color: white;position: relative;}div.sk-label label {font-family: monospace;font-weight: bold;background-color: white;display: inline-block;line-height: 1.2em;}div.sk-label-container {position: relative;z-index: 2;text-align: center;}div.sk-container {display: inline-block;position: relative;}</style><div class=\"sk-top-container\"><div class=\"sk-container\"><div class=\"sk-item sk-dashed-wrapped\"><div class=\"sk-label-container\"><div class=\"sk-label sk-toggleable\"><input class=\"sk-toggleable__control sk-hidden--visually\" id=\"2e1171e8-85ad-437b-9d7f-de269cffd59a\" type=\"checkbox\" ><label class=\"sk-toggleable__label\" for=\"2e1171e8-85ad-437b-9d7f-de269cffd59a\">ColumnTransformer</label><div class=\"sk-toggleable__content\"><pre>ColumnTransformer(remainder='passthrough',\n",
              "                  transformers=[('numeric',\n",
              "                                 Pipeline(steps=[('scaler', StandardScaler())]),\n",
              "                                 ['metros_totales', 'antiguedad',\n",
              "                                  'precio_terreno', 'metros_habitables',\n",
              "                                  'universitarios', 'dormitorios', 'banyos',\n",
              "                                  'habitaciones']),\n",
              "                                ('cat',\n",
              "                                 Pipeline(steps=[('onehot',\n",
              "                                                  OneHotEncoder(handle_unknown='ignore'))]),\n",
              "                                 ['chimenea', 'calefaccion',\n",
              "                                  'consumo_calefacion', 'desague',\n",
              "                                  'vistas_lago', 'nueva_construccion',\n",
              "                                  'aire_acondicionado'])])</pre></div></div></div><div class=\"sk-parallel\"><div class=\"sk-parallel-item\"><div class=\"sk-item\"><div class=\"sk-label-container\"><div class=\"sk-label sk-toggleable\"><input class=\"sk-toggleable__control sk-hidden--visually\" id=\"37cdeb61-3a91-42e9-a55a-15714e011135\" type=\"checkbox\" ><label class=\"sk-toggleable__label\" for=\"37cdeb61-3a91-42e9-a55a-15714e011135\">numeric</label><div class=\"sk-toggleable__content\"><pre>['metros_totales', 'antiguedad', 'precio_terreno', 'metros_habitables', 'universitarios', 'dormitorios', 'banyos', 'habitaciones']</pre></div></div></div><div class=\"sk-serial\"><div class=\"sk-item\"><div class=\"sk-serial\"><div class=\"sk-item\"><div class=\"sk-estimator sk-toggleable\"><input class=\"sk-toggleable__control sk-hidden--visually\" id=\"8bdd6df6-d7f9-4762-b3ce-4b7529fedeca\" type=\"checkbox\" ><label class=\"sk-toggleable__label\" for=\"8bdd6df6-d7f9-4762-b3ce-4b7529fedeca\">StandardScaler</label><div class=\"sk-toggleable__content\"><pre>StandardScaler()</pre></div></div></div></div></div></div></div></div><div class=\"sk-parallel-item\"><div class=\"sk-item\"><div class=\"sk-label-container\"><div class=\"sk-label sk-toggleable\"><input class=\"sk-toggleable__control sk-hidden--visually\" id=\"2f59a270-3ff4-4e2c-86bf-53cb1fd979f5\" type=\"checkbox\" ><label class=\"sk-toggleable__label\" for=\"2f59a270-3ff4-4e2c-86bf-53cb1fd979f5\">cat</label><div class=\"sk-toggleable__content\"><pre>['chimenea', 'calefaccion', 'consumo_calefacion', 'desague', 'vistas_lago', 'nueva_construccion', 'aire_acondicionado']</pre></div></div></div><div class=\"sk-serial\"><div class=\"sk-item\"><div class=\"sk-serial\"><div class=\"sk-item\"><div class=\"sk-estimator sk-toggleable\"><input class=\"sk-toggleable__control sk-hidden--visually\" id=\"35a36c50-491c-48e6-8848-e15a9dcd4a9e\" type=\"checkbox\" ><label class=\"sk-toggleable__label\" for=\"35a36c50-491c-48e6-8848-e15a9dcd4a9e\">OneHotEncoder</label><div class=\"sk-toggleable__content\"><pre>OneHotEncoder(handle_unknown='ignore')</pre></div></div></div></div></div></div></div></div><div class=\"sk-parallel-item\"><div class=\"sk-item\"><div class=\"sk-label-container\"><div class=\"sk-label sk-toggleable\"><input class=\"sk-toggleable__control sk-hidden--visually\" id=\"50914a5f-e11c-40a0-b9d6-20e8fd29b38b\" type=\"checkbox\" ><label class=\"sk-toggleable__label\" for=\"50914a5f-e11c-40a0-b9d6-20e8fd29b38b\">remainder</label><div class=\"sk-toggleable__content\"><pre></pre></div></div></div><div class=\"sk-serial\"><div class=\"sk-item\"><div class=\"sk-estimator sk-toggleable\"><input class=\"sk-toggleable__control sk-hidden--visually\" id=\"699a71f3-9d36-468d-8b18-3fb57d065de7\" type=\"checkbox\" ><label class=\"sk-toggleable__label\" for=\"699a71f3-9d36-468d-8b18-3fb57d065de7\">passthrough</label><div class=\"sk-toggleable__content\"><pre>passthrough</pre></div></div></div></div></div></div></div></div></div></div>"
            ],
            "text/plain": [
              "ColumnTransformer(remainder='passthrough',\n",
              "                  transformers=[('numeric',\n",
              "                                 Pipeline(steps=[('scaler', StandardScaler())]),\n",
              "                                 ['metros_totales', 'antiguedad',\n",
              "                                  'precio_terreno', 'metros_habitables',\n",
              "                                  'universitarios', 'dormitorios', 'banyos',\n",
              "                                  'habitaciones']),\n",
              "                                ('cat',\n",
              "                                 Pipeline(steps=[('onehot',\n",
              "                                                  OneHotEncoder(handle_unknown='ignore'))]),\n",
              "                                 ['chimenea', 'calefaccion',\n",
              "                                  'consumo_calefacion', 'desague',\n",
              "                                  'vistas_lago', 'nueva_construccion',\n",
              "                                  'aire_acondicionado'])])"
            ]
          },
          "execution_count": 18,
          "metadata": {},
          "output_type": "execute_result"
        }
      ],
      "source": [
        "set_config(display='diagram')\n",
        "preprocessor"
      ]
    },
    {
      "cell_type": "code",
      "execution_count": null,
      "id": "055cf40a",
      "metadata": {
        "id": "055cf40a"
      },
      "outputs": [],
      "source": [
        "set_config(display='text')"
      ]
    },
    {
      "cell_type": "code",
      "execution_count": null,
      "id": "d565f31a",
      "metadata": {
        "id": "d565f31a"
      },
      "outputs": [],
      "source": [
        "#Se aplica el preprocesamiento a las variables\n",
        "X_train_prep = preprocessor.fit_transform(X_train)\n",
        "X_test_prep  = preprocessor.transform(X_test)"
      ]
    },
    {
      "cell_type": "code",
      "execution_count": null,
      "id": "e3d3900c",
      "metadata": {
        "id": "e3d3900c",
        "outputId": "72866f64-c0e9-41fb-8489-19c6f3d76b01"
      },
      "outputs": [
        {
          "name": "stdout",
          "output_type": "stream",
          "text": [
            "<class 'pandas.core.frame.DataFrame'>\n",
            "RangeIndex: 1382 entries, 0 to 1381\n",
            "Data columns (total 26 columns):\n",
            " #   Column                       Non-Null Count  Dtype  \n",
            "---  ------                       --------------  -----  \n",
            " 0   metros_totales               1382 non-null   float64\n",
            " 1   antiguedad                   1382 non-null   float64\n",
            " 2   precio_terreno               1382 non-null   float64\n",
            " 3   metros_habitables            1382 non-null   float64\n",
            " 4   universitarios               1382 non-null   float64\n",
            " 5   dormitorios                  1382 non-null   float64\n",
            " 6   banyos                       1382 non-null   float64\n",
            " 7   habitaciones                 1382 non-null   float64\n",
            " 8   chimenea_0                   1382 non-null   float64\n",
            " 9   chimenea_1                   1382 non-null   float64\n",
            " 10  chimenea_2_mas               1382 non-null   float64\n",
            " 11  calefaccion_electric         1382 non-null   float64\n",
            " 12  calefaccion_hot air          1382 non-null   float64\n",
            " 13  calefaccion_hot water/steam  1382 non-null   float64\n",
            " 14  consumo_calefacion_electric  1382 non-null   float64\n",
            " 15  consumo_calefacion_gas       1382 non-null   float64\n",
            " 16  consumo_calefacion_oil       1382 non-null   float64\n",
            " 17  desague_none                 1382 non-null   float64\n",
            " 18  desague_public/commercial    1382 non-null   float64\n",
            " 19  desague_septic               1382 non-null   float64\n",
            " 20  vistas_lago_No               1382 non-null   float64\n",
            " 21  vistas_lago_Yes              1382 non-null   float64\n",
            " 22  nueva_construccion_No        1382 non-null   float64\n",
            " 23  nueva_construccion_Yes       1382 non-null   float64\n",
            " 24  aire_acondicionado_No        1382 non-null   float64\n",
            " 25  aire_acondicionado_Yes       1382 non-null   float64\n",
            "dtypes: float64(26)\n",
            "memory usage: 280.8 KB\n"
          ]
        }
      ],
      "source": [
        "#Se construye el DataFrame\n",
        "encoded_cat = preprocessor.named_transformers_['cat']['onehot']\\\n",
        "              .get_feature_names(cat_cols)\n",
        "labels = np.concatenate([numeric_cols, encoded_cat])\n",
        "datos_train_prep = preprocessor.transform(X_train)\n",
        "datos_train_prep = pd.DataFrame(datos_train_prep, columns=labels)\n",
        "datos_train_prep.info()"
      ]
    },
    {
      "cell_type": "markdown",
      "id": "31516e29",
      "metadata": {
        "id": "31516e29"
      },
      "source": [
        "# Modelado"
      ]
    },
    {
      "cell_type": "code",
      "execution_count": null,
      "id": "b25ad8a0",
      "metadata": {
        "id": "b25ad8a0"
      },
      "outputs": [],
      "source": [
        "numeric_cols = X_train.select_dtypes(include=['float64', 'int64']).columns.to_list()\n",
        "cat_cols = X_train.select_dtypes(include=['object', 'category']).columns.to_list()\n",
        "\n",
        "\n",
        "# Transformaciones para las variables numéricas\n",
        "numeric_transformer = Pipeline(\n",
        "                        steps=[('scaler', StandardScaler())]\n",
        "                      )\n",
        "\n",
        "# Transformaciones para las variables categóricas\n",
        "categorical_transformer = Pipeline(\n",
        "                            steps=[('onehot', OneHotEncoder(handle_unknown='ignore'))]\n",
        "                          )\n",
        "\n",
        "preprocessor = ColumnTransformer(\n",
        "                    transformers=[\n",
        "                        ('numeric', numeric_transformer, numeric_cols),\n",
        "                        ('cat', categorical_transformer, cat_cols)\n",
        "                    ],\n",
        "                    remainder='passthrough'\n",
        "                )\n",
        "\n",
        "# Se combinan los pasos de preprocesado y el modelo en un mismo pipeline\n",
        "pipe = Pipeline([('preprocessing', preprocessor),\n",
        "                 ('modelo', MLPRegressor(solver = 'lbfgs', max_iter= 1000))])"
      ]
    },
    {
      "cell_type": "code",
      "execution_count": null,
      "id": "489d4d87",
      "metadata": {
        "id": "489d4d87",
        "outputId": "5012e5d8-a09d-4d91-97f2-05892eaada7c"
      },
      "outputs": [
        {
          "data": {
            "text/plain": [
              "RandomizedSearchCV(cv=5,\n",
              "                   estimator=Pipeline(steps=[('preprocessing',\n",
              "                                              ColumnTransformer(remainder='passthrough',\n",
              "                                                                transformers=[('numeric',\n",
              "                                                                               Pipeline(steps=[('scaler',\n",
              "                                                                                                StandardScaler())]),\n",
              "                                                                               ['metros_totales',\n",
              "                                                                                'antiguedad',\n",
              "                                                                                'precio_terreno',\n",
              "                                                                                'metros_habitables',\n",
              "                                                                                'universitarios',\n",
              "                                                                                'dormitorios',\n",
              "                                                                                'banyos',\n",
              "                                                                                'habitaciones']),\n",
              "                                                                              ('cat',\n",
              "                                                                               Pipeline(steps=[('onehot',\n",
              "                                                                                                OneHotEncode...\n",
              "                   param_distributions={'modelo__alpha': array([1.00000000e-03, 4.64158883e-03, 2.15443469e-02, 1.00000000e-01,\n",
              "       4.64158883e-01, 2.15443469e+00, 1.00000000e+01, 4.64158883e+01,\n",
              "       2.15443469e+02, 1.00000000e+03]),\n",
              "                                        'modelo__hidden_layer_sizes': [10, 20,\n",
              "                                                                       (10,\n",
              "                                                                        10)],\n",
              "                                        'modelo__learning_rate_init': [0.001,\n",
              "                                                                       0.01]},\n",
              "                   random_state=123, return_train_score=True,\n",
              "                   scoring='neg_mean_squared_error')"
            ]
          },
          "execution_count": 23,
          "metadata": {},
          "output_type": "execute_result"
        }
      ],
      "source": [
        "#Búsqueda de hiperparámetros\n",
        "param_distributions = {\n",
        "    'modelo__hidden_layer_sizes': [(10), (20), (10, 10)],\n",
        "    'modelo__alpha': np.logspace(-3, 3, 10),\n",
        "    'modelo__learning_rate_init': [0.001, 0.01],\n",
        "}\n",
        "\n",
        "# Búsqueda por validación cruzada\n",
        "grid = RandomizedSearchCV(\n",
        "        estimator  = pipe,\n",
        "        param_distributions = param_distributions,\n",
        "        n_iter     = 50,\n",
        "        scoring    = 'neg_mean_squared_error',\n",
        "        n_jobs     = multiprocessing.cpu_count() - 1,\n",
        "        cv         = 5, \n",
        "        verbose    = 0,\n",
        "        random_state = 123,\n",
        "        return_train_score = True\n",
        "       )\n",
        "\n",
        "grid.fit(X = X_train, y = y_train)"
      ]
    },
    {
      "cell_type": "code",
      "execution_count": null,
      "id": "d61796d2",
      "metadata": {
        "id": "d61796d2",
        "outputId": "18961343-a11e-42c2-bb58-56b5e8194118"
      },
      "outputs": [
        {
          "data": {
            "text/html": [
              "<div>\n",
              "<style scoped>\n",
              "    .dataframe tbody tr th:only-of-type {\n",
              "        vertical-align: middle;\n",
              "    }\n",
              "\n",
              "    .dataframe tbody tr th {\n",
              "        vertical-align: top;\n",
              "    }\n",
              "\n",
              "    .dataframe thead th {\n",
              "        text-align: right;\n",
              "    }\n",
              "</style>\n",
              "<table border=\"1\" class=\"dataframe\">\n",
              "  <thead>\n",
              "    <tr style=\"text-align: right;\">\n",
              "      <th></th>\n",
              "      <th>param_modelo__learning_rate_init</th>\n",
              "      <th>param_modelo__hidden_layer_sizes</th>\n",
              "      <th>param_modelo__alpha</th>\n",
              "      <th>mean_test_score</th>\n",
              "      <th>std_test_score</th>\n",
              "      <th>mean_train_score</th>\n",
              "      <th>std_train_score</th>\n",
              "    </tr>\n",
              "  </thead>\n",
              "  <tbody>\n",
              "    <tr>\n",
              "      <th>3</th>\n",
              "      <td>0.01</td>\n",
              "      <td>10</td>\n",
              "      <td>2.154435</td>\n",
              "      <td>-3.381261e+09</td>\n",
              "      <td>5.518051e+08</td>\n",
              "      <td>-2.608278e+09</td>\n",
              "      <td>1.682532e+08</td>\n",
              "    </tr>\n",
              "    <tr>\n",
              "      <th>30</th>\n",
              "      <td>0.01</td>\n",
              "      <td>10</td>\n",
              "      <td>10.0</td>\n",
              "      <td>-3.401489e+09</td>\n",
              "      <td>7.135982e+08</td>\n",
              "      <td>-2.642381e+09</td>\n",
              "      <td>2.606379e+08</td>\n",
              "    </tr>\n",
              "    <tr>\n",
              "      <th>41</th>\n",
              "      <td>0.001</td>\n",
              "      <td>10</td>\n",
              "      <td>10.0</td>\n",
              "      <td>-3.402310e+09</td>\n",
              "      <td>6.457582e+08</td>\n",
              "      <td>-2.762493e+09</td>\n",
              "      <td>1.306836e+08</td>\n",
              "    </tr>\n",
              "    <tr>\n",
              "      <th>15</th>\n",
              "      <td>0.001</td>\n",
              "      <td>10</td>\n",
              "      <td>0.001</td>\n",
              "      <td>-3.455722e+09</td>\n",
              "      <td>6.041539e+08</td>\n",
              "      <td>-2.612777e+09</td>\n",
              "      <td>2.250626e+08</td>\n",
              "    </tr>\n",
              "    <tr>\n",
              "      <th>31</th>\n",
              "      <td>0.001</td>\n",
              "      <td>10</td>\n",
              "      <td>215.443469</td>\n",
              "      <td>-3.493121e+09</td>\n",
              "      <td>7.997943e+08</td>\n",
              "      <td>-2.588432e+09</td>\n",
              "      <td>2.432637e+08</td>\n",
              "    </tr>\n",
              "    <tr>\n",
              "      <th>20</th>\n",
              "      <td>0.001</td>\n",
              "      <td>10</td>\n",
              "      <td>0.021544</td>\n",
              "      <td>-3.494018e+09</td>\n",
              "      <td>7.868635e+08</td>\n",
              "      <td>-2.473274e+09</td>\n",
              "      <td>1.911151e+08</td>\n",
              "    </tr>\n",
              "    <tr>\n",
              "      <th>4</th>\n",
              "      <td>0.01</td>\n",
              "      <td>10</td>\n",
              "      <td>46.415888</td>\n",
              "      <td>-3.496343e+09</td>\n",
              "      <td>7.627737e+08</td>\n",
              "      <td>-2.545496e+09</td>\n",
              "      <td>1.915719e+08</td>\n",
              "    </tr>\n",
              "    <tr>\n",
              "      <th>25</th>\n",
              "      <td>0.01</td>\n",
              "      <td>10</td>\n",
              "      <td>0.001</td>\n",
              "      <td>-3.499759e+09</td>\n",
              "      <td>9.921367e+08</td>\n",
              "      <td>-2.607371e+09</td>\n",
              "      <td>2.513247e+08</td>\n",
              "    </tr>\n",
              "    <tr>\n",
              "      <th>6</th>\n",
              "      <td>0.001</td>\n",
              "      <td>10</td>\n",
              "      <td>0.1</td>\n",
              "      <td>-3.532683e+09</td>\n",
              "      <td>6.852614e+08</td>\n",
              "      <td>-2.495631e+09</td>\n",
              "      <td>2.468703e+08</td>\n",
              "    </tr>\n",
              "    <tr>\n",
              "      <th>45</th>\n",
              "      <td>0.001</td>\n",
              "      <td>(10, 10)</td>\n",
              "      <td>46.415888</td>\n",
              "      <td>-3.560376e+09</td>\n",
              "      <td>8.039364e+08</td>\n",
              "      <td>-2.280954e+09</td>\n",
              "      <td>1.678540e+08</td>\n",
              "    </tr>\n",
              "  </tbody>\n",
              "</table>\n",
              "</div>"
            ],
            "text/plain": [
              "   param_modelo__learning_rate_init param_modelo__hidden_layer_sizes  \\\n",
              "3                              0.01                               10   \n",
              "30                             0.01                               10   \n",
              "41                            0.001                               10   \n",
              "15                            0.001                               10   \n",
              "31                            0.001                               10   \n",
              "20                            0.001                               10   \n",
              "4                              0.01                               10   \n",
              "25                             0.01                               10   \n",
              "6                             0.001                               10   \n",
              "45                            0.001                         (10, 10)   \n",
              "\n",
              "   param_modelo__alpha  mean_test_score  std_test_score  mean_train_score  \\\n",
              "3             2.154435    -3.381261e+09    5.518051e+08     -2.608278e+09   \n",
              "30                10.0    -3.401489e+09    7.135982e+08     -2.642381e+09   \n",
              "41                10.0    -3.402310e+09    6.457582e+08     -2.762493e+09   \n",
              "15               0.001    -3.455722e+09    6.041539e+08     -2.612777e+09   \n",
              "31          215.443469    -3.493121e+09    7.997943e+08     -2.588432e+09   \n",
              "20            0.021544    -3.494018e+09    7.868635e+08     -2.473274e+09   \n",
              "4            46.415888    -3.496343e+09    7.627737e+08     -2.545496e+09   \n",
              "25               0.001    -3.499759e+09    9.921367e+08     -2.607371e+09   \n",
              "6                  0.1    -3.532683e+09    6.852614e+08     -2.495631e+09   \n",
              "45           46.415888    -3.560376e+09    8.039364e+08     -2.280954e+09   \n",
              "\n",
              "    std_train_score  \n",
              "3      1.682532e+08  \n",
              "30     2.606379e+08  \n",
              "41     1.306836e+08  \n",
              "15     2.250626e+08  \n",
              "31     2.432637e+08  \n",
              "20     1.911151e+08  \n",
              "4      1.915719e+08  \n",
              "25     2.513247e+08  \n",
              "6      2.468703e+08  \n",
              "45     1.678540e+08  "
            ]
          },
          "execution_count": 24,
          "metadata": {},
          "output_type": "execute_result"
        }
      ],
      "source": [
        "#Resultados\n",
        "resultados = pd.DataFrame(grid.cv_results_)\n",
        "resultados.filter(regex = '(param.*|mean_t|std_t)')\\\n",
        "    .drop(columns = 'params')\\\n",
        "    .sort_values('mean_test_score', ascending = False)\\\n",
        "    .head(10)"
      ]
    },
    {
      "cell_type": "code",
      "execution_count": null,
      "id": "3ef8c5c6",
      "metadata": {
        "id": "3ef8c5c6",
        "outputId": "04e8a8a5-8259-4c8c-9da2-f509892afc91"
      },
      "outputs": [
        {
          "data": {
            "text/plain": [
              "RandomizedSearchCV(cv=5,\n",
              "                   estimator=Pipeline(steps=[('preprocessing',\n",
              "                                              ColumnTransformer(remainder='passthrough',\n",
              "                                                                transformers=[('numeric',\n",
              "                                                                               Pipeline(steps=[('scaler',\n",
              "                                                                                                StandardScaler())]),\n",
              "                                                                               ['metros_totales',\n",
              "                                                                                'antiguedad',\n",
              "                                                                                'precio_terreno',\n",
              "                                                                                'metros_habitables',\n",
              "                                                                                'universitarios',\n",
              "                                                                                'dormitorios',\n",
              "                                                                                'banyos',\n",
              "                                                                                'habitaciones']),\n",
              "                                                                              ('cat',\n",
              "                                                                               Pipeline(steps=[('onehot',\n",
              "                                                                                                OneHotEncode...\n",
              "                   n_iter=50, n_jobs=15,\n",
              "                   param_distributions={'modelo__alpha': array([1.00000000e-03, 4.64158883e-03, 2.15443469e-02, 1.00000000e-01,\n",
              "       4.64158883e-01, 2.15443469e+00, 1.00000000e+01, 4.64158883e+01,\n",
              "       2.15443469e+02, 1.00000000e+03]),\n",
              "                                        'modelo__hidden_layer_sizes': [10, 20,\n",
              "                                                                       (10,\n",
              "                                                                        10)],\n",
              "                                        'modelo__learning_rate_init': [0.001,\n",
              "                                                                       0.01]},\n",
              "                   random_state=123, return_train_score=True, scoring='r2')"
            ]
          },
          "execution_count": 25,
          "metadata": {},
          "output_type": "execute_result"
        }
      ],
      "source": [
        "#Búsqueda de hiperparámetros\n",
        "param_distributions = {\n",
        "    'modelo__hidden_layer_sizes': [(10), (20), (10, 10)],\n",
        "    'modelo__alpha': np.logspace(-3, 3, 10),\n",
        "    'modelo__learning_rate_init': [0.001, 0.01],\n",
        "}\n",
        "\n",
        "# Búsqueda por validación cruzada\n",
        "grid = RandomizedSearchCV(\n",
        "        estimator  = pipe,\n",
        "        param_distributions = param_distributions,\n",
        "        n_iter     = 50,\n",
        "        scoring    = 'r2',\n",
        "        n_jobs     = multiprocessing.cpu_count() - 1,\n",
        "        cv         = 5, \n",
        "        verbose    = 0,\n",
        "        random_state = 123,\n",
        "        return_train_score = True\n",
        "       )\n",
        "\n",
        "grid.fit(X = X_train, y = y_train)"
      ]
    },
    {
      "cell_type": "code",
      "execution_count": null,
      "id": "1ecd93e6",
      "metadata": {
        "id": "1ecd93e6",
        "outputId": "b9733a13-6467-403c-e4e5-75c233446fae"
      },
      "outputs": [
        {
          "data": {
            "text/html": [
              "<div>\n",
              "<style scoped>\n",
              "    .dataframe tbody tr th:only-of-type {\n",
              "        vertical-align: middle;\n",
              "    }\n",
              "\n",
              "    .dataframe tbody tr th {\n",
              "        vertical-align: top;\n",
              "    }\n",
              "\n",
              "    .dataframe thead th {\n",
              "        text-align: right;\n",
              "    }\n",
              "</style>\n",
              "<table border=\"1\" class=\"dataframe\">\n",
              "  <thead>\n",
              "    <tr style=\"text-align: right;\">\n",
              "      <th></th>\n",
              "      <th>param_modelo__learning_rate_init</th>\n",
              "      <th>param_modelo__hidden_layer_sizes</th>\n",
              "      <th>param_modelo__alpha</th>\n",
              "      <th>mean_test_score</th>\n",
              "      <th>std_test_score</th>\n",
              "      <th>mean_train_score</th>\n",
              "      <th>std_train_score</th>\n",
              "    </tr>\n",
              "  </thead>\n",
              "  <tbody>\n",
              "    <tr>\n",
              "      <th>48</th>\n",
              "      <td>0.01</td>\n",
              "      <td>(10, 10)</td>\n",
              "      <td>46.415888</td>\n",
              "      <td>0.644380</td>\n",
              "      <td>0.056230</td>\n",
              "      <td>0.736130</td>\n",
              "      <td>0.023898</td>\n",
              "    </tr>\n",
              "    <tr>\n",
              "      <th>0</th>\n",
              "      <td>0.001</td>\n",
              "      <td>10</td>\n",
              "      <td>0.464159</td>\n",
              "      <td>0.638455</td>\n",
              "      <td>0.073559</td>\n",
              "      <td>0.726038</td>\n",
              "      <td>0.031149</td>\n",
              "    </tr>\n",
              "    <tr>\n",
              "      <th>13</th>\n",
              "      <td>0.01</td>\n",
              "      <td>(10, 10)</td>\n",
              "      <td>0.1</td>\n",
              "      <td>0.636256</td>\n",
              "      <td>0.043598</td>\n",
              "      <td>0.735710</td>\n",
              "      <td>0.021148</td>\n",
              "    </tr>\n",
              "    <tr>\n",
              "      <th>20</th>\n",
              "      <td>0.001</td>\n",
              "      <td>10</td>\n",
              "      <td>0.021544</td>\n",
              "      <td>0.629140</td>\n",
              "      <td>0.046946</td>\n",
              "      <td>0.716070</td>\n",
              "      <td>0.011958</td>\n",
              "    </tr>\n",
              "    <tr>\n",
              "      <th>28</th>\n",
              "      <td>0.01</td>\n",
              "      <td>(10, 10)</td>\n",
              "      <td>0.464159</td>\n",
              "      <td>0.625421</td>\n",
              "      <td>0.058313</td>\n",
              "      <td>0.743302</td>\n",
              "      <td>0.013526</td>\n",
              "    </tr>\n",
              "    <tr>\n",
              "      <th>43</th>\n",
              "      <td>0.01</td>\n",
              "      <td>(10, 10)</td>\n",
              "      <td>215.443469</td>\n",
              "      <td>0.624874</td>\n",
              "      <td>0.079786</td>\n",
              "      <td>0.737341</td>\n",
              "      <td>0.025903</td>\n",
              "    </tr>\n",
              "    <tr>\n",
              "      <th>26</th>\n",
              "      <td>0.001</td>\n",
              "      <td>10</td>\n",
              "      <td>0.004642</td>\n",
              "      <td>0.624647</td>\n",
              "      <td>0.057486</td>\n",
              "      <td>0.734214</td>\n",
              "      <td>0.029826</td>\n",
              "    </tr>\n",
              "    <tr>\n",
              "      <th>6</th>\n",
              "      <td>0.001</td>\n",
              "      <td>10</td>\n",
              "      <td>0.1</td>\n",
              "      <td>0.618260</td>\n",
              "      <td>0.040423</td>\n",
              "      <td>0.727218</td>\n",
              "      <td>0.026550</td>\n",
              "    </tr>\n",
              "    <tr>\n",
              "      <th>44</th>\n",
              "      <td>0.01</td>\n",
              "      <td>10</td>\n",
              "      <td>0.464159</td>\n",
              "      <td>0.616538</td>\n",
              "      <td>0.060058</td>\n",
              "      <td>0.712661</td>\n",
              "      <td>0.031148</td>\n",
              "    </tr>\n",
              "    <tr>\n",
              "      <th>46</th>\n",
              "      <td>0.01</td>\n",
              "      <td>10</td>\n",
              "      <td>215.443469</td>\n",
              "      <td>0.615396</td>\n",
              "      <td>0.075475</td>\n",
              "      <td>0.729404</td>\n",
              "      <td>0.031911</td>\n",
              "    </tr>\n",
              "  </tbody>\n",
              "</table>\n",
              "</div>"
            ],
            "text/plain": [
              "   param_modelo__learning_rate_init param_modelo__hidden_layer_sizes  \\\n",
              "48                             0.01                         (10, 10)   \n",
              "0                             0.001                               10   \n",
              "13                             0.01                         (10, 10)   \n",
              "20                            0.001                               10   \n",
              "28                             0.01                         (10, 10)   \n",
              "43                             0.01                         (10, 10)   \n",
              "26                            0.001                               10   \n",
              "6                             0.001                               10   \n",
              "44                             0.01                               10   \n",
              "46                             0.01                               10   \n",
              "\n",
              "   param_modelo__alpha  mean_test_score  std_test_score  mean_train_score  \\\n",
              "48           46.415888         0.644380        0.056230          0.736130   \n",
              "0             0.464159         0.638455        0.073559          0.726038   \n",
              "13                 0.1         0.636256        0.043598          0.735710   \n",
              "20            0.021544         0.629140        0.046946          0.716070   \n",
              "28            0.464159         0.625421        0.058313          0.743302   \n",
              "43          215.443469         0.624874        0.079786          0.737341   \n",
              "26            0.004642         0.624647        0.057486          0.734214   \n",
              "6                  0.1         0.618260        0.040423          0.727218   \n",
              "44            0.464159         0.616538        0.060058          0.712661   \n",
              "46          215.443469         0.615396        0.075475          0.729404   \n",
              "\n",
              "    std_train_score  \n",
              "48         0.023898  \n",
              "0          0.031149  \n",
              "13         0.021148  \n",
              "20         0.011958  \n",
              "28         0.013526  \n",
              "43         0.025903  \n",
              "26         0.029826  \n",
              "6          0.026550  \n",
              "44         0.031148  \n",
              "46         0.031911  "
            ]
          },
          "execution_count": 26,
          "metadata": {},
          "output_type": "execute_result"
        }
      ],
      "source": [
        "#Resultados\n",
        "resultados = pd.DataFrame(grid.cv_results_)\n",
        "resultados.filter(regex = '(param.*|mean_t|std_t)')\\\n",
        "    .drop(columns = 'params')\\\n",
        "    .sort_values('mean_test_score', ascending = False)\\\n",
        "    .head(10)"
      ]
    },
    {
      "cell_type": "code",
      "execution_count": null,
      "id": "fc4c3bab",
      "metadata": {
        "id": "fc4c3bab",
        "outputId": "d404ce00-e3d7-4751-b12d-47a54da41ca2"
      },
      "outputs": [
        {
          "name": "stdout",
          "output_type": "stream",
          "text": [
            "Error de test (rmse):  67217.09038423291\n"
          ]
        }
      ],
      "source": [
        "modelo_final = grid.best_estimator_\n",
        "predicciones = modelo_final.predict(X = X_test)\n",
        "rmse = mean_squared_error(\n",
        "        y_true = y_test,\n",
        "        y_pred = predicciones,\n",
        "        squared = False\n",
        "       )\n",
        "print('Error de test (rmse): ', rmse)"
      ]
    },
    {
      "cell_type": "code",
      "execution_count": null,
      "id": "f775b7c9",
      "metadata": {
        "id": "f775b7c9",
        "outputId": "64a7726c-0221-4a75-b04b-60d0de2dc505"
      },
      "outputs": [
        {
          "data": {
            "text/html": [
              "<div>\n",
              "<style scoped>\n",
              "    .dataframe tbody tr th:only-of-type {\n",
              "        vertical-align: middle;\n",
              "    }\n",
              "\n",
              "    .dataframe tbody tr th {\n",
              "        vertical-align: top;\n",
              "    }\n",
              "\n",
              "    .dataframe thead th {\n",
              "        text-align: right;\n",
              "    }\n",
              "</style>\n",
              "<table border=\"1\" class=\"dataframe\">\n",
              "  <thead>\n",
              "    <tr style=\"text-align: right;\">\n",
              "      <th></th>\n",
              "      <th>índice</th>\n",
              "      <th>y_real</th>\n",
              "      <th>y_predicha</th>\n",
              "      <th>delta</th>\n",
              "    </tr>\n",
              "  </thead>\n",
              "  <tbody>\n",
              "    <tr>\n",
              "      <th>0</th>\n",
              "      <td>0</td>\n",
              "      <td>NaN</td>\n",
              "      <td>116913.914572</td>\n",
              "      <td>NaN</td>\n",
              "    </tr>\n",
              "    <tr>\n",
              "      <th>1</th>\n",
              "      <td>1</td>\n",
              "      <td>NaN</td>\n",
              "      <td>159669.413974</td>\n",
              "      <td>NaN</td>\n",
              "    </tr>\n",
              "    <tr>\n",
              "      <th>2</th>\n",
              "      <td>2</td>\n",
              "      <td>NaN</td>\n",
              "      <td>161857.348570</td>\n",
              "      <td>NaN</td>\n",
              "    </tr>\n",
              "    <tr>\n",
              "      <th>3</th>\n",
              "      <td>3</td>\n",
              "      <td>NaN</td>\n",
              "      <td>186447.084640</td>\n",
              "      <td>NaN</td>\n",
              "    </tr>\n",
              "    <tr>\n",
              "      <th>4</th>\n",
              "      <td>4</td>\n",
              "      <td>86060.0</td>\n",
              "      <td>250576.945770</td>\n",
              "      <td>-164516.94577</td>\n",
              "    </tr>\n",
              "  </tbody>\n",
              "</table>\n",
              "</div>"
            ],
            "text/plain": [
              "   índice   y_real     y_predicha         delta\n",
              "0       0      NaN  116913.914572           NaN\n",
              "1       1      NaN  159669.413974           NaN\n",
              "2       2      NaN  161857.348570           NaN\n",
              "3       3      NaN  186447.084640           NaN\n",
              "4       4  86060.0  250576.945770 -164516.94577"
            ]
          },
          "execution_count": 28,
          "metadata": {},
          "output_type": "execute_result"
        }
      ],
      "source": [
        "resultados = pd.DataFrame()\n",
        "resultados['índice'] = np.arange(len(y_test))\n",
        "resultados['y_real'] = y_test\n",
        "resultados['y_predicha'] = predicciones\n",
        "resultados['delta'] = resultados.y_real - resultados.y_predicha\n",
        "resultados.head()"
      ]
    },
    {
      "cell_type": "code",
      "execution_count": null,
      "id": "86df6ce3",
      "metadata": {
        "id": "86df6ce3",
        "outputId": "194b22ad-0aa9-4a2d-88d2-0442139b9002"
      },
      "outputs": [
        {
          "data": {
            "text/plain": [
              "<matplotlib.collections.PathCollection at 0x231327d75e0>"
            ]
          },
          "execution_count": 29,
          "metadata": {},
          "output_type": "execute_result"
        },
        {
          "data": {
            "image/png": "[encoded data removed]",
            "text/plain": [
              "<Figure size 432x288 with 1 Axes>"
            ]
          },
          "metadata": {},
          "output_type": "display_data"
        }
      ],
      "source": [
        "plt.scatter(resultados.índice, resultados.y_real, color = \"green\")\n",
        "plt.scatter(resultados.índice, resultados.y_predicha)"
      ]
    },
    {
      "cell_type": "code",
      "execution_count": null,
      "id": "b4b403f2",
      "metadata": {
        "id": "b4b403f2",
        "outputId": "f3889775-3064-4b1b-e319-1800a832755e"
      },
      "outputs": [
        {
          "data": {
            "text/plain": [
              "Text(0.5, 0, 'precio')"
            ]
          },
          "execution_count": 30,
          "metadata": {},
          "output_type": "execute_result"
        },
        {
          "data": {
            "image/png": "[encoded data removed]",
            "text/plain": [
              "<Figure size 432x216 with 1 Axes>"
            ]
          },
          "metadata": {},
          "output_type": "display_data"
        }
      ],
      "source": [
        "fig, ax = plt.subplots(nrows=1, ncols=1, figsize=(6, 3))\n",
        "sns.histplot(data=resultados.y_real, kde=True,ax=ax)\n",
        "ax.set_title(\"Distribución y_real\")\n",
        "ax.set_xlabel('precio')"
      ]
    },
    {
      "cell_type": "code",
      "execution_count": null,
      "id": "e170e864",
      "metadata": {
        "id": "e170e864",
        "outputId": "7434c9aa-4e42-4e1d-8fb8-14f07f7e71bc"
      },
      "outputs": [
        {
          "data": {
            "text/plain": [
              "Text(0.5, 0, 'precio')"
            ]
          },
          "execution_count": 31,
          "metadata": {},
          "output_type": "execute_result"
        },
        {
          "data": {
            "image/png": "[encoded data removed]",
            "text/plain": [
              "<Figure size 432x216 with 1 Axes>"
            ]
          },
          "metadata": {},
          "output_type": "display_data"
        }
      ],
      "source": [
        "fig, ax = plt.subplots(nrows=1, ncols=1, figsize=(6, 3))\n",
        "sns.histplot(data=resultados.y_predicha, kde=True,ax=ax)\n",
        "ax.set_title(\"Distribución y_predicha\")\n",
        "ax.set_xlabel('precio')"
      ]
    },
    {
      "cell_type": "code",
      "execution_count": null,
      "id": "ec828e71",
      "metadata": {
        "id": "ec828e71"
      },
      "outputs": [],
      "source": []
    }
  ],
  "metadata": {
    "kernelspec": {
      "display_name": "Python 3 (ipykernel)",
      "language": "python",
      "name": "python3"
    },
    "language_info": {
      "codemirror_mode": {
        "name": "ipython",
        "version": 3
      },
      "file_extension": ".py",
      "mimetype": "text/x-python",
      "name": "python",
      "nbconvert_exporter": "python",
      "pygments_lexer": "ipython3",
      "version": "3.9.7"
    },
    "colab": {
      "provenance": [],
      "include_colab_link": true
    }
  },
  "nbformat": 4,
  "nbformat_minor": 5
}