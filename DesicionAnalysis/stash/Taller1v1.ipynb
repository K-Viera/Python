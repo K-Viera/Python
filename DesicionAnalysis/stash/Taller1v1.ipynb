{
  "nbformat": 4,
  "nbformat_minor": 0,
  "metadata": {
    "colab": {
      "name": "Untitled1.ipynb",
      "provenance": [],
      "authorship_tag": "ABX9TyOCmEpX29HiNr7HgrNM1Ekv",
      "include_colab_link": true
    },
    "kernelspec": {
      "name": "python3",
      "display_name": "Python 3"
    },
    "language_info": {
      "name": "python"
    }
  },
  "cells": [
    {
      "cell_type": "markdown",
      "metadata": {
        "id": "view-in-github",
        "colab_type": "text"
      },
      "source": [
        "<a href=\"https://colab.research.google.com/github/K-Viera/Python/blob/main/DesicionAnalysis/Taller1.ipynb\" target=\"_parent\"><img src=\"https://colab.research.google.com/assets/colab-badge.svg\" alt=\"Open In Colab\"/></a>"
      ]
    },
    {
      "cell_type": "code",
      "execution_count": 35,
      "metadata": {
        "id": "o9D2uyIE0fFy",
        "outputId": "7670f36c-55c7-40be-ba07-bafd47e827e8",
        "colab": {
          "base_uri": "https://localhost:8080/"
        }
      },
      "outputs": [
        {
          "output_type": "stream",
          "name": "stdout",
          "text": [
            "Looking in indexes: https://pypi.org/simple, https://us-python.pkg.dev/colab-wheels/public/simple/\n",
            "Requirement already satisfied: yfinance in /usr/local/lib/python3.7/dist-packages (0.1.74)\n",
            "Requirement already satisfied: numpy>=1.15 in /usr/local/lib/python3.7/dist-packages (from yfinance) (1.21.6)\n",
            "Requirement already satisfied: lxml>=4.5.1 in /usr/local/lib/python3.7/dist-packages (from yfinance) (4.9.1)\n",
            "Requirement already satisfied: requests>=2.26 in /usr/local/lib/python3.7/dist-packages (from yfinance) (2.28.1)\n",
            "Requirement already satisfied: multitasking>=0.0.7 in /usr/local/lib/python3.7/dist-packages (from yfinance) (0.0.11)\n",
            "Requirement already satisfied: pandas>=0.24.0 in /usr/local/lib/python3.7/dist-packages (from yfinance) (1.3.5)\n",
            "Requirement already satisfied: python-dateutil>=2.7.3 in /usr/local/lib/python3.7/dist-packages (from pandas>=0.24.0->yfinance) (2.8.2)\n",
            "Requirement already satisfied: pytz>=2017.3 in /usr/local/lib/python3.7/dist-packages (from pandas>=0.24.0->yfinance) (2022.1)\n",
            "Requirement already satisfied: six>=1.5 in /usr/local/lib/python3.7/dist-packages (from python-dateutil>=2.7.3->pandas>=0.24.0->yfinance) (1.15.0)\n",
            "Requirement already satisfied: certifi>=2017.4.17 in /usr/local/lib/python3.7/dist-packages (from requests>=2.26->yfinance) (2022.6.15)\n",
            "Requirement already satisfied: idna<4,>=2.5 in /usr/local/lib/python3.7/dist-packages (from requests>=2.26->yfinance) (2.10)\n",
            "Requirement already satisfied: charset-normalizer<3,>=2 in /usr/local/lib/python3.7/dist-packages (from requests>=2.26->yfinance) (2.1.0)\n",
            "Requirement already satisfied: urllib3<1.27,>=1.21.1 in /usr/local/lib/python3.7/dist-packages (from requests>=2.26->yfinance) (1.24.3)\n"
          ]
        }
      ],
      "source": [
        "#IMPORTAR LIBRERÍAS\n",
        "import numpy as np\n",
        "import pandas as pd\n",
        "!pip install yfinance\n",
        "import yfinance as yf\n",
        "import matplotlib.pyplot as plt\n",
        "import math"
      ]
    },
    {
      "cell_type": "markdown",
      "source": [
        "# Extraccion datos\n"
      ],
      "metadata": {
        "id": "zYrgFVnJ644o"
      }
    },
    {
      "cell_type": "code",
      "source": [
        "tickers = ['AAPL', 'GOOGL', 'META', 'BABA','F','DIS']\n",
        "datos = pd.DataFrame()\n",
        "\n",
        "for t in tickers:\n",
        "    datos[t] = yf.download(t, start = '2019-01-01')['Adj Close']"
      ],
      "metadata": {
        "colab": {
          "base_uri": "https://localhost:8080/"
        },
        "id": "ZjM9Qo4Y2Qjz",
        "outputId": "dfee9be6-8bcc-4d6f-92b5-96cd7d1a56d8"
      },
      "execution_count": 36,
      "outputs": [
        {
          "output_type": "stream",
          "name": "stdout",
          "text": [
            "[*********************100%***********************]  1 of 1 completed\n",
            "[*********************100%***********************]  1 of 1 completed\n",
            "[*********************100%***********************]  1 of 1 completed\n",
            "[*********************100%***********************]  1 of 1 completed\n",
            "[*********************100%***********************]  1 of 1 completed\n",
            "[*********************100%***********************]  1 of 1 completed\n"
          ]
        }
      ]
    },
    {
      "cell_type": "markdown",
      "source": [
        "# Rendimiento promedio anual"
      ],
      "metadata": {
        "id": "sWK8ObAI67TP"
      }
    },
    {
      "cell_type": "markdown",
      "source": [
        "## Retorno Simple\n"
      ],
      "metadata": {
        "id": "-5Fj_da2_Iv4"
      }
    },
    {
      "cell_type": "code",
      "source": [
        "serieRetornos = (datos/datos.shift(1))-1\n",
        "\n",
        "retornoAPPL = serieRetornos['AAPL'].mean() * 250\n",
        "print(f'El retorno de la acción de Apple es {round(retornoAPPL, 4) * 100}%')\n",
        "\n",
        "retornoGOOGL = serieRetornos['GOOGL'].mean() * 250\n",
        "print(f'El retorno de la acción de Google es {round(retornoGOOGL, 4) * 100}%')\n",
        "\n",
        "retornoMETA = serieRetornos['META'].mean() * 250\n",
        "print(f'El retorno de la acción de Meta es {round(retornoMETA, 4) * 100}%')\n",
        "\n",
        "retornoBABA = serieRetornos['BABA'].mean() * 250\n",
        "print(f'El retorno de la acción de Alibaba es {round(retornoBABA, 4) * 100}%')\n",
        "\n",
        "retornoF = serieRetornos['F'].mean() * 250\n",
        "print(f'El retorno de la acción de Ford es {round(retornoF, 4) * 100}%')\n",
        "\n",
        "retornoDIS = serieRetornos['DIS'].mean() * 250\n",
        "print(f'El retorno de la acción de Ford es {round(retornoDIS, 4) * 100}%')"
      ],
      "metadata": {
        "colab": {
          "base_uri": "https://localhost:8080/"
        },
        "id": "ClRgmxkm4xXC",
        "outputId": "3aebe83b-5344-43ca-d040-034d67a6f172"
      },
      "execution_count": 37,
      "outputs": [
        {
          "output_type": "stream",
          "name": "stdout",
          "text": [
            "El retorno de la acción de Apple es 46.32%\n",
            "El retorno de la acción de Google es 27.139999999999997%\n",
            "El retorno de la acción de Meta es 14.979999999999999%\n",
            "El retorno de la acción de Alibaba es 2.48%\n",
            "El retorno de la acción de Ford es 31.06%\n",
            "El retorno de la acción de Ford es 5.89%\n"
          ]
        }
      ]
    },
    {
      "cell_type": "markdown",
      "source": [
        "## Retorno logaritmico\n"
      ],
      "metadata": {
        "id": "lSRv_RPc_PXn"
      }
    },
    {
      "cell_type": "code",
      "source": [
        "retornoLogaritmico = np.log(datos/datos.shift(1))\n",
        "retornoLogAPPL = retornoLogaritmico['AAPL'].mean() * 250\n",
        "retornoLogGOOGL = retornoLogaritmico['GOOGL'].mean() * 250\n",
        "retornoLogMETA = retornoLogaritmico['META'].mean() * 250\n",
        "retornoLogBABA = retornoLogaritmico['BABA'].mean() * 250\n",
        "retornoLogF = retornoLogaritmico['F'].mean() * 250\n",
        "retornoLogDIS = retornoLogaritmico['DIS'].mean() * 250"
      ],
      "metadata": {
        "id": "Y5IbQB1E_R5A"
      },
      "execution_count": 38,
      "outputs": []
    },
    {
      "cell_type": "markdown",
      "source": [
        "# Portafolios\n"
      ],
      "metadata": {
        "id": "hS7rkBR37BZQ"
      }
    },
    {
      "cell_type": "code",
      "source": [
        "pesoEscenario1 = np.array([0.2 , 0.2 , 0.1 , 0.1 , 0.2, 0.2 ])\n",
        "pesoEscenario2 = np.array([0   , 0.5 , 0.05, 0.3 , 0  , 0.15])\n",
        "pesoEscenario3 = np.array([0.3 , 0.6 , 0   , 0.1 , 0  , 0   ])\n",
        "pesoEscenario4 = np.array([0.15, 0.15, 0.15, 0.15,0.2 , 0.2 ])\n",
        "pesoEscenario5 = np.array([0.5 , 0   , 0   , 0   ,0.5 , 0   ])"
      ],
      "metadata": {
        "id": "xkkstJpE7OwB"
      },
      "execution_count": 39,
      "outputs": []
    },
    {
      "cell_type": "markdown",
      "source": [
        "## Retorno anual promedio"
      ],
      "metadata": {
        "id": "VfN7efnB9IQs"
      }
    },
    {
      "cell_type": "code",
      "source": [
        "retornoPortafolio1 = np.dot((serieRetornos.mean()*250), pesoEscenario1)\n",
        "print(f'El retorno del portafolio 1 es {round(retornoPortafolio1, 4) * 100}%')\n",
        "\n",
        "retornoPortafolio2 = np.dot((serieRetornos.mean()*250), pesoEscenario2)\n",
        "print(f'El retorno del portafolio 2 es {round(retornoPortafolio2, 4) * 100}%')\n",
        "\n",
        "retornoPortafolio3 = np.dot((serieRetornos.mean()*250), pesoEscenario3)\n",
        "print(f'El retorno del portafolio 3 es {round(retornoPortafolio3, 4) * 100}%')\n",
        "\n",
        "retornoPortafolio4 = np.dot((serieRetornos.mean()*250), pesoEscenario4)\n",
        "print(f'El retorno del portafolio 4 es {round(retornoPortafolio4, 4) * 100}%')\n",
        "\n",
        "retornoPortafolio5 = np.dot((serieRetornos.mean()*250), pesoEscenario5)\n",
        "print(f'El retorno del portafolio 5 es {round(retornoPortafolio5, 4) * 100}%')\n",
        "\n",
        "print('El mejor retorno posible es el del portafolio 3')"
      ],
      "metadata": {
        "id": "7St_0PTq9MIc",
        "outputId": "487bc357-2c64-4596-f3a6-e4db8490ef95",
        "colab": {
          "base_uri": "https://localhost:8080/"
        }
      },
      "execution_count": 40,
      "outputs": [
        {
          "output_type": "stream",
          "name": "stdout",
          "text": [
            "El retorno del portafolio 1 es 23.830000000000002%\n",
            "El retorno del portafolio 2 es 15.950000000000001%\n",
            "El retorno del portafolio 3 es 30.43%\n",
            "El retorno del portafolio 4 es 21.029999999999998%\n",
            "El retorno del portafolio 5 es 38.690000000000005%\n",
            "El mejor retorno posible es el del portafolio 3\n"
          ]
        }
      ]
    },
    {
      "cell_type": "markdown",
      "source": [
        "## Riesgo Portafolio"
      ],
      "metadata": {
        "id": "iS27051RACbI"
      }
    },
    {
      "cell_type": "markdown",
      "source": [
        "### Matrices\n"
      ],
      "metadata": {
        "id": "oh-v0YQRAUzD"
      }
    },
    {
      "cell_type": "code",
      "source": [
        "matrizCovarianza = retornoLogaritmico.cov()\n",
        "matrizCovarianzaAnual = matrizCovarianza * 250\n",
        "matrizCorrelacion = retornoLogaritmico.corr()"
      ],
      "metadata": {
        "id": "zbbXxJa3AhW0"
      },
      "execution_count": 41,
      "outputs": []
    },
    {
      "cell_type": "markdown",
      "source": [
        "### Calculo Riesgo"
      ],
      "metadata": {
        "id": "tN23OkUbBXNd"
      }
    },
    {
      "cell_type": "code",
      "source": [
        "varianzaPortafolio1=np.dot(pesoEscenario1.T, np.dot(matrizCovarianzaAnual, pesoEscenario1))\n",
        "volatilidadPortafolio1 = np.sqrt(varianzaPortafolio1)\n",
        "\n",
        "varianzaPortafolio2=np.dot(pesoEscenario2.T, np.dot(matrizCovarianzaAnual, pesoEscenario2))\n",
        "volatilidadPortafolio2 = np.sqrt(varianzaPortafolio2)\n",
        "\n",
        "varianzaPortafolio3 = np.dot(pesoEscenario3.T, np.dot(matrizCovarianzaAnual, pesoEscenario3))\n",
        "volatilidadPortafolio3 = np.sqrt(varianzaPortafolio3)\n",
        "\n",
        "varianzaPortafolio4 = np.dot(pesoEscenario4.T, np.dot(matrizCovarianzaAnual, pesoEscenario4))\n",
        "volatilidadPortafolio4 = np.sqrt(varianzaPortafolio4)\n",
        "\n",
        "varianzaPortafolio5=np.dot(pesoEscenario5.T, np.dot(matrizCovarianzaAnual, pesoEscenario5))\n",
        "volatilidadPortafolio5 = np.sqrt(varianzaPortafolio5)"
      ],
      "metadata": {
        "id": "7G-MeVLABf32"
      },
      "execution_count": 42,
      "outputs": []
    },
    {
      "cell_type": "code",
      "source": [
        "print('Volatilidad escenario1',volatilidadPortafolio1)\n",
        "print('Volatilidad escenario2',volatilidadPortafolio2)\n",
        "print('Volatilidad escenario3',volatilidadPortafolio3)\n",
        "print('Volatilidad escenario4',volatilidadPortafolio4)\n",
        "print('Volatilidad escenario5',volatilidadPortafolio5)"
      ],
      "metadata": {
        "id": "nJHQGz9eB4Tx",
        "outputId": "a1032bd7-d73a-483f-e5ca-541ad2395311",
        "colab": {
          "base_uri": "https://localhost:8080/"
        }
      },
      "execution_count": 43,
      "outputs": [
        {
          "output_type": "stream",
          "name": "stdout",
          "text": [
            "Volatilidad escenario1 0.2806871507958313\n",
            "Volatilidad escenario2 0.2946472351556952\n",
            "Volatilidad escenario3 0.29321836899904563\n",
            "Volatilidad escenario4 0.2851892621149267\n",
            "Volatilidad escenario5 0.3302651259627826\n"
          ]
        }
      ]
    },
    {
      "cell_type": "markdown",
      "source": [
        "### Retorno por accion"
      ],
      "metadata": {
        "id": "YuzVboWgCloQ"
      }
    },
    {
      "cell_type": "code",
      "source": [
        "sha1 = (retornoPortafolio1 - 0.1)/ math.sqrt(varianzaPortafolio1)\n",
        "sha2 = (retornoPortafolio2 - 0.1)/ math.sqrt(varianzaPortafolio2)\n",
        "sha3 = (retornoPortafolio3 - 0.1)/ math.sqrt(varianzaPortafolio3)\n",
        "sha4 = (retornoPortafolio4 - 0.1)/ math.sqrt(varianzaPortafolio4)\n",
        "sha5 = (retornoPortafolio5 - 0.1)/ math.sqrt(varianzaPortafolio5)"
      ],
      "metadata": {
        "id": "x04TP4KeClTY"
      },
      "execution_count": 44,
      "outputs": []
    },
    {
      "cell_type": "code",
      "source": [
        "print('Retorto por accion escenario1',sha1)\n",
        "print('Retorto por accion escenario2',sha2)\n",
        "print('Retorto por accion escenario3',sha3)\n",
        "print('Retorto por accion escenario4',sha4)\n",
        "print('Retorto por accion escenario5',sha5)\n",
        "print('La mejor opcion es el portafolio numero 5')"
      ],
      "metadata": {
        "id": "19Gt6XexD_4u",
        "outputId": "258e2f9f-731a-4625-e40a-b6586b431c5f",
        "colab": {
          "base_uri": "https://localhost:8080/"
        }
      },
      "execution_count": 46,
      "outputs": [
        {
          "output_type": "stream",
          "name": "stdout",
          "text": [
            "Retorto por accion escenario1 0.49268414119430926\n",
            "Retorto por accion escenario2 0.2017843300698299\n",
            "Retorto por accion escenario3 0.6966263031052216\n",
            "Retorto por accion escenario4 0.3867324691956851\n",
            "Retorto por accion escenario5 0.8687715456583222\n",
            "La mejor opcion es el portafolio numero 5\n"
          ]
        }
      ]
    },
    {
      "cell_type": "markdown",
      "source": [
        "#Simulacion montecarlo para volatilidad"
      ],
      "metadata": {
        "id": "Y03DMyVlFSgK"
      }
    },
    {
      "cell_type": "code",
      "source": [
        "ticker1 = 'AAPL'\n",
        "data1 = pd.DataFrame()\n",
        "data1 [ticker1] = yf.download(ticker1, start = '2019-01-01')['Adj Close']"
      ],
      "metadata": {
        "id": "0vcdyyIIFeXk",
        "outputId": "e0fd79b4-f6ed-4fa6-e108-3d29a68e6bc2",
        "colab": {
          "base_uri": "https://localhost:8080/"
        }
      },
      "execution_count": 47,
      "outputs": [
        {
          "output_type": "stream",
          "name": "stdout",
          "text": [
            "\r[*********************100%***********************]  1 of 1 completed\n"
          ]
        }
      ]
    },
    {
      "cell_type": "code",
      "source": [
        "plt.figure(figsize = (16,8))\n",
        "data1.plot()\n",
        "plt.show()"
      ],
      "metadata": {
        "id": "R3q6nBfUF-Qj",
        "outputId": "7c22ca78-c625-4765-bd06-e4abe1685ffc",
        "colab": {
          "base_uri": "https://localhost:8080/",
          "height": 295
        }
      },
      "execution_count": 48,
      "outputs": [
        {
          "output_type": "display_data",
          "data": {
            "text/plain": [
              "<Figure size 1152x576 with 0 Axes>"
            ]
          },
          "metadata": {}
        },
        {
          "output_type": "display_data",
          "data": {
            "text/plain": [
              "<Figure size 432x288 with 1 Axes>"
            ],
            "image/png": "[encoded data removed]"
          },
          "metadata": {
            "needs_background": "light"
          }
        }
      ]
    },
    {
      "cell_type": "code",
      "source": [
        "ticker2 = 'GOOGL'\n",
        "data2 = pd.DataFrame()\n",
        "data2 [ticker2] = yf.download(ticker2, start = '2019-01-01')['Adj Close']"
      ],
      "metadata": {
        "id": "IJI9UYp3GBxC",
        "outputId": "655840d2-9253-4016-81ff-5f2734104cf0",
        "colab": {
          "base_uri": "https://localhost:8080/"
        }
      },
      "execution_count": 49,
      "outputs": [
        {
          "output_type": "stream",
          "name": "stdout",
          "text": [
            "\r[*********************100%***********************]  1 of 1 completed\n"
          ]
        }
      ]
    },
    {
      "cell_type": "code",
      "source": [
        "plt.figure(figsize = (16,8))\n",
        "data2.plot()\n",
        "plt.show()"
      ],
      "metadata": {
        "id": "dkchZZZQGLNc",
        "outputId": "ee4d05ed-ce64-4e11-d2c2-fec9575b0164",
        "colab": {
          "base_uri": "https://localhost:8080/",
          "height": 295
        }
      },
      "execution_count": 50,
      "outputs": [
        {
          "output_type": "display_data",
          "data": {
            "text/plain": [
              "<Figure size 1152x576 with 0 Axes>"
            ]
          },
          "metadata": {}
        },
        {
          "output_type": "display_data",
          "data": {
            "text/plain": [
              "<Figure size 432x288 with 1 Axes>"
            ],
            "image/png": "[encoded data removed]"
          },
          "metadata": {
            "needs_background": "light"
          }
        }
      ]
    },
    {
      "cell_type": "code",
      "source": [
        "ticker3 = 'META'\n",
        "data3 = pd.DataFrame()\n",
        "data3 [ticker3] = yf.download(ticker3, start = '2019-01-01')['Adj Close']"
      ],
      "metadata": {
        "id": "ssc52vqOGM_T",
        "outputId": "c58e253a-52c3-49f3-a42d-531f2ea29ebe",
        "colab": {
          "base_uri": "https://localhost:8080/"
        }
      },
      "execution_count": 51,
      "outputs": [
        {
          "output_type": "stream",
          "name": "stdout",
          "text": [
            "\r[*********************100%***********************]  1 of 1 completed\n"
          ]
        }
      ]
    },
    {
      "cell_type": "markdown",
      "source": [
        "##Rendimiento"
      ],
      "metadata": {
        "id": "3MgKng8FGeSw"
      }
    },
    {
      "cell_type": "code",
      "source": [
        "rendimientoLogaritmico1 = np.log(1+ data1.pct_change())\n",
        "u1 = rendimientoLogaritmico1.mean()\n",
        "var1 = rendimientoLogaritmico1.var()\n",
        "\n",
        "\n",
        "rendimientoLogaritmico2 = np.log(1+ data2.pct_change()) #shift-1 + la división\n",
        "u2 = rendimientoLogaritmico2.mean()\n",
        "\n",
        "var2 = rendimientoLogaritmico2.var()\n",
        "\n",
        "rendimientoLogaritmico3 = np.log(1+ data3.pct_change()) #shift-1 + la división\n",
        "u3 = rendimientoLogaritmico3.mean()\n",
        "var3 = rendimientoLogaritmico3.var()\n",
        "\n",
        "\n"
      ],
      "metadata": {
        "id": "kA5mOv7bHIC9",
        "outputId": "927c765d-c65d-4b03-b190-50104761487c",
        "colab": {
          "base_uri": "https://localhost:8080/",
          "height": 237
        }
      },
      "execution_count": 52,
      "outputs": [
        {
          "output_type": "execute_result",
          "data": {
            "text/plain": [
              "                AAPL\n",
              "Date                \n",
              "2019-01-02       NaN\n",
              "2019-01-03 -0.104925\n",
              "2019-01-04  0.041803\n",
              "2019-01-07 -0.002228\n",
              "2019-01-08  0.018884"
            ],
            "text/html": [
              "\n",
              "  <div id=\"df-52125d5d-4a08-49aa-b49d-9af4b78ad103\">\n",
              "    <div class=\"colab-df-container\">\n",
              "      <div>\n",
              "<style scoped>\n",
              "    .dataframe tbody tr th:only-of-type {\n",
              "        vertical-align: middle;\n",
              "    }\n",
              "\n",
              "    .dataframe tbody tr th {\n",
              "        vertical-align: top;\n",
              "    }\n",
              "\n",
              "    .dataframe thead th {\n",
              "        text-align: right;\n",
              "    }\n",
              "</style>\n",
              "<table border=\"1\" class=\"dataframe\">\n",
              "  <thead>\n",
              "    <tr style=\"text-align: right;\">\n",
              "      <th></th>\n",
              "      <th>AAPL</th>\n",
              "    </tr>\n",
              "    <tr>\n",
              "      <th>Date</th>\n",
              "      <th></th>\n",
              "    </tr>\n",
              "  </thead>\n",
              "  <tbody>\n",
              "    <tr>\n",
              "      <th>2019-01-02</th>\n",
              "      <td>NaN</td>\n",
              "    </tr>\n",
              "    <tr>\n",
              "      <th>2019-01-03</th>\n",
              "      <td>-0.104925</td>\n",
              "    </tr>\n",
              "    <tr>\n",
              "      <th>2019-01-04</th>\n",
              "      <td>0.041803</td>\n",
              "    </tr>\n",
              "    <tr>\n",
              "      <th>2019-01-07</th>\n",
              "      <td>-0.002228</td>\n",
              "    </tr>\n",
              "    <tr>\n",
              "      <th>2019-01-08</th>\n",
              "      <td>0.018884</td>\n",
              "    </tr>\n",
              "  </tbody>\n",
              "</table>\n",
              "</div>\n",
              "      <button class=\"colab-df-convert\" onclick=\"convertToInteractive('df-52125d5d-4a08-49aa-b49d-9af4b78ad103')\"\n",
              "              title=\"Convert this dataframe to an interactive table.\"\n",
              "              style=\"display:none;\">\n",
              "        \n",
              "  <svg xmlns=\"http://www.w3.org/2000/svg\" height=\"24px\"viewBox=\"0 0 24 24\"\n",
              "       width=\"24px\">\n",
              "    <path d=\"M0 0h24v24H0V0z\" fill=\"none\"/>\n",
              "    <path d=\"M18.56 5.44l.94 2.06.94-2.06 2.06-.94-2.06-.94-.94-2.06-.94 2.06-2.06.94zm-11 1L8.5 8.5l.94-2.06 2.06-.94-2.06-.94L8.5 2.5l-.94 2.06-2.06.94zm10 10l.94 2.06.94-2.06 2.06-.94-2.06-.94-.94-2.06-.94 2.06-2.06.94z\"/><path d=\"M17.41 7.96l-1.37-1.37c-.4-.4-.92-.59-1.43-.59-.52 0-1.04.2-1.43.59L10.3 9.45l-7.72 7.72c-.78.78-.78 2.05 0 2.83L4 21.41c.39.39.9.59 1.41.59.51 0 1.02-.2 1.41-.59l7.78-7.78 2.81-2.81c.8-.78.8-2.07 0-2.86zM5.41 20L4 18.59l7.72-7.72 1.47 1.35L5.41 20z\"/>\n",
              "  </svg>\n",
              "      </button>\n",
              "      \n",
              "  <style>\n",
              "    .colab-df-container {\n",
              "      display:flex;\n",
              "      flex-wrap:wrap;\n",
              "      gap: 12px;\n",
              "    }\n",
              "\n",
              "    .colab-df-convert {\n",
              "      background-color: #E8F0FE;\n",
              "      border: none;\n",
              "      border-radius: 50%;\n",
              "      cursor: pointer;\n",
              "      display: none;\n",
              "      fill: #1967D2;\n",
              "      height: 32px;\n",
              "      padding: 0 0 0 0;\n",
              "      width: 32px;\n",
              "    }\n",
              "\n",
              "    .colab-df-convert:hover {\n",
              "      background-color: #E2EBFA;\n",
              "      box-shadow: 0px 1px 2px rgba(60, 64, 67, 0.3), 0px 1px 3px 1px rgba(60, 64, 67, 0.15);\n",
              "      fill: #174EA6;\n",
              "    }\n",
              "\n",
              "    [theme=dark] .colab-df-convert {\n",
              "      background-color: #3B4455;\n",
              "      fill: #D2E3FC;\n",
              "    }\n",
              "\n",
              "    [theme=dark] .colab-df-convert:hover {\n",
              "      background-color: #434B5C;\n",
              "      box-shadow: 0px 1px 3px 1px rgba(0, 0, 0, 0.15);\n",
              "      filter: drop-shadow(0px 1px 2px rgba(0, 0, 0, 0.3));\n",
              "      fill: #FFFFFF;\n",
              "    }\n",
              "  </style>\n",
              "\n",
              "      <script>\n",
              "        const buttonEl =\n",
              "          document.querySelector('#df-52125d5d-4a08-49aa-b49d-9af4b78ad103 button.colab-df-convert');\n",
              "        buttonEl.style.display =\n",
              "          google.colab.kernel.accessAllowed ? 'block' : 'none';\n",
              "\n",
              "        async function convertToInteractive(key) {\n",
              "          const element = document.querySelector('#df-52125d5d-4a08-49aa-b49d-9af4b78ad103');\n",
              "          const dataTable =\n",
              "            await google.colab.kernel.invokeFunction('convertToInteractive',\n",
              "                                                     [key], {});\n",
              "          if (!dataTable) return;\n",
              "\n",
              "          const docLinkHtml = 'Like what you see? Visit the ' +\n",
              "            '<a target=\"_blank\" href=https://colab.research.google.com/notebooks/data_table.ipynb>data table notebook</a>'\n",
              "            + ' to learn more about interactive tables.';\n",
              "          element.innerHTML = '';\n",
              "          dataTable['output_type'] = 'display_data';\n",
              "          await google.colab.output.renderOutput(dataTable, element);\n",
              "          const docLink = document.createElement('div');\n",
              "          docLink.innerHTML = docLinkHtml;\n",
              "          element.appendChild(docLink);\n",
              "        }\n",
              "      </script>\n",
              "    </div>\n",
              "  </div>\n",
              "  "
            ]
          },
          "metadata": {},
          "execution_count": 52
        }
      ]
    }
  ]
}