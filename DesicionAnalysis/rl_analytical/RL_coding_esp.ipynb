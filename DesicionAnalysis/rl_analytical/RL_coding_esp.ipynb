{
 "cells": [
  {
   "cell_type": "markdown",
   "id": "cf2c665d",
   "metadata": {
    "tags": [
     "27_min",
     "45_min"
    ]
   },
   "source": [
    "# ¿Qué factores impulsan la discriminación salarial entre hombres y mujeres en su organización?"
   ]
  },
  {
   "cell_type": "markdown",
   "id": "1c4ac042",
   "metadata": {},
   "source": [
    "Ejecutar regresiones lineales en Python, utilizando `statsmodels`."
   ]
  },
  {
   "cell_type": "code",
   "execution_count": 1,
   "id": "0d8dc35a",
   "metadata": {},
   "outputs": [],
   "source": [
    "import pandas as pd\n",
    "import statsmodels.formula.api as sm"
   ]
  },
  {
   "cell_type": "markdown",
   "id": "962aff7b",
   "metadata": {
    "tags": [
     "2_min"
    ]
   },
   "source": [
    "## Cargar datos\n",
    "\n",
    "Como siempre, empecemos por leer nuestro conjunto de datos e inspeccionar algunas filas:"
   ]
  },
  {
   "cell_type": "code",
   "execution_count": 2,
   "id": "1be15aef",
   "metadata": {},
   "outputs": [],
   "source": [
    "df = pd.read_csv('data/company_dataset.csv')"
   ]
  },
  {
   "cell_type": "code",
   "execution_count": 3,
   "id": "4a5e2f3f",
   "metadata": {},
   "outputs": [
    {
     "data": {
      "text/html": [
       "<div>\n",
       "<style scoped>\n",
       "    .dataframe tbody tr th:only-of-type {\n",
       "        vertical-align: middle;\n",
       "    }\n",
       "\n",
       "    .dataframe tbody tr th {\n",
       "        vertical-align: top;\n",
       "    }\n",
       "\n",
       "    .dataframe thead th {\n",
       "        text-align: right;\n",
       "    }\n",
       "</style>\n",
       "<table border=\"1\" class=\"dataframe\">\n",
       "  <thead>\n",
       "    <tr style=\"text-align: right;\">\n",
       "      <th></th>\n",
       "      <th>job_title</th>\n",
       "      <th>age_years</th>\n",
       "      <th>performance_score</th>\n",
       "      <th>education</th>\n",
       "      <th>seniority_years</th>\n",
       "      <th>pay_yearly</th>\n",
       "      <th>male_female</th>\n",
       "    </tr>\n",
       "  </thead>\n",
       "  <tbody>\n",
       "    <tr>\n",
       "      <th>0</th>\n",
       "      <td>Project Manager</td>\n",
       "      <td>34</td>\n",
       "      <td>33.33</td>\n",
       "      <td>High School</td>\n",
       "      <td>4</td>\n",
       "      <td>118503</td>\n",
       "      <td>M</td>\n",
       "    </tr>\n",
       "    <tr>\n",
       "      <th>1</th>\n",
       "      <td>Marketing associate</td>\n",
       "      <td>66</td>\n",
       "      <td>16.67</td>\n",
       "      <td>High School</td>\n",
       "      <td>3</td>\n",
       "      <td>129393</td>\n",
       "      <td>M</td>\n",
       "    </tr>\n",
       "    <tr>\n",
       "      <th>2</th>\n",
       "      <td>Marketing associate</td>\n",
       "      <td>51</td>\n",
       "      <td>50.00</td>\n",
       "      <td>Masters</td>\n",
       "      <td>8</td>\n",
       "      <td>139440</td>\n",
       "      <td>M</td>\n",
       "    </tr>\n",
       "    <tr>\n",
       "      <th>3</th>\n",
       "      <td>Sales representative</td>\n",
       "      <td>26</td>\n",
       "      <td>16.67</td>\n",
       "      <td>Masters</td>\n",
       "      <td>3</td>\n",
       "      <td>118191</td>\n",
       "      <td>F</td>\n",
       "    </tr>\n",
       "    <tr>\n",
       "      <th>4</th>\n",
       "      <td>Account executive</td>\n",
       "      <td>36</td>\n",
       "      <td>50.00</td>\n",
       "      <td>PhD</td>\n",
       "      <td>4</td>\n",
       "      <td>77717</td>\n",
       "      <td>M</td>\n",
       "    </tr>\n",
       "  </tbody>\n",
       "</table>\n",
       "</div>"
      ],
      "text/plain": [
       "              job_title  age_years  performance_score    education  \\\n",
       "0       Project Manager         34              33.33  High School   \n",
       "1   Marketing associate         66              16.67  High School   \n",
       "2   Marketing associate         51              50.00      Masters   \n",
       "3  Sales representative         26              16.67      Masters   \n",
       "4     Account executive         36              50.00          PhD   \n",
       "\n",
       "   seniority_years  pay_yearly male_female  \n",
       "0                4      118503           M  \n",
       "1                3      129393           M  \n",
       "2                8      139440           M  \n",
       "3                3      118191           F  \n",
       "4                4       77717           M  "
      ]
     },
     "execution_count": 3,
     "metadata": {},
     "output_type": "execute_result"
    }
   ],
   "source": [
    "df.head()"
   ]
  },
  {
   "cell_type": "markdown",
   "id": "30f8c155",
   "metadata": {
    "tags": [
     "20_min"
    ]
   },
   "source": [
    "## Regresiones lineales simples\n",
    "\n",
    "Durante la clase hemos ejecutado este modelo, que ahora reproduciremos utilizando el código:\n",
    "\n",
    "$$ PAY{\\_}YEARLY = \\beta_0 + \\beta_1 AGE{\\_}YEARS + \\varepsilon $$\n",
    "\n",
    "El primer paso es transformar la fórmula matemática en una fórmula `statsmodels`. La sintaxis es la siguiente:\n",
    "\n",
    "~~~plain\n",
    "output_variable ~ input_variable\n",
    "~~~\n",
    "\n",
    "Definiremos nuestra fórmula como:"
   ]
  },
  {
   "cell_type": "code",
   "execution_count": 4,
   "id": "8298223b",
   "metadata": {},
   "outputs": [
    {
     "data": {
      "text/plain": [
       "'pay_yearly ~ age_years'"
      ]
     },
     "execution_count": 4,
     "metadata": {},
     "output_type": "execute_result"
    }
   ],
   "source": [
    "formula1 = 'pay_yearly ~ age_years'\n",
    "formula1"
   ]
  },
  {
   "cell_type": "markdown",
   "id": "abf891db",
   "metadata": {},
   "source": [
    "Utilizamos sólo los nombres de las columnas. No es necesario añadir el nombre del DataFrame (`df`) todavía.\n",
    "\n",
    "Después de esto, creamos un modelo `statsmodels` con la función [**`ols()`**](https://www.statsmodels.org/stable/generated/statsmodels.formula.api.ols.html). OLS significa \"Ordinary Least Squares\", que es el nombre del proceso que minimiza la suma de los residuos al cuadrado (que vimos durante la clase). Es aquí donde le decimos a la biblioteca a qué DataFrame pertenecen las variables:"
   ]
  },
  {
   "cell_type": "code",
   "execution_count": 5,
   "id": "aece910f",
   "metadata": {},
   "outputs": [],
   "source": [
    "model1 = sm.ols(formula = formula1, data = df)"
   ]
  },
  {
   "cell_type": "markdown",
   "id": "cc738943",
   "metadata": {},
   "source": [
    "Aquí pasamos dos argumentos - la fórmula (en nuestro caso `fórmula = fórmula1`) y el DataFrame (`datos = df`).\n",
    "\n",
    "El modelo no hace nada todavía. Es sólo una representación informática de nuestro modelo - no ha sido alimentado con ningún dato todavía, y por lo tanto no puede producir coeficientes o cualquier otra salida significativa. Para ajustar el modelo a los datos, debemos llamar al método `.fit()` de esta manera:"
   ]
  },
  {
   "cell_type": "code",
   "execution_count": 6,
   "id": "6c07152f",
   "metadata": {},
   "outputs": [],
   "source": [
    "fitted1 = model1.fit()"
   ]
  },
  {
   "cell_type": "markdown",
   "id": "015b4d05",
   "metadata": {},
   "source": [
    "Sin embargo, si ahora simplemente llama a la variable `fitted1` o intenta imprimirla, no verá ninguna salida significativa:"
   ]
  },
  {
   "cell_type": "code",
   "execution_count": 7,
   "id": "02201a4f",
   "metadata": {},
   "outputs": [
    {
     "data": {
      "text/plain": [
       "<statsmodels.regression.linear_model.RegressionResultsWrapper at 0x217dd932140>"
      ]
     },
     "execution_count": 7,
     "metadata": {},
     "output_type": "execute_result"
    }
   ],
   "source": [
    "fitted1"
   ]
  },
  {
   "cell_type": "code",
   "execution_count": 8,
   "id": "1de6ccd0",
   "metadata": {},
   "outputs": [
    {
     "name": "stdout",
     "output_type": "stream",
     "text": [
      "<statsmodels.regression.linear_model.RegressionResultsWrapper object at 0x00000217DD932140>\n"
     ]
    }
   ],
   "source": [
    "print(fitted1)"
   ]
  },
  {
   "cell_type": "markdown",
   "id": "2588b5de",
   "metadata": {},
   "source": [
    "Para ver el resultado real de la regresión, hay que llamar al método [**`.summary()`**](https://medium.com/swlh/interpreting-linear-regression-through-statsmodels-summary-4796d359035a]) e imprimirlo:"
   ]
  },
  {
   "cell_type": "code",
   "execution_count": 9,
   "id": "135319c3",
   "metadata": {},
   "outputs": [
    {
     "name": "stdout",
     "output_type": "stream",
     "text": [
      "                            OLS Regression Results                            \n",
      "==============================================================================\n",
      "Dep. Variable:             pay_yearly   R-squared:                       0.238\n",
      "Model:                            OLS   Adj. R-squared:                  0.236\n",
      "Method:                 Least Squares   F-statistic:                     143.8\n",
      "Date:                Tue, 16 Aug 2022   Prob (F-statistic):           5.00e-29\n",
      "Time:                        20:48:21   Log-Likelihood:                -5300.3\n",
      "No. Observations:                 463   AIC:                         1.060e+04\n",
      "Df Residuals:                     461   BIC:                         1.061e+04\n",
      "Df Model:                           1                                         \n",
      "Covariance Type:            nonrobust                                         \n",
      "==============================================================================\n",
      "                 coef    std err          t      P>|t|      [0.025      0.975]\n",
      "------------------------------------------------------------------------------\n",
      "Intercept   6.384e+04   3209.744     19.891      0.000    5.75e+04    7.02e+04\n",
      "age_years    873.5006     72.840     11.992      0.000     730.360    1016.641\n",
      "==============================================================================\n",
      "Omnibus:                        2.346   Durbin-Watson:                   2.033\n",
      "Prob(Omnibus):                  0.310   Jarque-Bera (JB):                2.414\n",
      "Skew:                           0.151   Prob(JB):                        0.299\n",
      "Kurtosis:                       2.817   Cond. No.                         134.\n",
      "==============================================================================\n",
      "\n",
      "Notes:\n",
      "[1] Standard Errors assume that the covariance matrix of the errors is correctly specified.\n"
     ]
    }
   ],
   "source": [
    "print(fitted1.summary())"
   ]
  },
  {
   "cell_type": "markdown",
   "id": "b795ec7c",
   "metadata": {},
   "source": [
    "Ahora puede ver el resultado de la regresión. Para resumir:\n",
    "\n",
    "1. Primero se define una fórmula `statsmodels` (`formula1 = 'pay_yearly ~ age_years'`)\n",
    "2. Luego se pasa la fórmula a `ols()` (`model1 = sm.ols(formula = formula1, data = df)`)\n",
    "3. Después, se ajusta el modelo con `.fit()` (`fitted1 = model1.fit()`)\n",
    "4. Por último, imprime el resultado con la ayuda del método `.summary()` (`print(fitted1.summary())`)\n",
    "\n",
    "En una sola celda:"
   ]
  },
  {
   "cell_type": "code",
   "execution_count": 10,
   "id": "afb31c70",
   "metadata": {},
   "outputs": [
    {
     "name": "stdout",
     "output_type": "stream",
     "text": [
      "                            OLS Regression Results                            \n",
      "==============================================================================\n",
      "Dep. Variable:             pay_yearly   R-squared:                       0.238\n",
      "Model:                            OLS   Adj. R-squared:                  0.236\n",
      "Method:                 Least Squares   F-statistic:                     143.8\n",
      "Date:                Tue, 16 Aug 2022   Prob (F-statistic):           5.00e-29\n",
      "Time:                        20:51:36   Log-Likelihood:                -5300.3\n",
      "No. Observations:                 463   AIC:                         1.060e+04\n",
      "Df Residuals:                     461   BIC:                         1.061e+04\n",
      "Df Model:                           1                                         \n",
      "Covariance Type:            nonrobust                                         \n",
      "==============================================================================\n",
      "                 coef    std err          t      P>|t|      [0.025      0.975]\n",
      "------------------------------------------------------------------------------\n",
      "Intercept   6.384e+04   3209.744     19.891      0.000    5.75e+04    7.02e+04\n",
      "age_years    873.5006     72.840     11.992      0.000     730.360    1016.641\n",
      "==============================================================================\n",
      "Omnibus:                        2.346   Durbin-Watson:                   2.033\n",
      "Prob(Omnibus):                  0.310   Jarque-Bera (JB):                2.414\n",
      "Skew:                           0.151   Prob(JB):                        0.299\n",
      "Kurtosis:                       2.817   Cond. No.                         134.\n",
      "==============================================================================\n",
      "\n",
      "Notes:\n",
      "[1] Standard Errors assume that the covariance matrix of the errors is correctly specified.\n"
     ]
    }
   ],
   "source": [
    "formula1 = 'pay_yearly ~ age_years'\n",
    "model1 = sm.ols(formula = formula1, data = df)\n",
    "fitted1 = model1.fit()\n",
    "print(fitted1.summary())"
   ]
  },
  {
   "cell_type": "markdown",
   "id": "68218e82",
   "metadata": {},
   "source": [
    "También puede recuperar sólo un subconjunto de la salida:\n",
    "\n",
    "* `fitted1.params` le da los coeficientes\n",
    "* `fitted1.pvalues` le da los valores $p$\n",
    "* `fitted1.rsquared` le proporciona el $R^2$."
   ]
  },
  {
   "cell_type": "code",
   "execution_count": 11,
   "id": "7d7148e0",
   "metadata": {},
   "outputs": [
    {
     "data": {
      "text/plain": [
       "Intercept    63844.651564\n",
       "age_years      873.500614\n",
       "dtype: float64"
      ]
     },
     "execution_count": 11,
     "metadata": {},
     "output_type": "execute_result"
    }
   ],
   "source": [
    "fitted1.params"
   ]
  },
  {
   "cell_type": "code",
   "execution_count": 12,
   "id": "051f4c16",
   "metadata": {},
   "outputs": [
    {
     "data": {
      "text/plain": [
       "Intercept    5.113194e-64\n",
       "age_years    5.001875e-29\n",
       "dtype: float64"
      ]
     },
     "execution_count": 12,
     "metadata": {},
     "output_type": "execute_result"
    }
   ],
   "source": [
    "fitted1.pvalues"
   ]
  },
  {
   "cell_type": "code",
   "execution_count": 13,
   "id": "7c6dddb1",
   "metadata": {},
   "outputs": [
    {
     "data": {
      "text/plain": [
       "0.23777391434119666"
      ]
     },
     "execution_count": 13,
     "metadata": {},
     "output_type": "execute_result"
    }
   ],
   "source": [
    "fitted1.rsquared"
   ]
  },
  {
   "cell_type": "markdown",
   "id": "f13816c4",
   "metadata": {},
   "source": [
    "Para obtener una lista completa de los atributos que puede recuperar, ejecute `dir(fitted1)` (la función [**`dir()`**](https://www.geeksforgeeks.org/python-dir-function) en Python le permite inspeccionar todos los atributos de un objeto)."
   ]
  },
  {
   "cell_type": "markdown",
   "id": "02f6855a",
   "metadata": {
    "tags": [
     "3_min"
    ]
   },
   "source": [
    "## Regresión lineal múltiple\n",
    "\n",
    "Los pasos para ejecutar estas regresiones en `statsmodels` son exactamente los mismos que en el caso de la regresión simple, con un pequeño cambio en la fórmula.\n",
    "\n",
    "Este es uno de los modelos que ajustamos durante la clase:\n",
    "\n",
    "$$ PAY{\\_}YEARLY = \\beta_0 + \\beta_1 AGE{\\_}YEARS + \\beta_2 MALE{\\_}FEMALE  + \\varepsilon $$\n",
    "\n",
    "La fórmula correspondiente de `statsmodels` sería:"
   ]
  },
  {
   "cell_type": "code",
   "execution_count": null,
   "id": "0cf19869",
   "metadata": {},
   "outputs": [],
   "source": [
    "formula2 = 'pay_yearly ~ age_years + male_female'"
   ]
  },
  {
   "cell_type": "markdown",
   "id": "dc8b2ac1",
   "metadata": {},
   "source": [
    "Es decir, siempre que necesite incluir una nueva variable de entrada, la adjunta a la fórmula utilizando el símbolo `+`. Si necesita tener más de dos variables de entrada, puede seguir añadiendo símbolos `+`:\n",
    "\n",
    "~~~plain\n",
    "output_variable ~ input_variable_1 + input_variable_2 + input_variable_3 + ...\n",
    "~~~"
   ]
  },
  {
   "cell_type": "markdown",
   "id": "f4f14936",
   "metadata": {
    "tags": [
     "5_min"
    ]
   },
   "source": [
    "### Ejercicio 1\n",
    "\n",
    "#### 1.1\n",
    "\n",
    "Usando la `fórmula2` anterior, cree las variables `model2` y `fitted2` e imprima la salida de su modelo lineal."
   ]
  },
  {
   "cell_type": "markdown",
   "id": "8206dd77",
   "metadata": {
    "tags": [
     "ans_st"
    ]
   },
   "source": [
    "**R.**"
   ]
  },
  {
   "cell_type": "code",
   "execution_count": null,
   "id": "a912888a",
   "metadata": {},
   "outputs": [],
   "source": []
  },
  {
   "cell_type": "markdown",
   "id": "6c2273ac",
   "metadata": {},
   "source": [
    "-------"
   ]
  },
  {
   "cell_type": "markdown",
   "id": "96bce3b4",
   "metadata": {
    "tags": [
     "2_min"
    ]
   },
   "source": [
    "#### 1.2\n",
    "\n",
    "¿Cuál es el $R^2$? (acceda a él directamente utilizando los atributos del modelo ajustado)."
   ]
  },
  {
   "cell_type": "markdown",
   "id": "780ca375",
   "metadata": {
    "tags": [
     "ans_st"
    ]
   },
   "source": [
    "**R.**"
   ]
  },
  {
   "cell_type": "code",
   "execution_count": null,
   "id": "22b9a831",
   "metadata": {},
   "outputs": [],
   "source": []
  },
  {
   "cell_type": "markdown",
   "id": "5d9d27e3",
   "metadata": {},
   "source": [
    "-------"
   ]
  },
  {
   "cell_type": "markdown",
   "id": "f60636da",
   "metadata": {
    "tags": [
     "6_min"
    ]
   },
   "source": [
    "### Ejercicio 2\n",
    "\n",
    "Codifique el siguiente modelo:\n",
    "\n",
    "$$\n",
    "PAY{\\_}YEARLY = \\beta_0 + \\beta_1 AGE{\\_}YEARS + \\beta_2 {MALE{\\_}FEMALE} + \\beta_3 EDUCATION + \\varepsilon\n",
    "$$"
   ]
  },
  {
   "cell_type": "markdown",
   "id": "f9d99c5d",
   "metadata": {
    "tags": [
     "ans_st"
    ]
   },
   "source": [
    "**R.**"
   ]
  },
  {
   "cell_type": "code",
   "execution_count": null,
   "id": "ad50f990",
   "metadata": {},
   "outputs": [],
   "source": []
  },
  {
   "cell_type": "markdown",
   "id": "47971868",
   "metadata": {},
   "source": [
    "-------"
   ]
  },
  {
   "cell_type": "markdown",
   "id": "63c33487",
   "metadata": {
    "tags": [
     "2_min"
    ]
   },
   "source": [
    "Añadir variables categóricas al modelo es muy sencillo. No es necesario hacer nada especial: basta con incluirlas como de costumbre:"
   ]
  },
  {
   "cell_type": "code",
   "execution_count": null,
   "id": "3abb44a8",
   "metadata": {},
   "outputs": [],
   "source": [
    "formula4 = 'pay_yearly ~ job_title'\n",
    "model4 = sm.ols(formula = formula4, data = df)\n",
    "fitted4 = model4.fit()\n",
    "print(fitted4.summary())"
   ]
  },
  {
   "cell_type": "markdown",
   "id": "95d5b4b3",
   "metadata": {
    "tags": [
     "5_min"
    ]
   },
   "source": [
    "### Ejercicio 3\n",
    "\n",
    "Codifique el siguiente modelo e imprima sólo los *coeficientes*:\n",
    "\n",
    "$$\n",
    "PAY{\\_}YEARLY = \\beta_0 + \\beta_1 AGE{\\_}YEARS + \\beta_2 {MALE{\\_}FEMALE} + \\beta_3 EDUCATION + \\beta_4 JOB{\\_}TITLE + \\varepsilon\n",
    "$$"
   ]
  },
  {
   "cell_type": "markdown",
   "id": "099fcb93",
   "metadata": {
    "tags": [
     "ans_st"
    ]
   },
   "source": [
    "**R.**"
   ]
  },
  {
   "cell_type": "code",
   "execution_count": null,
   "id": "b2ab2ebe",
   "metadata": {},
   "outputs": [],
   "source": []
  },
  {
   "cell_type": "markdown",
   "id": "57a31bee",
   "metadata": {},
   "source": [
    "-------"
   ]
  }
 ],
 "metadata": {
  "c1_recart": "6.10.0-57c20131aabc1dc2a8c675852d80a7da",
  "kernelspec": {
   "display_name": "Python 3.10.6 64-bit",
   "language": "python",
   "name": "python3"
  },
  "language_info": {
   "codemirror_mode": {
    "name": "ipython",
    "version": 3
   },
   "file_extension": ".py",
   "mimetype": "text/x-python",
   "name": "python",
   "nbconvert_exporter": "python",
   "pygments_lexer": "ipython3",
   "version": "3.10.6"
  },
  "vscode": {
   "interpreter": {
    "hash": "369f2c481f4da34e4445cda3fffd2e751bd1c4d706f27375911949ba6bb62e1c"
   }
  }
 },
 "nbformat": 4,
 "nbformat_minor": 5
}
