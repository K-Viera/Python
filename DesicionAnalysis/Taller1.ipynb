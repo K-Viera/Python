{
  "nbformat": 4,
  "nbformat_minor": 0,
  "metadata": {
    "colab": {
      "name": "Untitled1.ipynb",
      "provenance": [],
      "authorship_tag": "ABX9TyORJkbNEFb1cGhUDLMlllnt",
      "include_colab_link": true
    },
    "kernelspec": {
      "name": "python3",
      "display_name": "Python 3"
    },
    "language_info": {
      "name": "python"
    }
  },
  "cells": [
    {
      "cell_type": "markdown",
      "metadata": {
        "id": "view-in-github",
        "colab_type": "text"
      },
      "source": [
        "<a href=\"https://colab.research.google.com/github/K-Viera/Python/blob/main/DesicionAnalysis/Taller1.ipynb\" target=\"_parent\"><img src=\"https://colab.research.google.com/assets/colab-badge.svg\" alt=\"Open In Colab\"/></a>"
      ]
    },
    {
      "cell_type": "code",
      "execution_count": 3,
      "metadata": {
        "id": "o9D2uyIE0fFy"
      },
      "outputs": [],
      "source": [
        "#IMPORTAR LIBRERÍAS\n",
        "import numpy as np\n",
        "import pandas as pd\n",
        "#!pip install yfinance\n",
        "import yfinance as yf\n",
        "import matplotlib.pyplot as plt"
      ]
    },
    {
      "cell_type": "markdown",
      "source": [
        "## Extraccion datos\n"
      ],
      "metadata": {
        "id": "zYrgFVnJ644o"
      }
    },
    {
      "cell_type": "code",
      "source": [
        "tickers = ['AAPL', 'GOOGL', 'META', 'BABA','F','DIS']\n",
        "datos = pd.DataFrame()\n",
        "\n",
        "for t in tickers:\n",
        "    datos[t] = yf.download(t, start = '2019-01-01')['Adj Close']"
      ],
      "metadata": {
        "colab": {
          "base_uri": "https://localhost:8080/"
        },
        "id": "ZjM9Qo4Y2Qjz",
        "outputId": "271136e7-09ed-4de2-9026-b5d038aeba3a"
      },
      "execution_count": 4,
      "outputs": [
        {
          "output_type": "stream",
          "name": "stdout",
          "text": [
            "[*********************100%***********************]  1 of 1 completed\n",
            "[*********************100%***********************]  1 of 1 completed\n",
            "[*********************100%***********************]  1 of 1 completed\n",
            "[*********************100%***********************]  1 of 1 completed\n",
            "[*********************100%***********************]  1 of 1 completed\n",
            "[*********************100%***********************]  1 of 1 completed\n"
          ]
        }
      ]
    },
    {
      "cell_type": "markdown",
      "source": [
        "## Rendimiento promedio anual"
      ],
      "metadata": {
        "id": "sWK8ObAI67TP"
      }
    },
    {
      "cell_type": "code",
      "source": [
        "serieRetornos = (datos/datos.shift(1))-1\n",
        "\n",
        "retornoAPPL = serieRetornos['AAPL'].mean() * 250\n",
        "print(f'El retorno de la acción de Apple es {round(retornoAPPL, 4) * 100}%')\n",
        "\n",
        "retornoGOOGL = serieRetornos['GOOGL'].mean() * 250\n",
        "print(f'El retorno de la acción de Google es {round(retornoGOOGL, 4) * 100}%')\n",
        "\n",
        "retornoMETA = serieRetornos['META'].mean() * 250\n",
        "print(f'El retorno de la acción de Meta es {round(retornoMETA, 4) * 100}%')\n",
        "\n",
        "retornoBABA = serieRetornos['BABA'].mean() * 250\n",
        "print(f'El retorno de la acción de Alibaba es {round(retornoBABA, 4) * 100}%')\n",
        "\n",
        "retornoF = serieRetornos['F'].mean() * 250\n",
        "print(f'El retorno de la acción de Ford es {round(retornoF, 4) * 100}%')\n",
        "\n",
        "retornoDIS = serieRetornos['DIS'].mean() * 250\n",
        "print(f'El retorno de la acción de Ford es {round(retornoDIS, 4) * 100}%')"
      ],
      "metadata": {
        "colab": {
          "base_uri": "https://localhost:8080/"
        },
        "id": "ClRgmxkm4xXC",
        "outputId": "ffe2159d-f4b6-429e-d606-8a99da105609"
      },
      "execution_count": 13,
      "outputs": [
        {
          "output_type": "stream",
          "name": "stdout",
          "text": [
            "El retorno de la acción de Apple es 46.36%\n",
            "El retorno de la acción de Google es 27.12%\n",
            "El retorno de la acción de Meta es 15.03%\n",
            "El retorno de la acción de BABA es 2.3800000000000003%\n",
            "El retorno de la acción de Ford es 31.180000000000003%\n",
            "El retorno de la acción de Ford es 5.91%\n"
          ]
        }
      ]
    },
    {
      "cell_type": "markdown",
      "source": [
        "## Portafolios\n"
      ],
      "metadata": {
        "id": "hS7rkBR37BZQ"
      }
    },
    {
      "cell_type": "code",
      "source": [
        "pesoEscenario1 = np.array([0.2, 0.2, 0.1, 0.1,0.2,0.2])\n",
        "pesoEscenario2 = np.array([0, 0, 0.05 , 0.3, 0, 0.15])\n",
        "pesoEscenario3 = np.array([0.3, 0.6, 0, 0.1,0,0])\n",
        "pesoEscenario4 = np.array([0.15, 0.15, 0.15, 0.15,0.2,0.2])\n",
        "pesoEscenario5 = np.array([0.2, 0.2, 0.1, 0.1,.02,0.2])"
      ],
      "metadata": {
        "id": "xkkstJpE7OwB"
      },
      "execution_count": 16,
      "outputs": []
    }
  ]
}