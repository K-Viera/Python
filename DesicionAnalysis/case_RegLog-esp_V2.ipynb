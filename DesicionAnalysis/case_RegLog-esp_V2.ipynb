{
 "cells": [
  {
   "cell_type": "markdown",
   "metadata": {},
   "source": [
    "# ¿Qué importancia tiene la fuente de ingresos del solicitante de un préstamo online?"
   ]
  },
  {
   "cell_type": "markdown",
   "metadata": {
    "tags": [
     "2_min"
    ]
   },
   "source": [
    "## Objetivos\n",
    "\n",
    "Al final de este caso, estará familiarizado con la regresión logística. En concreto, aprenderá a realizar e interpretar los coeficientes de un modelo de regresión logística para obtener información sobre su problema.\n",
    "\n",
    "Durante el estudio del caso, se le presentará la regresión logística como medio para probar una hipótesis. A continuación, validará esta hipótesis convirtiendo la regresión logística en un clasificador y midiendo su rendimiento. La comprensión de la teoría y la interpretación de la regresión logística es una herramienta vital en el ámbito de la ciencia de datos, especialmente en la clasificación."
   ]
  },
  {
   "cell_type": "markdown",
   "metadata": {
    "tags": [
     "5_min"
    ]
   },
   "source": [
    "## Introducción"
   ]
  },
  {
   "cell_type": "markdown",
   "metadata": {},
   "source": [
    "**Contexto empresarial.** Los préstamos en línea entre iguales (P2P) han facilitado la práctica de los préstamos. En esta forma de préstamo, no hay entrevista en persona y un prestatario puede simplemente rellenar un formulario en línea y obtener la aprobación de un préstamo. La información proporcionada únicamente por el prestatario es propensa a la exageración y la distorsión, especialmente cuando se trata de los ingresos. Todas las empresas de préstamos P2P se basan en un procedimiento bien diseñado que rechaza a los prestatarios con una alta probabilidad de no pagar sus deudas.\n",
    "\n",
    "Rechazar a cualquiera que no tenga una fuente de ingresos verificada es una política relevante que las plataformas de préstamo pueden poner en marcha para ayudar a reducir la tasa de préstamos fallidos. Es natural sospechar que si no se puede verificar la fuente de ingresos de una persona, ésta podría no pagar el préstamo. Sin embargo, desde el punto de vista del prestatario, el proceso de verificación puede ser engorroso y llevar mucho tiempo, por lo que es posible que se cambie a otra plataforma debido a este inconveniente. \n",
    "\n",
    "**Problema empresarial.** Como científico de datos en una empresa emergente de préstamos P2P, debe responder a la siguiente pregunta: **\"¿Debe la empresa verificar la fuente de ingresos de un solicitante de préstamo online antes de aprobar su préstamo? \"**\n",
    "\n",
    "**Contexto analítico.**  Los datos se han descargado de [LendingClub (LC) Statistics] (https://www.lendingclub.com/info/download-data.action) y contienen todos los préstamos emitidos entre 2007 y 2012 junto con su estado actual (totalmente pagados o cancelados). Hay ~50 variables que describen a los prestatarios y los préstamos; en aras de reducir la complejidad, la empresa ya ha realizado una preselección de estas variables basándose en los análisis existentes de LendingClub para seleccionar nueve variables relevantes, como los ingresos anuales, el grado de crédito de LendingClub, la propiedad de la vivienda, etc. Utilizaremos una nueva técnica, la **regresión logística**, para responder a nuestra pregunta.\n",
    "\n",
    "El caso está estructurado de la siguiente manera:\n",
    " 1. explorar los datos existentes para tener una idea aproximada de cómo interactúa cada variable del conjunto de datos con el estado actual del préstamo\n",
    " 2. buscar los posibles efectos de confusión\n",
    " 3. aprender los fundamentos de los modelos de regresión logística y, por último\n",
    " 4. ajustar una serie de modelos de regresión logística para determinar si la verificación de la fuente de ingresos es o no significativa."
   ]
  },
  {
   "cell_type": "code",
   "execution_count": 1,
   "metadata": {},
   "outputs": [],
   "source": [
    "# Load packages\n",
    "\n",
    "import matplotlib.pyplot as plt\n",
    "import numpy  as np\n",
    "import pandas as pd\n",
    "import seaborn as sns\n",
    "import statsmodels.api as sm\n",
    "import statsmodels.formula.api as sfm\n",
    "\n",
    "from matplotlib.widgets import Slider, Button, RadioButtons\n",
    "from scipy import interp\n",
    "from scipy.optimize import fsolve\n",
    "from scipy.stats import chi2_contingency, ttest_ind\n",
    "from sklearn.metrics import roc_curve, auc\n",
    "from sklearn.model_selection import StratifiedKFold\n",
    "from statsmodels.formula.api import ols\n",
    "\n",
    "\n",
    "from IPython.display import display_html"
   ]
  },
  {
   "cell_type": "markdown",
   "metadata": {
    "tags": [
     "35_min"
    ]
   },
   "source": [
    "## Exploración de datos\n",
    "\n",
    "Antes de comenzar nuestro análisis exploratorio, echemos un vistazo a los datos que tenemos a nuestra disposición:"
   ]
  },
  {
   "cell_type": "code",
   "execution_count": 4,
   "metadata": {},
   "outputs": [],
   "source": [
    "#Load the data\n",
    "df = pd.read_csv('Lending_club_cleaned_2.csv')\n",
    "\n",
    "#Change loan_status, verification_status, emp_length, term and grade to category type \n",
    "df.loan_status = df.loan_status.astype(pd.api.types.CategoricalDtype(categories=['Charged Off', 'Fully Paid']))\n",
    "df.verification_status = df.verification_status.astype(pd.api.types.CategoricalDtype(categories=['Not Verified', 'Source Verified', 'Verified']))\n",
    "df.emp_length = df.emp_length.astype(pd.api.types.CategoricalDtype(categories=['< 1 year', '1 year', '2 years', '3 years', '4 years', \\\n",
    "                                                             '5 years', '6 years', '7 years', '8 years', '9 years', \\\n",
    "                                                             '10+ years']))\n",
    "df.home_ownership = df.home_ownership.astype(pd.api.types.CategoricalDtype(categories=['RENT','MORTGAGE','OWN','OTHER']))\n",
    "df.term = df.term.astype(pd.api.types.CategoricalDtype(categories=[' 36 months', ' 60 months']))\n",
    "df.grade = df.grade.astype(pd.api.types.CategoricalDtype(categories=['A','B','C','D','E','F','G']))\n",
    "\n",
    "#In addition, the original data in int_rate contains strings of the form 'x.xx%',\n",
    "#we remove the % and change the vaules to float:\n",
    "df.int_rate = df.int_rate.str.rstrip('%').astype('float')"
   ]
  },
  {
   "cell_type": "code",
   "execution_count": 5,
   "metadata": {},
   "outputs": [
    {
     "data": {
      "text/plain": [
       "(38705, 10)"
      ]
     },
     "execution_count": 5,
     "metadata": {},
     "output_type": "execute_result"
    }
   ],
   "source": [
    "df.shape"
   ]
  },
  {
   "cell_type": "code",
   "execution_count": 6,
   "metadata": {},
   "outputs": [
    {
     "data": {
      "text/html": [
       "<div>\n",
       "<style scoped>\n",
       "    .dataframe tbody tr th:only-of-type {\n",
       "        vertical-align: middle;\n",
       "    }\n",
       "\n",
       "    .dataframe tbody tr th {\n",
       "        vertical-align: top;\n",
       "    }\n",
       "\n",
       "    .dataframe thead th {\n",
       "        text-align: right;\n",
       "    }\n",
       "</style>\n",
       "<table border=\"1\" class=\"dataframe\">\n",
       "  <thead>\n",
       "    <tr style=\"text-align: right;\">\n",
       "      <th></th>\n",
       "      <th>loan_status</th>\n",
       "      <th>annual_inc</th>\n",
       "      <th>verification_status</th>\n",
       "      <th>emp_length</th>\n",
       "      <th>home_ownership</th>\n",
       "      <th>int_rate</th>\n",
       "      <th>loan_amnt</th>\n",
       "      <th>purpose</th>\n",
       "      <th>term</th>\n",
       "      <th>grade</th>\n",
       "    </tr>\n",
       "  </thead>\n",
       "  <tbody>\n",
       "    <tr>\n",
       "      <th>0</th>\n",
       "      <td>Fully Paid</td>\n",
       "      <td>24000.0</td>\n",
       "      <td>Verified</td>\n",
       "      <td>10+ years</td>\n",
       "      <td>RENT</td>\n",
       "      <td>10.65</td>\n",
       "      <td>5000</td>\n",
       "      <td>credit_card</td>\n",
       "      <td>36 months</td>\n",
       "      <td>B</td>\n",
       "    </tr>\n",
       "    <tr>\n",
       "      <th>1</th>\n",
       "      <td>Charged Off</td>\n",
       "      <td>30000.0</td>\n",
       "      <td>Source Verified</td>\n",
       "      <td>&lt; 1 year</td>\n",
       "      <td>RENT</td>\n",
       "      <td>15.27</td>\n",
       "      <td>2500</td>\n",
       "      <td>car</td>\n",
       "      <td>60 months</td>\n",
       "      <td>C</td>\n",
       "    </tr>\n",
       "    <tr>\n",
       "      <th>2</th>\n",
       "      <td>Fully Paid</td>\n",
       "      <td>12252.0</td>\n",
       "      <td>Not Verified</td>\n",
       "      <td>10+ years</td>\n",
       "      <td>RENT</td>\n",
       "      <td>15.96</td>\n",
       "      <td>2400</td>\n",
       "      <td>small_business</td>\n",
       "      <td>36 months</td>\n",
       "      <td>C</td>\n",
       "    </tr>\n",
       "    <tr>\n",
       "      <th>3</th>\n",
       "      <td>Fully Paid</td>\n",
       "      <td>49200.0</td>\n",
       "      <td>Source Verified</td>\n",
       "      <td>10+ years</td>\n",
       "      <td>RENT</td>\n",
       "      <td>13.49</td>\n",
       "      <td>10000</td>\n",
       "      <td>other</td>\n",
       "      <td>36 months</td>\n",
       "      <td>C</td>\n",
       "    </tr>\n",
       "    <tr>\n",
       "      <th>4</th>\n",
       "      <td>Fully Paid</td>\n",
       "      <td>80000.0</td>\n",
       "      <td>Source Verified</td>\n",
       "      <td>1 year</td>\n",
       "      <td>RENT</td>\n",
       "      <td>12.69</td>\n",
       "      <td>3000</td>\n",
       "      <td>other</td>\n",
       "      <td>60 months</td>\n",
       "      <td>B</td>\n",
       "    </tr>\n",
       "    <tr>\n",
       "      <th>5</th>\n",
       "      <td>Fully Paid</td>\n",
       "      <td>36000.0</td>\n",
       "      <td>Source Verified</td>\n",
       "      <td>3 years</td>\n",
       "      <td>RENT</td>\n",
       "      <td>7.90</td>\n",
       "      <td>5000</td>\n",
       "      <td>wedding</td>\n",
       "      <td>36 months</td>\n",
       "      <td>A</td>\n",
       "    </tr>\n",
       "    <tr>\n",
       "      <th>6</th>\n",
       "      <td>Fully Paid</td>\n",
       "      <td>47004.0</td>\n",
       "      <td>Not Verified</td>\n",
       "      <td>8 years</td>\n",
       "      <td>RENT</td>\n",
       "      <td>15.96</td>\n",
       "      <td>7000</td>\n",
       "      <td>debt_consolidation</td>\n",
       "      <td>60 months</td>\n",
       "      <td>C</td>\n",
       "    </tr>\n",
       "    <tr>\n",
       "      <th>7</th>\n",
       "      <td>Fully Paid</td>\n",
       "      <td>48000.0</td>\n",
       "      <td>Source Verified</td>\n",
       "      <td>9 years</td>\n",
       "      <td>RENT</td>\n",
       "      <td>18.64</td>\n",
       "      <td>3000</td>\n",
       "      <td>car</td>\n",
       "      <td>36 months</td>\n",
       "      <td>E</td>\n",
       "    </tr>\n",
       "    <tr>\n",
       "      <th>8</th>\n",
       "      <td>Charged Off</td>\n",
       "      <td>40000.0</td>\n",
       "      <td>Source Verified</td>\n",
       "      <td>4 years</td>\n",
       "      <td>OWN</td>\n",
       "      <td>21.28</td>\n",
       "      <td>5600</td>\n",
       "      <td>small_business</td>\n",
       "      <td>60 months</td>\n",
       "      <td>F</td>\n",
       "    </tr>\n",
       "    <tr>\n",
       "      <th>9</th>\n",
       "      <td>Charged Off</td>\n",
       "      <td>15000.0</td>\n",
       "      <td>Verified</td>\n",
       "      <td>&lt; 1 year</td>\n",
       "      <td>RENT</td>\n",
       "      <td>12.69</td>\n",
       "      <td>5375</td>\n",
       "      <td>other</td>\n",
       "      <td>60 months</td>\n",
       "      <td>B</td>\n",
       "    </tr>\n",
       "  </tbody>\n",
       "</table>\n",
       "</div>"
      ],
      "text/plain": [
       "   loan_status  annual_inc verification_status emp_length home_ownership  \\\n",
       "0   Fully Paid     24000.0            Verified  10+ years           RENT   \n",
       "1  Charged Off     30000.0     Source Verified   < 1 year           RENT   \n",
       "2   Fully Paid     12252.0        Not Verified  10+ years           RENT   \n",
       "3   Fully Paid     49200.0     Source Verified  10+ years           RENT   \n",
       "4   Fully Paid     80000.0     Source Verified     1 year           RENT   \n",
       "5   Fully Paid     36000.0     Source Verified    3 years           RENT   \n",
       "6   Fully Paid     47004.0        Not Verified    8 years           RENT   \n",
       "7   Fully Paid     48000.0     Source Verified    9 years           RENT   \n",
       "8  Charged Off     40000.0     Source Verified    4 years            OWN   \n",
       "9  Charged Off     15000.0            Verified   < 1 year           RENT   \n",
       "\n",
       "   int_rate  loan_amnt             purpose        term grade  \n",
       "0     10.65       5000         credit_card   36 months     B  \n",
       "1     15.27       2500                 car   60 months     C  \n",
       "2     15.96       2400      small_business   36 months     C  \n",
       "3     13.49      10000               other   36 months     C  \n",
       "4     12.69       3000               other   60 months     B  \n",
       "5      7.90       5000             wedding   36 months     A  \n",
       "6     15.96       7000  debt_consolidation   60 months     C  \n",
       "7     18.64       3000                 car   36 months     E  \n",
       "8     21.28       5600      small_business   60 months     F  \n",
       "9     12.69       5375               other   60 months     B  "
      ]
     },
     "execution_count": 6,
     "metadata": {},
     "output_type": "execute_result"
    }
   ],
   "source": [
    "df.head(10)"
   ]
  },
  {
   "cell_type": "markdown",
   "metadata": {},
   "source": [
    "Tenemos 38705 registros de transacciones pasadas en este conjunto de datos. Cada registro corresponde a un préstamo aprobado. La primera columna indica si el prestatario pagó el préstamo (totalmente pagado) o no (cargado). Las descripciones de las otras nueve columnas son las siguientes:"
   ]
  },
  {
   "cell_type": "markdown",
   "metadata": {},
   "source": [
    "|      annual_inc     |                                                 The self-reported annual income provided by the borrower during registration.                                                |\n",
    "|:-------------------:|:----------------------------------------------------------------------------------------------------------------------------------------------------------------------------:|\n",
    "| verification_status |                                          Indicates if income was verified by LC, not verified, or if the income source was verified                                          |\n",
    "|      emp_length     |                       Employment length in years. Possible values are between 0 and 10 where 0 means less than one year and 10 means ten or more years.                      |\n",
    "|    home_ownership   |             The home ownership status provided by the borrower during registration or obtained from the credit report. Our values are: RENT, OWN, MORTGAGE, OTHER            |\n",
    "|       int_rate      |                                                                           Interest Rate on the loan                                                                          |\n",
    "|      loan_amnt      | The listed amount of the loan applied for by the borrower. If at some point in time, the credit department reduces the loan amount, then it will be reflected in this value. |\n",
    "|       purpose       |                                                           A category provided by the borrower for the loan request.                                                          |\n",
    "|         term        |                                             The number of payments on the loan. Values are in months and can be either 36 or 60.                                             |\n",
    "|        grade        |                                                                            LC assigned loan grade                                                                            |"
   ]
  },
  {
   "cell_type": "markdown",
   "metadata": {
    "tags": [
     "20_min"
    ]
   },
   "source": [
    "### Relaciones entre `loan_status` y otras variables"
   ]
  },
  {
   "cell_type": "markdown",
   "metadata": {},
   "source": [
    "En primer lugar, realizamos un EDA para examinar la relación por pares entre \"estado del préstamo\" y cada una de las demás variables. En el conjunto de datos tenemos variables discretas y continuas. Empecemos a explorar las variables `anual_inc`, `int_rate` y `loan_amnt` en los usuarios que pagaron totalmente sus deudas frente a los que no lo hicieron:"
   ]
  },
  {
   "cell_type": "code",
   "execution_count": 7,
   "metadata": {},
   "outputs": [
    {
     "data": {
      "text/plain": [
       "<AxesSubplot:xlabel='loan_status', ylabel='loan_amnt'>"
      ]
     },
     "execution_count": 7,
     "metadata": {},
     "output_type": "execute_result"
    },
    {
     "data": {
      "image/png": "[encoded data removed]",
      "text/plain": [
       "<Figure size 1800x800 with 3 Axes>"
      ]
     },
     "metadata": {},
     "output_type": "display_data"
    }
   ],
   "source": [
    "fig, ax=plt.subplots(1,3, figsize=(18,8))\n",
    "sns.boxplot(y='annual_inc', x='loan_status', data=df, ax=ax[0]).set_yscale('log')\n",
    "sns.boxplot(y='int_rate', x ='loan_status', data = df, ax=ax[1])\n",
    "sns.boxplot(y='loan_amnt', x='loan_status', data=df, ax=ax[2])"
   ]
  },
  {
   "cell_type": "markdown",
   "metadata": {
    "tags": [
     "7_min"
    ]
   },
   "source": [
    "### Ejercicio 1:"
   ]
  },
  {
   "cell_type": "markdown",
   "metadata": {
    "tags": [
     "3_min"
    ]
   },
   "source": [
    "#### 1.1\n",
    "\n",
    "¿Qué observas en los gráficos de caja anteriores? "
   ]
  },
  {
   "cell_type": "markdown",
   "metadata": {
    "tags": [
     "4_min"
    ]
   },
   "source": [
    "#### 1.2\n",
    "\n",
    "Considere la afirmación:\n",
    "\n",
    "> \"A partir de estos gráficos podemos concluir que los ingresos anuales no desempeñan un papel significativo a la hora de decidir si un usuario va a devolver o no su préstamo.\"\n",
    "\n",
    "¿Cree que esta afirmación es correcta? ¿Cómo intentarías comprobarlo? "
   ]
  },
  {
   "cell_type": "code",
   "execution_count": 11,
   "metadata": {},
   "outputs": [
    {
     "data": {
      "text/plain": [
       "1.9075011302588803e-14"
      ]
     },
     "execution_count": 11,
     "metadata": {},
     "output_type": "execute_result"
    }
   ],
   "source": [
    "a=df[df['loan_status']==\"Charged Off\"]['annual_inc']\n",
    "b=df[df['loan_status']==\"Fully Paid\"]['annual_inc']\n",
    "T,p=ttest_ind(a,b)\n",
    "p"
   ]
  },
  {
   "cell_type": "markdown",
   "metadata": {},
   "source": [
    "Podemos utilizar tablas de contingencia para examinar la relación entre dos variables discretas. Se puede realizar una prueba de chi-cuadrado basada en la tabla de contingencia para verificar si la relación observada es estadísticamente significativa. La siguiente función genera la tabla de contingencia entre `estado_de_préstamo` y otra variable dada llamada `var`:"
   ]
  },
  {
   "cell_type": "code",
   "execution_count": 12,
   "metadata": {},
   "outputs": [],
   "source": [
    "def get_ct(df, var):\n",
    "    ct_res = pd.crosstab(df[var], df['loan_status'], margins=True)\n",
    "    ct_res['Fully Paid(%)'] = round( ct_res['Fully Paid']/ct_res['All']*100, 2)\n",
    "    return ct_res.drop(columns='All')"
   ]
  },
  {
   "cell_type": "markdown",
   "metadata": {},
   "source": [
    "Por ejemplo, calculemos la tabla de contingencia de `estado_de_préstamo` frente a `estado_de_verificación`:"
   ]
  },
  {
   "cell_type": "code",
   "execution_count": 13,
   "metadata": {},
   "outputs": [
    {
     "data": {
      "text/html": [
       "<div>\n",
       "<style scoped>\n",
       "    .dataframe tbody tr th:only-of-type {\n",
       "        vertical-align: middle;\n",
       "    }\n",
       "\n",
       "    .dataframe tbody tr th {\n",
       "        vertical-align: top;\n",
       "    }\n",
       "\n",
       "    .dataframe thead th {\n",
       "        text-align: right;\n",
       "    }\n",
       "</style>\n",
       "<table border=\"1\" class=\"dataframe\">\n",
       "  <thead>\n",
       "    <tr style=\"text-align: right;\">\n",
       "      <th>loan_status</th>\n",
       "      <th>Charged Off</th>\n",
       "      <th>Fully Paid</th>\n",
       "      <th>Fully Paid(%)</th>\n",
       "    </tr>\n",
       "    <tr>\n",
       "      <th>verification_status</th>\n",
       "      <th></th>\n",
       "      <th></th>\n",
       "      <th></th>\n",
       "    </tr>\n",
       "  </thead>\n",
       "  <tbody>\n",
       "    <tr>\n",
       "      <th>Not Verified</th>\n",
       "      <td>2050</td>\n",
       "      <td>14449</td>\n",
       "      <td>87.58</td>\n",
       "    </tr>\n",
       "    <tr>\n",
       "      <th>Source Verified</th>\n",
       "      <td>1413</td>\n",
       "      <td>8406</td>\n",
       "      <td>85.61</td>\n",
       "    </tr>\n",
       "    <tr>\n",
       "      <th>Verified</th>\n",
       "      <td>1977</td>\n",
       "      <td>10410</td>\n",
       "      <td>84.04</td>\n",
       "    </tr>\n",
       "    <tr>\n",
       "      <th>All</th>\n",
       "      <td>5440</td>\n",
       "      <td>33265</td>\n",
       "      <td>85.94</td>\n",
       "    </tr>\n",
       "  </tbody>\n",
       "</table>\n",
       "</div>"
      ],
      "text/plain": [
       "loan_status          Charged Off  Fully Paid  Fully Paid(%)\n",
       "verification_status                                        \n",
       "Not Verified                2050       14449          87.58\n",
       "Source Verified             1413        8406          85.61\n",
       "Verified                    1977       10410          84.04\n",
       "All                         5440       33265          85.94"
      ]
     },
     "execution_count": 13,
     "metadata": {},
     "output_type": "execute_result"
    }
   ],
   "source": [
    "get_ct(df, 'verification_status')"
   ]
  },
  {
   "cell_type": "markdown",
   "metadata": {
    "tags": [
     "12_min"
    ]
   },
   "source": [
    "### Ejercicio 2:\n",
    "\n"
   ]
  },
  {
   "cell_type": "markdown",
   "metadata": {
    "tags": [
     "4_min"
    ]
   },
   "source": [
    "#### 2.1\n",
    "\n",
    "¿Qué se desprende del cuadro anterior? ¿Podemos concluir que la verificación de la fuente de ingresos no es necesaria para nuestro cliente?"
   ]
  },
  {
   "cell_type": "markdown",
   "metadata": {
    "tags": [
     "ans_st"
    ]
   },
   "source": [
    "**Answer.** One possible solution is shown below:\n",
    "\n",
    "From the table, `verification_status` seems to have a counter-intuitive association with `loan_status` - the less reliable the income information is, the more likely a user would fully repay the debt, as reflected by the decreasing trend of fully paid proportions when `verification_status increases` trends from not verified to fully verified. At first glance, this indicates that source verification may be a waste of money for the client. However, we must be careful with our conclusions as this table is not taking into account other possible factors that may have an effect on users paying off their debts. For instance, it may be the case that a considerable portion of loans with smaller interest rates were given to non-verified users, which made it easier to pay off the loan."
   ]
  },
  {
   "cell_type": "markdown",
   "metadata": {
    "tags": [
     "4_min"
    ]
   },
   "source": [
    "#### 2.2\n",
    "\n",
    "Utilice una prueba de chi-cuadrado para verificar si las asociaciones observadas entre \"estado de verificación\" y \"estado de préstamo\" son estadísticamente significativas.\n",
    "\n",
    "**Sugerencia:** Utilice `chi2, p, dof, ex=chi2_contingency(pd.crosstab(index=x,columns=y))` para realizar una prueba de chi-cuadrado para un par de datos dado `x, y`."
   ]
  },
  {
   "cell_type": "markdown",
   "metadata": {
    "tags": [
     "ans_st"
    ]
   },
   "source": [
    "**Una posible solución se muestra a continuación:"
   ]
  },
  {
   "cell_type": "code",
   "execution_count": 14,
   "metadata": {
    "tags": [
     "ans_cell"
    ]
   },
   "outputs": [
    {
     "name": "stdout",
     "output_type": "stream",
     "text": [
      "verification_status: p-value of chisquare test = 6.884998281535999e-17\n"
     ]
    }
   ],
   "source": [
    "chi2, p, dof, ex = chi2_contingency(pd.crosstab(index=df['verification_status'], columns=df['loan_status']))\n",
    "print('verification_status: p-value of chisquare test =', p)"
   ]
  },
  {
   "cell_type": "markdown",
   "metadata": {
    "tags": [
     "ans_cell"
    ]
   },
   "source": [
    "La prueba de chi-cuadrado verifica que las asociaciones entre \"estado de verificación\" y \"estado de préstamo\" son realmente significativas desde el punto de vista estadístico."
   ]
  },
  {
   "cell_type": "markdown",
   "metadata": {
    "tags": [
     "4_min"
    ]
   },
   "source": [
    "#### 2.3\n",
    "\n",
    "Considere las siguientes afirmaciones:\n",
    "\n",
    "> I. \"Dado que la prueba de chi-cuadrado para la tabla de contingencia de `estado_de_verificación` frente a `estado_de_préstamo` es significativa, la tendencia decreciente de la probabilidad de pago no es probable que se deba al azar\".\n",
    "\n",
    "> II. \"Dado que existe una diferencia significativa entre la probabilidad de pago total en los usuarios sin ingresos verificados y los usuarios con ingresos verificados según la prueba de chi-cuadrado, deberíamos aplicar siempre la verificación de ingresos.\"\n",
    "\n",
    "¿Son correctas las afirmaciones?"
   ]
  },
  {
   "cell_type": "markdown",
   "metadata": {
    "tags": [
     "ans_st"
    ]
   },
   "source": [
    "**Answer.** One possible solution is shown below:\n",
    "\n",
    "Statement I is not correct. The chi-sqaure test is not a trend test, it only suggests that there is significant difference in the probability of pay-off among the three levels of `verification_status`, but it cannot further verify that the differences form a specific trend.\n",
    "\n",
    "Statement II is not correct since it implies a causal relationship between `verification_status` and `loan_status`. There is not enough evidence to deduce this, and we should first assess if there are potential confounding variables like we did in previous cases before making such a strong conclusion."
   ]
  },
  {
   "cell_type": "markdown",
   "metadata": {
    "tags": [
     "15_min"
    ]
   },
   "source": [
    "### Tablas de contigencia estratificadas de `estado_de_verificación` frente a `estado_de_préstamo`\n",
    "\n",
    "Como vimos en el ejercicio anterior, tenemos que ajustar por otras variables para eliminar posibles impactos de confusión. Si queremos saber si el `estado de la verificación` está realmente asociado con el `estado del préstamo` como indica la tabla de contigencia anterior, debemos considerar la estratificación de la tabla de contingencia entre el `estado del préstamo` y el `estado de la verificación` por otras variables que también están asociadas con el `estado del préstamo`."
   ]
  },
  {
   "cell_type": "markdown",
   "metadata": {
    "tags": [
     "10_min"
    ]
   },
   "source": [
    "### Ejercicio 3:\n",
    "\n",
    "Escriba una función que genere una tabla de contingencia para `estado de verificación` frente a `estado de préstamo` estratificada por la `stra_var`, el argumento de la función. Asegúrese de incluir una columna para la proporción de usuarios totalmente pagados en cada nivel de \"estado de verificación\". Utilice esta función para examinar la relación entre el \"estado de verificación\" y el \"estado de los préstamos\" cuando se ajuste por la \"propiedad de la vivienda\" y el \"plazo\". ¿Seguimos viendo la misma tendencia a través de los diferentes niveles de \"propiedad de la vivienda\" y \"plazo\"?\n",
    "\n",
    "**Sugerencia:** Cuando se utiliza el parámetro `index` de `pd.crosstab()` con dos variables, la tabla de contingencia se estratifica por la primera variable en `index`."
   ]
  },
  {
   "cell_type": "markdown",
   "metadata": {
    "tags": [
     "ans_st"
    ]
   },
   "source": [
    "**Una posible solución se muestra a continuación:"
   ]
  },
  {
   "cell_type": "code",
   "execution_count": 15,
   "metadata": {
    "tags": [
     "ans_cell"
    ]
   },
   "outputs": [],
   "source": [
    "def get_ct_stra(stra_var):\n",
    "    ct_stra = pd.crosstab(index=[stra_var,df.verification_status], columns = df.loan_status, margins = True)\n",
    "    ct_stra['Fully Paid (%)'] = round(ct_stra['Fully Paid']/ct_stra['All']*100,2)\n",
    "    return ct_stra.drop(columns='All').drop('All', level=0)"
   ]
  },
  {
   "cell_type": "code",
   "execution_count": 16,
   "metadata": {
    "tags": [
     "ans_cell"
    ]
   },
   "outputs": [
    {
     "data": {
      "text/html": [
       "<div>\n",
       "<style scoped>\n",
       "    .dataframe tbody tr th:only-of-type {\n",
       "        vertical-align: middle;\n",
       "    }\n",
       "\n",
       "    .dataframe tbody tr th {\n",
       "        vertical-align: top;\n",
       "    }\n",
       "\n",
       "    .dataframe thead th {\n",
       "        text-align: right;\n",
       "    }\n",
       "</style>\n",
       "<table border=\"1\" class=\"dataframe\">\n",
       "  <thead>\n",
       "    <tr style=\"text-align: right;\">\n",
       "      <th></th>\n",
       "      <th>loan_status</th>\n",
       "      <th>Charged Off</th>\n",
       "      <th>Fully Paid</th>\n",
       "      <th>Fully Paid (%)</th>\n",
       "    </tr>\n",
       "    <tr>\n",
       "      <th>home_ownership</th>\n",
       "      <th>verification_status</th>\n",
       "      <th></th>\n",
       "      <th></th>\n",
       "      <th></th>\n",
       "    </tr>\n",
       "  </thead>\n",
       "  <tbody>\n",
       "    <tr>\n",
       "      <th rowspan=\"3\" valign=\"top\">RENT</th>\n",
       "      <th>Not Verified</th>\n",
       "      <td>1072</td>\n",
       "      <td>7133</td>\n",
       "      <td>86.93</td>\n",
       "    </tr>\n",
       "    <tr>\n",
       "      <th>Source Verified</th>\n",
       "      <td>815</td>\n",
       "      <td>4332</td>\n",
       "      <td>84.17</td>\n",
       "    </tr>\n",
       "    <tr>\n",
       "      <th>Verified</th>\n",
       "      <td>865</td>\n",
       "      <td>4290</td>\n",
       "      <td>83.22</td>\n",
       "    </tr>\n",
       "    <tr>\n",
       "      <th rowspan=\"3\" valign=\"top\">MORTGAGE</th>\n",
       "      <th>Not Verified</th>\n",
       "      <td>798</td>\n",
       "      <td>6064</td>\n",
       "      <td>88.37</td>\n",
       "    </tr>\n",
       "    <tr>\n",
       "      <th>Source Verified</th>\n",
       "      <td>487</td>\n",
       "      <td>3443</td>\n",
       "      <td>87.61</td>\n",
       "    </tr>\n",
       "    <tr>\n",
       "      <th>Verified</th>\n",
       "      <td>983</td>\n",
       "      <td>5480</td>\n",
       "      <td>84.79</td>\n",
       "    </tr>\n",
       "    <tr>\n",
       "      <th rowspan=\"3\" valign=\"top\">OWN</th>\n",
       "      <th>Not Verified</th>\n",
       "      <td>170</td>\n",
       "      <td>1210</td>\n",
       "      <td>87.68</td>\n",
       "    </tr>\n",
       "    <tr>\n",
       "      <th>Source Verified</th>\n",
       "      <td>110</td>\n",
       "      <td>622</td>\n",
       "      <td>84.97</td>\n",
       "    </tr>\n",
       "    <tr>\n",
       "      <th>Verified</th>\n",
       "      <td>122</td>\n",
       "      <td>611</td>\n",
       "      <td>83.36</td>\n",
       "    </tr>\n",
       "    <tr>\n",
       "      <th rowspan=\"3\" valign=\"top\">OTHER</th>\n",
       "      <th>Not Verified</th>\n",
       "      <td>10</td>\n",
       "      <td>42</td>\n",
       "      <td>80.77</td>\n",
       "    </tr>\n",
       "    <tr>\n",
       "      <th>Source Verified</th>\n",
       "      <td>1</td>\n",
       "      <td>9</td>\n",
       "      <td>90.00</td>\n",
       "    </tr>\n",
       "    <tr>\n",
       "      <th>Verified</th>\n",
       "      <td>7</td>\n",
       "      <td>29</td>\n",
       "      <td>80.56</td>\n",
       "    </tr>\n",
       "  </tbody>\n",
       "</table>\n",
       "</div>"
      ],
      "text/plain": [
       "loan_status                         Charged Off  Fully Paid  Fully Paid (%)\n",
       "home_ownership verification_status                                         \n",
       "RENT           Not Verified                1072        7133           86.93\n",
       "               Source Verified              815        4332           84.17\n",
       "               Verified                     865        4290           83.22\n",
       "MORTGAGE       Not Verified                 798        6064           88.37\n",
       "               Source Verified              487        3443           87.61\n",
       "               Verified                     983        5480           84.79\n",
       "OWN            Not Verified                 170        1210           87.68\n",
       "               Source Verified              110         622           84.97\n",
       "               Verified                     122         611           83.36\n",
       "OTHER          Not Verified                  10          42           80.77\n",
       "               Source Verified                1           9           90.00\n",
       "               Verified                       7          29           80.56"
      ]
     },
     "execution_count": 16,
     "metadata": {},
     "output_type": "execute_result"
    }
   ],
   "source": [
    "get_ct_stra(df.home_ownership)"
   ]
  },
  {
   "cell_type": "code",
   "execution_count": 17,
   "metadata": {
    "tags": [
     "ans_cell"
    ]
   },
   "outputs": [
    {
     "data": {
      "text/html": [
       "<div>\n",
       "<style scoped>\n",
       "    .dataframe tbody tr th:only-of-type {\n",
       "        vertical-align: middle;\n",
       "    }\n",
       "\n",
       "    .dataframe tbody tr th {\n",
       "        vertical-align: top;\n",
       "    }\n",
       "\n",
       "    .dataframe thead th {\n",
       "        text-align: right;\n",
       "    }\n",
       "</style>\n",
       "<table border=\"1\" class=\"dataframe\">\n",
       "  <thead>\n",
       "    <tr style=\"text-align: right;\">\n",
       "      <th></th>\n",
       "      <th>loan_status</th>\n",
       "      <th>Charged Off</th>\n",
       "      <th>Fully Paid</th>\n",
       "      <th>Fully Paid (%)</th>\n",
       "    </tr>\n",
       "    <tr>\n",
       "      <th>term</th>\n",
       "      <th>verification_status</th>\n",
       "      <th></th>\n",
       "      <th></th>\n",
       "      <th></th>\n",
       "    </tr>\n",
       "  </thead>\n",
       "  <tbody>\n",
       "    <tr>\n",
       "      <th rowspan=\"3\" valign=\"top\">36 months</th>\n",
       "      <th>Not Verified</th>\n",
       "      <td>1580</td>\n",
       "      <td>12574</td>\n",
       "      <td>88.84</td>\n",
       "    </tr>\n",
       "    <tr>\n",
       "      <th>Source Verified</th>\n",
       "      <td>688</td>\n",
       "      <td>6132</td>\n",
       "      <td>89.91</td>\n",
       "    </tr>\n",
       "    <tr>\n",
       "      <th>Verified</th>\n",
       "      <td>805</td>\n",
       "      <td>6505</td>\n",
       "      <td>88.99</td>\n",
       "    </tr>\n",
       "    <tr>\n",
       "      <th rowspan=\"3\" valign=\"top\">60 months</th>\n",
       "      <th>Not Verified</th>\n",
       "      <td>470</td>\n",
       "      <td>1875</td>\n",
       "      <td>79.96</td>\n",
       "    </tr>\n",
       "    <tr>\n",
       "      <th>Source Verified</th>\n",
       "      <td>725</td>\n",
       "      <td>2274</td>\n",
       "      <td>75.83</td>\n",
       "    </tr>\n",
       "    <tr>\n",
       "      <th>Verified</th>\n",
       "      <td>1172</td>\n",
       "      <td>3905</td>\n",
       "      <td>76.92</td>\n",
       "    </tr>\n",
       "  </tbody>\n",
       "</table>\n",
       "</div>"
      ],
      "text/plain": [
       "loan_status                     Charged Off  Fully Paid  Fully Paid (%)\n",
       "term       verification_status                                         \n",
       " 36 months Not Verified                1580       12574           88.84\n",
       "           Source Verified              688        6132           89.91\n",
       "           Verified                     805        6505           88.99\n",
       " 60 months Not Verified                 470        1875           79.96\n",
       "           Source Verified              725        2274           75.83\n",
       "           Verified                    1172        3905           76.92"
      ]
     },
     "execution_count": 17,
     "metadata": {},
     "output_type": "execute_result"
    }
   ],
   "source": [
    "get_ct_stra(df.term)"
   ]
  },
  {
   "cell_type": "markdown",
   "metadata": {
    "tags": [
     "ans_cell"
    ]
   },
   "source": [
    "Podemos ver que la tendencia se mantiene cuando se estratifica por \"propiedad del hogar\". La proporción de usuarios de pago completo disminuye a medida que el estado de verificación es menos fiable, independientemente de los niveles de \"propiedad de la vivienda\". La excepción es el nivel \"OTRO\". Pero como tenemos muy pocos usuarios allí, no deberíamos confiar demasiado en los resultados. La tendencia ya no se mantiene en ambos niveles de \"plazo\". Podemos ver que la proporción de usuarios totalmente pagados con un plazo de préstamo más corto (36 meses) sigue siendo la misma en los distintos niveles de \"estado de verificación\", en torno al 88%."
   ]
  },
  {
   "cell_type": "markdown",
   "metadata": {
    "tags": [
     "5_min"
    ]
   },
   "source": [
    "### Ejercicio 4:\n",
    "\n",
    "Comparando las tablas de contingencia estratificadas con las homólogas no estratificadas, ¿cuál de las siguientes conclusiones es correcta? Seleccione todas las que correspondan.\n",
    "\n",
    "I. Basándose en la tabla de contigencia estratificada, la diferencia en la probabilidad de pago completo entre los usuarios con y sin verificación de ingresos podría ser atribuible al efecto del plazo del préstamo en la probabilidad de pago completo.\n",
    "\n",
    "II. Basándose en la tabla de contigencia estratificada, la diferencia en la probabilidad de pago completo entre los usuarios con y sin verificación de ingresos no es probablemente atribuible al efecto de la propiedad de la vivienda en la probabilidad de pago completo.\n",
    "\n",
    "III. Supongamos que los usuarios sin ingresos verificados son más propensos a pedir préstamos a corto plazo en comparación con los usuarios con ingresos verificados y que los usuarios con préstamos a corto plazo son más propensos a pagar sus deudas. Si, de hecho, el estado de verificación de los ingresos no tiene ningún efecto sobre la probabilidad de devolver la deuda, los usuarios sin ingresos verificados siguen teniendo, al margen, más probabilidades de pagar su deuda."
   ]
  },
  {
   "cell_type": "markdown",
   "metadata": {
    "tags": [
     "12_min"
    ]
   },
   "source": [
    "## Extracción de información adicional con regresión lineal\n",
    "\n",
    "A partir de la prueba de chi-cuadrado, sabemos que el estado de verificación está marginalmente asociado a la probabilidad de pago. Observamos en la tabla de contingencia que esta probabilidad aumenta cuando la información sobre los ingresos es menos fiable. Sin embargo, esta observación no puede verificarse sólo con la prueba estándar de chi-cuadrado.\n",
    "    \n",
    "Como primera aproximación, vamos a crear un modelo lineal que pretende explicar `estado_de_préstamo` utilizando las variables dadas en nuestro conjunto de datos. Tenga en cuenta que \"estado_de_préstamo\" es una variable categórica, por lo que es necesario dummificarla primero. Además, dado que las variables \"estado_de_verificación\", \"grado\" y \"término\" son ordinales, podríamos utilizar también sus códigos categóricos (esto supondría que los saltos en las categorías son iguales, lo que podría ser razonable para algunas de estas variables). Por último, para evitar que aparezcan números grandes en los coeficientes de la regresión, vamos a normalizar los datos numéricos. Este procedimiento no afecta al resultado de la regresión - OLS es invariante bajo transformaciones lineales:"
   ]
  },
  {
   "cell_type": "code",
   "execution_count": 19,
   "metadata": {},
   "outputs": [],
   "source": [
    "df2=df.copy()\n",
    "\n",
    "var_names=['loan_status','verification_status','grade','term']\n",
    "for var in var_names:\n",
    "    df2[var]=df2[var].cat.codes\n",
    "    \n",
    "var_names2=['annual_inc','int_rate','loan_amnt']\n",
    "for var in var_names2:\n",
    "    df2[var]=(df2[var]-df2[var].mean())/df2[var].std()"
   ]
  },
  {
   "cell_type": "markdown",
   "metadata": {},
   "source": [
    "Consideremos un modelo sencillo con las variables `annual_inc`, `verification_status`, `loan_amnt`, `int_rate` y `term`:"
   ]
  },
  {
   "cell_type": "code",
   "execution_count": 20,
   "metadata": {},
   "outputs": [
    {
     "name": "stdout",
     "output_type": "stream",
     "text": [
      "                            OLS Regression Results                            \n",
      "==============================================================================\n",
      "Dep. Variable:            loan_status   R-squared:                       0.047\n",
      "Model:                            OLS   Adj. R-squared:                  0.047\n",
      "Method:                 Least Squares   F-statistic:                     385.5\n",
      "Date:                Thu, 15 Sep 2022   Prob (F-statistic):               0.00\n",
      "Time:                        13:36:47   Log-Likelihood:                -13075.\n",
      "No. Observations:               38705   AIC:                         2.616e+04\n",
      "Df Residuals:                   38699   BIC:                         2.621e+04\n",
      "Df Model:                           5                                         \n",
      "Covariance Type:            nonrobust                                         \n",
      "=======================================================================================\n",
      "                          coef    std err          t      P>|t|      [0.025      0.975]\n",
      "---------------------------------------------------------------------------------------\n",
      "Intercept               0.8763      0.003    309.976      0.000       0.871       0.882\n",
      "verification_status     0.0006      0.002      0.266      0.790      -0.004       0.005\n",
      "annual_inc              0.0163      0.002      9.086      0.000       0.013       0.020\n",
      "loan_amnt               0.0055      0.002      2.667      0.008       0.001       0.010\n",
      "int_rate               -0.0592      0.002    -30.093      0.000      -0.063      -0.055\n",
      "term                   -0.0644      0.005    -14.165      0.000      -0.073      -0.055\n",
      "==============================================================================\n",
      "Omnibus:                    12790.452   Durbin-Watson:                   1.995\n",
      "Prob(Omnibus):                  0.000   Jarque-Bera (JB):            30897.359\n",
      "Skew:                          -1.924   Prob(JB):                         0.00\n",
      "Kurtosis:                       5.086   Cond. No.                         4.36\n",
      "==============================================================================\n",
      "\n",
      "Notes:\n",
      "[1] Standard Errors assume that the covariance matrix of the errors is correctly specified.\n"
     ]
    }
   ],
   "source": [
    "model1 = 'loan_status~verification_status+annual_inc+loan_amnt+int_rate+term'\n",
    "lm1   = sfm.ols(formula = model1, data = df2).fit()\n",
    "print(lm1.summary())"
   ]
  },
  {
   "cell_type": "markdown",
   "metadata": {
    "tags": [
     "7_min"
    ]
   },
   "source": [
    "### Ejercicio 5:\n",
    "\n"
   ]
  },
  {
   "cell_type": "markdown",
   "metadata": {
    "tags": [
     "4_min"
    ]
   },
   "source": [
    "#### 5.1\n",
    "\n",
    "¿Qué puedes concluir de estos resultados?"
   ]
  },
  {
   "cell_type": "markdown",
   "metadata": {
    "tags": [
     "3_min"
    ]
   },
   "source": [
    "#### 5.2\n",
    "\n",
    "¿Qué desventajas crees que tiene un regresor lineal en esta situación?"
   ]
  }
 ],
 "metadata": {
  "c1_recart": "7.1.0-57c20131aabc1dc2a8c675852d80a7da",
  "kernelspec": {
   "display_name": "Python 3.10.6 64-bit",
   "language": "python",
   "name": "python3"
  },
  "language_info": {
   "codemirror_mode": {
    "name": "ipython",
    "version": 3
   },
   "file_extension": ".py",
   "mimetype": "text/x-python",
   "name": "python",
   "nbconvert_exporter": "python",
   "pygments_lexer": "ipython3",
   "version": "3.10.6"
  },
  "vscode": {
   "interpreter": {
    "hash": "369f2c481f4da34e4445cda3fffd2e751bd1c4d706f27375911949ba6bb62e1c"
   }
  }
 },
 "nbformat": 4,
 "nbformat_minor": 4
}
