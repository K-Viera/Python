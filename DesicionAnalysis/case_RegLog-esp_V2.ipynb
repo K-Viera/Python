{
 "cells": [
  {
   "cell_type": "markdown",
   "metadata": {},
   "source": [
    "# ¿Qué importancia tiene la fuente de ingresos del solicitante de un préstamo online?"
   ]
  },
  {
   "cell_type": "markdown",
   "metadata": {
    "tags": [
     "2_min"
    ]
   },
   "source": [
    "## Objetivos\n",
    "\n",
    "Al final de este caso, estará familiarizado con la regresión logística. En concreto, aprenderá a realizar e interpretar los coeficientes de un modelo de regresión logística para obtener información sobre su problema.\n",
    "\n",
    "Durante el estudio del caso, se le presentará la regresión logística como medio para probar una hipótesis. A continuación, validará esta hipótesis convirtiendo la regresión logística en un clasificador y midiendo su rendimiento. La comprensión de la teoría y la interpretación de la regresión logística es una herramienta vital en el ámbito de la ciencia de datos, especialmente en la clasificación."
   ]
  },
  {
   "cell_type": "markdown",
   "metadata": {
    "tags": [
     "5_min"
    ]
   },
   "source": [
    "## Introducción"
   ]
  },
  {
   "cell_type": "markdown",
   "metadata": {},
   "source": [
    "**Contexto empresarial.** Los préstamos en línea entre iguales (P2P) han facilitado la práctica de los préstamos. En esta forma de préstamo, no hay entrevista en persona y un prestatario puede simplemente rellenar un formulario en línea y obtener la aprobación de un préstamo. La información proporcionada únicamente por el prestatario es propensa a la exageración y la distorsión, especialmente cuando se trata de los ingresos. Todas las empresas de préstamos P2P se basan en un procedimiento bien diseñado que rechaza a los prestatarios con una alta probabilidad de no pagar sus deudas.\n",
    "\n",
    "Rechazar a cualquiera que no tenga una fuente de ingresos verificada es una política relevante que las plataformas de préstamo pueden poner en marcha para ayudar a reducir la tasa de préstamos fallidos. Es natural sospechar que si no se puede verificar la fuente de ingresos de una persona, ésta podría no pagar el préstamo. Sin embargo, desde el punto de vista del prestatario, el proceso de verificación puede ser engorroso y llevar mucho tiempo, por lo que es posible que se cambie a otra plataforma debido a este inconveniente. \n",
    "\n",
    "**Problema empresarial.** Como científico de datos en una empresa emergente de préstamos P2P, debe responder a la siguiente pregunta: **\"¿Debe la empresa verificar la fuente de ingresos de un solicitante de préstamo online antes de aprobar su préstamo? \"**\n",
    "\n",
    "**Contexto analítico.**  Los datos se han descargado de [LendingClub (LC) Statistics] (https://www.lendingclub.com/info/download-data.action) y contienen todos los préstamos emitidos entre 2007 y 2012 junto con su estado actual (totalmente pagados o cancelados). Hay ~50 variables que describen a los prestatarios y los préstamos; en aras de reducir la complejidad, la empresa ya ha realizado una preselección de estas variables basándose en los análisis existentes de LendingClub para seleccionar nueve variables relevantes, como los ingresos anuales, el grado de crédito de LendingClub, la propiedad de la vivienda, etc. Utilizaremos una nueva técnica, la **regresión logística**, para responder a nuestra pregunta.\n",
    "\n",
    "El caso está estructurado de la siguiente manera:\n",
    " 1. explorar los datos existentes para tener una idea aproximada de cómo interactúa cada variable del conjunto de datos con el estado actual del préstamo\n",
    " 2. buscar los posibles efectos de confusión\n",
    " 3. aprender los fundamentos de los modelos de regresión logística y, por último\n",
    " 4. ajustar una serie de modelos de regresión logística para determinar si la verificación de la fuente de ingresos es o no significativa."
   ]
  },
  {
   "cell_type": "code",
   "execution_count": null,
   "metadata": {},
   "outputs": [],
   "source": [
    "# Load packages\n",
    "\n",
    "import matplotlib.pyplot as plt\n",
    "import numpy  as np\n",
    "import pandas as pd\n",
    "import seaborn as sns\n",
    "import statsmodels.api as sm\n",
    "import statsmodels.formula.api as sfm\n",
    "\n",
    "from matplotlib.widgets import Slider, Button, RadioButtons\n",
    "from scipy import interp\n",
    "from scipy.optimize import fsolve\n",
    "from scipy.stats import chi2_contingency, ttest_ind\n",
    "from sklearn.metrics import roc_curve, auc\n",
    "from sklearn.model_selection import StratifiedKFold\n",
    "from statsmodels.formula.api import ols\n",
    "\n",
    "\n",
    "from IPython.display import display_html"
   ]
  },
  {
   "cell_type": "markdown",
   "metadata": {
    "tags": [
     "35_min"
    ]
   },
   "source": [
    "## Exploración de datos\n",
    "\n",
    "Antes de comenzar nuestro análisis exploratorio, echemos un vistazo a los datos que tenemos a nuestra disposición:"
   ]
  },
  {
   "cell_type": "code",
   "execution_count": null,
   "metadata": {},
   "outputs": [],
   "source": [
    "#Load the data\n",
    "df = pd.read_csv('Lending_club_cleaned_2.csv')\n",
    "\n",
    "#Change loan_status, verification_status, emp_length, term and grade to category type \n",
    "df.loan_status = df.loan_status.astype(pd.api.types.CategoricalDtype(categories=['Charged Off', 'Fully Paid']))\n",
    "df.verification_status = df.verification_status.astype(pd.api.types.CategoricalDtype(categories=['Not Verified', 'Source Verified', 'Verified']))\n",
    "df.emp_length = df.emp_length.astype(pd.api.types.CategoricalDtype(categories=['< 1 year', '1 year', '2 years', '3 years', '4 years', \\\n",
    "                                                             '5 years', '6 years', '7 years', '8 years', '9 years', \\\n",
    "                                                             '10+ years']))\n",
    "df.home_ownership = df.home_ownership.astype(pd.api.types.CategoricalDtype(categories=['RENT','MORTGAGE','OWN','OTHER']))\n",
    "df.term = df.term.astype(pd.api.types.CategoricalDtype(categories=[' 36 months', ' 60 months']))\n",
    "df.grade = df.grade.astype(pd.api.types.CategoricalDtype(categories=['A','B','C','D','E','F','G']))\n",
    "\n",
    "#In addition, the original data in int_rate contains strings of the form 'x.xx%',\n",
    "#we remove the % and change the vaules to float:\n",
    "df.int_rate = df.int_rate.str.rstrip('%').astype('float')"
   ]
  },
  {
   "cell_type": "code",
   "execution_count": null,
   "metadata": {},
   "outputs": [],
   "source": [
    "df.shape"
   ]
  },
  {
   "cell_type": "code",
   "execution_count": null,
   "metadata": {},
   "outputs": [],
   "source": [
    "df.head(10)"
   ]
  },
  {
   "cell_type": "markdown",
   "metadata": {},
   "source": [
    "Tenemos 38705 registros de transacciones pasadas en este conjunto de datos. Cada registro corresponde a un préstamo aprobado. La primera columna indica si el prestatario pagó el préstamo (totalmente pagado) o no (cargado). Las descripciones de las otras nueve columnas son las siguientes:"
   ]
  },
  {
   "cell_type": "markdown",
   "metadata": {},
   "source": [
    "|      annual_inc     |                                                 The self-reported annual income provided by the borrower during registration.                                                |\n",
    "|:-------------------:|:----------------------------------------------------------------------------------------------------------------------------------------------------------------------------:|\n",
    "| verification_status |                                          Indicates if income was verified by LC, not verified, or if the income source was verified                                          |\n",
    "|      emp_length     |                       Employment length in years. Possible values are between 0 and 10 where 0 means less than one year and 10 means ten or more years.                      |\n",
    "|    home_ownership   |             The home ownership status provided by the borrower during registration or obtained from the credit report. Our values are: RENT, OWN, MORTGAGE, OTHER            |\n",
    "|       int_rate      |                                                                           Interest Rate on the loan                                                                          |\n",
    "|      loan_amnt      | The listed amount of the loan applied for by the borrower. If at some point in time, the credit department reduces the loan amount, then it will be reflected in this value. |\n",
    "|       purpose       |                                                           A category provided by the borrower for the loan request.                                                          |\n",
    "|         term        |                                             The number of payments on the loan. Values are in months and can be either 36 or 60.                                             |\n",
    "|        grade        |                                                                            LC assigned loan grade                                                                            |"
   ]
  },
  {
   "cell_type": "markdown",
   "metadata": {
    "tags": [
     "20_min"
    ]
   },
   "source": [
    "### Relaciones entre `loan_status` y otras variables"
   ]
  },
  {
   "cell_type": "markdown",
   "metadata": {},
   "source": [
    "En primer lugar, realizamos un EDA para examinar la relación por pares entre \"estado del préstamo\" y cada una de las demás variables. En el conjunto de datos tenemos variables discretas y continuas. Empecemos a explorar las variables `anual_inc`, `int_rate` y `loan_amnt` en los usuarios que pagaron totalmente sus deudas frente a los que no lo hicieron:"
   ]
  },
  {
   "cell_type": "code",
   "execution_count": null,
   "metadata": {},
   "outputs": [],
   "source": [
    "fig, ax=plt.subplots(1,3, figsize=(18,8))\n",
    "sns.boxplot(y='annual_inc', x='loan_status', data=df, ax=ax[0]).set_yscale('log')\n",
    "sns.boxplot(y='int_rate', x ='loan_status', data = df, ax=ax[1])\n",
    "sns.boxplot(y='loan_amnt', x='loan_status', data=df, ax=ax[2])"
   ]
  },
  {
   "cell_type": "markdown",
   "metadata": {
    "tags": [
     "7_min"
    ]
   },
   "source": [
    "### Ejercicio 1:"
   ]
  },
  {
   "cell_type": "markdown",
   "metadata": {
    "tags": [
     "3_min"
    ]
   },
   "source": [
    "#### 1.1\n",
    "\n",
    "¿Qué observas en los gráficos de caja anteriores? "
   ]
  },
  {
   "cell_type": "markdown",
   "metadata": {
    "tags": [
     "4_min"
    ]
   },
   "source": [
    "#### 1.2\n",
    "\n",
    "Considere la afirmación:\n",
    "\n",
    "> \"A partir de estos gráficos podemos concluir que los ingresos anuales no desempeñan un papel significativo a la hora de decidir si un usuario va a devolver o no su préstamo.\"\n",
    "\n",
    "¿Cree que esta afirmación es correcta? ¿Cómo intentarías comprobarlo? "
   ]
  },
  {
   "cell_type": "code",
   "execution_count": null,
   "metadata": {},
   "outputs": [],
   "source": [
    "a=df[df['loan_status']==\"Charged Off\"]['annual_inc']\n",
    "b=df[df['loan_status']==\"Fully Paid\"]['annual_inc']\n",
    "T,p=ttest_ind(a,b)\n",
    "p"
   ]
  },
  {
   "cell_type": "markdown",
   "metadata": {},
   "source": [
    "Podemos utilizar tablas de contingencia para examinar la relación entre dos variables discretas. Se puede realizar una prueba de chi-cuadrado basada en la tabla de contingencia para verificar si la relación observada es estadísticamente significativa. La siguiente función genera la tabla de contingencia entre `estado_de_préstamo` y otra variable dada llamada `var`:"
   ]
  },
  {
   "cell_type": "code",
   "execution_count": null,
   "metadata": {},
   "outputs": [],
   "source": [
    "def get_ct(df, var):\n",
    "    ct_res = pd.crosstab(df[var], df['loan_status'], margins=True)\n",
    "    ct_res['Fully Paid(%)'] = round( ct_res['Fully Paid']/ct_res['All']*100, 2)\n",
    "    return ct_res.drop(columns='All')"
   ]
  },
  {
   "cell_type": "markdown",
   "metadata": {},
   "source": [
    "Por ejemplo, calculemos la tabla de contingencia de `estado_de_préstamo` frente a `estado_de_verificación`:"
   ]
  },
  {
   "cell_type": "code",
   "execution_count": null,
   "metadata": {},
   "outputs": [],
   "source": [
    "get_ct(df, 'verification_status')"
   ]
  },
  {
   "cell_type": "markdown",
   "metadata": {
    "tags": [
     "12_min"
    ]
   },
   "source": [
    "### Ejercicio 2:\n",
    "\n"
   ]
  },
  {
   "cell_type": "markdown",
   "metadata": {
    "tags": [
     "4_min"
    ]
   },
   "source": [
    "#### 2.1\n",
    "\n",
    "¿Qué se desprende del cuadro anterior? ¿Podemos concluir que la verificación de la fuente de ingresos no es necesaria para nuestro cliente?"
   ]
  },
  {
   "cell_type": "markdown",
   "metadata": {
    "tags": [
     "ans_st"
    ]
   },
   "source": [
    "**Answer.** One possible solution is shown below:\n",
    "\n",
    "From the table, `verification_status` seems to have a counter-intuitive association with `loan_status` - the less reliable the income information is, the more likely a user would fully repay the debt, as reflected by the decreasing trend of fully paid proportions when `verification_status increases` trends from not verified to fully verified. At first glance, this indicates that source verification may be a waste of money for the client. However, we must be careful with our conclusions as this table is not taking into account other possible factors that may have an effect on users paying off their debts. For instance, it may be the case that a considerable portion of loans with smaller interest rates were given to non-verified users, which made it easier to pay off the loan."
   ]
  },
  {
   "cell_type": "markdown",
   "metadata": {
    "tags": [
     "4_min"
    ]
   },
   "source": [
    "#### 2.2\n",
    "\n",
    "Utilice una prueba de chi-cuadrado para verificar si las asociaciones observadas entre \"estado de verificación\" y \"estado de préstamo\" son estadísticamente significativas.\n",
    "\n",
    "**Sugerencia:** Utilice `chi2, p, dof, ex=chi2_contingency(pd.crosstab(index=x,columns=y))` para realizar una prueba de chi-cuadrado para un par de datos dado `x, y`."
   ]
  },
  {
   "cell_type": "markdown",
   "metadata": {
    "tags": [
     "ans_st"
    ]
   },
   "source": [
    "**Una posible solución se muestra a continuación:"
   ]
  },
  {
   "cell_type": "code",
   "execution_count": null,
   "metadata": {
    "tags": [
     "ans_cell"
    ]
   },
   "outputs": [],
   "source": [
    "chi2, p, dof, ex = chi2_contingency(pd.crosstab(index=df['verification_status'], columns=df['loan_status']))\n",
    "print('verification_status: p-value of chisquare test =', p)"
   ]
  },
  {
   "cell_type": "markdown",
   "metadata": {
    "tags": [
     "ans_cell"
    ]
   },
   "source": [
    "La prueba de chi-cuadrado verifica que las asociaciones entre \"estado de verificación\" y \"estado de préstamo\" son realmente significativas desde el punto de vista estadístico."
   ]
  },
  {
   "cell_type": "markdown",
   "metadata": {
    "tags": [
     "4_min"
    ]
   },
   "source": [
    "#### 2.3\n",
    "\n",
    "Considere las siguientes afirmaciones:\n",
    "\n",
    "> I. \"Dado que la prueba de chi-cuadrado para la tabla de contingencia de `estado_de_verificación` frente a `estado_de_préstamo` es significativa, la tendencia decreciente de la probabilidad de pago no es probable que se deba al azar\".\n",
    "\n",
    "> II. \"Dado que existe una diferencia significativa entre la probabilidad de pago total en los usuarios sin ingresos verificados y los usuarios con ingresos verificados según la prueba de chi-cuadrado, deberíamos aplicar siempre la verificación de ingresos.\"\n",
    "\n",
    "¿Son correctas las afirmaciones?"
   ]
  },
  {
   "cell_type": "markdown",
   "metadata": {
    "tags": [
     "ans_st"
    ]
   },
   "source": [
    "**Answer.** One possible solution is shown below:\n",
    "\n",
    "Statement I is not correct. The chi-sqaure test is not a trend test, it only suggests that there is significant difference in the probability of pay-off among the three levels of `verification_status`, but it cannot further verify that the differences form a specific trend.\n",
    "\n",
    "Statement II is not correct since it implies a causal relationship between `verification_status` and `loan_status`. There is not enough evidence to deduce this, and we should first assess if there are potential confounding variables like we did in previous cases before making such a strong conclusion."
   ]
  },
  {
   "cell_type": "markdown",
   "metadata": {
    "tags": [
     "15_min"
    ]
   },
   "source": [
    "### Tablas de contigencia estratificadas de `estado_de_verificación` frente a `estado_de_préstamo`\n",
    "\n",
    "Como vimos en el ejercicio anterior, tenemos que ajustar por otras variables para eliminar posibles impactos de confusión. Si queremos saber si el `estado de la verificación` está realmente asociado con el `estado del préstamo` como indica la tabla de contigencia anterior, debemos considerar la estratificación de la tabla de contingencia entre el `estado del préstamo` y el `estado de la verificación` por otras variables que también están asociadas con el `estado del préstamo`."
   ]
  },
  {
   "cell_type": "markdown",
   "metadata": {
    "tags": [
     "10_min"
    ]
   },
   "source": [
    "### Ejercicio 3:\n",
    "\n",
    "Escriba una función que genere una tabla de contingencia para `estado de verificación` frente a `estado de préstamo` estratificada por la `stra_var`, el argumento de la función. Asegúrese de incluir una columna para la proporción de usuarios totalmente pagados en cada nivel de \"estado de verificación\". Utilice esta función para examinar la relación entre el \"estado de verificación\" y el \"estado de los préstamos\" cuando se ajuste por la \"propiedad de la vivienda\" y el \"plazo\". ¿Seguimos viendo la misma tendencia a través de los diferentes niveles de \"propiedad de la vivienda\" y \"plazo\"?\n",
    "\n",
    "**Sugerencia:** Cuando se utiliza el parámetro `index` de `pd.crosstab()` con dos variables, la tabla de contingencia se estratifica por la primera variable en `index`."
   ]
  },
  {
   "cell_type": "markdown",
   "metadata": {
    "tags": [
     "ans_st"
    ]
   },
   "source": [
    "**Una posible solución se muestra a continuación:"
   ]
  },
  {
   "cell_type": "code",
   "execution_count": null,
   "metadata": {
    "tags": [
     "ans_cell"
    ]
   },
   "outputs": [],
   "source": [
    "def get_ct_stra(stra_var):\n",
    "    ct_stra = pd.crosstab(index=[stra_var,df.verification_status], columns = df.loan_status, margins = True)\n",
    "    ct_stra['Fully Paid (%)'] = round(ct_stra['Fully Paid']/ct_stra['All']*100,2)\n",
    "    return ct_stra.drop(columns='All').drop('All', level=0)"
   ]
  },
  {
   "cell_type": "code",
   "execution_count": null,
   "metadata": {
    "tags": [
     "ans_cell"
    ]
   },
   "outputs": [],
   "source": [
    "get_ct_stra(df.home_ownership)"
   ]
  },
  {
   "cell_type": "code",
   "execution_count": null,
   "metadata": {
    "tags": [
     "ans_cell"
    ]
   },
   "outputs": [],
   "source": [
    "get_ct_stra(df.term)"
   ]
  },
  {
   "cell_type": "markdown",
   "metadata": {
    "tags": [
     "ans_cell"
    ]
   },
   "source": [
    "Podemos ver que la tendencia se mantiene cuando se estratifica por \"propiedad del hogar\". La proporción de usuarios de pago completo disminuye a medida que el estado de verificación es menos fiable, independientemente de los niveles de \"propiedad de la vivienda\". La excepción es el nivel \"OTRO\". Pero como tenemos muy pocos usuarios allí, no deberíamos confiar demasiado en los resultados. La tendencia ya no se mantiene en ambos niveles de \"plazo\". Podemos ver que la proporción de usuarios totalmente pagados con un plazo de préstamo más corto (36 meses) sigue siendo la misma en los distintos niveles de \"estado de verificación\", en torno al 88%."
   ]
  },
  {
   "cell_type": "markdown",
   "metadata": {
    "tags": [
     "5_min"
    ]
   },
   "source": [
    "### Ejercicio 4:\n",
    "\n",
    "Comparando las tablas de contingencia estratificadas con las homólogas no estratificadas, ¿cuál de las siguientes conclusiones es correcta? Seleccione todas las que correspondan.\n",
    "\n",
    "I. Basándose en la tabla de contigencia estratificada, la diferencia en la probabilidad de pago completo entre los usuarios con y sin verificación de ingresos podría ser atribuible al efecto del plazo del préstamo en la probabilidad de pago completo.\n",
    "\n",
    "II. Basándose en la tabla de contigencia estratificada, la diferencia en la probabilidad de pago completo entre los usuarios con y sin verificación de ingresos no es probablemente atribuible al efecto de la propiedad de la vivienda en la probabilidad de pago completo.\n",
    "\n",
    "III. Supongamos que los usuarios sin ingresos verificados son más propensos a pedir préstamos a corto plazo en comparación con los usuarios con ingresos verificados y que los usuarios con préstamos a corto plazo son más propensos a pagar sus deudas. Si, de hecho, el estado de verificación de los ingresos no tiene ningún efecto sobre la probabilidad de devolver la deuda, los usuarios sin ingresos verificados siguen teniendo, al margen, más probabilidades de pagar su deuda."
   ]
  },
  {
   "cell_type": "markdown",
   "metadata": {
    "tags": [
     "12_min"
    ]
   },
   "source": [
    "## Extracción de información adicional con regresión lineal\n",
    "\n",
    "A partir de la prueba de chi-cuadrado, sabemos que el estado de verificación está marginalmente asociado a la probabilidad de pago. Observamos en la tabla de contingencia que esta probabilidad aumenta cuando la información sobre los ingresos es menos fiable. Sin embargo, esta observación no puede verificarse sólo con la prueba estándar de chi-cuadrado.\n",
    "    \n",
    "Como primera aproximación, vamos a crear un modelo lineal que pretende explicar `estado_de_préstamo` utilizando las variables dadas en nuestro conjunto de datos. Tenga en cuenta que \"estado_de_préstamo\" es una variable categórica, por lo que es necesario dummificarla primero. Además, dado que las variables \"estado_de_verificación\", \"grado\" y \"término\" son ordinales, podríamos utilizar también sus códigos categóricos (esto supondría que los saltos en las categorías son iguales, lo que podría ser razonable para algunas de estas variables). Por último, para evitar que aparezcan números grandes en los coeficientes de la regresión, vamos a normalizar los datos numéricos. Este procedimiento no afecta al resultado de la regresión - OLS es invariante bajo transformaciones lineales:"
   ]
  },
  {
   "cell_type": "code",
   "execution_count": null,
   "metadata": {},
   "outputs": [],
   "source": [
    "df2=df.copy()\n",
    "\n",
    "var_names=['loan_status','verification_status','grade','term']\n",
    "for var in var_names:\n",
    "    df2[var]=df2[var].cat.codes\n",
    "    \n",
    "var_names2=['annual_inc','int_rate','loan_amnt']\n",
    "for var in var_names2:\n",
    "    df2[var]=(df2[var]-df2[var].mean())/df2[var].std()"
   ]
  },
  {
   "cell_type": "markdown",
   "metadata": {},
   "source": [
    "Consideremos un modelo sencillo con las variables `annual_inc`, `verification_status`, `loan_amnt`, `int_rate` y `term`:"
   ]
  },
  {
   "cell_type": "code",
   "execution_count": null,
   "metadata": {},
   "outputs": [],
   "source": [
    "model1 = 'loan_status~verification_status+annual_inc+loan_amnt+int_rate+term'\n",
    "lm1   = sfm.ols(formula = model1, data = df2).fit()\n",
    "print(lm1.summary())"
   ]
  },
  {
   "cell_type": "markdown",
   "metadata": {
    "tags": [
     "7_min"
    ]
   },
   "source": [
    "### Ejercicio 5:\n",
    "\n"
   ]
  },
  {
   "cell_type": "markdown",
   "metadata": {
    "tags": [
     "4_min"
    ]
   },
   "source": [
    "#### 5.1\n",
    "\n",
    "¿Qué puedes concluir de estos resultados?"
   ]
  },
  {
   "cell_type": "markdown",
   "metadata": {
    "tags": [
     "3_min"
    ]
   },
   "source": [
    "#### 5.2\n",
    "\n",
    "¿Qué desventajas crees que tiene un regresor lineal en esta situación?"
   ]
  },
  {
   "cell_type": "markdown",
   "metadata": {},
   "source": [
    "**Posible Respuesta.**\n",
    "\n",
    "Utilizar un modelo de regresión lineal en este contexto puede ser un poco desventajoso ya que nuestra variable objetivo es binaria. Esta restricción adicional nunca se utiliza cuando se construyen modelos lineales. Deberíamos ser capaces de explicar mejor el comportamiento de `loan_status` con modelos que tengan en cuenta esta información vital."
   ]
  },
  {
   "cell_type": "code",
   "execution_count": null,
   "metadata": {},
   "outputs": [],
   "source": [
    "p=np.random.rand(100)\n",
    "x=np.random.rand(100)\n",
    "y=np.logical_or(np.logical_and(x<=0.5, p>0.8), np.logical_and(x>0.5, p<=0.8)).astype(int)\n",
    "\n",
    "sns.regplot(x,y)"
   ]
  },
  {
   "cell_type": "markdown",
   "metadata": {},
   "source": [
    "## Regresión logística: ampliación del modelo lineal a resultados binarios"
   ]
  },
  {
   "cell_type": "markdown",
   "metadata": {},
   "source": [
    "El modelo de regresión logística es una versión modificada del modelo de regresión lineal estándar que se ocupa de los problemas de clasificación, en los que los resultados son variables binarias (en este caso, si el préstamo se pagó o se canceló). Para entender un modelo de regresión logística, introduzcamos primero la idea de **razón de oportunidad** (Odds en inglés). Las odds de un suceso son la relación entre su probabilidad de éxito y su probabilidad de fracaso. En nuestro caso, las probabilidades de pagar completamente la deuda se definen como\n",
    "\n",
    "$$\n",
    "\\text{Odds}(\\text{Pago total}) = \\frac{p}{1-p}.\n",
    "$$\n",
    "\n",
    "donde $p$ es la probabilidad de pago."
   ]
  },
  {
   "cell_type": "markdown",
   "metadata": {},
   "source": [
    "Resulta que es más fácil trabajar con odds que con las probabilidades. Para investigar nuestra pregunta sobre la tendencia de la probabilidad de pago $p$, suponemos que las probabilidades son una función del estado de verificación de los ingresos:\n",
    "\n",
    "\\begin{equation}\n",
    "\\log(\\text{Odds}) = \\beta_0 + \\beta_1*\\text{verification_status}. \\tag{1}\n",
    "\\end{equation}\n",
    "\n",
    "Para reflejar que existe una tendencia sobre los diferentes estados de verificación, codificamos diferentes niveles de `estado_de_verificación` utilizando números enteros: \"No verificado\" como 0, \"Fuente verificada\" como 1 y \"Verificado\" como 2; es decir, estamos renombrando las categorías de una variable categórica para reflejar una clara tendencia numérica. Afirmamos que este esquema de codificación implica que si $\\beta_1$ es positivo, entonces hay una tendencia creciente de la probabilidad de pago a medida que el estado de verificación de los ingresos es más fiable. Por otro lado, si $\\beta_1$ es negativo, ocurre lo contrario."
   ]
  },
  {
   "cell_type": "markdown",
   "metadata": {},
   "source": [
    "Una vez que se ajusta el modelo en (1), podemos realizar una prueba para examinar si $\\beta_1$ es significativamente diferente de cero. Obsérvese que si $\\beta_1=0$, entonces $p$ es el mismo para diferentes niveles de `estado de verificación` y, por tanto, no hay tendencia. Si $\\beta_1$ es significativamente diferente de cero, podemos utilizar el signo estimado de $\\beta_1$ para determinar la dirección de la tendencia.\n",
    "\n",
    "Veamos cómo se puede ejecutar un modelo de regresión logística utilizando la función `statsmodels.api` `Logit`:"
   ]
  },
  {
   "cell_type": "code",
   "execution_count": null,
   "metadata": {},
   "outputs": [],
   "source": [
    "# code the discrete variable by the specification above\n",
    "df_log1 = pd.DataFrame(columns=['verification_status','loan_status'])\n",
    "df_log1['verification_status'] = df.verification_status.cat.codes\n",
    "df_log1['loan_status'] = df.loan_status.cat.codes\n",
    "df_log1['Intercept'] = 1\n",
    "\n",
    "logit = sm.Logit(df_log1['loan_status'], df_log1[['Intercept','verification_status']])\n",
    "logit_res = logit.fit()\n",
    "logit_res.summary()"
   ]
  },
  {
   "cell_type": "markdown",
   "metadata": {},
   "source": [
    "### Interpretación de los coeficientes en la salida de una regresión logística"
   ]
  },
  {
   "cell_type": "markdown",
   "metadata": {},
   "source": [
    "Aunque el modelo de regresión logística es más complejo que la regresión lineal estándar, el signo del coeficiente de regresión sigue representando la dirección de la influencia de una variable específica: un coeficiente positivo significa que la probabilidad de pago aumentará si la variable asociada aumenta y viceversa.\n",
    "\n",
    "La otra parte importante de la información al interpretar un modelo de regresión logística es el valor $p$ de cada coeficiente de regresión. El valor p$ indica el resultado de la siguiente prueba de hipótesis:\n",
    "\n",
    "$$\n",
    "H_0: \\beta = 0~vs.~ H_A: \\beta \\neq 0.\n",
    "$$\n",
    "\n",
    "La prueba determina si la diferencia en la probabilidad de pago está asociada a los cambios en la variable correspondiente.\n",
    "\n",
    "A veces puede encontrar que tanto el valor $p$ como el tamaño del efecto estimado (coeficiente de regresión) para una variable son pequeños. Debe tener cuidado con esta situación, ya que los valores $p$ no son la única forma de determinar si las variables son importantes."
   ]
  },
  {
   "cell_type": "markdown",
   "metadata": {},
   "source": [
    "Por ejemplo, a partir de los resultados mostrados anteriormente para el modelo `logit_res`, los coeficientes indican que cuando el `estado de verificación` aumenta en 1, las probabilidades de pago disminuyen en un 14%. Dado que el valor $p$ del coeficiente es inferior a 0,05, podemos concluir que la tendencia decreciente que observamos en la tabla no se debe probablemente al azar.\n",
    "\n",
    "Un resultado importante es el `Pseudo R-squ.`. Esta métrica es similar a la R-cuadrado para los modelos lineales. Si este número es grande, entonces las variables del modelo explican una gran parte de los factores que impulsan la tendencia de la gente a pagar su deuda. En nuestro caso, la métrica es sólo del 0,2%, lo que significa que tenemos mucho margen de mejora."
   ]
  },
  {
   "cell_type": "markdown",
   "metadata": {},
   "source": [
    "### Interpretación geométrica de la regresión logística"
   ]
  },
  {
   "cell_type": "markdown",
   "metadata": {},
   "source": [
    "La regresión logística se convierte fácilmente en un **clasificador** eligiendo un **límite de decisión**. Es decir, escogiendo un valor de corte $c=\\log\\left(\\frac{p}{1-p}\\right)$, podemos clasificar usando la siguiente regla:\n",
    "\n",
    "> si $\\beta_0 + \\beta_1*\\text{verification_status} > c$, entonces se trata de un pago completo; o bien\n",
    "\n",
    "> si $\\beta_0 + \\beta_1*\\text{verification_status} \\leq c$ entonces Charged off\n",
    "\n",
    "La curva que separa a los morosos de los no morosos, definida por la ecuación $\\beta_0 + \\beta_1$ `estado_de_verificación` $=\\log\\left(\\frac{p}{1-p}\\right)$, es la frontera de decisión determinada por el modelo (1) y el valor de corte $p$. Por ejemplo, utilizando los resultados anteriores, si fijamos $p = 0,5$, entonces  \n",
    "\n",
    "> El usuario se clasificaría como Totalmente pagado si $\\text{verification_status} >\\frac{-\\beta_0}{\\beta_1}\\approx 13.334931506849317$\n",
    "\n",
    "> El usuario se clasificaría como cargado si  $\\text{verification_status} \\leq \\frac{-\\beta_0}{\\beta_1}\\approx 13.334931506849317$\n",
    "\n",
    "Evidentemente, esta frontera de decisión es inútil, ya que sabemos que los valores de `estado_de_verificación` son siempre como máximo $2$ para cada usuario. Por lo tanto, tendríamos que averiguar qué valor de $p$ es el que nos da la mejor clasificación posible. Ampliaremos esta cuestión más adelante.  "
   ]
  },
  {
   "cell_type": "markdown",
   "metadata": {},
   "source": [
    "### Exercise 6:"
   ]
  },
  {
   "cell_type": "markdown",
   "metadata": {},
   "source": [
    "#### 6.1\n",
    "\n",
    "Ejecute un modelo de regresión logística para `estado_de_préstamo` utilizando como regresores las variables `amnt_de_préstamo` y `tasa_de_intensidad`. Normalice estas dos variables antes de ajustar el modelo."
   ]
  },
  {
   "cell_type": "markdown",
   "metadata": {},
   "source": [
    "#### 6.2\n",
    "\n",
    "Utilice los coeficientes encontrados en el Ejercicio 6.1 para ejecutar el código siguiente. Mueva el cursor para ver los cambios en la frontera de decisión."
   ]
  },
  {
   "cell_type": "code",
   "execution_count": null,
   "metadata": {},
   "outputs": [],
   "source": [
    "b_Intercept=1 #Here your coeff\n",
    "b_loan_amnt=1 #Here your coeff\n",
    "b_int_rate=1 #Here your coeff\n",
    "\n",
    "\n",
    "df6=df.copy()\n",
    "df6['loan_status'] = df6.loan_status.cat.codes\n",
    "df6['loan_amnt']=(df6['loan_amnt']-df6['loan_amnt'].mean())/df6['loan_amnt'].std()\n",
    "df6['int_rate']=(df6['int_rate']-df6['int_rate'].mean())/df6['int_rate'].std()\n",
    "df6['Intercept'] = 1\n",
    "\n",
    "import ipywidgets as widgets\n",
    "from ipywidgets import interact\n",
    "%matplotlib notebook\n",
    "\n",
    "fig, ax = plt.subplots()\n",
    "sns.scatterplot(x='int_rate',y='loan_amnt',hue='loan_status',data=df6,alpha=0.1,ax=ax)\n",
    "plt.xlim(-2,3)\n",
    "plt.ylim(-2,3)\n",
    "plt.legend()\n",
    "\n",
    "\n",
    "p=0.5\n",
    "x1=np.arange(-2,40,3)\n",
    "y1=(1/b_loan_amnt)*(np.log(p/(1-p))-b_Intercept-b_int_rate*x1)\n",
    "l, = plt.plot(x1, y1, lw=2, color='k', label='Current Decision boundary')\n",
    "\n",
    "def update(p=0.5):\n",
    "    y1=(1/b_loan_amnt)*(np.log(p/(1-p))-b_Intercept-b_int_rate*x1)\n",
    "    l.set_ydata(y1)\n",
    "    fig.canvas.draw_idle()\n",
    "\n",
    "interact(update, p=widgets.FloatSlider(value=p,min=0.01,max=0.99,step=0.01))"
   ]
  },
  {
   "cell_type": "code",
   "execution_count": null,
   "metadata": {},
   "outputs": [],
   "source": [
    "%matplotlib inline"
   ]
  },
  {
   "cell_type": "markdown",
   "metadata": {},
   "source": [
    "### Evaluación del modelo de regresión logística"
   ]
  },
  {
   "cell_type": "markdown",
   "metadata": {},
   "source": [
    "Un inconveniente importante de la pseudo métrica $R^2$ es que no puede traducirse directamente en la precisión de la predicción de un modelo. Recordemos que el objetivo de todo nuestro análisis es predecir si un usuario va a pagar o no su deuda. Pero, ¿cómo evaluamos si la predicción es precisa o no? Esta pregunta no es tan sencilla como parece y la razón es que los modelos logísticos sólo producen probabilidades mientras que lo que observamos son etiquetas binarias.\n",
    "\n",
    "Una solución directa es que se puede seleccionar un valor de corte para la probabilidad predicha, de forma que las personas con probabilidades inferiores al valor de corte se consideren morosos. Esto convierte las probabilidades en etiquetas binarias, tras lo cual podemos ver si las etiquetas predichas son las mismas que las observadas para medir la precisión de la predicción."
   ]
  },
  {
   "cell_type": "markdown",
   "metadata": {},
   "source": [
    "### Pregunta:\n",
    "\n",
    "¿Cómo podría seleccionar el mejor valor de corte para un determinado modelo de regresión logística?"
   ]
  },
  {
   "cell_type": "markdown",
   "metadata": {},
   "source": [
    "### Ejercicio 7:\n",
    "\n",
    "Calcule el TPR (True Positive Rate) y el TNR (True Negative Rate) para el modelo del Ejercicio 6 utilizando valores de corte $p = 0,8, 0,85, 0,9$. ¿Cuál de estos valores de corte le parece mejor? ¿Por qué?"
   ]
  },
  {
   "cell_type": "code",
   "execution_count": null,
   "metadata": {},
   "outputs": [],
   "source": [
    "b_Intercept=1.9277 \n",
    "b_loan_amnt=0.0399 \n",
    "b_int_rate=-0.5862 \n",
    "\n",
    "def rates(p):\n",
    "    a= df6.loan_status\n",
    "    b=(b_Intercept+b_loan_amnt*df6['loan_amnt']+b_int_rate*df6['int_rate']>np.log(p/(1-p))).astype('int')\n",
    "    \n",
    "    TPR=(a & b).sum(axis=0)/a.sum(axis=0)\n",
    "    TNR=(1-a & 1-b).sum(axis=0)/(1-a).sum(axis=0)\n",
    "    return [TPR,TNR]\n",
    "\n",
    "print('p=0.8 ',rates(0.8))\n",
    "print('p=0.85 ',rates(0.85))\n",
    "print('p=0.9 ', rates(0.9))"
   ]
  },
  {
   "cell_type": "markdown",
   "metadata": {},
   "source": [
    "A partir de aquí, vemos que la elección de un punto de corte de $p = 0,8$ da un TPR alto y un TNR bajo. Esto significa que este punto de corte clasificaría correctamente a la mayoría de los buenos prestatarios, pero también pasaría por alto un número considerable de morosos. Como ya se ha dicho, esto puede ser problemático, ya que podríamos acabar perdiendo dinero. \n",
    "\n",
    "En el otro extremo, $p = 0,9$ detectaría correctamente una buena parte de los morosos, pero también denegaría muchos préstamos a usuarios que probablemente pagarán. Así, podríamos acabar perdiendo clientes a favor de nuestros competidores y perder la oportunidad de trabajar con buenos prestatarios.\n",
    "\n",
    "En un enfoque más conservador, $p = 0,85$ detectaría correctamente el 66% de los buenos prestatarios y alrededor del 54% de los morosos. Esta podría ser una alternativa, ya que no perderíamos gran parte de nuestros clientes potenciales y nuestro riesgo estaría relativamente controlado. No obstante, probablemente deberíamos consultar esta decisión con nuestro cliente, ya que podría preferir un enfoque más seguro o más arriesgado."
   ]
  },
  {
   "cell_type": "markdown",
   "metadata": {},
   "source": [
    "### La curva ROC (Receiver Operating Characteristic)\n",
    "\n",
    "Hemos visto el gran potencial de considerar el TPR y el TNR para ayudar a seleccionar el umbral adecuado para nuestros modelos. Sin embargo, no tiene mucho sentido calcularlos para valores de corte únicos. Deberíamos resumir la precisión de la predicción en todos los valores de corte diferentes para producir una evaluación unificada de nuestro modelo. Este es el motivo de la **curva (ROC)**.\n",
    "\n",
    "La curva ROC traza 1 - TNR contra TPR e ilustra el comportamiento de un modelo logístico a medida que cambia el punto de corte. Vamos a trazar la curva ROC para el modelo del Ejercicio 6:"
   ]
  },
  {
   "cell_type": "code",
   "execution_count": null,
   "metadata": {},
   "outputs": [],
   "source": [
    "#This function calculates the TPR and TNR for given p\n",
    "def rates(p):\n",
    "    a= df6.loan_status\n",
    "    b=(b_Intercept+b_loan_amnt*df6['loan_amnt']+b_int_rate*df6['int_rate']>np.log(p/(1-p))).astype('int')\n",
    "    \n",
    "    TPR=(a & b).sum(axis=0)/a.sum(axis=0)\n",
    "    TNR=(1-a & 1-b).sum(axis=0)/(1-a).sum(axis=0)\n",
    "    return [TPR,TNR]\n",
    "\n",
    "#Then, we use this function to plot the ROC curve\n",
    "x=[]\n",
    "y=[]\n",
    "for p in np.arange(0.01,0.99,0.01):\n",
    "    z=rates(p)\n",
    "    y.append(z[0])\n",
    "    x.append(1-z[1])\n",
    "    \n",
    "fig, ax = plt.subplots()\n",
    "\n",
    "ax.plot(x,y, label=f'ROC curve for model in Ex6')\n",
    "ax.plot([0, 1], [0, 1], color='navy', lw=1, linestyle='--', label='Random guess')\n",
    "plt.xlabel('False Positive Rate')\n",
    "plt.ylabel('True Positive Rate')\n",
    "plt.title('Classification of Defaulters')\n",
    "plt.legend(loc='lower right')"
   ]
  },
  {
   "cell_type": "markdown",
   "metadata": {},
   "source": [
    "### Ejercicio 8:\n",
    "\n",
    "Dibuje las curvas ROC para `logit_res` y el modelo del Ejercicio 6 en el mismo gráfico. ¿Puede determinar qué modelo es mejor observando únicamente estos gráficos? Proponga una forma de evaluar diferentes modelos utilizando las curvas ROC.\n",
    "\n",
    "**Sugerencia:** Utilice `logit_res.predict(df_log1[['Intercept','verification_status']])` para calcular las probabilidades predichas del modelo `logit_res`. Llame a este resultado `predict_p` y utilice la función `roc_cure(df_log1['estado_de_préstamo'],predict_p)` para calcular las coordenadas de la curva ROC del modelo."
   ]
  },
  {
   "cell_type": "markdown",
   "metadata": {},
   "source": [
    "### Comparing models using the area under the curve (AUC)"
   ]
  },
  {
   "cell_type": "markdown",
   "metadata": {},
   "source": [
    "A grandes rasgos, el AUC indica la probabilidad de que un moroso seleccionado al azar tenga un 𝑝 menor que un no moroso seleccionado al azar.\n",
    "\n",
    "Si el AUC se aproxima a uno, la regla se aproxima a una regla perfecta. La curva ROC para una regla de adivinación aleatoria (establecer 𝑝=0,5 para todos los solicitantes) es la línea diagonal en el gráfico y suele servir como línea de base para comprobar si el modelo de clasificación aprende alguna información de los datos por encima de la pura aleatoriedad. Podemos calcular el AUC después del cálculo de la curva ROC utilizando la función auc de sklearn.metrics:"
   ]
  },
  {
   "cell_type": "code",
   "execution_count": null,
   "metadata": {},
   "outputs": [],
   "source": [
    "#Note, here we assumed you named the roc curves of Exercise 8 roc_p and roc_2_p\n",
    "\n",
    "auc_p = auc( roc_p[0], roc_p[1] )\n",
    "auc_2_p = auc( roc_2_p[0], roc_2_p[1] )\n",
    "\n",
    "print('AUC of `log_res`: ', auc_p)\n",
    "print('AUC of the model of Ex 6: ', auc_2_p)"
   ]
  },
  {
   "cell_type": "markdown",
   "metadata": {},
   "source": [
    "## Añadiendo variables adicionales al modelo"
   ]
  },
  {
   "cell_type": "markdown",
   "metadata": {},
   "source": [
    "En las secciones anteriores, hemos observado una tendencia decreciente en la probabilidad de pago asociada a una información de ingresos más fiable. Sin embargo, esta tendencia es contraria a la intuición. Esto podría deberse a que muchos otros factores también están asociados a la probabilidad de pago, como hemos visto en los análisis exploratorios y en cierto modo en nuestro modelo de regresión lineal ingenuo. Si no se tienen en cuenta estos factores, las conclusiones sobre el efecto del \"estado de verificación\" serán completamente diferentes."
   ]
  },
  {
   "cell_type": "markdown",
   "metadata": {},
   "source": [
    "Utilizando la función `get_ct`, que se utiliza para calcular las tablas de contingencia de las variables categóricas, no es difícil ver que, excepto `annual_inc`, todas las demás variables del conjunto de datos están correlacionadas con `verification_status`. Por ejemplo, parece haber una fuerte correlación entre el \"estado de verificación\" y el \"préstamo\". Las personas sin fuente de ingresos verificada tienden a pedir menos dinero prestado que las personas con fuente de ingresos verificada. Esta podría ser la razón de la tendencia a la baja asociada al `estado de verificación`, ya que es más probable que se paguen los préstamos más pequeños. Incorporemos ahora todas estas variables (incluyendo por ahora \"annual_inc\") en el modelo logístico junto con \"verification_status\" y veamos si la tendencia decreciente asociada a \"verification_status\" sigue presente:"
   ]
  },
  {
   "cell_type": "code",
   "execution_count": 21,
   "metadata": {},
   "outputs": [],
   "source": [
    "# Preprocessing the variables\n",
    "df_log2 = pd.concat([(df.loan_amnt - df.loan_amnt.mean())/df.loan_amnt.std(),\\\n",
    "                     (df.int_rate - df.int_rate.mean())/df.int_rate.std(),\\\n",
    "                     (df.annual_inc - df.annual_inc.mean())/df.annual_inc.std(),\\\n",
    "                     pd.get_dummies(df.home_ownership, prefix='home', drop_first=True), \\\n",
    "                     pd.get_dummies(df.purpose, prefix='purpose', drop_first=True), \\\n",
    "                     pd.get_dummies(df.grade, prefix='grade',drop_first=True)], axis=1)\n",
    "df_log2['verification_status'] = df.verification_status.cat.codes\n",
    "df_log2['emp_length'] = df.emp_length.cat.codes\n",
    "df_log2['term'] = df.term.cat.codes\n",
    "df_log2['Intercept'] = 1"
   ]
  },
  {
   "cell_type": "code",
   "execution_count": 22,
   "metadata": {},
   "outputs": [
    {
     "name": "stdout",
     "output_type": "stream",
     "text": [
      "Optimization terminated successfully.\n",
      "         Current function value: 0.378075\n",
      "         Iterations 7\n"
     ]
    },
    {
     "data": {
      "text/html": [
       "<table class=\"simpletable\">\n",
       "<caption>Logit Regression Results</caption>\n",
       "<tr>\n",
       "  <th>Dep. Variable:</th>           <td>y</td>        <th>  No. Observations:  </th>  <td> 38705</td> \n",
       "</tr>\n",
       "<tr>\n",
       "  <th>Model:</th>                 <td>Logit</td>      <th>  Df Residuals:      </th>  <td> 38676</td> \n",
       "</tr>\n",
       "<tr>\n",
       "  <th>Method:</th>                 <td>MLE</td>       <th>  Df Model:          </th>  <td>    28</td> \n",
       "</tr>\n",
       "<tr>\n",
       "  <th>Date:</th>            <td>Tue, 20 Sep 2022</td> <th>  Pseudo R-squ.:     </th>  <td>0.06869</td>\n",
       "</tr>\n",
       "<tr>\n",
       "  <th>Time:</th>                <td>13:51:49</td>     <th>  Log-Likelihood:    </th> <td> -14633.</td>\n",
       "</tr>\n",
       "<tr>\n",
       "  <th>converged:</th>             <td>True</td>       <th>  LL-Null:           </th> <td> -15713.</td>\n",
       "</tr>\n",
       "<tr>\n",
       "  <th>Covariance Type:</th>     <td>nonrobust</td>    <th>  LLR p-value:       </th>  <td> 0.000</td> \n",
       "</tr>\n",
       "</table>\n",
       "<table class=\"simpletable\">\n",
       "<tr>\n",
       "               <td></td>                 <th>coef</th>     <th>std err</th>      <th>z</th>      <th>P>|z|</th>  <th>[0.025</th>    <th>0.975]</th>  \n",
       "</tr>\n",
       "<tr>\n",
       "  <th>loan_amnt</th>                  <td>   -0.0075</td> <td>    0.019</td> <td>   -0.389</td> <td> 0.697</td> <td>   -0.045</td> <td>    0.030</td>\n",
       "</tr>\n",
       "<tr>\n",
       "  <th>int_rate</th>                   <td>   -0.4050</td> <td>    0.054</td> <td>   -7.454</td> <td> 0.000</td> <td>   -0.511</td> <td>   -0.299</td>\n",
       "</tr>\n",
       "<tr>\n",
       "  <th>annual_inc</th>                 <td>    0.3615</td> <td>    0.031</td> <td>   11.641</td> <td> 0.000</td> <td>    0.301</td> <td>    0.422</td>\n",
       "</tr>\n",
       "<tr>\n",
       "  <th>home_MORTGAGE</th>              <td>    0.0382</td> <td>    0.035</td> <td>    1.095</td> <td> 0.273</td> <td>   -0.030</td> <td>    0.107</td>\n",
       "</tr>\n",
       "<tr>\n",
       "  <th>home_OWN</th>                   <td>    0.0209</td> <td>    0.060</td> <td>    0.348</td> <td> 0.728</td> <td>   -0.097</td> <td>    0.138</td>\n",
       "</tr>\n",
       "<tr>\n",
       "  <th>home_OTHER</th>                 <td>   -0.4454</td> <td>    0.268</td> <td>   -1.660</td> <td> 0.097</td> <td>   -0.971</td> <td>    0.080</td>\n",
       "</tr>\n",
       "<tr>\n",
       "  <th>purpose_credit_card</th>        <td>    0.0364</td> <td>    0.100</td> <td>    0.363</td> <td> 0.717</td> <td>   -0.160</td> <td>    0.233</td>\n",
       "</tr>\n",
       "<tr>\n",
       "  <th>purpose_debt_consolidation</th> <td>   -0.2190</td> <td>    0.091</td> <td>   -2.405</td> <td> 0.016</td> <td>   -0.398</td> <td>   -0.041</td>\n",
       "</tr>\n",
       "<tr>\n",
       "  <th>purpose_educational</th>        <td>   -0.5663</td> <td>    0.178</td> <td>   -3.186</td> <td> 0.001</td> <td>   -0.915</td> <td>   -0.218</td>\n",
       "</tr>\n",
       "<tr>\n",
       "  <th>purpose_home_improvement</th>   <td>   -0.1624</td> <td>    0.107</td> <td>   -1.523</td> <td> 0.128</td> <td>   -0.371</td> <td>    0.047</td>\n",
       "</tr>\n",
       "<tr>\n",
       "  <th>purpose_house</th>              <td>   -0.3556</td> <td>    0.171</td> <td>   -2.077</td> <td> 0.038</td> <td>   -0.691</td> <td>   -0.020</td>\n",
       "</tr>\n",
       "<tr>\n",
       "  <th>purpose_major_purchase</th>     <td>   -0.0024</td> <td>    0.114</td> <td>   -0.021</td> <td> 0.983</td> <td>   -0.227</td> <td>    0.222</td>\n",
       "</tr>\n",
       "<tr>\n",
       "  <th>purpose_medical</th>            <td>   -0.3945</td> <td>    0.141</td> <td>   -2.794</td> <td> 0.005</td> <td>   -0.671</td> <td>   -0.118</td>\n",
       "</tr>\n",
       "<tr>\n",
       "  <th>purpose_moving</th>             <td>   -0.4147</td> <td>    0.150</td> <td>   -2.766</td> <td> 0.006</td> <td>   -0.708</td> <td>   -0.121</td>\n",
       "</tr>\n",
       "<tr>\n",
       "  <th>purpose_other</th>              <td>   -0.4050</td> <td>    0.099</td> <td>   -4.105</td> <td> 0.000</td> <td>   -0.598</td> <td>   -0.212</td>\n",
       "</tr>\n",
       "<tr>\n",
       "  <th>purpose_renewable_energy</th>   <td>   -0.7242</td> <td>    0.286</td> <td>   -2.530</td> <td> 0.011</td> <td>   -1.285</td> <td>   -0.163</td>\n",
       "</tr>\n",
       "<tr>\n",
       "  <th>purpose_small_business</th>     <td>   -0.9414</td> <td>    0.105</td> <td>   -8.961</td> <td> 0.000</td> <td>   -1.147</td> <td>   -0.735</td>\n",
       "</tr>\n",
       "<tr>\n",
       "  <th>purpose_vacation</th>           <td>   -0.4371</td> <td>    0.179</td> <td>   -2.439</td> <td> 0.015</td> <td>   -0.788</td> <td>   -0.086</td>\n",
       "</tr>\n",
       "<tr>\n",
       "  <th>purpose_wedding</th>            <td>    0.1348</td> <td>    0.142</td> <td>    0.948</td> <td> 0.343</td> <td>   -0.144</td> <td>    0.414</td>\n",
       "</tr>\n",
       "<tr>\n",
       "  <th>grade_B</th>                    <td>   -0.2733</td> <td>    0.074</td> <td>   -3.709</td> <td> 0.000</td> <td>   -0.418</td> <td>   -0.129</td>\n",
       "</tr>\n",
       "<tr>\n",
       "  <th>grade_C</th>                    <td>   -0.3549</td> <td>    0.103</td> <td>   -3.448</td> <td> 0.001</td> <td>   -0.557</td> <td>   -0.153</td>\n",
       "</tr>\n",
       "<tr>\n",
       "  <th>grade_D</th>                    <td>   -0.3775</td> <td>    0.132</td> <td>   -2.860</td> <td> 0.004</td> <td>   -0.636</td> <td>   -0.119</td>\n",
       "</tr>\n",
       "<tr>\n",
       "  <th>grade_E</th>                    <td>   -0.2973</td> <td>    0.160</td> <td>   -1.859</td> <td> 0.063</td> <td>   -0.611</td> <td>    0.016</td>\n",
       "</tr>\n",
       "<tr>\n",
       "  <th>grade_F</th>                    <td>   -0.3238</td> <td>    0.194</td> <td>   -1.669</td> <td> 0.095</td> <td>   -0.704</td> <td>    0.057</td>\n",
       "</tr>\n",
       "<tr>\n",
       "  <th>grade_G</th>                    <td>   -0.1802</td> <td>    0.238</td> <td>   -0.757</td> <td> 0.449</td> <td>   -0.647</td> <td>    0.286</td>\n",
       "</tr>\n",
       "<tr>\n",
       "  <th>verification_status</th>        <td>    0.0082</td> <td>    0.020</td> <td>    0.411</td> <td> 0.681</td> <td>   -0.031</td> <td>    0.047</td>\n",
       "</tr>\n",
       "<tr>\n",
       "  <th>emp_length</th>                 <td>   -0.0147</td> <td>    0.004</td> <td>   -3.301</td> <td> 0.001</td> <td>   -0.023</td> <td>   -0.006</td>\n",
       "</tr>\n",
       "<tr>\n",
       "  <th>term</th>                       <td>   -0.4520</td> <td>    0.037</td> <td>  -12.081</td> <td> 0.000</td> <td>   -0.525</td> <td>   -0.379</td>\n",
       "</tr>\n",
       "<tr>\n",
       "  <th>Intercept</th>                  <td>    2.6163</td> <td>    0.123</td> <td>   21.216</td> <td> 0.000</td> <td>    2.375</td> <td>    2.858</td>\n",
       "</tr>\n",
       "</table>"
      ],
      "text/plain": [
       "<class 'statsmodels.iolib.summary.Summary'>\n",
       "\"\"\"\n",
       "                           Logit Regression Results                           \n",
       "==============================================================================\n",
       "Dep. Variable:                      y   No. Observations:                38705\n",
       "Model:                          Logit   Df Residuals:                    38676\n",
       "Method:                           MLE   Df Model:                           28\n",
       "Date:                Tue, 20 Sep 2022   Pseudo R-squ.:                 0.06869\n",
       "Time:                        13:51:49   Log-Likelihood:                -14633.\n",
       "converged:                       True   LL-Null:                       -15713.\n",
       "Covariance Type:            nonrobust   LLR p-value:                     0.000\n",
       "==============================================================================================\n",
       "                                 coef    std err          z      P>|z|      [0.025      0.975]\n",
       "----------------------------------------------------------------------------------------------\n",
       "loan_amnt                     -0.0075      0.019     -0.389      0.697      -0.045       0.030\n",
       "int_rate                      -0.4050      0.054     -7.454      0.000      -0.511      -0.299\n",
       "annual_inc                     0.3615      0.031     11.641      0.000       0.301       0.422\n",
       "home_MORTGAGE                  0.0382      0.035      1.095      0.273      -0.030       0.107\n",
       "home_OWN                       0.0209      0.060      0.348      0.728      -0.097       0.138\n",
       "home_OTHER                    -0.4454      0.268     -1.660      0.097      -0.971       0.080\n",
       "purpose_credit_card            0.0364      0.100      0.363      0.717      -0.160       0.233\n",
       "purpose_debt_consolidation    -0.2190      0.091     -2.405      0.016      -0.398      -0.041\n",
       "purpose_educational           -0.5663      0.178     -3.186      0.001      -0.915      -0.218\n",
       "purpose_home_improvement      -0.1624      0.107     -1.523      0.128      -0.371       0.047\n",
       "purpose_house                 -0.3556      0.171     -2.077      0.038      -0.691      -0.020\n",
       "purpose_major_purchase        -0.0024      0.114     -0.021      0.983      -0.227       0.222\n",
       "purpose_medical               -0.3945      0.141     -2.794      0.005      -0.671      -0.118\n",
       "purpose_moving                -0.4147      0.150     -2.766      0.006      -0.708      -0.121\n",
       "purpose_other                 -0.4050      0.099     -4.105      0.000      -0.598      -0.212\n",
       "purpose_renewable_energy      -0.7242      0.286     -2.530      0.011      -1.285      -0.163\n",
       "purpose_small_business        -0.9414      0.105     -8.961      0.000      -1.147      -0.735\n",
       "purpose_vacation              -0.4371      0.179     -2.439      0.015      -0.788      -0.086\n",
       "purpose_wedding                0.1348      0.142      0.948      0.343      -0.144       0.414\n",
       "grade_B                       -0.2733      0.074     -3.709      0.000      -0.418      -0.129\n",
       "grade_C                       -0.3549      0.103     -3.448      0.001      -0.557      -0.153\n",
       "grade_D                       -0.3775      0.132     -2.860      0.004      -0.636      -0.119\n",
       "grade_E                       -0.2973      0.160     -1.859      0.063      -0.611       0.016\n",
       "grade_F                       -0.3238      0.194     -1.669      0.095      -0.704       0.057\n",
       "grade_G                       -0.1802      0.238     -0.757      0.449      -0.647       0.286\n",
       "verification_status            0.0082      0.020      0.411      0.681      -0.031       0.047\n",
       "emp_length                    -0.0147      0.004     -3.301      0.001      -0.023      -0.006\n",
       "term                          -0.4520      0.037    -12.081      0.000      -0.525      -0.379\n",
       "Intercept                      2.6163      0.123     21.216      0.000       2.375       2.858\n",
       "==============================================================================================\n",
       "\"\"\""
      ]
     },
     "execution_count": 22,
     "metadata": {},
     "output_type": "execute_result"
    }
   ],
   "source": [
    "logit_full1 = sm.Logit(df.loan_status.cat.codes, df_log2)\n",
    "logit_full1_res = logit_full1.fit()\n",
    "logit_full1_res.summary()"
   ]
  },
  {
   "cell_type": "markdown",
   "metadata": {},
   "source": [
    "### Ejercicio 9:\n",
    "\n",
    "Según los resultados del modelo logístico con todas las variables incluidas, ¿cuál de las siguientes conclusiones es correcta? Seleccione todas las que correspondan.\n",
    "\n",
    "I. No hay pruebas que apoyen la asociación entre la probabilidad de pago y el estado de verificación después de tener en cuenta otras variables.\n",
    "\n",
    "II. Los préstamos para pequeñas empresas tienen la menor probabilidad de reembolso.\n",
    "\n",
    "III. La probabilidad de amortización de los usuarios con grado B de LendingClub disminuye en un 24% en comparación con los usuarios con grado A después de tener en cuenta otras variables."
   ]
  },
  {
   "cell_type": "markdown",
   "metadata": {},
   "source": [
    "### ¿Por qué observamos una tendencia marginal asociada a verification_status?"
   ]
  },
  {
   "cell_type": "markdown",
   "metadata": {},
   "source": [
    "Curiosamente, encontramos que el coeficiente de regresión para `estado de verificación` es ahora positivo y el valor $p$ para él es muy grande (0,68). Esto indica que, tras ajustar todas las demás variables del conjunto de datos, el \"estado de verificación\" ya no está significativamente asociado a la probabilidad de pago. Averigüemos ahora qué variables de confusión fueron las responsables de introducir la tendencia decreciente inicial que observamos.\n",
    "\n",
    "Podemos investigar este problema utilizando los resultados de la regresión junto con la correlación entre \"estado de verificación\" y todas las demás variables. En primer lugar, veamos la relación por pares entre \"estado de verificación\" y todas las demás variables:"
   ]
  },
  {
   "cell_type": "code",
   "execution_count": 23,
   "metadata": {},
   "outputs": [],
   "source": [
    "def get_rctable(var1, var2):\n",
    "    res = pd.crosstab(df[var2], df[var1])\n",
    "    chi2, p, dof, ex = chi2_contingency(res)\n",
    "    output = round( res.div(res.sum(axis = 1),axis = 0)*100, 2 )\n",
    "    return output.style.set_caption(f'{var1} vs. {var2}: Chi-square p-value={p:.2f}')"
   ]
  },
  {
   "cell_type": "code",
   "execution_count": 24,
   "metadata": {},
   "outputs": [
    {
     "data": {
      "text/html": [
       "<style type=\"text/css\">\n",
       "</style>\n",
       "<table id=\"T_56954_\">\n",
       "  <caption>emp_length vs. verification_status: Chi-square p-value=0.00</caption>\n",
       "  <thead>\n",
       "    <tr>\n",
       "      <th class=\"index_name level0\" >emp_length</th>\n",
       "      <th class=\"col_heading level0 col0\" >< 1 year</th>\n",
       "      <th class=\"col_heading level0 col1\" >1 year</th>\n",
       "      <th class=\"col_heading level0 col2\" >2 years</th>\n",
       "      <th class=\"col_heading level0 col3\" >3 years</th>\n",
       "      <th class=\"col_heading level0 col4\" >4 years</th>\n",
       "      <th class=\"col_heading level0 col5\" >5 years</th>\n",
       "      <th class=\"col_heading level0 col6\" >6 years</th>\n",
       "      <th class=\"col_heading level0 col7\" >7 years</th>\n",
       "      <th class=\"col_heading level0 col8\" >8 years</th>\n",
       "      <th class=\"col_heading level0 col9\" >9 years</th>\n",
       "      <th class=\"col_heading level0 col10\" >10+ years</th>\n",
       "    </tr>\n",
       "    <tr>\n",
       "      <th class=\"index_name level0\" >verification_status</th>\n",
       "      <th class=\"blank col0\" >&nbsp;</th>\n",
       "      <th class=\"blank col1\" >&nbsp;</th>\n",
       "      <th class=\"blank col2\" >&nbsp;</th>\n",
       "      <th class=\"blank col3\" >&nbsp;</th>\n",
       "      <th class=\"blank col4\" >&nbsp;</th>\n",
       "      <th class=\"blank col5\" >&nbsp;</th>\n",
       "      <th class=\"blank col6\" >&nbsp;</th>\n",
       "      <th class=\"blank col7\" >&nbsp;</th>\n",
       "      <th class=\"blank col8\" >&nbsp;</th>\n",
       "      <th class=\"blank col9\" >&nbsp;</th>\n",
       "      <th class=\"blank col10\" >&nbsp;</th>\n",
       "    </tr>\n",
       "  </thead>\n",
       "  <tbody>\n",
       "    <tr>\n",
       "      <th id=\"T_56954_level0_row0\" class=\"row_heading level0 row0\" >Not Verified</th>\n",
       "      <td id=\"T_56954_row0_col0\" class=\"data row0 col0\" >12.090000</td>\n",
       "      <td id=\"T_56954_row0_col1\" class=\"data row0 col1\" >9.410000</td>\n",
       "      <td id=\"T_56954_row0_col2\" class=\"data row0 col2\" >12.430000</td>\n",
       "      <td id=\"T_56954_row0_col3\" class=\"data row0 col3\" >11.100000</td>\n",
       "      <td id=\"T_56954_row0_col4\" class=\"data row0 col4\" >8.980000</td>\n",
       "      <td id=\"T_56954_row0_col5\" class=\"data row0 col5\" >8.590000</td>\n",
       "      <td id=\"T_56954_row0_col6\" class=\"data row0 col6\" >5.670000</td>\n",
       "      <td id=\"T_56954_row0_col7\" class=\"data row0 col7\" >4.440000</td>\n",
       "      <td id=\"T_56954_row0_col8\" class=\"data row0 col8\" >3.820000</td>\n",
       "      <td id=\"T_56954_row0_col9\" class=\"data row0 col9\" >3.330000</td>\n",
       "      <td id=\"T_56954_row0_col10\" class=\"data row0 col10\" >20.130000</td>\n",
       "    </tr>\n",
       "    <tr>\n",
       "      <th id=\"T_56954_level0_row1\" class=\"row_heading level0 row1\" >Source Verified</th>\n",
       "      <td id=\"T_56954_row1_col0\" class=\"data row1 col0\" >15.080000</td>\n",
       "      <td id=\"T_56954_row1_col1\" class=\"data row1 col1\" >8.520000</td>\n",
       "      <td id=\"T_56954_row1_col2\" class=\"data row1 col2\" >11.220000</td>\n",
       "      <td id=\"T_56954_row1_col3\" class=\"data row1 col3\" >10.710000</td>\n",
       "      <td id=\"T_56954_row1_col4\" class=\"data row1 col4\" >8.720000</td>\n",
       "      <td id=\"T_56954_row1_col5\" class=\"data row1 col5\" >8.480000</td>\n",
       "      <td id=\"T_56954_row1_col6\" class=\"data row1 col6\" >5.770000</td>\n",
       "      <td id=\"T_56954_row1_col7\" class=\"data row1 col7\" >4.650000</td>\n",
       "      <td id=\"T_56954_row1_col8\" class=\"data row1 col8\" >3.540000</td>\n",
       "      <td id=\"T_56954_row1_col9\" class=\"data row1 col9\" >3.030000</td>\n",
       "      <td id=\"T_56954_row1_col10\" class=\"data row1 col10\" >20.250000</td>\n",
       "    </tr>\n",
       "    <tr>\n",
       "      <th id=\"T_56954_level0_row2\" class=\"row_heading level0 row2\" >Verified</th>\n",
       "      <td id=\"T_56954_row2_col0\" class=\"data row2 col0\" >8.990000</td>\n",
       "      <td id=\"T_56954_row2_col1\" class=\"data row2 col1\" >6.920000</td>\n",
       "      <td id=\"T_56954_row2_col2\" class=\"data row2 col2\" >10.020000</td>\n",
       "      <td id=\"T_56954_row2_col3\" class=\"data row2 col3\" >9.810000</td>\n",
       "      <td id=\"T_56954_row2_col4\" class=\"data row2 col4\" >8.940000</td>\n",
       "      <td id=\"T_56954_row2_col5\" class=\"data row2 col5\" >8.350000</td>\n",
       "      <td id=\"T_56954_row2_col6\" class=\"data row2 col6\" >5.880000</td>\n",
       "      <td id=\"T_56954_row2_col7\" class=\"data row2 col7\" >4.720000</td>\n",
       "      <td id=\"T_56954_row2_col8\" class=\"data row2 col8\" >4.080000</td>\n",
       "      <td id=\"T_56954_row2_col9\" class=\"data row2 col9\" >3.320000</td>\n",
       "      <td id=\"T_56954_row2_col10\" class=\"data row2 col10\" >28.980000</td>\n",
       "    </tr>\n",
       "  </tbody>\n",
       "</table>\n"
      ],
      "text/plain": [
       "<pandas.io.formats.style.Styler at 0x1b986bcd6a0>"
      ]
     },
     "metadata": {},
     "output_type": "display_data"
    },
    {
     "data": {
      "text/html": [
       "<style type=\"text/css\">\n",
       "</style>\n",
       "<table id=\"T_60cac_\">\n",
       "  <caption>home_ownership vs. verification_status: Chi-square p-value=0.00</caption>\n",
       "  <thead>\n",
       "    <tr>\n",
       "      <th class=\"index_name level0\" >home_ownership</th>\n",
       "      <th class=\"col_heading level0 col0\" >RENT</th>\n",
       "      <th class=\"col_heading level0 col1\" >MORTGAGE</th>\n",
       "      <th class=\"col_heading level0 col2\" >OWN</th>\n",
       "      <th class=\"col_heading level0 col3\" >OTHER</th>\n",
       "    </tr>\n",
       "    <tr>\n",
       "      <th class=\"index_name level0\" >verification_status</th>\n",
       "      <th class=\"blank col0\" >&nbsp;</th>\n",
       "      <th class=\"blank col1\" >&nbsp;</th>\n",
       "      <th class=\"blank col2\" >&nbsp;</th>\n",
       "      <th class=\"blank col3\" >&nbsp;</th>\n",
       "    </tr>\n",
       "  </thead>\n",
       "  <tbody>\n",
       "    <tr>\n",
       "      <th id=\"T_60cac_level0_row0\" class=\"row_heading level0 row0\" >Not Verified</th>\n",
       "      <td id=\"T_60cac_row0_col0\" class=\"data row0 col0\" >49.730000</td>\n",
       "      <td id=\"T_60cac_row0_col1\" class=\"data row0 col1\" >41.590000</td>\n",
       "      <td id=\"T_60cac_row0_col2\" class=\"data row0 col2\" >8.360000</td>\n",
       "      <td id=\"T_60cac_row0_col3\" class=\"data row0 col3\" >0.320000</td>\n",
       "    </tr>\n",
       "    <tr>\n",
       "      <th id=\"T_60cac_level0_row1\" class=\"row_heading level0 row1\" >Source Verified</th>\n",
       "      <td id=\"T_60cac_row1_col0\" class=\"data row1 col0\" >52.420000</td>\n",
       "      <td id=\"T_60cac_row1_col1\" class=\"data row1 col1\" >40.020000</td>\n",
       "      <td id=\"T_60cac_row1_col2\" class=\"data row1 col2\" >7.450000</td>\n",
       "      <td id=\"T_60cac_row1_col3\" class=\"data row1 col3\" >0.100000</td>\n",
       "    </tr>\n",
       "    <tr>\n",
       "      <th id=\"T_60cac_level0_row2\" class=\"row_heading level0 row2\" >Verified</th>\n",
       "      <td id=\"T_60cac_row2_col0\" class=\"data row2 col0\" >41.620000</td>\n",
       "      <td id=\"T_60cac_row2_col1\" class=\"data row2 col1\" >52.180000</td>\n",
       "      <td id=\"T_60cac_row2_col2\" class=\"data row2 col2\" >5.920000</td>\n",
       "      <td id=\"T_60cac_row2_col3\" class=\"data row2 col3\" >0.290000</td>\n",
       "    </tr>\n",
       "  </tbody>\n",
       "</table>\n"
      ],
      "text/plain": [
       "<pandas.io.formats.style.Styler at 0x1b987e8ffa0>"
      ]
     },
     "metadata": {},
     "output_type": "display_data"
    },
    {
     "data": {
      "text/html": [
       "<style type=\"text/css\">\n",
       "</style>\n",
       "<table id=\"T_4ee9a_\">\n",
       "  <caption>purpose vs. verification_status: Chi-square p-value=0.00</caption>\n",
       "  <thead>\n",
       "    <tr>\n",
       "      <th class=\"index_name level0\" >purpose</th>\n",
       "      <th class=\"col_heading level0 col0\" >car</th>\n",
       "      <th class=\"col_heading level0 col1\" >credit_card</th>\n",
       "      <th class=\"col_heading level0 col2\" >debt_consolidation</th>\n",
       "      <th class=\"col_heading level0 col3\" >educational</th>\n",
       "      <th class=\"col_heading level0 col4\" >home_improvement</th>\n",
       "      <th class=\"col_heading level0 col5\" >house</th>\n",
       "      <th class=\"col_heading level0 col6\" >major_purchase</th>\n",
       "      <th class=\"col_heading level0 col7\" >medical</th>\n",
       "      <th class=\"col_heading level0 col8\" >moving</th>\n",
       "      <th class=\"col_heading level0 col9\" >other</th>\n",
       "      <th class=\"col_heading level0 col10\" >renewable_energy</th>\n",
       "      <th class=\"col_heading level0 col11\" >small_business</th>\n",
       "      <th class=\"col_heading level0 col12\" >vacation</th>\n",
       "      <th class=\"col_heading level0 col13\" >wedding</th>\n",
       "    </tr>\n",
       "    <tr>\n",
       "      <th class=\"index_name level0\" >verification_status</th>\n",
       "      <th class=\"blank col0\" >&nbsp;</th>\n",
       "      <th class=\"blank col1\" >&nbsp;</th>\n",
       "      <th class=\"blank col2\" >&nbsp;</th>\n",
       "      <th class=\"blank col3\" >&nbsp;</th>\n",
       "      <th class=\"blank col4\" >&nbsp;</th>\n",
       "      <th class=\"blank col5\" >&nbsp;</th>\n",
       "      <th class=\"blank col6\" >&nbsp;</th>\n",
       "      <th class=\"blank col7\" >&nbsp;</th>\n",
       "      <th class=\"blank col8\" >&nbsp;</th>\n",
       "      <th class=\"blank col9\" >&nbsp;</th>\n",
       "      <th class=\"blank col10\" >&nbsp;</th>\n",
       "      <th class=\"blank col11\" >&nbsp;</th>\n",
       "      <th class=\"blank col12\" >&nbsp;</th>\n",
       "      <th class=\"blank col13\" >&nbsp;</th>\n",
       "    </tr>\n",
       "  </thead>\n",
       "  <tbody>\n",
       "    <tr>\n",
       "      <th id=\"T_4ee9a_level0_row0\" class=\"row_heading level0 row0\" >Not Verified</th>\n",
       "      <td id=\"T_4ee9a_row0_col0\" class=\"data row0 col0\" >4.770000</td>\n",
       "      <td id=\"T_4ee9a_row0_col1\" class=\"data row0 col1\" >13.470000</td>\n",
       "      <td id=\"T_4ee9a_row0_col2\" class=\"data row0 col2\" >43.510000</td>\n",
       "      <td id=\"T_4ee9a_row0_col3\" class=\"data row0 col3\" >1.350000</td>\n",
       "      <td id=\"T_4ee9a_row0_col4\" class=\"data row0 col4\" >7.170000</td>\n",
       "      <td id=\"T_4ee9a_row0_col5\" class=\"data row0 col5\" >0.830000</td>\n",
       "      <td id=\"T_4ee9a_row0_col6\" class=\"data row0 col6\" >6.150000</td>\n",
       "      <td id=\"T_4ee9a_row0_col7\" class=\"data row0 col7\" >1.800000</td>\n",
       "      <td id=\"T_4ee9a_row0_col8\" class=\"data row0 col8\" >1.420000</td>\n",
       "      <td id=\"T_4ee9a_row0_col9\" class=\"data row0 col9\" >12.100000</td>\n",
       "      <td id=\"T_4ee9a_row0_col10\" class=\"data row0 col10\" >0.190000</td>\n",
       "      <td id=\"T_4ee9a_row0_col11\" class=\"data row0 col11\" >3.950000</td>\n",
       "      <td id=\"T_4ee9a_row0_col12\" class=\"data row0 col12\" >0.990000</td>\n",
       "      <td id=\"T_4ee9a_row0_col13\" class=\"data row0 col13\" >2.290000</td>\n",
       "    </tr>\n",
       "    <tr>\n",
       "      <th id=\"T_4ee9a_level0_row1\" class=\"row_heading level0 row1\" >Source Verified</th>\n",
       "      <td id=\"T_4ee9a_row1_col0\" class=\"data row1 col0\" >4.590000</td>\n",
       "      <td id=\"T_4ee9a_row1_col1\" class=\"data row1 col1\" >12.030000</td>\n",
       "      <td id=\"T_4ee9a_row1_col2\" class=\"data row1 col2\" >46.270000</td>\n",
       "      <td id=\"T_4ee9a_row1_col3\" class=\"data row1 col3\" >0.330000</td>\n",
       "      <td id=\"T_4ee9a_row1_col4\" class=\"data row1 col4\" >7.350000</td>\n",
       "      <td id=\"T_4ee9a_row1_col5\" class=\"data row1 col5\" >1.000000</td>\n",
       "      <td id=\"T_4ee9a_row1_col6\" class=\"data row1 col6\" >6.020000</td>\n",
       "      <td id=\"T_4ee9a_row1_col7\" class=\"data row1 col7\" >2.080000</td>\n",
       "      <td id=\"T_4ee9a_row1_col8\" class=\"data row1 col8\" >2.000000</td>\n",
       "      <td id=\"T_4ee9a_row1_col9\" class=\"data row1 col9\" >9.310000</td>\n",
       "      <td id=\"T_4ee9a_row1_col10\" class=\"data row1 col10\" >0.380000</td>\n",
       "      <td id=\"T_4ee9a_row1_col11\" class=\"data row1 col11\" >4.570000</td>\n",
       "      <td id=\"T_4ee9a_row1_col12\" class=\"data row1 col12\" >1.100000</td>\n",
       "      <td id=\"T_4ee9a_row1_col13\" class=\"data row1 col13\" >2.980000</td>\n",
       "    </tr>\n",
       "    <tr>\n",
       "      <th id=\"T_4ee9a_level0_row2\" class=\"row_heading level0 row2\" >Verified</th>\n",
       "      <td id=\"T_4ee9a_row2_col0\" class=\"data row2 col0\" >2.110000</td>\n",
       "      <td id=\"T_4ee9a_row2_col1\" class=\"data row2 col1\" >12.950000</td>\n",
       "      <td id=\"T_4ee9a_row2_col2\" class=\"data row2 col2\" >52.900000</td>\n",
       "      <td id=\"T_4ee9a_row2_col3\" class=\"data row2 col3\" >0.510000</td>\n",
       "      <td id=\"T_4ee9a_row2_col4\" class=\"data row2 col4\" >7.930000</td>\n",
       "      <td id=\"T_4ee9a_row2_col5\" class=\"data row2 col5\" >1.080000</td>\n",
       "      <td id=\"T_4ee9a_row2_col6\" class=\"data row2 col6\" >4.130000</td>\n",
       "      <td id=\"T_4ee9a_row2_col7\" class=\"data row2 col7\" >1.360000</td>\n",
       "      <td id=\"T_4ee9a_row2_col8\" class=\"data row2 col8\" >1.030000</td>\n",
       "      <td id=\"T_4ee9a_row2_col9\" class=\"data row2 col9\" >7.480000</td>\n",
       "      <td id=\"T_4ee9a_row2_col10\" class=\"data row2 col10\" >0.210000</td>\n",
       "      <td id=\"T_4ee9a_row2_col11\" class=\"data row2 col11\" >5.530000</td>\n",
       "      <td id=\"T_4ee9a_row2_col12\" class=\"data row2 col12\" >0.650000</td>\n",
       "      <td id=\"T_4ee9a_row2_col13\" class=\"data row2 col13\" >2.130000</td>\n",
       "    </tr>\n",
       "  </tbody>\n",
       "</table>\n"
      ],
      "text/plain": [
       "<pandas.io.formats.style.Styler at 0x1b986958d00>"
      ]
     },
     "metadata": {},
     "output_type": "display_data"
    },
    {
     "data": {
      "text/html": [
       "<style type=\"text/css\">\n",
       "</style>\n",
       "<table id=\"T_f1947_\">\n",
       "  <caption>term vs. verification_status: Chi-square p-value=0.00</caption>\n",
       "  <thead>\n",
       "    <tr>\n",
       "      <th class=\"index_name level0\" >term</th>\n",
       "      <th class=\"col_heading level0 col0\" > 36 months</th>\n",
       "      <th class=\"col_heading level0 col1\" > 60 months</th>\n",
       "    </tr>\n",
       "    <tr>\n",
       "      <th class=\"index_name level0\" >verification_status</th>\n",
       "      <th class=\"blank col0\" >&nbsp;</th>\n",
       "      <th class=\"blank col1\" >&nbsp;</th>\n",
       "    </tr>\n",
       "  </thead>\n",
       "  <tbody>\n",
       "    <tr>\n",
       "      <th id=\"T_f1947_level0_row0\" class=\"row_heading level0 row0\" >Not Verified</th>\n",
       "      <td id=\"T_f1947_row0_col0\" class=\"data row0 col0\" >85.790000</td>\n",
       "      <td id=\"T_f1947_row0_col1\" class=\"data row0 col1\" >14.210000</td>\n",
       "    </tr>\n",
       "    <tr>\n",
       "      <th id=\"T_f1947_level0_row1\" class=\"row_heading level0 row1\" >Source Verified</th>\n",
       "      <td id=\"T_f1947_row1_col0\" class=\"data row1 col0\" >69.460000</td>\n",
       "      <td id=\"T_f1947_row1_col1\" class=\"data row1 col1\" >30.540000</td>\n",
       "    </tr>\n",
       "    <tr>\n",
       "      <th id=\"T_f1947_level0_row2\" class=\"row_heading level0 row2\" >Verified</th>\n",
       "      <td id=\"T_f1947_row2_col0\" class=\"data row2 col0\" >59.010000</td>\n",
       "      <td id=\"T_f1947_row2_col1\" class=\"data row2 col1\" >40.990000</td>\n",
       "    </tr>\n",
       "  </tbody>\n",
       "</table>\n"
      ],
      "text/plain": [
       "<pandas.io.formats.style.Styler at 0x1b986977be0>"
      ]
     },
     "metadata": {},
     "output_type": "display_data"
    },
    {
     "data": {
      "text/html": [
       "<style type=\"text/css\">\n",
       "</style>\n",
       "<table id=\"T_01333_\">\n",
       "  <caption>grade vs. verification_status: Chi-square p-value=0.00</caption>\n",
       "  <thead>\n",
       "    <tr>\n",
       "      <th class=\"index_name level0\" >grade</th>\n",
       "      <th class=\"col_heading level0 col0\" >A</th>\n",
       "      <th class=\"col_heading level0 col1\" >B</th>\n",
       "      <th class=\"col_heading level0 col2\" >C</th>\n",
       "      <th class=\"col_heading level0 col3\" >D</th>\n",
       "      <th class=\"col_heading level0 col4\" >E</th>\n",
       "      <th class=\"col_heading level0 col5\" >F</th>\n",
       "      <th class=\"col_heading level0 col6\" >G</th>\n",
       "    </tr>\n",
       "    <tr>\n",
       "      <th class=\"index_name level0\" >verification_status</th>\n",
       "      <th class=\"blank col0\" >&nbsp;</th>\n",
       "      <th class=\"blank col1\" >&nbsp;</th>\n",
       "      <th class=\"blank col2\" >&nbsp;</th>\n",
       "      <th class=\"blank col3\" >&nbsp;</th>\n",
       "      <th class=\"blank col4\" >&nbsp;</th>\n",
       "      <th class=\"blank col5\" >&nbsp;</th>\n",
       "      <th class=\"blank col6\" >&nbsp;</th>\n",
       "    </tr>\n",
       "  </thead>\n",
       "  <tbody>\n",
       "    <tr>\n",
       "      <th id=\"T_01333_level0_row0\" class=\"row_heading level0 row0\" >Not Verified</th>\n",
       "      <td id=\"T_01333_row0_col0\" class=\"data row0 col0\" >30.340000</td>\n",
       "      <td id=\"T_01333_row0_col1\" class=\"data row0 col1\" >31.980000</td>\n",
       "      <td id=\"T_01333_row0_col2\" class=\"data row0 col2\" >20.830000</td>\n",
       "      <td id=\"T_01333_row0_col3\" class=\"data row0 col3\" >11.630000</td>\n",
       "      <td id=\"T_01333_row0_col4\" class=\"data row0 col4\" >3.930000</td>\n",
       "      <td id=\"T_01333_row0_col5\" class=\"data row0 col5\" >1.030000</td>\n",
       "      <td id=\"T_01333_row0_col6\" class=\"data row0 col6\" >0.270000</td>\n",
       "    </tr>\n",
       "    <tr>\n",
       "      <th id=\"T_01333_level0_row1\" class=\"row_heading level0 row1\" >Source Verified</th>\n",
       "      <td id=\"T_01333_row1_col0\" class=\"data row1 col0\" >25.300000</td>\n",
       "      <td id=\"T_01333_row1_col1\" class=\"data row1 col1\" >29.430000</td>\n",
       "      <td id=\"T_01333_row1_col2\" class=\"data row1 col2\" >19.950000</td>\n",
       "      <td id=\"T_01333_row1_col3\" class=\"data row1 col3\" >13.970000</td>\n",
       "      <td id=\"T_01333_row1_col4\" class=\"data row1 col4\" >7.760000</td>\n",
       "      <td id=\"T_01333_row1_col5\" class=\"data row1 col5\" >2.870000</td>\n",
       "      <td id=\"T_01333_row1_col6\" class=\"data row1 col6\" >0.710000</td>\n",
       "    </tr>\n",
       "    <tr>\n",
       "      <th id=\"T_01333_level0_row2\" class=\"row_heading level0 row2\" >Verified</th>\n",
       "      <td id=\"T_01333_row2_col0\" class=\"data row2 col0\" >17.800000</td>\n",
       "      <td id=\"T_01333_row2_col1\" class=\"data row2 col1\" >28.500000</td>\n",
       "      <td id=\"T_01333_row2_col2\" class=\"data row2 col2\" >20.530000</td>\n",
       "      <td id=\"T_01333_row2_col3\" class=\"data row2 col3\" >15.520000</td>\n",
       "      <td id=\"T_01333_row2_col4\" class=\"data row2 col4\" >11.310000</td>\n",
       "      <td id=\"T_01333_row2_col5\" class=\"data row2 col5\" >4.710000</td>\n",
       "      <td id=\"T_01333_row2_col6\" class=\"data row2 col6\" >1.640000</td>\n",
       "    </tr>\n",
       "  </tbody>\n",
       "</table>\n"
      ],
      "text/plain": [
       "<pandas.io.formats.style.Styler at 0x1b987e8ff70>"
      ]
     },
     "metadata": {},
     "output_type": "display_data"
    }
   ],
   "source": [
    "display(get_rctable('emp_length', 'verification_status'))\n",
    "display(get_rctable('home_ownership', 'verification_status'))\n",
    "display(get_rctable('purpose', 'verification_status'))\n",
    "display(get_rctable('term', 'verification_status'))\n",
    "display(get_rctable('grade', 'verification_status'))"
   ]
  },
  {
   "cell_type": "code",
   "execution_count": null,
   "metadata": {},
   "outputs": [],
   "source": [
    "sns.boxplot(y='loan_amnt', x='verification_status', data = df)"
   ]
  },
  {
   "cell_type": "code",
   "execution_count": null,
   "metadata": {},
   "outputs": [],
   "source": [
    "sns.boxplot(y='annual_inc', x='verification_status', data = df).set_yscale('log')"
   ]
  },
  {
   "cell_type": "code",
   "execution_count": null,
   "metadata": {},
   "outputs": [],
   "source": [
    "sns.boxplot(y='int_rate', x='verification_status', data = df)"
   ]
  },
  {
   "cell_type": "markdown",
   "metadata": {},
   "source": [
    "### Ejercicio 10:\n",
    "\n",
    "Según las relaciones que hemos observado en las tablas de contingencia y los gráficos de caja anteriores, ¿cuál de las siguientes afirmaciones es correcta? Seleccione todas las que correspondan.\n",
    "\n",
    "A. La tendencia marginal es que las personas con ingresos verificados tienden a pedir préstamos con tipos de interés más altos\n",
    "\n",
    "B. La tendencia marginal es que las personas con ingresos verificados tienden a tener una mayor duración del empleo\n",
    "\n",
    "C. La tendencia marginal es que las personas con ingresos verificados tienden a tener hipotecas"
   ]
  },
  {
   "cell_type": "markdown",
   "metadata": {},
   "source": [
    "## ¿Necesitamos incluir `verification_status`?"
   ]
  },
  {
   "cell_type": "markdown",
   "metadata": {},
   "source": [
    "De lo anterior, podríamos llegar a la conclusión de que `verification_status` no importa cuando queremos predecir si un prestatario va a incumplir su deuda. Pero, ¿significa esto que en el futuro podremos ignorar el estado de verificación de un solicitante cuando presente una solicitud de préstamo a través de LC?"
   ]
  },
  {
   "cell_type": "markdown",
   "metadata": {},
   "source": [
    "### Ejercicio 11:\n",
    "\n",
    "¿Cuál de las siguientes afirmaciones es cierta respecto a lo que deberíamos hacer con `verification_status`, basándonos en los resultados que tenemos hasta ahora?\n",
    "\n",
    "A. Dado que el valor $p$ de \"Verification_status\" es grande, podemos eliminarlo de nuestro modelo de clasificación y, en el futuro, no necesitaremos recoger esta parte de la información de los solicitantes.\n",
    "\n",
    "B. Aunque el valor $p$ de `estado de verificación` es grande, el coeficiente de regresión estimado para él es distinto de cero. Deberíamos mantener la variable en el modelo y seguir recogiendo la información en el futuro.\n",
    "\n",
    "C. Deberíamos llevar a cabo una evaluación adicional para comparar las precisiones de predicción del modelo con y sin \"estado_de_verificación\" antes de tomar cualquier otra decisión.\n",
    "\n",
    "D. Ninguna de las anteriores."
   ]
  },
  {
   "cell_type": "markdown",
   "metadata": {},
   "source": [
    "Vamos a evaluar la precisión de la predicción utilizando el ROC. Los resultados se muestran a continuación:"
   ]
  },
  {
   "cell_type": "code",
   "execution_count": null,
   "metadata": {},
   "outputs": [],
   "source": [
    "predict_withvs = logit_full1_res.predict(df_log2)\n",
    "logit_full_novs = sm.Logit(df.loan_status.cat.codes, df_log2.loc[:, df_log2.columns != 'verification_status'])\n",
    "predict_novs = logit_full_novs.fit(disp=0).predict(df_log2.loc[:, df_log2.columns != 'verification_status'])\n",
    "\n",
    "roc_vs = roc_curve(df.loan_status.cat.codes, predict_withvs)\n",
    "roc_novs = roc_curve(df.loan_status.cat.codes, predict_novs)\n",
    "auc_vs = auc( roc_vs[0], roc_vs[1] )\n",
    "auc_novs = auc( roc_novs[0], roc_novs[1])\n",
    "\n",
    "plt.figure()\n",
    "line_width = 2\n",
    "plt.plot(roc_vs[0], roc_vs[1], color='darkorange',\n",
    "         lw=line_width, label=f'With verification_status (AUC = {auc_vs:0.2f})')\n",
    "plt.plot(roc_novs[0], roc_novs[1], color='darkgreen',\n",
    "         lw=line_width, label=f'Without verification_status (AUC = {auc_novs:0.2f})')\n",
    "plt.plot([0, 1], [0, 1], color='navy', lw=line_width, linestyle='--', label='Random guess')\n",
    "plt.xlim([0.0, 1.0])\n",
    "plt.ylim([0.0, 1.05])\n",
    "plt.xlabel('False Positive Rate')\n",
    "plt.ylabel('True Positive Rate')\n",
    "plt.title('Classification of Defaulters')\n",
    "plt.legend(loc='lower right')\n",
    "plt.show()"
   ]
  },
  {
   "cell_type": "markdown",
   "metadata": {},
   "source": [
    "### Ejercicio 12:\n",
    "\n",
    "Basándonos en todos los resultados anteriores, ¿qué podemos concluir sobre el proceso de verificación?"
   ]
  },
  {
   "cell_type": "markdown",
   "metadata": {},
   "source": [
    "**Respuesta**\n",
    "\n",
    "Encontramos que el AUC para el modelo con \"estado de verificación\" incluido es el mismo que el modelo sin \"estado de verificación\" incluido (0,69). Dado que siempre queremos que nuestro modelo sea lo más sencillo posible, esto significa que no debemos incluir `verification_status` como variable a la hora de predecir si es probable que un usuario pague su deuda."
   ]
  },
  {
   "cell_type": "markdown",
   "metadata": {},
   "source": [
    "**Connclusiones**\n",
    "\n",
    "En este caso, investigamos si el estado de verificación de la fuente de ingresos de los solicitantes es importante a la hora de predecir si un solicitante pagará su deuda. Construimos un modelo logístico para examinar primero la relación marginal entre el estado de verificación y la probabilidad de pago. Descubrimos una tendencia contraria a la intuición: una información menos fiable sobre la fuente de ingresos estaba relacionada con una mayor probabilidad de saldar la deuda. Sin embargo, tras ajustar un modelo logístico más amplio con todas las variables independientes disponibles, descubrimos que esta tendencia se introducía a través de los efectos de confusión del tipo de interés, los ingresos anuales y el plazo del préstamo.\n",
    "\n",
    "Después de tener en cuenta estas variables, el estado de verificación ya no estaba significativamente asociado con la probabilidad de pago. Basándonos en los valores $p$ y en el modelo ROC, concluimos que el proceso de verificación es irrelevante y que podríamos eliminarlo de los elementos requeridos y simplificar el proceso de préstamo."
   ]
  },
  {
   "cell_type": "markdown",
   "metadata": {},
   "source": [
    "En este caso, hemos introducido el concepto de **regresión logística** y cómo puede utilizarse como **clasificador**. Lo hicimos mediante:\n",
    "\n",
    "1. Realizando EDA sobre un resultado binario utilizando tablas cruzadas\n",
    "2. Realizando pruebas estadísticas para generar hipótesis\n",
    "3. Codificación y comprobación de estas hipótesis con modelos más amplios mediante regresiones logísticas\n",
    "4. Evaluar el rendimiento del clasificador mediante el AUC\n",
    "\n",
    "La regresión logística amplía de forma natural el concepto de regresión lineal y es el modelo de referencia para realizar tareas de clasificación. Los coeficientes tienen una interpretación similar a los de la regresión lineal. Las curvas ROC son entonces útiles para comparar diferentes modelos de clasificación.\n",
    "\n",
    "La regresión logística es sólo una de las muchas herramientas utilizadas en la clasificación. Aunque es simple, funciona bastante bien y necesita relativamente pocos datos para entrenarse en comparación con otros clasificadores más modernos. Aunque sólo hemos estudiado el caso binario, existen extensiones de la regresión logística para manejar también la regresión ordinal y multiclase (puede leer sobre ellas en su tiempo libre)."
   ]
  },
  {
   "cell_type": "code",
   "execution_count": null,
   "metadata": {},
   "outputs": [],
   "source": []
  }
 ],
 "metadata": {
  "c1_recart": "7.1.0-57c20131aabc1dc2a8c675852d80a7da",
  "kernelspec": {
   "display_name": "Python 3 (ipykernel)",
   "language": "python",
   "name": "python3"
  },
  "language_info": {
   "codemirror_mode": {
    "name": "ipython",
    "version": 3
   },
   "file_extension": ".py",
   "mimetype": "text/x-python",
   "name": "python",
   "nbconvert_exporter": "python",
   "pygments_lexer": "ipython3",
   "version": "3.9.7"
  }
 },
 "nbformat": 4,
 "nbformat_minor": 4
}
