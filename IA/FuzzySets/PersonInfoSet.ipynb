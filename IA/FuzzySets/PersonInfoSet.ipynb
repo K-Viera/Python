{
  "nbformat": 4,
  "nbformat_minor": 0,
  "metadata": {
    "colab": {
      "provenance": [],
      "authorship_tag": "ABX9TyOlXefBSQDjaaGsSLZDvzeu",
      "include_colab_link": true
    },
    "kernelspec": {
      "name": "python3",
      "display_name": "Python 3"
    },
    "language_info": {
      "name": "python"
    }
  },
  "cells": [
    {
      "cell_type": "markdown",
      "metadata": {
        "id": "view-in-github",
        "colab_type": "text"
      },
      "source": [
        "<a href=\"https://colab.research.google.com/github/K-Viera/Python/blob/main/IA/FuzzySets/PersonInfoSet.ipynb\" target=\"_parent\"><img src=\"https://colab.research.google.com/assets/colab-badge.svg\" alt=\"Open In Colab\"/></a>"
      ]
    },
    {
      "cell_type": "code",
      "source": [
        "!pip install scikit-fuzzy"
      ],
      "metadata": {
        "colab": {
          "base_uri": "https://localhost:8080/"
        },
        "id": "6MGQA3CPDLKf",
        "outputId": "5c2c2d61-f14e-4244-a79f-72c23be4559b"
      },
      "execution_count": 1,
      "outputs": [
        {
          "output_type": "stream",
          "name": "stdout",
          "text": [
            "Looking in indexes: https://pypi.org/simple, https://us-python.pkg.dev/colab-wheels/public/simple/\n",
            "Collecting scikit-fuzzy\n",
            "  Downloading scikit-fuzzy-0.4.2.tar.gz (993 kB)\n",
            "\u001b[K     |████████████████████████████████| 993 kB 4.0 MB/s \n",
            "\u001b[?25hRequirement already satisfied: numpy>=1.6.0 in /usr/local/lib/python3.7/dist-packages (from scikit-fuzzy) (1.21.6)\n",
            "Requirement already satisfied: scipy>=0.9.0 in /usr/local/lib/python3.7/dist-packages (from scikit-fuzzy) (1.7.3)\n",
            "Requirement already satisfied: networkx>=1.9.0 in /usr/local/lib/python3.7/dist-packages (from scikit-fuzzy) (2.6.3)\n",
            "Building wheels for collected packages: scikit-fuzzy\n",
            "  Building wheel for scikit-fuzzy (setup.py) ... \u001b[?25l\u001b[?25hdone\n",
            "  Created wheel for scikit-fuzzy: filename=scikit_fuzzy-0.4.2-py3-none-any.whl size=894089 sha256=68122bfff536a929501323d1f164fb7e47139244cbf66ff1b7b755f6d2cf6a81\n",
            "  Stored in directory: /root/.cache/pip/wheels/d5/74/fc/38588a3d2e3f34f74588e6daa3aa5b0a322bd6f9420a707131\n",
            "Successfully built scikit-fuzzy\n",
            "Installing collected packages: scikit-fuzzy\n",
            "Successfully installed scikit-fuzzy-0.4.2\n"
          ]
        }
      ]
    },
    {
      "cell_type": "code",
      "source": [
        "import numpy as np\n",
        "import skfuzzy as fuzz\n",
        "import skfuzzy.control as ctrl\n",
        "import matplotlib.pyplot as plt\n",
        "from mpl_toolkits.mplot3d import Axes3D"
      ],
      "metadata": {
        "id": "X6tw01qMDM48"
      },
      "execution_count": 7,
      "outputs": []
    },
    {
      "cell_type": "code",
      "execution_count": 5,
      "metadata": {
        "id": "IJfv9y4jBnhQ"
      },
      "outputs": [],
      "source": [
        "universe_edad=np.arange(0,120,1)\n",
        "universe_peso=np.arange(0,130,1)\n",
        "universe_altura=np.arange(0,270,2)"
      ]
    },
    {
      "cell_type": "code",
      "source": [
        "v_edad=['niño','joven','adulto','viejo']\n",
        "v_peso=['delgado','normal','pesado']\n",
        "v_altura=['bajo','normal','alto']"
      ],
      "metadata": {
        "id": "vpb3PrftD0AU"
      },
      "execution_count": 6,
      "outputs": []
    },
    {
      "cell_type": "code",
      "source": [
        "edad_nino=fuzz.trapmf(universe_edad,[0,0,13,20])\n",
        "edad_joven=fuzz.trapmf(universe_edad,[13,20,30,35])\n",
        "edad_adulto=fuzz.trapmf(universe_edad,[20,35,50,70])\n",
        "edad_viejo=fuzz.trapmf(universe_edad,[50,70,120,120])"
      ],
      "metadata": {
        "id": "l9yZzCW8Ev-u"
      },
      "execution_count": 10,
      "outputs": []
    },
    {
      "cell_type": "code",
      "source": [
        "plt.figure()\n",
        "plt.plot(universe_edad,edad_nino,label='niño')\n",
        "plt.plot(universe_edad,edad_joven,label='joven')\n",
        "plt.plot(universe_edad,edad_adulto,label='adulto')\n",
        "plt.plot(universe_edad,edad_viejo,label='viejo')\n",
        "plt.xlabel('Edad')\n",
        "plt.ylabel('Membresía')"
      ],
      "metadata": {
        "colab": {
          "base_uri": "https://localhost:8080/",
          "height": 296
        },
        "id": "fCymUR9yGT9F",
        "outputId": "768182c6-f242-42bf-cd19-ae713aadcf8b"
      },
      "execution_count": 11,
      "outputs": [
        {
          "output_type": "execute_result",
          "data": {
            "text/plain": [
              "Text(0, 0.5, 'Membresía')"
            ]
          },
          "metadata": {},
          "execution_count": 11
        },
        {
          "output_type": "display_data",
          "data": {
            "text/plain": [
              "<Figure size 432x288 with 1 Axes>"
            ],
            "image/png": "[encoded data removed]"
          },
          "metadata": {
            "needs_background": "light"
          }
        }
      ]
    }
  ]
}