{
  "nbformat": 4,
  "nbformat_minor": 0,
  "metadata": {
    "colab": {
      "name": "AI_GeneticAlgorithm_KnacksackProblem.ipynb",
      "provenance": [],
      "include_colab_link": true
    },
    "kernelspec": {
      "name": "python3",
      "display_name": "Python 3"
    },
    "language_info": {
      "name": "python"
    }
  },
  "cells": [
    {
      "cell_type": "markdown",
      "metadata": {
        "id": "view-in-github",
        "colab_type": "text"
      },
      "source": [
        "<a href=\"https://colab.research.google.com/github/K-Viera/Python/blob/main/IA/GeneticAlgorithms/AI_GeneticAlgorithm_KnacksackProblem.ipynb\" target=\"_parent\"><img src=\"https://colab.research.google.com/assets/colab-badge.svg\" alt=\"Open In Colab\"/></a>"
      ]
    },
    {
      "cell_type": "markdown",
      "metadata": {
        "id": "vdtUE7wlsG1U"
      },
      "source": [
        "# Problema de la mochila con algoritmos genéticos"
      ]
    },
    {
      "cell_type": "markdown",
      "metadata": {
        "id": "rpXs5PIco1Ex"
      },
      "source": [
        "Supondremos que tenemos N productos para poner en la mochila, cada producto tiene un peso y un precio. La mochila tiene un peso máximo permitido.\n",
        "Para esto tenemos una lista con los N pesos (weights) y otra con los N precios (prices)."
      ]
    },
    {
      "cell_type": "code",
      "metadata": {
        "id": "dXOsFCzkmb2X"
      },
      "source": [
        "import numpy as np\n",
        "import pandas as pd\n",
        "import plotly.express as px"
      ],
      "execution_count": 1,
      "outputs": []
    },
    {
      "cell_type": "markdown",
      "metadata": {
        "id": "9HmK4EHDsYQ7"
      },
      "source": [
        "Generar variables aleatorias con vectores de pesos y precios suponiendo que se tienen 10 Productos."
      ]
    },
    {
      "cell_type": "markdown",
      "metadata": {
        "id": "WleLHtpDplrD"
      },
      "source": [
        "Ejemplo: Se suponen N productos en una mochila con una capacidad W. Por defecto pondremos N=10 y W= 15 kg"
      ]
    },
    {
      "cell_type": "code",
      "metadata": {
        "id": "eYpHUwbns8iK"
      },
      "source": [
        "#@title Introduzca los valores de N (cantidad de productos), W en kg permitidos para la mochila\n",
        "N = 10 #@param {type:\"integer\"}\n",
        "W = 15 #@param {type:\"integer\"}\n",
        "\n"
      ],
      "execution_count": 2,
      "outputs": []
    },
    {
      "cell_type": "code",
      "metadata": {
        "id": "HmkIvDEWxU48"
      },
      "source": [
        "#@title Rango de precios\n",
        "\n",
        "minprice = 1 #@param {type:\"number\"}\n",
        "maxprice = 100 #@param {type:\"number\"}"
      ],
      "execution_count": 3,
      "outputs": []
    },
    {
      "cell_type": "markdown",
      "metadata": {
        "id": "ioE7hODzuiOa"
      },
      "source": [
        "Generar los vectores ***weights*** y ***prices*** aleatorios"
      ]
    },
    {
      "cell_type": "code",
      "metadata": {
        "id": "z3_y14X6u18q",
        "outputId": "106888c9-44b4-4c0e-f3a5-5ebff7adbd41",
        "colab": {
          "base_uri": "https://localhost:8080/"
        }
      },
      "source": [
        "weights = W*np.random.random_sample((N,))\n",
        "print(weights)\n",
        "prices = (maxprice-minprice)*np.random.random_sample((N,))+minprice\n",
        "print(prices)"
      ],
      "execution_count": 6,
      "outputs": [
        {
          "output_type": "stream",
          "name": "stdout",
          "text": [
            "[11.82700247  1.59559035 12.72750519  2.79814773  1.6366787  14.69079196\n",
            " 12.14352153  4.31834054  0.83441383 12.38991132]\n",
            "[23.17510464  9.28236254 64.29299796 38.0023343  73.28324433 10.32124223\n",
            " 90.5316082  55.08607412 40.75586153 25.44163517]\n"
          ]
        }
      ]
    },
    {
      "cell_type": "markdown",
      "metadata": {
        "id": "uGCWYkcQl05r"
      },
      "source": [
        "## Generar población\n",
        "Inicializar una población de tamaño N, cromosoma aleatorio binario"
      ]
    },
    {
      "cell_type": "code",
      "metadata": {
        "id": "18TImmS0uKNC"
      },
      "source": [
        "#@title Introduzca tamaño de la población, para generar la misma\n",
        "NP =  30#@param {type:\"integer\"}"
      ],
      "execution_count": 7,
      "outputs": []
    },
    {
      "cell_type": "code",
      "metadata": {
        "id": "d2Nm2m_Eh4ib",
        "outputId": "8f0aa758-2917-49ce-b0a4-1842c132689b",
        "colab": {
          "base_uri": "https://localhost:8080/"
        }
      },
      "source": [
        "population = [np.random.randint(0,2, N) for _ in range(NP)]\n",
        "print(population)"
      ],
      "execution_count": 13,
      "outputs": [
        {
          "output_type": "stream",
          "name": "stdout",
          "text": [
            "[array([0, 1, 0, 1, 1, 1, 1, 0, 1, 0]), array([1, 1, 1, 1, 1, 0, 0, 1, 1, 1]), array([1, 0, 0, 1, 0, 0, 1, 0, 1, 1]), array([1, 1, 1, 1, 0, 0, 0, 0, 1, 1]), array([0, 1, 1, 0, 1, 0, 1, 1, 1, 1]), array([0, 0, 0, 0, 1, 0, 0, 1, 1, 1]), array([0, 1, 0, 1, 1, 1, 0, 0, 0, 0]), array([0, 0, 1, 0, 1, 1, 0, 0, 0, 1]), array([1, 0, 1, 0, 0, 0, 0, 1, 0, 1]), array([0, 1, 0, 0, 0, 0, 0, 1, 1, 1]), array([1, 1, 0, 1, 1, 1, 0, 0, 0, 0]), array([0, 1, 1, 0, 0, 1, 1, 0, 1, 0]), array([1, 1, 0, 0, 1, 0, 0, 1, 1, 1]), array([1, 1, 0, 0, 0, 1, 1, 0, 1, 0]), array([0, 0, 1, 0, 1, 1, 0, 1, 0, 0]), array([0, 0, 1, 1, 1, 1, 1, 1, 1, 0]), array([0, 1, 0, 1, 1, 0, 0, 1, 1, 1]), array([0, 1, 0, 0, 0, 0, 0, 0, 1, 0]), array([0, 0, 0, 1, 1, 0, 0, 0, 1, 0]), array([0, 0, 0, 1, 1, 0, 1, 0, 0, 1]), array([0, 0, 0, 1, 1, 0, 1, 0, 1, 1]), array([0, 1, 0, 1, 1, 0, 0, 0, 0, 0]), array([0, 0, 1, 1, 1, 0, 1, 0, 0, 1]), array([0, 0, 0, 1, 0, 1, 1, 1, 0, 1]), array([1, 1, 1, 1, 0, 0, 0, 1, 0, 1]), array([0, 0, 0, 0, 1, 0, 0, 0, 0, 0]), array([1, 1, 0, 0, 1, 1, 1, 1, 1, 1]), array([0, 0, 1, 1, 0, 1, 1, 1, 0, 1]), array([0, 1, 1, 0, 1, 1, 1, 0, 1, 0]), array([0, 1, 1, 0, 0, 0, 1, 0, 1, 0])]\n"
          ]
        }
      ]
    },
    {
      "cell_type": "code",
      "metadata": {
        "id": "p00N889FLDf5"
      },
      "source": [
        "def generateFirstPopulation(N, NP):\n",
        "  population =[np.random.randint(0, 2, N) for _ in range(NP)]\n",
        "  return population"
      ],
      "execution_count": 14,
      "outputs": []
    },
    {
      "cell_type": "markdown",
      "metadata": {
        "id": "GmQWgaX8m6-3"
      },
      "source": [
        "Hay que definir una función objtivo para evaluar cada uno de los individuos de la población. En este caso lo vamos a hacer para maximizar.\n",
        "\n",
        "```\n",
        "def fitnessFunct(x):\n",
        "....\n",
        "```\n",
        "\n"
      ]
    },
    {
      "cell_type": "markdown",
      "metadata": {
        "id": "bruIL7v6zaaw"
      },
      "source": [
        "Sea x un individuo o cromosoma, la función en este caso debe cumplir:\n",
        "\n",
        "Maximize  \n",
        "![image.png](data:image/png;base64,iVBORw0KGgoAAAANSUhEUgAAAFAAAAAmCAYAAABTahxxAAACwUlEQVRoBe2WDY3CQBBGawENWMADEtCABRzgAAcoQAEGMIADPOzlNfnIdNilV4YQQmcSrtuy8/f67XBdSQsR6ELe6VwSYFAECTABBgkE3VOBCTBIIOieCkyAQQJB91RgAgwSCLqHFLhcLkvXdeVyufRl7Pf7/p7rXCwE8Hg8ls1mU7bb7Z3XarW6r+ewGAA8HA69glBV62PVBTjUt1gsyu12K+fzuex2uzlwu/c4AAgEjiUf1tYEygJEfdh6vS6oke9Op5N1+/n1ACDdoiLUJziWAOoSQIBKbTrKgPTgrf8vrh8A0iRggPhMTYAEHAY0jvHc5h+9VwHqKGu29ZTMn+v12gPmqMuYh1Kknk29akzoRXBPDvsjNRaTE6RTUttLb5wUeqMPRMCaPNxPtSpAgugok+xTxgugQdRPfsBx/x9jP/4CyA9iDSR7AMVLYg1ACaa2fyx3EyCOJKAZlPBJozkUMTWvoKMoan8Gn76ALEMobweIAqYcHxUTvdJ87UdMP1at+AABxBgMQAPZGi9MQFGo/97uteumAilWs8g62PVYQ3YvawqnOa4tQ3XsoaEpRkzAc0VJ1CYgPo5A6zk+KPJtM1DD2wckEc3VjKIpwn90LGiID2CIUzPyoTyuxGEfUDDFHzvW+ChnLQfPyCFxEE/zkO/wJ3cLvo/5oEAN1Nq/MASd2pBP2FIgo4JGNLdokmNk6/jvsfI5/T1x9EK0tnuocexFaf8DQAqvvUGBtd+90lALoApqXWmI2qJGHBT2zKaMj0EkFOaPoL8XQN+Q3mhrvwp+FSC1kYMxEDHiUEPL6Es1+hFW8xkArG1oPXulIanYHstWfP+cfCg+CpBRQZzWHJZCNap8Hf4+BHBKQ16hz1Tgi/zm+5cBfnNTn6wtAQZpJ8AEGCQQdE8FJsAggaB7KjABBgkE3VOBCTBIIOj+BztGd9RZ3XXyAAAAAElFTkSuQmCC)\n",
        "\n",
        "Con la restricción de que \n",
        "\n",
        "![image.png](data:image/png;base64,iVBORw0KGgoAAAANSUhEUgAAAHIAAAAgCAYAAADOmyyBAAADg0lEQVRoBe2YgZHiMAxF0wI10AI9UAI10AId0AEdUAEV0AAN0AE9+Obl5me0PsWxszkYB2uGSeLYsvSf5OxsF5qtQoFuFVm0JEIDuZIiaCAbyJUosJI0Wkd+I8jr9Rq6rguHw2FIn2d+zT6rQDGB4/EYNptNeD6ffeTn8zncbrfPZtF2D93lcuk7Sp3lXYGFAe90OgVgamy/34fX69Wk/LACHRC2223/i4E8Ho+++wSNo5Xuu9/v/Xxi3+12H06hnu3RjdOMZqEZZPpk6Rnd1VC5+vZHKxuw0H775JQOFEjeCzbw6WbeN/urAADQA23GDA15Lx2ZxzP6W8MP0PGZY8NqFuJs7HvHxrY6gJuan7P5GuZYeOhDcevvBy8/dONzJKOJeI5BMkan5toAElBUBlVgq0WOOArYTM4JlmdvrtbkXOVXBaSCSokR+0UcBBkz4rRC6ejSfAmZ8qG5XC08OgxNcnWIQQqYjU9w7Z5T9wNIJuIAhzh/h+l7CzwJokLJ2Z/qZz7i4Iui8GDoDzr51LOKhTWp41DruFqNtN6+n7q3IPGlmC1IOjv3SNV+P0AyqI4odSSHc65A4CQgqVIDJIUHCAB5JvHVNczlxziGj5ICWqojiZtiUHyKBQal9g9IxJwjaOnGdj4CU5Fe8RDLGCDWkTQVTEfreLa+uZd/BAMYaxCRZ96x1hqQvVjsHN1bqCXfSPaWzgJJLOzNtdR+gCRJgklZSZL4wSdrUoawzCnpCvwBmDX6RuIHUTyjUABNfggFSNazJhea59eOWah23N4TL3urG3knkOQxVrTWh3c/gCQIxIzPfTZhU88YR6D4JzEJjMB5P2aaoy4hDgHFP0fulAlkah65AVFdSzfwzFprxBp3qH3/23u0iT8jAjnVRKm9e4XV0krSLlDVMjY3SQ8kBcO4oClBWzSMLSUqfnWUkQsAPeEYT3WFRCf21M9qaO+13jaMxrjOtR4kYsWViUMB1rupJMeC8ECOzbXjCJoS1c5d6h4tljpql4opx0/R/1rjJKeOVgUwFyT7cUp4J4V8L33l2NNfkkv7/p/+xj9ezq5zkqS6ATnnLzFA8m17Z4eQIwU6J15HsrcNFYMsSTLuWB3Rb8vuizYqAvlFulSXagNZHTI/4AbS16W60QayOmR+wA2kr0t1ow1kdcj8gBtIX5fqRhvI6pD5ATeQvi7Vjf4BuCka7yHLADUAAAAASUVORK5CYII=)\n"
      ]
    },
    {
      "cell_type": "code",
      "metadata": {
        "id": "UegpUHo4mmKC"
      },
      "source": [
        "def fitnessFunct(x):\n",
        "  return sum(x*prices)\n"
      ],
      "execution_count": 15,
      "outputs": []
    },
    {
      "cell_type": "code",
      "metadata": {
        "id": "Ryp06HFX1xMR"
      },
      "source": [
        "def valid(x):\n",
        "  return 0<sum(x*weights)<=W"
      ],
      "execution_count": 16,
      "outputs": []
    },
    {
      "cell_type": "code",
      "metadata": {
        "colab": {
          "base_uri": "https://localhost:8080/"
        },
        "id": "wuQvtmDL2InL",
        "outputId": "12ebd20e-8f4f-4e3a-9e40-a407907b1271"
      },
      "source": [
        "fitnessFunct(population[0])"
      ],
      "execution_count": 17,
      "outputs": [
        {
          "output_type": "execute_result",
          "data": {
            "text/plain": [
              "262.1766531232507"
            ]
          },
          "metadata": {},
          "execution_count": 17
        }
      ]
    },
    {
      "cell_type": "code",
      "metadata": {
        "id": "Y1ZTJDSm2PxB"
      },
      "source": [
        "V=[i for i,p in enumerate(population) if valid(p)]"
      ],
      "execution_count": 18,
      "outputs": []
    },
    {
      "cell_type": "code",
      "metadata": {
        "colab": {
          "base_uri": "https://localhost:8080/"
        },
        "id": "QgNL-J_a3NEE",
        "outputId": "d2f57263-14d1-4e4c-8d27-5f8b70a12352"
      },
      "source": [
        "V"
      ],
      "execution_count": 19,
      "outputs": [
        {
          "output_type": "execute_result",
          "data": {
            "text/plain": [
              "[17, 18, 21, 25]"
            ]
          },
          "metadata": {},
          "execution_count": 19
        }
      ]
    },
    {
      "cell_type": "markdown",
      "metadata": {
        "id": "NKd5QIAL4S0S"
      },
      "source": [
        "Se puede hacer la generación de la población ya con individuos válidos o se puede poner un valor muy pequeño en la función objetiov si no es válido"
      ]
    },
    {
      "cell_type": "code",
      "metadata": {
        "id": "C_JibItC4cQp"
      },
      "source": [
        "def fitnessFunct(x):\n",
        "  return 0.1 if not valid(x) else sum(x*prices)"
      ],
      "execution_count": 20,
      "outputs": []
    },
    {
      "cell_type": "code",
      "metadata": {
        "colab": {
          "base_uri": "https://localhost:8080/"
        },
        "id": "hYXS5STi4oHR",
        "outputId": "ab62549c-b40e-403f-ec09-863bb0b31534"
      },
      "source": [
        "fitnessFunct(population[22])"
      ],
      "execution_count": 21,
      "outputs": [
        {
          "output_type": "execute_result",
          "data": {
            "text/plain": [
              "0.1"
            ]
          },
          "metadata": {},
          "execution_count": 21
        }
      ]
    },
    {
      "cell_type": "markdown",
      "metadata": {
        "id": "c_AHaw-DUlxZ"
      },
      "source": [
        "Si queremos generar la población desde un inicio que tenga hijos válidos:"
      ]
    },
    {
      "cell_type": "code",
      "metadata": {
        "id": "9m8v2cHwUqGj"
      },
      "source": [
        "def generateFirstPopulation(N, NP):\n",
        "  population=[]\n",
        "  count=0;\n",
        "  while True:\n",
        "    ind =np.random.randint(0, 2, N)\n",
        "    if (valid(ind)):\n",
        "      population.append(ind)\n",
        "      count=count+1\n",
        "    if count==NP:\n",
        "      return population"
      ],
      "execution_count": 22,
      "outputs": []
    },
    {
      "cell_type": "markdown",
      "metadata": {
        "id": "Ma4XbIJyrZAA"
      },
      "source": [
        "## Selección, mutación y cruce"
      ]
    },
    {
      "cell_type": "markdown",
      "metadata": {
        "id": "4mfIPpLl5fw6"
      },
      "source": [
        "El algoritmo para el algoritmo genético lleva tener un método de selección, uno de mutación y uno de cruce.\n",
        "\n",
        "Vamos a hacer para selección: Método de la ruleta\n",
        "\n",
        "para mutación: mutación en un punto\n",
        "\n",
        "para cruce: Cruce de un punto"
      ]
    },
    {
      "cell_type": "markdown",
      "metadata": {
        "id": "ssT9Xzp-rTzZ"
      },
      "source": [
        "### Selección: Método de la ruleta"
      ]
    },
    {
      "cell_type": "markdown",
      "metadata": {
        "id": "EczYnJDj1b0J"
      },
      "source": [
        "Ejemplo con 5 individuos"
      ]
    },
    {
      "cell_type": "code",
      "metadata": {
        "colab": {
          "base_uri": "https://localhost:8080/"
        },
        "id": "fcDbMY5C5z7N",
        "outputId": "b0f7693e-f798-46a1-8fff-96bc79d934c5"
      },
      "source": [
        "population=generateFirstPopulation(N,NP)\n",
        "## Ordenar la población según la función objetivo\n",
        "sorted_population=sorted(population,key=fitnessFunct,reverse=True)\n",
        "#Para visualizar voy a tomar sólo los 10 primeros\n",
        "sp=sorted_population[0:5]\n",
        "of=[fitnessFunct(s) for s in sp]\n",
        "probability=of/sum(of)\n",
        "accumulatedProb=np.cumsum(probability)\n",
        "accumulatedProb"
      ],
      "execution_count": 23,
      "outputs": [
        {
          "output_type": "execute_result",
          "data": {
            "text/plain": [
              "array([0.23716226, 0.432678  , 0.62517616, 0.81767432, 1.        ])"
            ]
          },
          "metadata": {},
          "execution_count": 23
        }
      ]
    },
    {
      "cell_type": "code",
      "metadata": {
        "id": "5XxDwgShxLax"
      },
      "source": [
        "df = pd.DataFrame(list(zip(sp, of,probability,accumulatedProb)),\n",
        "               columns =['individual', 'fitnessFunct','probability','accumulated probability'])"
      ],
      "execution_count": 24,
      "outputs": []
    },
    {
      "cell_type": "code",
      "metadata": {
        "colab": {
          "base_uri": "https://localhost:8080/",
          "height": 206
        },
        "id": "WZ2Ntnt_x8K3",
        "outputId": "73575d43-604a-48fc-f648-11f0db9725a1"
      },
      "source": [
        "df"
      ],
      "execution_count": 25,
      "outputs": [
        {
          "output_type": "execute_result",
          "data": {
            "text/plain": [
              "                       individual  fitnessFunct  probability  \\\n",
              "0  [0, 1, 0, 1, 1, 0, 0, 1, 1, 0]    216.409877     0.237162   \n",
              "1  [0, 1, 0, 0, 1, 0, 0, 1, 1, 0]    178.407543     0.195516   \n",
              "2  [0, 1, 0, 1, 1, 0, 0, 1, 0, 0]    175.654015     0.192498   \n",
              "3  [0, 1, 0, 1, 1, 0, 0, 1, 0, 0]    175.654015     0.192498   \n",
              "4  [0, 0, 0, 1, 1, 0, 0, 1, 0, 0]    166.371653     0.182326   \n",
              "\n",
              "   accumulated probability  \n",
              "0                 0.237162  \n",
              "1                 0.432678  \n",
              "2                 0.625176  \n",
              "3                 0.817674  \n",
              "4                 1.000000  "
            ],
            "text/html": [
              "\n",
              "  <div id=\"df-1fdc45af-9c7a-488f-8966-212dd36e4835\">\n",
              "    <div class=\"colab-df-container\">\n",
              "      <div>\n",
              "<style scoped>\n",
              "    .dataframe tbody tr th:only-of-type {\n",
              "        vertical-align: middle;\n",
              "    }\n",
              "\n",
              "    .dataframe tbody tr th {\n",
              "        vertical-align: top;\n",
              "    }\n",
              "\n",
              "    .dataframe thead th {\n",
              "        text-align: right;\n",
              "    }\n",
              "</style>\n",
              "<table border=\"1\" class=\"dataframe\">\n",
              "  <thead>\n",
              "    <tr style=\"text-align: right;\">\n",
              "      <th></th>\n",
              "      <th>individual</th>\n",
              "      <th>fitnessFunct</th>\n",
              "      <th>probability</th>\n",
              "      <th>accumulated probability</th>\n",
              "    </tr>\n",
              "  </thead>\n",
              "  <tbody>\n",
              "    <tr>\n",
              "      <th>0</th>\n",
              "      <td>[0, 1, 0, 1, 1, 0, 0, 1, 1, 0]</td>\n",
              "      <td>216.409877</td>\n",
              "      <td>0.237162</td>\n",
              "      <td>0.237162</td>\n",
              "    </tr>\n",
              "    <tr>\n",
              "      <th>1</th>\n",
              "      <td>[0, 1, 0, 0, 1, 0, 0, 1, 1, 0]</td>\n",
              "      <td>178.407543</td>\n",
              "      <td>0.195516</td>\n",
              "      <td>0.432678</td>\n",
              "    </tr>\n",
              "    <tr>\n",
              "      <th>2</th>\n",
              "      <td>[0, 1, 0, 1, 1, 0, 0, 1, 0, 0]</td>\n",
              "      <td>175.654015</td>\n",
              "      <td>0.192498</td>\n",
              "      <td>0.625176</td>\n",
              "    </tr>\n",
              "    <tr>\n",
              "      <th>3</th>\n",
              "      <td>[0, 1, 0, 1, 1, 0, 0, 1, 0, 0]</td>\n",
              "      <td>175.654015</td>\n",
              "      <td>0.192498</td>\n",
              "      <td>0.817674</td>\n",
              "    </tr>\n",
              "    <tr>\n",
              "      <th>4</th>\n",
              "      <td>[0, 0, 0, 1, 1, 0, 0, 1, 0, 0]</td>\n",
              "      <td>166.371653</td>\n",
              "      <td>0.182326</td>\n",
              "      <td>1.000000</td>\n",
              "    </tr>\n",
              "  </tbody>\n",
              "</table>\n",
              "</div>\n",
              "      <button class=\"colab-df-convert\" onclick=\"convertToInteractive('df-1fdc45af-9c7a-488f-8966-212dd36e4835')\"\n",
              "              title=\"Convert this dataframe to an interactive table.\"\n",
              "              style=\"display:none;\">\n",
              "        \n",
              "  <svg xmlns=\"http://www.w3.org/2000/svg\" height=\"24px\"viewBox=\"0 0 24 24\"\n",
              "       width=\"24px\">\n",
              "    <path d=\"M0 0h24v24H0V0z\" fill=\"none\"/>\n",
              "    <path d=\"M18.56 5.44l.94 2.06.94-2.06 2.06-.94-2.06-.94-.94-2.06-.94 2.06-2.06.94zm-11 1L8.5 8.5l.94-2.06 2.06-.94-2.06-.94L8.5 2.5l-.94 2.06-2.06.94zm10 10l.94 2.06.94-2.06 2.06-.94-2.06-.94-.94-2.06-.94 2.06-2.06.94z\"/><path d=\"M17.41 7.96l-1.37-1.37c-.4-.4-.92-.59-1.43-.59-.52 0-1.04.2-1.43.59L10.3 9.45l-7.72 7.72c-.78.78-.78 2.05 0 2.83L4 21.41c.39.39.9.59 1.41.59.51 0 1.02-.2 1.41-.59l7.78-7.78 2.81-2.81c.8-.78.8-2.07 0-2.86zM5.41 20L4 18.59l7.72-7.72 1.47 1.35L5.41 20z\"/>\n",
              "  </svg>\n",
              "      </button>\n",
              "      \n",
              "  <style>\n",
              "    .colab-df-container {\n",
              "      display:flex;\n",
              "      flex-wrap:wrap;\n",
              "      gap: 12px;\n",
              "    }\n",
              "\n",
              "    .colab-df-convert {\n",
              "      background-color: #E8F0FE;\n",
              "      border: none;\n",
              "      border-radius: 50%;\n",
              "      cursor: pointer;\n",
              "      display: none;\n",
              "      fill: #1967D2;\n",
              "      height: 32px;\n",
              "      padding: 0 0 0 0;\n",
              "      width: 32px;\n",
              "    }\n",
              "\n",
              "    .colab-df-convert:hover {\n",
              "      background-color: #E2EBFA;\n",
              "      box-shadow: 0px 1px 2px rgba(60, 64, 67, 0.3), 0px 1px 3px 1px rgba(60, 64, 67, 0.15);\n",
              "      fill: #174EA6;\n",
              "    }\n",
              "\n",
              "    [theme=dark] .colab-df-convert {\n",
              "      background-color: #3B4455;\n",
              "      fill: #D2E3FC;\n",
              "    }\n",
              "\n",
              "    [theme=dark] .colab-df-convert:hover {\n",
              "      background-color: #434B5C;\n",
              "      box-shadow: 0px 1px 3px 1px rgba(0, 0, 0, 0.15);\n",
              "      filter: drop-shadow(0px 1px 2px rgba(0, 0, 0, 0.3));\n",
              "      fill: #FFFFFF;\n",
              "    }\n",
              "  </style>\n",
              "\n",
              "      <script>\n",
              "        const buttonEl =\n",
              "          document.querySelector('#df-1fdc45af-9c7a-488f-8966-212dd36e4835 button.colab-df-convert');\n",
              "        buttonEl.style.display =\n",
              "          google.colab.kernel.accessAllowed ? 'block' : 'none';\n",
              "\n",
              "        async function convertToInteractive(key) {\n",
              "          const element = document.querySelector('#df-1fdc45af-9c7a-488f-8966-212dd36e4835');\n",
              "          const dataTable =\n",
              "            await google.colab.kernel.invokeFunction('convertToInteractive',\n",
              "                                                     [key], {});\n",
              "          if (!dataTable) return;\n",
              "\n",
              "          const docLinkHtml = 'Like what you see? Visit the ' +\n",
              "            '<a target=\"_blank\" href=https://colab.research.google.com/notebooks/data_table.ipynb>data table notebook</a>'\n",
              "            + ' to learn more about interactive tables.';\n",
              "          element.innerHTML = '';\n",
              "          dataTable['output_type'] = 'display_data';\n",
              "          await google.colab.output.renderOutput(dataTable, element);\n",
              "          const docLink = document.createElement('div');\n",
              "          docLink.innerHTML = docLinkHtml;\n",
              "          element.appendChild(docLink);\n",
              "        }\n",
              "      </script>\n",
              "    </div>\n",
              "  </div>\n",
              "  "
            ]
          },
          "metadata": {},
          "execution_count": 25
        }
      ]
    },
    {
      "cell_type": "code",
      "metadata": {
        "colab": {
          "base_uri": "https://localhost:8080/",
          "height": 249
        },
        "id": "Tvje9BR1HXCL",
        "outputId": "edb03256-2c90-4e68-a48d-ec987dff2db3"
      },
      "source": [
        "import matplotlib.pyplot as plt\n",
        "\n",
        "labels = np.arange(len(probability))\n",
        "\n",
        "fig1, ax1 = plt.subplots()\n",
        "ax1.pie(probability, labels=labels, autopct='%1.1f%%',shadow=True, startangle=90)\n",
        "ax1.axis('equal')\n",
        "plt.show()"
      ],
      "execution_count": 26,
      "outputs": [
        {
          "output_type": "display_data",
          "data": {
            "text/plain": [
              "<Figure size 432x288 with 1 Axes>"
            ],
            "image/png": "[encoded data removed]"
          },
          "metadata": {}
        }
      ]
    },
    {
      "cell_type": "code",
      "metadata": {
        "colab": {
          "base_uri": "https://localhost:8080/",
          "height": 542
        },
        "id": "KQVWhXR1wHHw",
        "outputId": "7f3d7093-ab7f-4204-fcc2-d848a8df8d07"
      },
      "source": [
        "import plotly.graph_objects as go\n",
        "fig = go.Figure(data=[go.Pie(labels=labels, values=of, textinfo='label+percent')])\n",
        "fig.show()"
      ],
      "execution_count": 27,
      "outputs": [
        {
          "output_type": "display_data",
          "data": {
            "text/html": [
              "<html>\n",
              "<head><meta charset=\"utf-8\" /></head>\n",
              "<body>\n",
              "    <div>            <script src=\"https://cdnjs.cloudflare.com/ajax/libs/mathjax/2.7.5/MathJax.js?config=TeX-AMS-MML_SVG\"></script><script type=\"text/javascript\">if (window.MathJax) {MathJax.Hub.Config({SVG: {font: \"STIX-Web\"}});}</script>                <script type=\"text/javascript\">window.PlotlyConfig = {MathJaxConfig: 'local'};</script>\n",
              "        <script src=\"https://cdn.plot.ly/plotly-2.8.3.min.js\"></script>                <div id=\"7b84497e-b90f-4f6c-9d30-f51e18b6a77f\" class=\"plotly-graph-div\" style=\"height:525px; width:100%;\"></div>            <script type=\"text/javascript\">                                    window.PLOTLYENV=window.PLOTLYENV || {};                                    if (document.getElementById(\"7b84497e-b90f-4f6c-9d30-f51e18b6a77f\")) {                    Plotly.newPlot(                        \"7b84497e-b90f-4f6c-9d30-f51e18b6a77f\",                        [{\"labels\":[0,1,2,3,4],\"textinfo\":\"label+percent\",\"values\":[216.40987681083965,178.40754251269541,175.65401528507323,175.65401528507323,166.37165274647393],\"type\":\"pie\"}],                        {\"template\":{\"data\":{\"bar\":[{\"error_x\":{\"color\":\"#2a3f5f\"},\"error_y\":{\"color\":\"#2a3f5f\"},\"marker\":{\"line\":{\"color\":\"#E5ECF6\",\"width\":0.5},\"pattern\":{\"fillmode\":\"overlay\",\"size\":10,\"solidity\":0.2}},\"type\":\"bar\"}],\"barpolar\":[{\"marker\":{\"line\":{\"color\":\"#E5ECF6\",\"width\":0.5},\"pattern\":{\"fillmode\":\"overlay\",\"size\":10,\"solidity\":0.2}},\"type\":\"barpolar\"}],\"carpet\":[{\"aaxis\":{\"endlinecolor\":\"#2a3f5f\",\"gridcolor\":\"white\",\"linecolor\":\"white\",\"minorgridcolor\":\"white\",\"startlinecolor\":\"#2a3f5f\"},\"baxis\":{\"endlinecolor\":\"#2a3f5f\",\"gridcolor\":\"white\",\"linecolor\":\"white\",\"minorgridcolor\":\"white\",\"startlinecolor\":\"#2a3f5f\"},\"type\":\"carpet\"}],\"choropleth\":[{\"colorbar\":{\"outlinewidth\":0,\"ticks\":\"\"},\"type\":\"choropleth\"}],\"contour\":[{\"colorbar\":{\"outlinewidth\":0,\"ticks\":\"\"},\"colorscale\":[[0.0,\"#0d0887\"],[0.1111111111111111,\"#46039f\"],[0.2222222222222222,\"#7201a8\"],[0.3333333333333333,\"#9c179e\"],[0.4444444444444444,\"#bd3786\"],[0.5555555555555556,\"#d8576b\"],[0.6666666666666666,\"#ed7953\"],[0.7777777777777778,\"#fb9f3a\"],[0.8888888888888888,\"#fdca26\"],[1.0,\"#f0f921\"]],\"type\":\"contour\"}],\"contourcarpet\":[{\"colorbar\":{\"outlinewidth\":0,\"ticks\":\"\"},\"type\":\"contourcarpet\"}],\"heatmap\":[{\"colorbar\":{\"outlinewidth\":0,\"ticks\":\"\"},\"colorscale\":[[0.0,\"#0d0887\"],[0.1111111111111111,\"#46039f\"],[0.2222222222222222,\"#7201a8\"],[0.3333333333333333,\"#9c179e\"],[0.4444444444444444,\"#bd3786\"],[0.5555555555555556,\"#d8576b\"],[0.6666666666666666,\"#ed7953\"],[0.7777777777777778,\"#fb9f3a\"],[0.8888888888888888,\"#fdca26\"],[1.0,\"#f0f921\"]],\"type\":\"heatmap\"}],\"heatmapgl\":[{\"colorbar\":{\"outlinewidth\":0,\"ticks\":\"\"},\"colorscale\":[[0.0,\"#0d0887\"],[0.1111111111111111,\"#46039f\"],[0.2222222222222222,\"#7201a8\"],[0.3333333333333333,\"#9c179e\"],[0.4444444444444444,\"#bd3786\"],[0.5555555555555556,\"#d8576b\"],[0.6666666666666666,\"#ed7953\"],[0.7777777777777778,\"#fb9f3a\"],[0.8888888888888888,\"#fdca26\"],[1.0,\"#f0f921\"]],\"type\":\"heatmapgl\"}],\"histogram\":[{\"marker\":{\"pattern\":{\"fillmode\":\"overlay\",\"size\":10,\"solidity\":0.2}},\"type\":\"histogram\"}],\"histogram2d\":[{\"colorbar\":{\"outlinewidth\":0,\"ticks\":\"\"},\"colorscale\":[[0.0,\"#0d0887\"],[0.1111111111111111,\"#46039f\"],[0.2222222222222222,\"#7201a8\"],[0.3333333333333333,\"#9c179e\"],[0.4444444444444444,\"#bd3786\"],[0.5555555555555556,\"#d8576b\"],[0.6666666666666666,\"#ed7953\"],[0.7777777777777778,\"#fb9f3a\"],[0.8888888888888888,\"#fdca26\"],[1.0,\"#f0f921\"]],\"type\":\"histogram2d\"}],\"histogram2dcontour\":[{\"colorbar\":{\"outlinewidth\":0,\"ticks\":\"\"},\"colorscale\":[[0.0,\"#0d0887\"],[0.1111111111111111,\"#46039f\"],[0.2222222222222222,\"#7201a8\"],[0.3333333333333333,\"#9c179e\"],[0.4444444444444444,\"#bd3786\"],[0.5555555555555556,\"#d8576b\"],[0.6666666666666666,\"#ed7953\"],[0.7777777777777778,\"#fb9f3a\"],[0.8888888888888888,\"#fdca26\"],[1.0,\"#f0f921\"]],\"type\":\"histogram2dcontour\"}],\"mesh3d\":[{\"colorbar\":{\"outlinewidth\":0,\"ticks\":\"\"},\"type\":\"mesh3d\"}],\"parcoords\":[{\"line\":{\"colorbar\":{\"outlinewidth\":0,\"ticks\":\"\"}},\"type\":\"parcoords\"}],\"pie\":[{\"automargin\":true,\"type\":\"pie\"}],\"scatter\":[{\"marker\":{\"colorbar\":{\"outlinewidth\":0,\"ticks\":\"\"}},\"type\":\"scatter\"}],\"scatter3d\":[{\"line\":{\"colorbar\":{\"outlinewidth\":0,\"ticks\":\"\"}},\"marker\":{\"colorbar\":{\"outlinewidth\":0,\"ticks\":\"\"}},\"type\":\"scatter3d\"}],\"scattercarpet\":[{\"marker\":{\"colorbar\":{\"outlinewidth\":0,\"ticks\":\"\"}},\"type\":\"scattercarpet\"}],\"scattergeo\":[{\"marker\":{\"colorbar\":{\"outlinewidth\":0,\"ticks\":\"\"}},\"type\":\"scattergeo\"}],\"scattergl\":[{\"marker\":{\"colorbar\":{\"outlinewidth\":0,\"ticks\":\"\"}},\"type\":\"scattergl\"}],\"scattermapbox\":[{\"marker\":{\"colorbar\":{\"outlinewidth\":0,\"ticks\":\"\"}},\"type\":\"scattermapbox\"}],\"scatterpolar\":[{\"marker\":{\"colorbar\":{\"outlinewidth\":0,\"ticks\":\"\"}},\"type\":\"scatterpolar\"}],\"scatterpolargl\":[{\"marker\":{\"colorbar\":{\"outlinewidth\":0,\"ticks\":\"\"}},\"type\":\"scatterpolargl\"}],\"scatterternary\":[{\"marker\":{\"colorbar\":{\"outlinewidth\":0,\"ticks\":\"\"}},\"type\":\"scatterternary\"}],\"surface\":[{\"colorbar\":{\"outlinewidth\":0,\"ticks\":\"\"},\"colorscale\":[[0.0,\"#0d0887\"],[0.1111111111111111,\"#46039f\"],[0.2222222222222222,\"#7201a8\"],[0.3333333333333333,\"#9c179e\"],[0.4444444444444444,\"#bd3786\"],[0.5555555555555556,\"#d8576b\"],[0.6666666666666666,\"#ed7953\"],[0.7777777777777778,\"#fb9f3a\"],[0.8888888888888888,\"#fdca26\"],[1.0,\"#f0f921\"]],\"type\":\"surface\"}],\"table\":[{\"cells\":{\"fill\":{\"color\":\"#EBF0F8\"},\"line\":{\"color\":\"white\"}},\"header\":{\"fill\":{\"color\":\"#C8D4E3\"},\"line\":{\"color\":\"white\"}},\"type\":\"table\"}]},\"layout\":{\"annotationdefaults\":{\"arrowcolor\":\"#2a3f5f\",\"arrowhead\":0,\"arrowwidth\":1},\"autotypenumbers\":\"strict\",\"coloraxis\":{\"colorbar\":{\"outlinewidth\":0,\"ticks\":\"\"}},\"colorscale\":{\"diverging\":[[0,\"#8e0152\"],[0.1,\"#c51b7d\"],[0.2,\"#de77ae\"],[0.3,\"#f1b6da\"],[0.4,\"#fde0ef\"],[0.5,\"#f7f7f7\"],[0.6,\"#e6f5d0\"],[0.7,\"#b8e186\"],[0.8,\"#7fbc41\"],[0.9,\"#4d9221\"],[1,\"#276419\"]],\"sequential\":[[0.0,\"#0d0887\"],[0.1111111111111111,\"#46039f\"],[0.2222222222222222,\"#7201a8\"],[0.3333333333333333,\"#9c179e\"],[0.4444444444444444,\"#bd3786\"],[0.5555555555555556,\"#d8576b\"],[0.6666666666666666,\"#ed7953\"],[0.7777777777777778,\"#fb9f3a\"],[0.8888888888888888,\"#fdca26\"],[1.0,\"#f0f921\"]],\"sequentialminus\":[[0.0,\"#0d0887\"],[0.1111111111111111,\"#46039f\"],[0.2222222222222222,\"#7201a8\"],[0.3333333333333333,\"#9c179e\"],[0.4444444444444444,\"#bd3786\"],[0.5555555555555556,\"#d8576b\"],[0.6666666666666666,\"#ed7953\"],[0.7777777777777778,\"#fb9f3a\"],[0.8888888888888888,\"#fdca26\"],[1.0,\"#f0f921\"]]},\"colorway\":[\"#636efa\",\"#EF553B\",\"#00cc96\",\"#ab63fa\",\"#FFA15A\",\"#19d3f3\",\"#FF6692\",\"#B6E880\",\"#FF97FF\",\"#FECB52\"],\"font\":{\"color\":\"#2a3f5f\"},\"geo\":{\"bgcolor\":\"white\",\"lakecolor\":\"white\",\"landcolor\":\"#E5ECF6\",\"showlakes\":true,\"showland\":true,\"subunitcolor\":\"white\"},\"hoverlabel\":{\"align\":\"left\"},\"hovermode\":\"closest\",\"mapbox\":{\"style\":\"light\"},\"paper_bgcolor\":\"white\",\"plot_bgcolor\":\"#E5ECF6\",\"polar\":{\"angularaxis\":{\"gridcolor\":\"white\",\"linecolor\":\"white\",\"ticks\":\"\"},\"bgcolor\":\"#E5ECF6\",\"radialaxis\":{\"gridcolor\":\"white\",\"linecolor\":\"white\",\"ticks\":\"\"}},\"scene\":{\"xaxis\":{\"backgroundcolor\":\"#E5ECF6\",\"gridcolor\":\"white\",\"gridwidth\":2,\"linecolor\":\"white\",\"showbackground\":true,\"ticks\":\"\",\"zerolinecolor\":\"white\"},\"yaxis\":{\"backgroundcolor\":\"#E5ECF6\",\"gridcolor\":\"white\",\"gridwidth\":2,\"linecolor\":\"white\",\"showbackground\":true,\"ticks\":\"\",\"zerolinecolor\":\"white\"},\"zaxis\":{\"backgroundcolor\":\"#E5ECF6\",\"gridcolor\":\"white\",\"gridwidth\":2,\"linecolor\":\"white\",\"showbackground\":true,\"ticks\":\"\",\"zerolinecolor\":\"white\"}},\"shapedefaults\":{\"line\":{\"color\":\"#2a3f5f\"}},\"ternary\":{\"aaxis\":{\"gridcolor\":\"white\",\"linecolor\":\"white\",\"ticks\":\"\"},\"baxis\":{\"gridcolor\":\"white\",\"linecolor\":\"white\",\"ticks\":\"\"},\"bgcolor\":\"#E5ECF6\",\"caxis\":{\"gridcolor\":\"white\",\"linecolor\":\"white\",\"ticks\":\"\"}},\"title\":{\"x\":0.05},\"xaxis\":{\"automargin\":true,\"gridcolor\":\"white\",\"linecolor\":\"white\",\"ticks\":\"\",\"title\":{\"standoff\":15},\"zerolinecolor\":\"white\",\"zerolinewidth\":2},\"yaxis\":{\"automargin\":true,\"gridcolor\":\"white\",\"linecolor\":\"white\",\"ticks\":\"\",\"title\":{\"standoff\":15},\"zerolinecolor\":\"white\",\"zerolinewidth\":2}}}},                        {\"responsive\": true}                    ).then(function(){\n",
              "                            \n",
              "var gd = document.getElementById('7b84497e-b90f-4f6c-9d30-f51e18b6a77f');\n",
              "var x = new MutationObserver(function (mutations, observer) {{\n",
              "        var display = window.getComputedStyle(gd).display;\n",
              "        if (!display || display === 'none') {{\n",
              "            console.log([gd, 'removed!']);\n",
              "            Plotly.purge(gd);\n",
              "            observer.disconnect();\n",
              "        }}\n",
              "}});\n",
              "\n",
              "// Listen for the removal of the full notebook cells\n",
              "var notebookContainer = gd.closest('#notebook-container');\n",
              "if (notebookContainer) {{\n",
              "    x.observe(notebookContainer, {childList: true});\n",
              "}}\n",
              "\n",
              "// Listen for the clearing of the current output cell\n",
              "var outputEl = gd.closest('.output');\n",
              "if (outputEl) {{\n",
              "    x.observe(outputEl, {childList: true});\n",
              "}}\n",
              "\n",
              "                        })                };                            </script>        </div>\n",
              "</body>\n",
              "</html>"
            ]
          },
          "metadata": {}
        }
      ]
    },
    {
      "cell_type": "markdown",
      "metadata": {
        "id": "BnBXeg3D1gDH"
      },
      "source": [
        "Método del método de la ruleta, para poder hacer la selección"
      ]
    },
    {
      "cell_type": "code",
      "metadata": {
        "id": "mQie-gXK1kq8"
      },
      "source": [
        "def roulette(population):\n",
        "  of=[fitnessFunct(s) for s in population]\n",
        "  probability=of/sum(of)\n",
        "  accumulatedProb=np.cumsum(probability)\n",
        "  return accumulatedProb"
      ],
      "execution_count": 29,
      "outputs": []
    },
    {
      "cell_type": "code",
      "metadata": {
        "id": "c0exSY9B2Clg"
      },
      "source": [
        "accumulatedProb=roulette(population)"
      ],
      "execution_count": 30,
      "outputs": []
    },
    {
      "cell_type": "code",
      "metadata": {
        "id": "yiwwa-Ts1-qB"
      },
      "source": [
        "def selection(population):\n",
        "  nr=np.random.uniform()\n",
        "  for i,p in enumerate(accumulatedProb):\n",
        "    if nr<p:\n",
        "      return i, population[i]"
      ],
      "execution_count": 31,
      "outputs": []
    },
    {
      "cell_type": "code",
      "metadata": {
        "colab": {
          "base_uri": "https://localhost:8080/"
        },
        "id": "e6ed9g4s21_t",
        "outputId": "d11d6d7a-03bf-4f9f-b119-7aba13883dd5"
      },
      "source": [
        "selection(population)[1]"
      ],
      "execution_count": 32,
      "outputs": [
        {
          "output_type": "execute_result",
          "data": {
            "text/plain": [
              "array([0, 1, 0, 1, 1, 0, 0, 0, 1, 0])"
            ]
          },
          "metadata": {},
          "execution_count": 32
        }
      ]
    },
    {
      "cell_type": "markdown",
      "metadata": {
        "id": "paSNCJRKFyrb"
      },
      "source": [
        "Aunque se puede usar también la función de numpy *np.random.choice* que selecciona de una lista bajo una probabilidad, o sea, el mismo sentido de selección por ruleta."
      ]
    },
    {
      "cell_type": "code",
      "metadata": {
        "colab": {
          "base_uri": "https://localhost:8080/"
        },
        "id": "lVBBXtz1F-sP",
        "outputId": "ba5e4cf3-4917-4f08-bbe6-4d48f98b833b"
      },
      "source": [
        "population=generateFirstPopulation(N,NP)\n",
        "of=[fitnessFunct(s) for s in population]\n",
        "probability=of/sum(of)\n",
        "indexPop=np.arange(len(population))\n",
        "np.random.choice(indexPop.tolist(),1,p=probability.tolist())"
      ],
      "execution_count": 33,
      "outputs": [
        {
          "output_type": "execute_result",
          "data": {
            "text/plain": [
              "array([5])"
            ]
          },
          "metadata": {},
          "execution_count": 33
        }
      ]
    },
    {
      "cell_type": "markdown",
      "metadata": {
        "id": "M2bflob-BipP"
      },
      "source": [
        "### Cruce: Cruce de un punto (one point crossover)"
      ]
    },
    {
      "cell_type": "code",
      "metadata": {
        "colab": {
          "base_uri": "https://localhost:8080/"
        },
        "id": "6_RJ7YsKDiwb",
        "outputId": "5fbb38f8-1e13-40ba-9e9d-317f094788eb"
      },
      "source": [
        "## Generar punto de corte\n",
        "cp=np.random.randint(1,len(sp[0])-1)\n",
        "cp"
      ],
      "execution_count": 36,
      "outputs": [
        {
          "output_type": "execute_result",
          "data": {
            "text/plain": [
              "5"
            ]
          },
          "metadata": {},
          "execution_count": 36
        }
      ]
    },
    {
      "cell_type": "code",
      "metadata": {
        "colab": {
          "base_uri": "https://localhost:8080/"
        },
        "id": "rRG68XdkEa-I",
        "outputId": "ed45f1e5-dec4-4680-db19-6d741b41ae8c"
      },
      "source": [
        "print(population[0])\n",
        "print(population[1])"
      ],
      "execution_count": 37,
      "outputs": [
        {
          "output_type": "stream",
          "name": "stdout",
          "text": [
            "[0 1 0 1 0 0 0 0 1 0]\n",
            "[0 0 0 1 0 0 0 0 1 0]\n"
          ]
        }
      ]
    },
    {
      "cell_type": "code",
      "metadata": {
        "colab": {
          "base_uri": "https://localhost:8080/"
        },
        "id": "fJUV9kxsEVxA",
        "outputId": "860ce2e3-9c5e-4d82-f1d9-1c2de6b8098f"
      },
      "source": [
        "child1=np.concatenate((population[0][0:cp+1],population[1][cp+1:len(population[1])]), axis=0)\n",
        "child1"
      ],
      "execution_count": 38,
      "outputs": [
        {
          "output_type": "execute_result",
          "data": {
            "text/plain": [
              "array([0, 1, 0, 1, 0, 0, 0, 0, 1, 0])"
            ]
          },
          "metadata": {},
          "execution_count": 38
        }
      ]
    },
    {
      "cell_type": "code",
      "metadata": {
        "id": "8Ev5-YwxC40J"
      },
      "source": [
        "def crossover(ind1, ind2):\n",
        "  cp=np.random.randint(1,len(sp[0])-1)\n",
        "  ## Create new children\n",
        "  child1=np.concatenate((ind1[0:cp+1],ind2[cp+1:len(ind2)]))\n",
        "  child2=np.concatenate((ind2[0:cp+1],ind1[cp+1:len(ind1)]))\n",
        "  return child1,child2"
      ],
      "execution_count": 39,
      "outputs": []
    },
    {
      "cell_type": "code",
      "metadata": {
        "colab": {
          "base_uri": "https://localhost:8080/"
        },
        "id": "jF89SyCHGWXQ",
        "outputId": "8f386ebd-b4d2-4f41-b85f-4da8a6e1d55a"
      },
      "source": [
        "ind1=selection(population)[1]\n",
        "ind2=selection(population)[1]\n",
        "print(ind1)\n",
        "print(ind2)"
      ],
      "execution_count": null,
      "outputs": [
        {
          "output_type": "stream",
          "text": [
            "[0 0 1 0 0 0 1 0 0 0]\n",
            "[0 0 0 0 0 1 1 0 0 1]\n"
          ],
          "name": "stdout"
        }
      ]
    },
    {
      "cell_type": "code",
      "metadata": {
        "colab": {
          "base_uri": "https://localhost:8080/"
        },
        "id": "MmoJ4H4CGwMI",
        "outputId": "92a2ed8a-a61e-4240-8e0d-cdd91c43c4b5"
      },
      "source": [
        "crossover(ind1,ind2)"
      ],
      "execution_count": null,
      "outputs": [
        {
          "output_type": "execute_result",
          "data": {
            "text/plain": [
              "(array([0, 0, 1, 0, 0, 0, 1, 0, 0, 1]), array([0, 0, 0, 0, 0, 1, 1, 0, 0, 0]))"
            ]
          },
          "metadata": {
            "tags": []
          },
          "execution_count": 370
        }
      ]
    },
    {
      "cell_type": "markdown",
      "metadata": {
        "id": "0kxDh5ZOBgS4"
      },
      "source": [
        "### Mutación: Mutación de un bit"
      ]
    },
    {
      "cell_type": "code",
      "metadata": {
        "colab": {
          "base_uri": "https://localhost:8080/"
        },
        "id": "Ykn0P_-YIL-h",
        "outputId": "b6ea637f-bbb9-49e1-deb7-c5475dcded47"
      },
      "source": [
        "cp=np.random.randint(0,len(sp[0])-1)\n",
        "print(cp)\n",
        "ind=population[0]\n",
        "print(ind)\n",
        "child=np.copy(ind)\n",
        "child[cp]=not child[cp]\n",
        "print(child)"
      ],
      "execution_count": 41,
      "outputs": [
        {
          "output_type": "stream",
          "name": "stdout",
          "text": [
            "1\n",
            "[0 1 0 1 0 0 0 0 1 0]\n",
            "[0 0 0 1 0 0 0 0 1 0]\n"
          ]
        }
      ]
    },
    {
      "cell_type": "code",
      "metadata": {
        "id": "u2Pq1hEuDC-Y"
      },
      "source": [
        "def mutate(ind):\n",
        "  cp=np.random.randint(0,len(sp[0])-1)\n",
        "  child=np.copy(ind)\n",
        "  child[cp]=not child[cp]\n",
        "  return child"
      ],
      "execution_count": 42,
      "outputs": []
    },
    {
      "cell_type": "markdown",
      "metadata": {
        "id": "gisUrsmSKDDw"
      },
      "source": [
        "## Método de algoritmo genético"
      ]
    },
    {
      "cell_type": "markdown",
      "metadata": {
        "id": "XcxiSVEUL9W-"
      },
      "source": [
        "Este algoritmo genético parará en un número de generaciones determinado, se guardará el mejor individuo de cada población y se devolverá el mejor de todos."
      ]
    },
    {
      "cell_type": "code",
      "metadata": {
        "id": "3c6RJI6k49Lx"
      },
      "source": [
        "#@title Introduzca la cantidad de generaciones para el algoritmo\n",
        "generations = 300 #@param {type:\"integer\"}"
      ],
      "execution_count": 43,
      "outputs": []
    },
    {
      "cell_type": "code",
      "metadata": {
        "id": "xVu429mwNdP_"
      },
      "source": [
        "#@title Texto de título predeterminado\n",
        "mutation_probability = 0.1 #@param {type:\"number\"}\n",
        "crossover_probability = 0.9 #@param {type:\"number\"}\n"
      ],
      "execution_count": 44,
      "outputs": []
    },
    {
      "cell_type": "code",
      "metadata": {
        "id": "_sZN007KKFxI"
      },
      "source": [
        "def geneticAlgorithm(sizeIndividual, sizePopulation, generations, mutation_probability, crossover_probability):\n",
        "  #Genera la poblacion con una cantidad de cromosomas de individual y una poblacion de population\n",
        "  population=generateFirstPopulation(sizeIndividual, sizePopulation)\n",
        "  #Genera la probabilidad acumulada (sin ordenar) para toda la poblacion\n",
        "  accumulatedProb=roulette(population)\n",
        "  print(\"population:\",population)\n",
        "  print(\"accumulated Prob:\",accumulatedProb)\n",
        "  of=[fitnessFunct(s) for s in population]\n",
        "  sorted_population=sorted(population,key=fitnessFunct,reverse=True)\n",
        "  bestIndividual=[sorted_population[0]] # Lista de los mejores cromosomas\n",
        "  for i in range(generations):\n",
        "    #Generar la nueva población\n",
        "    nextPopulation=[]\n",
        "    count=0\n",
        "    while True: # para crear la población cuando tengamos NP individuos\n",
        "      # Hacemos selección de dos individuos y cruce si es posible\n",
        "      ind1=selection(population)[1]\n",
        "      ind2=selection(population)[1]\n",
        "      crossProb=nr=np.random.uniform()\n",
        "      if crossProb<crossover_probability:\n",
        "        child1,child2=crossover(ind1,ind2)\n",
        "        if valid(child1):\n",
        "          nextPopulation.append(child1)\n",
        "        if valid(child2):\n",
        "          nextPopulation.append(child2)\n",
        "      else:\n",
        "        nextPopulation.append(ind1)\n",
        "        nextPopulation.append(ind2)\n",
        "      # Hacemos selección de un individuo y mutación si es posible\n",
        "      mutProb=nr=np.random.uniform()\n",
        "      ind=selection(population)[1]\n",
        "      if mutProb<mutation_probability:\n",
        "        child=mutate(ind)\n",
        "        if valid(child):\n",
        "          nextPopulation.append(child)\n",
        "      else:\n",
        "        nextPopulation.append(ind)\n",
        "      if len(nextPopulation)>=sizePopulation:\n",
        "        nextPopulation=nextPopulation[0:sizePopulation]\n",
        "        break;\n",
        "    \n",
        "    accumulatedProb=roulette(nextPopulation)\n",
        "    sorted_population=sorted(nextPopulation,key=fitnessFunct,reverse=True)\n",
        "    bestIndividual.append(sorted_population[0]) \n",
        "    population=nextPopulation\n",
        "  sortedBest=sorted(bestIndividual,key=fitnessFunct,reverse=True) \n",
        "  return bestIndividual,sortedBest[0]\n"
      ],
      "execution_count": 52,
      "outputs": []
    },
    {
      "cell_type": "code",
      "metadata": {
        "colab": {
          "base_uri": "https://localhost:8080/"
        },
        "id": "lKZ-Iy9dRRt4",
        "outputId": "5d8a83d4-735b-4b54-93e6-090641901ca9"
      },
      "source": [
        "sizeIndividual=N\n",
        "sizePopulation=NP\n",
        "bestList,bestInd=geneticAlgorithm(sizeIndividual, sizePopulation, generations, mutation_probability, crossover_probability)\n",
        "bestInd"
      ],
      "execution_count": 50,
      "outputs": [
        {
          "output_type": "stream",
          "name": "stdout",
          "text": [
            "population: [array([0, 0, 1, 0, 0, 0, 0, 0, 1, 0]), array([0, 0, 0, 1, 1, 0, 0, 1, 1, 0]), array([0, 0, 0, 0, 1, 0, 0, 1, 0, 0]), array([0, 1, 0, 1, 0, 0, 0, 0, 1, 0]), array([0, 0, 0, 1, 0, 0, 1, 0, 0, 0]), array([0, 0, 0, 1, 0, 0, 0, 0, 0, 0]), array([0, 1, 0, 1, 1, 0, 0, 0, 0, 0]), array([0, 0, 0, 0, 0, 0, 0, 1, 0, 0]), array([0, 0, 1, 0, 0, 0, 0, 0, 0, 0]), array([0, 0, 0, 0, 0, 1, 0, 0, 0, 0]), array([0, 0, 0, 1, 0, 0, 0, 0, 0, 0]), array([0, 1, 0, 1, 0, 0, 0, 1, 0, 0]), array([0, 0, 0, 0, 1, 0, 1, 0, 1, 0]), array([0, 1, 1, 0, 0, 0, 0, 0, 0, 0]), array([0, 0, 0, 1, 0, 0, 0, 0, 0, 0]), array([0, 0, 0, 0, 0, 0, 0, 1, 0, 0]), array([0, 1, 0, 0, 1, 0, 0, 1, 1, 0]), array([0, 1, 0, 0, 1, 0, 0, 0, 1, 0]), array([0, 1, 0, 0, 0, 0, 1, 0, 1, 0]), array([0, 0, 0, 1, 1, 0, 0, 1, 0, 0]), array([0, 0, 0, 0, 1, 0, 0, 1, 1, 0]), array([0, 0, 0, 1, 1, 0, 0, 0, 0, 0]), array([0, 1, 0, 0, 0, 0, 0, 1, 1, 0]), array([0, 0, 0, 0, 0, 0, 0, 0, 0, 1]), array([0, 1, 1, 0, 0, 0, 0, 0, 0, 0]), array([0, 0, 0, 0, 1, 0, 0, 0, 1, 0]), array([0, 1, 0, 0, 0, 0, 0, 1, 1, 0]), array([1, 0, 0, 1, 0, 0, 0, 0, 0, 0]), array([0, 1, 0, 0, 1, 0, 0, 0, 1, 0]), array([0, 0, 0, 0, 0, 0, 0, 1, 1, 0])]\n",
            "accumulated Prob: [0.03444535 0.10236213 0.14445423 0.17332259 0.21546866 0.22792956\n",
            " 0.2674636  0.28552623 0.30660781 0.30999212 0.32245303 0.35602024\n",
            " 0.42309865 0.44722389 0.4596848  0.47774743 0.53624698 0.57668389\n",
            " 0.62277652 0.67732951 0.73278539 0.76927575 0.80374584 0.81208811\n",
            " 0.83621336 0.8736066  0.90807669 0.92813667 0.96857358 1.        ]\n"
          ]
        },
        {
          "output_type": "execute_result",
          "data": {
            "text/plain": [
              "array([0, 1, 0, 1, 1, 0, 0, 1, 1, 0])"
            ]
          },
          "metadata": {},
          "execution_count": 50
        }
      ]
    },
    {
      "cell_type": "code",
      "metadata": {
        "colab": {
          "base_uri": "https://localhost:8080/",
          "height": 542
        },
        "id": "YB1z613J-BM8",
        "outputId": "e24c2ff5-1ed3-4956-e852-5f32d944d61c"
      },
      "source": [
        "iteration=np.arange(0,len(bestList))\n",
        "fitnessValue=[fitnessFunct(x) for x in bestList]\n",
        "df = pd.DataFrame(list(zip(iteration,fitnessValue)),\n",
        "               columns =['iteration', 'fitness'])\n",
        "fig = px.line(df, x=\"iteration\", y=\"fitness\")\n",
        "fig.show()"
      ],
      "execution_count": 51,
      "outputs": [
        {
          "output_type": "display_data",
          "data": {
            "text/html": [
              "<html>\n",
              "<head><meta charset=\"utf-8\" /></head>\n",
              "<body>\n",
              "    <div>            <script src=\"https://cdnjs.cloudflare.com/ajax/libs/mathjax/2.7.5/MathJax.js?config=TeX-AMS-MML_SVG\"></script><script type=\"text/javascript\">if (window.MathJax) {MathJax.Hub.Config({SVG: {font: \"STIX-Web\"}});}</script>                <script type=\"text/javascript\">window.PlotlyConfig = {MathJaxConfig: 'local'};</script>\n",
              "        <script src=\"https://cdn.plot.ly/plotly-2.8.3.min.js\"></script>                <div id=\"080f3eb8-be9b-400c-82f0-6fc4a87a4c14\" class=\"plotly-graph-div\" style=\"height:525px; width:100%;\"></div>            <script type=\"text/javascript\">                                    window.PLOTLYENV=window.PLOTLYENV || {};                                    if (document.getElementById(\"080f3eb8-be9b-400c-82f0-6fc4a87a4c14\")) {                    Plotly.newPlot(                        \"080f3eb8-be9b-400c-82f0-6fc4a87a4c14\",                        [{\"hovertemplate\":\"iteration=%{x}<br>fitness=%{y}<extra></extra>\",\"legendgroup\":\"\",\"line\":{\"color\":\"#636efa\",\"dash\":\"solid\"},\"marker\":{\"symbol\":\"circle\"},\"mode\":\"lines\",\"name\":\"\",\"orientation\":\"v\",\"showlegend\":false,\"x\":[0,1,2,3,4,5,6,7,8,9,10,11,12,13,14,15,16,17,18,19,20,21,22,23,24,25,26,27,28,29,30,31,32,33,34,35,36,37,38,39,40,41,42,43,44,45,46,47,48,49,50,51,52,53,54,55,56,57,58,59,60,61,62,63,64,65,66,67,68,69,70,71,72,73,74,75,76,77,78,79,80,81,82,83,84,85,86,87,88,89,90,91,92,93,94,95,96,97,98,99,100,101,102,103,104,105,106,107,108,109,110,111,112,113,114,115,116,117,118,119,120,121,122,123,124,125,126,127,128,129,130,131,132,133,134,135,136,137,138,139,140,141,142,143,144,145,146,147,148,149,150,151,152,153,154,155,156,157,158,159,160,161,162,163,164,165,166,167,168,169,170,171,172,173,174,175,176,177,178,179,180,181,182,183,184,185,186,187,188,189,190,191,192,193,194,195,196,197,198,199,200,201,202,203,204,205,206,207,208,209,210,211,212,213,214,215,216,217,218,219,220,221,222,223,224,225,226,227,228,229,230,231,232,233,234,235,236,237,238,239,240,241,242,243,244,245,246,247,248,249,250,251,252,253,254,255,256,257,258,259,260,261,262,263,264,265,266,267,268,269,270,271,272,273,274,275,276,277,278,279,280,281,282,283,284,285,286,287,288,289,290,291,292,293,294,295,296,297,298,299,300],\"xaxis\":\"x\",\"y\":[207.12751427224035,216.40987681083965,216.40987681083965,207.12751427224035,207.12751427224035,207.12751427224035,207.12751427224035,175.65401528507323,175.65401528507323,166.37165274647393,166.37165274647393,166.37165274647393,166.37165274647393,166.37165274647393,166.37165274647393,166.37165274647393,166.37165274647393,166.37165274647393,175.65401528507323,175.65401528507323,175.65401528507323,175.65401528507323,175.65401528507323,216.40987681083965,216.40987681083965,175.65401528507323,175.65401528507323,175.65401528507323,175.65401528507323,175.65401528507323,175.65401528507323,216.40987681083965,207.12751427224035,207.12751427224035,178.40754251269541,178.40754251269541,207.12751427224035,216.40987681083965,216.40987681083965,216.40987681083965,175.65401528507323,175.65401528507323,175.65401528507323,175.65401528507323,175.65401528507323,175.65401528507323,137.651680986929,175.65401528507323,137.651680986929,137.651680986929,137.651680986929,178.40754251269541,178.40754251269541,178.40754251269541,216.40987681083965,178.40754251269541,178.40754251269541,178.40754251269541,178.40754251269541,178.40754251269541,178.40754251269541,178.40754251269541,178.40754251269541,178.40754251269541,178.40754251269541,178.40754251269541,178.40754251269541,178.40754251269541,178.40754251269541,178.40754251269541,178.40754251269541,178.40754251269541,178.40754251269541,169.1251799740961,169.1251799740961,137.651680986929,137.651680986929,178.40754251269541,178.40754251269541,137.651680986929,137.651680986929,137.651680986929,137.651680986929,169.1251799740961,169.1251799740961,169.1251799740961,169.1251799740961,128.3693184483297,137.651680986929,169.1251799740961,137.651680986929,137.651680986929,137.651680986929,137.651680986929,137.651680986929,137.651680986929,137.651680986929,137.651680986929,137.651680986929,137.651680986929,169.1251799740961,137.651680986929,137.651680986929,137.651680986929,137.651680986929,137.651680986929,137.651680986929,137.651680986929,137.651680986929,128.3693184483297,137.651680986929,128.3693184483297,128.3693184483297,128.3693184483297,128.3693184483297,128.3693184483297,169.1251799740961,169.1251799740961,169.1251799740961,169.1251799740961,169.1251799740961,169.1251799740961,169.1251799740961,169.1251799740961,169.1251799740961,169.1251799740961,169.1251799740961,169.1251799740961,169.1251799740961,169.1251799740961,169.1251799740961,169.1251799740961,169.1251799740961,169.1251799740961,169.1251799740961,169.1251799740961,178.40754251269541,178.40754251269541,169.1251799740961,169.1251799740961,169.1251799740961,169.1251799740961,169.1251799740961,169.1251799740961,169.1251799740961,169.1251799740961,128.3693184483297,166.37165274647393,166.37165274647393,169.1251799740961,207.12751427224035,166.37165274647393,166.37165274647393,166.37165274647393,166.37165274647393,166.37165274647393,166.37165274647393,166.37165274647393,166.37165274647393,175.65401528507323,166.37165274647393,166.37165274647393,175.65401528507323,166.37165274647393,166.37165274647393,166.37165274647393,166.37165274647393,166.37165274647393,166.37165274647393,166.37165274647393,166.37165274647393,166.37165274647393,166.37165274647393,166.37165274647393,207.12751427224035,207.12751427224035,207.12751427224035,207.12751427224035,207.12751427224035,207.12751427224035,207.12751427224035,207.12751427224035,207.12751427224035,207.12751427224035,169.1251799740961,166.37165274647393,166.37165274647393,166.37165274647393,169.1251799740961,169.1251799740961,169.1251799740961,207.12751427224035,169.1251799740961,169.1251799740961,169.1251799740961,169.1251799740961,169.1251799740961,169.1251799740961,169.1251799740961,207.12751427224035,207.12751427224035,175.65401528507323,178.40754251269541,207.12751427224035,207.12751427224035,216.40987681083965,216.40987681083965,207.12751427224035,216.40987681083965,216.40987681083965,216.40987681083965,216.40987681083965,207.12751427224035,178.40754251269541,207.12751427224035,216.40987681083965,216.40987681083965,216.40987681083965,216.40987681083965,175.65401528507323,207.12751427224035,216.40987681083965,207.12751427224035,175.65401528507323,175.65401528507323,175.65401528507323,175.65401528507323,216.40987681083965,216.40987681083965,175.65401528507323,175.65401528507323,175.65401528507323,175.65401528507323,175.65401528507323,216.40987681083965,175.65401528507323,175.65401528507323,166.37165274647393,166.37165274647393,166.37165274647393,166.37165274647393,166.37165274647393,169.1251799740961,169.1251799740961,137.651680986929,137.651680986929,137.651680986929,166.37165274647393,175.65401528507323,175.65401528507323,175.65401528507323,175.65401528507323,137.651680986929,137.651680986929,137.651680986929,169.1251799740961,137.651680986929,137.651680986929,137.651680986929,137.651680986929,137.651680986929,137.651680986929,169.1251799740961,169.1251799740961,178.40754251269541,178.40754251269541,169.1251799740961,169.1251799740961,128.3693184483297,128.3693184483297,128.3693184483297,128.3693184483297,128.3693184483297,128.3693184483297,128.3693184483297,169.1251799740961,169.1251799740961,169.1251799740961,169.1251799740961,169.1251799740961,169.1251799740961,166.37165274647393,166.37165274647393,166.37165274647393,169.1251799740961,169.1251799740961,169.1251799740961,169.1251799740961,169.1251799740961,166.37165274647393,169.1251799740961,166.37165274647393,166.37165274647393,166.37165274647393,166.37165274647393,166.37165274647393,207.12751427224035,169.1251799740961,166.37165274647393,166.37165274647393,166.37165274647393],\"yaxis\":\"y\",\"type\":\"scatter\"}],                        {\"template\":{\"data\":{\"bar\":[{\"error_x\":{\"color\":\"#2a3f5f\"},\"error_y\":{\"color\":\"#2a3f5f\"},\"marker\":{\"line\":{\"color\":\"#E5ECF6\",\"width\":0.5},\"pattern\":{\"fillmode\":\"overlay\",\"size\":10,\"solidity\":0.2}},\"type\":\"bar\"}],\"barpolar\":[{\"marker\":{\"line\":{\"color\":\"#E5ECF6\",\"width\":0.5},\"pattern\":{\"fillmode\":\"overlay\",\"size\":10,\"solidity\":0.2}},\"type\":\"barpolar\"}],\"carpet\":[{\"aaxis\":{\"endlinecolor\":\"#2a3f5f\",\"gridcolor\":\"white\",\"linecolor\":\"white\",\"minorgridcolor\":\"white\",\"startlinecolor\":\"#2a3f5f\"},\"baxis\":{\"endlinecolor\":\"#2a3f5f\",\"gridcolor\":\"white\",\"linecolor\":\"white\",\"minorgridcolor\":\"white\",\"startlinecolor\":\"#2a3f5f\"},\"type\":\"carpet\"}],\"choropleth\":[{\"colorbar\":{\"outlinewidth\":0,\"ticks\":\"\"},\"type\":\"choropleth\"}],\"contour\":[{\"colorbar\":{\"outlinewidth\":0,\"ticks\":\"\"},\"colorscale\":[[0.0,\"#0d0887\"],[0.1111111111111111,\"#46039f\"],[0.2222222222222222,\"#7201a8\"],[0.3333333333333333,\"#9c179e\"],[0.4444444444444444,\"#bd3786\"],[0.5555555555555556,\"#d8576b\"],[0.6666666666666666,\"#ed7953\"],[0.7777777777777778,\"#fb9f3a\"],[0.8888888888888888,\"#fdca26\"],[1.0,\"#f0f921\"]],\"type\":\"contour\"}],\"contourcarpet\":[{\"colorbar\":{\"outlinewidth\":0,\"ticks\":\"\"},\"type\":\"contourcarpet\"}],\"heatmap\":[{\"colorbar\":{\"outlinewidth\":0,\"ticks\":\"\"},\"colorscale\":[[0.0,\"#0d0887\"],[0.1111111111111111,\"#46039f\"],[0.2222222222222222,\"#7201a8\"],[0.3333333333333333,\"#9c179e\"],[0.4444444444444444,\"#bd3786\"],[0.5555555555555556,\"#d8576b\"],[0.6666666666666666,\"#ed7953\"],[0.7777777777777778,\"#fb9f3a\"],[0.8888888888888888,\"#fdca26\"],[1.0,\"#f0f921\"]],\"type\":\"heatmap\"}],\"heatmapgl\":[{\"colorbar\":{\"outlinewidth\":0,\"ticks\":\"\"},\"colorscale\":[[0.0,\"#0d0887\"],[0.1111111111111111,\"#46039f\"],[0.2222222222222222,\"#7201a8\"],[0.3333333333333333,\"#9c179e\"],[0.4444444444444444,\"#bd3786\"],[0.5555555555555556,\"#d8576b\"],[0.6666666666666666,\"#ed7953\"],[0.7777777777777778,\"#fb9f3a\"],[0.8888888888888888,\"#fdca26\"],[1.0,\"#f0f921\"]],\"type\":\"heatmapgl\"}],\"histogram\":[{\"marker\":{\"pattern\":{\"fillmode\":\"overlay\",\"size\":10,\"solidity\":0.2}},\"type\":\"histogram\"}],\"histogram2d\":[{\"colorbar\":{\"outlinewidth\":0,\"ticks\":\"\"},\"colorscale\":[[0.0,\"#0d0887\"],[0.1111111111111111,\"#46039f\"],[0.2222222222222222,\"#7201a8\"],[0.3333333333333333,\"#9c179e\"],[0.4444444444444444,\"#bd3786\"],[0.5555555555555556,\"#d8576b\"],[0.6666666666666666,\"#ed7953\"],[0.7777777777777778,\"#fb9f3a\"],[0.8888888888888888,\"#fdca26\"],[1.0,\"#f0f921\"]],\"type\":\"histogram2d\"}],\"histogram2dcontour\":[{\"colorbar\":{\"outlinewidth\":0,\"ticks\":\"\"},\"colorscale\":[[0.0,\"#0d0887\"],[0.1111111111111111,\"#46039f\"],[0.2222222222222222,\"#7201a8\"],[0.3333333333333333,\"#9c179e\"],[0.4444444444444444,\"#bd3786\"],[0.5555555555555556,\"#d8576b\"],[0.6666666666666666,\"#ed7953\"],[0.7777777777777778,\"#fb9f3a\"],[0.8888888888888888,\"#fdca26\"],[1.0,\"#f0f921\"]],\"type\":\"histogram2dcontour\"}],\"mesh3d\":[{\"colorbar\":{\"outlinewidth\":0,\"ticks\":\"\"},\"type\":\"mesh3d\"}],\"parcoords\":[{\"line\":{\"colorbar\":{\"outlinewidth\":0,\"ticks\":\"\"}},\"type\":\"parcoords\"}],\"pie\":[{\"automargin\":true,\"type\":\"pie\"}],\"scatter\":[{\"marker\":{\"colorbar\":{\"outlinewidth\":0,\"ticks\":\"\"}},\"type\":\"scatter\"}],\"scatter3d\":[{\"line\":{\"colorbar\":{\"outlinewidth\":0,\"ticks\":\"\"}},\"marker\":{\"colorbar\":{\"outlinewidth\":0,\"ticks\":\"\"}},\"type\":\"scatter3d\"}],\"scattercarpet\":[{\"marker\":{\"colorbar\":{\"outlinewidth\":0,\"ticks\":\"\"}},\"type\":\"scattercarpet\"}],\"scattergeo\":[{\"marker\":{\"colorbar\":{\"outlinewidth\":0,\"ticks\":\"\"}},\"type\":\"scattergeo\"}],\"scattergl\":[{\"marker\":{\"colorbar\":{\"outlinewidth\":0,\"ticks\":\"\"}},\"type\":\"scattergl\"}],\"scattermapbox\":[{\"marker\":{\"colorbar\":{\"outlinewidth\":0,\"ticks\":\"\"}},\"type\":\"scattermapbox\"}],\"scatterpolar\":[{\"marker\":{\"colorbar\":{\"outlinewidth\":0,\"ticks\":\"\"}},\"type\":\"scatterpolar\"}],\"scatterpolargl\":[{\"marker\":{\"colorbar\":{\"outlinewidth\":0,\"ticks\":\"\"}},\"type\":\"scatterpolargl\"}],\"scatterternary\":[{\"marker\":{\"colorbar\":{\"outlinewidth\":0,\"ticks\":\"\"}},\"type\":\"scatterternary\"}],\"surface\":[{\"colorbar\":{\"outlinewidth\":0,\"ticks\":\"\"},\"colorscale\":[[0.0,\"#0d0887\"],[0.1111111111111111,\"#46039f\"],[0.2222222222222222,\"#7201a8\"],[0.3333333333333333,\"#9c179e\"],[0.4444444444444444,\"#bd3786\"],[0.5555555555555556,\"#d8576b\"],[0.6666666666666666,\"#ed7953\"],[0.7777777777777778,\"#fb9f3a\"],[0.8888888888888888,\"#fdca26\"],[1.0,\"#f0f921\"]],\"type\":\"surface\"}],\"table\":[{\"cells\":{\"fill\":{\"color\":\"#EBF0F8\"},\"line\":{\"color\":\"white\"}},\"header\":{\"fill\":{\"color\":\"#C8D4E3\"},\"line\":{\"color\":\"white\"}},\"type\":\"table\"}]},\"layout\":{\"annotationdefaults\":{\"arrowcolor\":\"#2a3f5f\",\"arrowhead\":0,\"arrowwidth\":1},\"autotypenumbers\":\"strict\",\"coloraxis\":{\"colorbar\":{\"outlinewidth\":0,\"ticks\":\"\"}},\"colorscale\":{\"diverging\":[[0,\"#8e0152\"],[0.1,\"#c51b7d\"],[0.2,\"#de77ae\"],[0.3,\"#f1b6da\"],[0.4,\"#fde0ef\"],[0.5,\"#f7f7f7\"],[0.6,\"#e6f5d0\"],[0.7,\"#b8e186\"],[0.8,\"#7fbc41\"],[0.9,\"#4d9221\"],[1,\"#276419\"]],\"sequential\":[[0.0,\"#0d0887\"],[0.1111111111111111,\"#46039f\"],[0.2222222222222222,\"#7201a8\"],[0.3333333333333333,\"#9c179e\"],[0.4444444444444444,\"#bd3786\"],[0.5555555555555556,\"#d8576b\"],[0.6666666666666666,\"#ed7953\"],[0.7777777777777778,\"#fb9f3a\"],[0.8888888888888888,\"#fdca26\"],[1.0,\"#f0f921\"]],\"sequentialminus\":[[0.0,\"#0d0887\"],[0.1111111111111111,\"#46039f\"],[0.2222222222222222,\"#7201a8\"],[0.3333333333333333,\"#9c179e\"],[0.4444444444444444,\"#bd3786\"],[0.5555555555555556,\"#d8576b\"],[0.6666666666666666,\"#ed7953\"],[0.7777777777777778,\"#fb9f3a\"],[0.8888888888888888,\"#fdca26\"],[1.0,\"#f0f921\"]]},\"colorway\":[\"#636efa\",\"#EF553B\",\"#00cc96\",\"#ab63fa\",\"#FFA15A\",\"#19d3f3\",\"#FF6692\",\"#B6E880\",\"#FF97FF\",\"#FECB52\"],\"font\":{\"color\":\"#2a3f5f\"},\"geo\":{\"bgcolor\":\"white\",\"lakecolor\":\"white\",\"landcolor\":\"#E5ECF6\",\"showlakes\":true,\"showland\":true,\"subunitcolor\":\"white\"},\"hoverlabel\":{\"align\":\"left\"},\"hovermode\":\"closest\",\"mapbox\":{\"style\":\"light\"},\"paper_bgcolor\":\"white\",\"plot_bgcolor\":\"#E5ECF6\",\"polar\":{\"angularaxis\":{\"gridcolor\":\"white\",\"linecolor\":\"white\",\"ticks\":\"\"},\"bgcolor\":\"#E5ECF6\",\"radialaxis\":{\"gridcolor\":\"white\",\"linecolor\":\"white\",\"ticks\":\"\"}},\"scene\":{\"xaxis\":{\"backgroundcolor\":\"#E5ECF6\",\"gridcolor\":\"white\",\"gridwidth\":2,\"linecolor\":\"white\",\"showbackground\":true,\"ticks\":\"\",\"zerolinecolor\":\"white\"},\"yaxis\":{\"backgroundcolor\":\"#E5ECF6\",\"gridcolor\":\"white\",\"gridwidth\":2,\"linecolor\":\"white\",\"showbackground\":true,\"ticks\":\"\",\"zerolinecolor\":\"white\"},\"zaxis\":{\"backgroundcolor\":\"#E5ECF6\",\"gridcolor\":\"white\",\"gridwidth\":2,\"linecolor\":\"white\",\"showbackground\":true,\"ticks\":\"\",\"zerolinecolor\":\"white\"}},\"shapedefaults\":{\"line\":{\"color\":\"#2a3f5f\"}},\"ternary\":{\"aaxis\":{\"gridcolor\":\"white\",\"linecolor\":\"white\",\"ticks\":\"\"},\"baxis\":{\"gridcolor\":\"white\",\"linecolor\":\"white\",\"ticks\":\"\"},\"bgcolor\":\"#E5ECF6\",\"caxis\":{\"gridcolor\":\"white\",\"linecolor\":\"white\",\"ticks\":\"\"}},\"title\":{\"x\":0.05},\"xaxis\":{\"automargin\":true,\"gridcolor\":\"white\",\"linecolor\":\"white\",\"ticks\":\"\",\"title\":{\"standoff\":15},\"zerolinecolor\":\"white\",\"zerolinewidth\":2},\"yaxis\":{\"automargin\":true,\"gridcolor\":\"white\",\"linecolor\":\"white\",\"ticks\":\"\",\"title\":{\"standoff\":15},\"zerolinecolor\":\"white\",\"zerolinewidth\":2}}},\"xaxis\":{\"anchor\":\"y\",\"domain\":[0.0,1.0],\"title\":{\"text\":\"iteration\"}},\"yaxis\":{\"anchor\":\"x\",\"domain\":[0.0,1.0],\"title\":{\"text\":\"fitness\"}},\"legend\":{\"tracegroupgap\":0},\"margin\":{\"t\":60}},                        {\"responsive\": true}                    ).then(function(){\n",
              "                            \n",
              "var gd = document.getElementById('080f3eb8-be9b-400c-82f0-6fc4a87a4c14');\n",
              "var x = new MutationObserver(function (mutations, observer) {{\n",
              "        var display = window.getComputedStyle(gd).display;\n",
              "        if (!display || display === 'none') {{\n",
              "            console.log([gd, 'removed!']);\n",
              "            Plotly.purge(gd);\n",
              "            observer.disconnect();\n",
              "        }}\n",
              "}});\n",
              "\n",
              "// Listen for the removal of the full notebook cells\n",
              "var notebookContainer = gd.closest('#notebook-container');\n",
              "if (notebookContainer) {{\n",
              "    x.observe(notebookContainer, {childList: true});\n",
              "}}\n",
              "\n",
              "// Listen for the clearing of the current output cell\n",
              "var outputEl = gd.closest('.output');\n",
              "if (outputEl) {{\n",
              "    x.observe(outputEl, {childList: true});\n",
              "}}\n",
              "\n",
              "                        })                };                            </script>        </div>\n",
              "</body>\n",
              "</html>"
            ]
          },
          "metadata": {}
        }
      ]
    },
    {
      "cell_type": "code",
      "metadata": {
        "colab": {
          "base_uri": "https://localhost:8080/"
        },
        "id": "vMJOPFiERr-w",
        "outputId": "3842e00a-c4ee-4beb-e367-7e835e6a89f0"
      },
      "source": [
        "print(weights)\n",
        "print(prices)"
      ],
      "execution_count": null,
      "outputs": [
        {
          "output_type": "stream",
          "text": [
            "[ 0.15194526  3.1928494   4.16207629  7.3690238  14.41463845  1.65537704\n",
            " 10.12640411  6.59615805  4.58713159  1.18966927]\n",
            "[83.56766084 71.16420874 65.27958281 63.2319075  41.00785337 41.42194375\n",
            " 66.20960513 69.96913063 32.76405652 46.18017505]\n"
          ],
          "name": "stdout"
        }
      ]
    },
    {
      "cell_type": "code",
      "metadata": {
        "colab": {
          "base_uri": "https://localhost:8080/"
        },
        "id": "TXjQhPI7Rwth",
        "outputId": "1bcead86-86c8-4bf2-ee6f-9af2136230fd"
      },
      "source": [
        "print(fitnessFunct([1, 0, 0, 0, 1, 0, 0, 0, 1, 1]))\n",
        "print(fitnessFunct(bestInd))\n"
      ],
      "execution_count": null,
      "outputs": [
        {
          "output_type": "stream",
          "text": [
            "0.1\n",
            "340.3776277029632\n"
          ],
          "name": "stdout"
        }
      ]
    },
    {
      "cell_type": "markdown",
      "metadata": {
        "id": "RC6vmFsKUyZu"
      },
      "source": [
        "## Clase agrupando todo los métodos anteriores, para generalizar para problemas con individuos binarios."
      ]
    },
    {
      "cell_type": "code",
      "metadata": {
        "id": "pAOUbpV8U7fv"
      },
      "source": [
        "class Genetic_Algorithm ():\n",
        "  def __init__(self, sizeIndividual, sizePopulation=100, generations=400, mutation_probability=0.1, crossover_probability=0.9):\n",
        "    self.sizeIndividual= sizeIndividual\n",
        "    self.sizePopulation = sizePopulation\n",
        "    self.generations = generations\n",
        "    self.mutation_probability=mutation_probability\n",
        "    self.crossover_probability=crossover_probability\n",
        "\n",
        "  def fitnessFunct(self,x):\n",
        "    #return sum(x*prices)\n",
        "    pass\n",
        "\n",
        "  def valid(self, x):\n",
        "   #return 0<sum(x*weights)<=W\n",
        "   return True\n",
        "\n",
        "  def generateFirstPopulation(self):\n",
        "    population=[]\n",
        "    count=0;\n",
        "    while True:\n",
        "      ind =np.random.randint(0, 2, sizeIndividual)\n",
        "      if (self.valid(ind)):\n",
        "        population.append(ind)\n",
        "        count=count+1\n",
        "      if count==sizePopulation:\n",
        "        return population\n",
        "\n",
        "  def roulette(self,population):\n",
        "    of=[self.fitnessFunct(s) for s in population]\n",
        "    probability=of/sum(of)\n",
        "    accumulatedProb=np.cumsum(probability)\n",
        "    return accumulatedProb \n",
        "\n",
        "  def selection(self, population, accumulatedProb):\n",
        "    nr=np.random.uniform()\n",
        "    for i,p in enumerate(accumulatedProb):\n",
        "      if nr<p:\n",
        "        return population[i]\n",
        "\n",
        "  def crossover(self,ind1, ind2):\n",
        "    cp=np.random.randint(1,len(ind1)-1)\n",
        "    ## Create new children\n",
        "    child1=np.concatenate((ind1[0:cp+1],ind2[cp+1:len(ind2)]))\n",
        "    child2=np.concatenate((ind2[0:cp+1],ind1[cp+1:len(ind1)]))\n",
        "    return child1,child2\n",
        "\n",
        "  def mutate(self,ind):\n",
        "    cp=np.random.randint(0,len(ind)-1)\n",
        "    child=np.copy(ind)\n",
        "    child[cp]=not child[cp]\n",
        "    return child\n",
        "\n",
        "  def geneticAlgorithm(self):\n",
        "    population=self.generateFirstPopulation()\n",
        "    accumulatedProb=self.roulette(population)\n",
        "    self.bestIndividual=[population[0]] # Lista de mejores individuos de cada población\n",
        "    for i in range(self.generations):\n",
        "      #Generar la nueva población\n",
        "      nextPopulation=[]\n",
        "      count=0\n",
        "      while True: # para crear la población cuando tengamos NP individuos\n",
        "        # Hacemos selección de dos individuos y cruce si es posible\n",
        "        ind1=self.selection(population, accumulatedProb)\n",
        "        ind2=self.selection(population, accumulatedProb)\n",
        "        crossProb=nr=np.random.uniform()\n",
        "        if crossProb<self.crossover_probability:\n",
        "          child1,child2=self.crossover(ind1,ind2)\n",
        "          if self.valid(child1):\n",
        "            nextPopulation.append(child1)\n",
        "          if self.valid(child2):\n",
        "            nextPopulation.append(child2)\n",
        "        else:\n",
        "          nextPopulation.append(ind1)\n",
        "          nextPopulation.append(ind2)\n",
        "        # Hacemos selección de un individuo y mutación si es posible\n",
        "        mutProb=nr=np.random.uniform()\n",
        "        ind=self.selection(population, accumulatedProb)\n",
        "        if mutProb<self.mutation_probability:\n",
        "          child=self.mutate(ind)\n",
        "          if self.valid(child):\n",
        "            nextPopulation.append(child)\n",
        "        else:\n",
        "          nextPopulation.append(ind)\n",
        "        if len(nextPopulation)>=sizePopulation:\n",
        "          nextPopulation=nextPopulation[0:sizePopulation]\n",
        "          break;\n",
        "      \n",
        "      accumulatedProb=self.roulette(nextPopulation)\n",
        "      sorted_population=sorted(nextPopulation,key=fitnessFunct,reverse=True)\n",
        "      self.bestIndividual.append(sorted_population[0])\n",
        "      population=nextPopulation\n",
        "    sortedBest=sorted(self.bestIndividual,key=self.fitnessFunct,reverse=True)\n",
        "    return sortedBest[0],self.fitnessFunct(sortedBest[0])\n",
        "    "
      ],
      "execution_count": null,
      "outputs": []
    },
    {
      "cell_type": "code",
      "metadata": {
        "id": "9Uz1VhVRY9bv"
      },
      "source": [
        "class GA_KnacksackProblem(Genetic_Algorithm):\n",
        "  def __init__(self, weights, prices, sizeKnacksack, sizeIndividual, sizePopulation, generations, mutation_probability, crossover_probability):\n",
        "    super(GA_KnacksackProblem, self).__init__(sizeIndividual, sizePopulation, generations, mutation_probability, crossover_probability)\n",
        "    self.weights=weights\n",
        "    self.prices=prices\n",
        "    self.sizeKnacksack=sizeKnacksack\n",
        "\n",
        "  def fitnessFunct(self,x):\n",
        "    return sum(x*self.prices)\n",
        "\n",
        "  def valid(self,x):\n",
        "    return 0<sum(x*self.weights)<=self.sizeKnacksack"
      ],
      "execution_count": null,
      "outputs": []
    },
    {
      "cell_type": "code",
      "metadata": {
        "id": "lyiVcCjlZ52z"
      },
      "source": [
        "KP=GA_KnacksackProblem(weights, prices, W, sizeIndividual, sizePopulation, generations, mutation_probability, crossover_probability)"
      ],
      "execution_count": null,
      "outputs": []
    },
    {
      "cell_type": "code",
      "metadata": {
        "colab": {
          "base_uri": "https://localhost:8080/"
        },
        "id": "PJFwrMzAb4S4",
        "outputId": "8c705fdd-4efb-4f9a-b634-38fe8ddb78bb"
      },
      "source": [
        "solution, f=KP.geneticAlgorithm()\n",
        "print(solution, f)"
      ],
      "execution_count": null,
      "outputs": [
        {
          "output_type": "stream",
          "text": [
            "[1 1 1 0 0 1 0 0 1 1] 340.3776277029632\n"
          ],
          "name": "stdout"
        }
      ]
    },
    {
      "cell_type": "code",
      "metadata": {
        "colab": {
          "base_uri": "https://localhost:8080/",
          "height": 542
        },
        "id": "UkgJwDxs-aFD",
        "outputId": "4f298f14-bf58-4c22-be83-e8037a09a945"
      },
      "source": [
        "iteration=np.arange(0,len(KP.bestIndividual))\n",
        "fitnessValue=[KP.fitnessFunct(x) for x in KP.bestIndividual]\n",
        "df = pd.DataFrame(list(zip(iteration,fitnessValue)),\n",
        "               columns =['iteration', 'fitness'])\n",
        "fig = px.line(df, x=\"iteration\", y=\"fitness\")\n",
        "fig.show()"
      ],
      "execution_count": null,
      "outputs": [
        {
          "output_type": "display_data",
          "data": {
            "text/html": [
              "<html>\n",
              "<head><meta charset=\"utf-8\" /></head>\n",
              "<body>\n",
              "    <div>\n",
              "            <script src=\"https://cdnjs.cloudflare.com/ajax/libs/mathjax/2.7.5/MathJax.js?config=TeX-AMS-MML_SVG\"></script><script type=\"text/javascript\">if (window.MathJax) {MathJax.Hub.Config({SVG: {font: \"STIX-Web\"}});}</script>\n",
              "                <script type=\"text/javascript\">window.PlotlyConfig = {MathJaxConfig: 'local'};</script>\n",
              "        <script src=\"https://cdn.plot.ly/plotly-latest.min.js\"></script>    \n",
              "            <div id=\"777948aa-2d00-4f58-aead-e4d4039408c4\" class=\"plotly-graph-div\" style=\"height:525px; width:100%;\"></div>\n",
              "            <script type=\"text/javascript\">\n",
              "                \n",
              "                    window.PLOTLYENV=window.PLOTLYENV || {};\n",
              "                    \n",
              "                if (document.getElementById(\"777948aa-2d00-4f58-aead-e4d4039408c4\")) {\n",
              "                    Plotly.newPlot(\n",
              "                        '777948aa-2d00-4f58-aead-e4d4039408c4',\n",
              "                        [{\"hoverlabel\": {\"namelength\": 0}, \"hovertemplate\": \"iteration=%{x}<br>fitness=%{y}\", \"legendgroup\": \"\", \"line\": {\"color\": \"#636efa\", \"dash\": \"solid\"}, \"mode\": \"lines\", \"name\": \"\", \"showlegend\": false, \"type\": \"scatter\", \"x\": [0, 1, 2, 3, 4, 5, 6, 7, 8, 9, 10, 11, 12, 13, 14, 15, 16, 17, 18, 19, 20, 21, 22, 23, 24, 25, 26, 27, 28, 29, 30, 31, 32, 33, 34, 35, 36, 37, 38, 39, 40, 41, 42, 43, 44, 45, 46, 47, 48, 49, 50, 51, 52, 53, 54, 55, 56, 57, 58, 59, 60, 61, 62, 63, 64, 65, 66, 67, 68, 69, 70, 71, 72, 73, 74, 75, 76, 77, 78, 79, 80, 81, 82, 83, 84, 85, 86, 87, 88, 89, 90, 91, 92, 93, 94, 95, 96, 97, 98, 99, 100, 101, 102, 103, 104, 105, 106, 107, 108, 109, 110, 111, 112, 113, 114, 115, 116, 117, 118, 119, 120, 121, 122, 123, 124, 125, 126, 127, 128, 129, 130, 131, 132, 133, 134, 135, 136, 137, 138, 139, 140, 141, 142, 143, 144, 145, 146, 147, 148, 149, 150, 151, 152, 153, 154, 155, 156, 157, 158, 159, 160, 161, 162, 163, 164, 165, 166, 167, 168, 169, 170, 171, 172, 173, 174, 175, 176, 177, 178, 179, 180, 181, 182, 183, 184, 185, 186, 187, 188, 189, 190, 191, 192, 193, 194, 195, 196, 197, 198, 199, 200, 201, 202, 203, 204, 205, 206, 207, 208, 209, 210, 211, 212, 213, 214, 215, 216, 217, 218, 219, 220, 221, 222, 223, 224, 225, 226, 227, 228, 229, 230, 231, 232, 233, 234, 235, 236, 237, 238, 239, 240, 241, 242, 243, 244, 245, 246, 247, 248, 249, 250, 251, 252, 253, 254, 255, 256, 257, 258, 259, 260, 261, 262, 263, 264, 265, 266, 267, 268, 269, 270, 271, 272, 273, 274, 275, 276, 277, 278, 279, 280, 281, 282, 283, 284, 285, 286, 287, 288, 289, 290, 291, 292, 293, 294, 295, 296, 297, 298, 299, 300], \"xaxis\": \"x\", \"y\": [228.73545816007473, 340.3776277029632, 340.3776277029632, 340.3776277029632, 340.3776277029632, 340.3776277029632, 340.3776277029632, 340.3776277029632, 340.3776277029632, 340.3776277029632, 340.3776277029632, 340.3776277029632, 340.3776277029632, 340.3776277029632, 340.3776277029632, 340.3776277029632, 340.3776277029632, 340.3776277029632, 340.3776277029632, 340.3776277029632, 340.3776277029632, 340.3776277029632, 340.3776277029632, 340.3776277029632, 340.3776277029632, 340.3776277029632, 340.3776277029632, 340.3776277029632, 340.3776277029632, 340.3776277029632, 340.3776277029632, 307.6135711871382, 307.6135711871382, 340.3776277029632, 340.3776277029632, 340.3776277029632, 340.3776277029632, 340.3776277029632, 340.3776277029632, 340.3776277029632, 340.3776277029632, 340.3776277029632, 340.3776277029632, 340.3776277029632, 340.3776277029632, 340.3776277029632, 340.3776277029632, 340.3776277029632, 340.3776277029632, 340.3776277029632, 340.3776277029632, 340.3776277029632, 340.3776277029632, 340.3776277029632, 340.3776277029632, 340.3776277029632, 340.3776277029632, 340.3776277029632, 340.3776277029632, 340.3776277029632, 340.3776277029632, 340.3776277029632, 340.3776277029632, 340.3776277029632, 340.3776277029632, 340.3776277029632, 340.3776277029632, 340.3776277029632, 340.3776277029632, 340.3776277029632, 340.3776277029632, 340.3776277029632, 340.3776277029632, 340.3776277029632, 340.3776277029632, 340.3776277029632, 340.3776277029632, 340.3776277029632, 340.3776277029632, 340.3776277029632, 340.3776277029632, 340.3776277029632, 340.3776277029632, 340.3776277029632, 340.3776277029632, 340.3776277029632, 340.3776277029632, 340.3776277029632, 340.3776277029632, 340.3776277029632, 340.3776277029632, 340.3776277029632, 340.3776277029632, 340.3776277029632, 340.3776277029632, 340.3776277029632, 340.3776277029632, 340.3776277029632, 340.3776277029632, 340.3776277029632, 340.3776277029632, 340.3776277029632, 340.3776277029632, 340.3776277029632, 340.3776277029632, 340.3776277029632, 340.3776277029632, 340.3776277029632, 340.3776277029632, 340.3776277029632, 340.3776277029632, 340.3776277029632, 340.3776277029632, 340.3776277029632, 340.3776277029632, 340.3776277029632, 340.3776277029632, 340.3776277029632, 340.3776277029632, 340.3776277029632, 340.3776277029632, 340.3776277029632, 340.3776277029632, 340.3776277029632, 340.3776277029632, 340.3776277029632, 340.3776277029632, 340.3776277029632, 340.3776277029632, 340.3776277029632, 340.3776277029632, 340.3776277029632, 340.3776277029632, 340.3776277029632, 340.3776277029632, 340.3776277029632, 340.3776277029632, 340.3776277029632, 340.3776277029632, 340.3776277029632, 340.3776277029632, 340.3776277029632, 340.3776277029632, 340.3776277029632, 340.3776277029632, 340.3776277029632, 340.3776277029632, 340.3776277029632, 340.3776277029632, 340.3776277029632, 340.3776277029632, 340.3776277029632, 340.3776277029632, 340.3776277029632, 340.3776277029632, 340.3776277029632, 340.3776277029632, 340.3776277029632, 340.3776277029632, 340.3776277029632, 340.3776277029632, 340.3776277029632, 340.3776277029632, 340.3776277029632, 340.3776277029632, 340.3776277029632, 340.3776277029632, 340.3776277029632, 340.3776277029632, 340.3776277029632, 340.3776277029632, 340.3776277029632, 340.3776277029632, 340.3776277029632, 340.3776277029632, 340.3776277029632, 340.3776277029632, 340.3776277029632, 340.3776277029632, 340.3776277029632, 340.3776277029632, 340.3776277029632, 340.3776277029632, 340.3776277029632, 340.3776277029632, 340.3776277029632, 340.3776277029632, 340.3776277029632, 340.3776277029632, 340.3776277029632, 340.3776277029632, 340.3776277029632, 340.3776277029632, 340.3776277029632, 340.3776277029632, 340.3776277029632, 340.3776277029632, 340.3776277029632, 340.3776277029632, 340.3776277029632, 340.3776277029632, 340.3776277029632, 340.3776277029632, 340.3776277029632, 340.3776277029632, 340.3776277029632, 340.3776277029632, 340.3776277029632, 340.3776277029632, 340.3776277029632, 340.3776277029632, 340.3776277029632, 340.3776277029632, 340.3776277029632, 340.3776277029632, 340.3776277029632, 340.3776277029632, 340.3776277029632, 340.3776277029632, 340.3776277029632, 340.3776277029632, 340.3776277029632, 340.3776277029632, 340.3776277029632, 340.3776277029632, 340.3776277029632, 340.3776277029632, 340.3776277029632, 340.3776277029632, 340.3776277029632, 340.3776277029632, 340.3776277029632, 340.3776277029632, 340.3776277029632, 340.3776277029632, 340.3776277029632, 340.3776277029632, 340.3776277029632, 340.3776277029632, 340.3776277029632, 340.3776277029632, 340.3776277029632, 340.3776277029632, 340.3776277029632, 340.3776277029632, 340.3776277029632, 340.3776277029632, 340.3776277029632, 340.3776277029632, 340.3776277029632, 340.3776277029632, 340.3776277029632, 340.3776277029632, 340.3776277029632, 340.3776277029632, 340.3776277029632, 340.3776277029632, 340.3776277029632, 340.3776277029632, 340.3776277029632, 340.3776277029632, 340.3776277029632, 340.3776277029632, 340.3776277029632, 340.3776277029632, 340.3776277029632, 340.3776277029632, 340.3776277029632, 340.3776277029632, 340.3776277029632, 340.3776277029632, 340.3776277029632, 340.3776277029632, 340.3776277029632, 340.3776277029632, 340.3776277029632, 340.3776277029632, 340.3776277029632, 340.3776277029632, 340.3776277029632, 340.3776277029632, 340.3776277029632, 340.3776277029632, 340.3776277029632, 340.3776277029632, 340.3776277029632, 340.3776277029632, 340.3776277029632, 340.3776277029632, 340.3776277029632, 340.3776277029632, 340.3776277029632, 340.3776277029632, 340.3776277029632, 340.3776277029632, 340.3776277029632, 340.3776277029632, 340.3776277029632, 340.3776277029632, 340.3776277029632, 340.3776277029632], \"yaxis\": \"y\"}],\n",
              "                        {\"legend\": {\"tracegroupgap\": 0}, \"margin\": {\"t\": 60}, \"template\": {\"data\": {\"bar\": [{\"error_x\": {\"color\": \"#2a3f5f\"}, \"error_y\": {\"color\": \"#2a3f5f\"}, \"marker\": {\"line\": {\"color\": \"#E5ECF6\", \"width\": 0.5}}, \"type\": \"bar\"}], \"barpolar\": [{\"marker\": {\"line\": {\"color\": \"#E5ECF6\", \"width\": 0.5}}, \"type\": \"barpolar\"}], \"carpet\": [{\"aaxis\": {\"endlinecolor\": \"#2a3f5f\", \"gridcolor\": \"white\", \"linecolor\": \"white\", \"minorgridcolor\": \"white\", \"startlinecolor\": \"#2a3f5f\"}, \"baxis\": {\"endlinecolor\": \"#2a3f5f\", \"gridcolor\": \"white\", \"linecolor\": \"white\", \"minorgridcolor\": \"white\", \"startlinecolor\": \"#2a3f5f\"}, \"type\": \"carpet\"}], \"choropleth\": [{\"colorbar\": {\"outlinewidth\": 0, \"ticks\": \"\"}, \"type\": \"choropleth\"}], \"contour\": [{\"colorbar\": {\"outlinewidth\": 0, \"ticks\": \"\"}, \"colorscale\": [[0.0, \"#0d0887\"], [0.1111111111111111, \"#46039f\"], [0.2222222222222222, \"#7201a8\"], [0.3333333333333333, \"#9c179e\"], [0.4444444444444444, \"#bd3786\"], [0.5555555555555556, \"#d8576b\"], [0.6666666666666666, \"#ed7953\"], [0.7777777777777778, \"#fb9f3a\"], [0.8888888888888888, \"#fdca26\"], [1.0, \"#f0f921\"]], \"type\": \"contour\"}], \"contourcarpet\": [{\"colorbar\": {\"outlinewidth\": 0, \"ticks\": \"\"}, \"type\": \"contourcarpet\"}], \"heatmap\": [{\"colorbar\": {\"outlinewidth\": 0, \"ticks\": \"\"}, \"colorscale\": [[0.0, \"#0d0887\"], [0.1111111111111111, \"#46039f\"], [0.2222222222222222, \"#7201a8\"], [0.3333333333333333, \"#9c179e\"], [0.4444444444444444, \"#bd3786\"], [0.5555555555555556, \"#d8576b\"], [0.6666666666666666, \"#ed7953\"], [0.7777777777777778, \"#fb9f3a\"], [0.8888888888888888, \"#fdca26\"], [1.0, \"#f0f921\"]], \"type\": \"heatmap\"}], \"heatmapgl\": [{\"colorbar\": {\"outlinewidth\": 0, \"ticks\": \"\"}, \"colorscale\": [[0.0, \"#0d0887\"], [0.1111111111111111, \"#46039f\"], [0.2222222222222222, \"#7201a8\"], [0.3333333333333333, \"#9c179e\"], [0.4444444444444444, \"#bd3786\"], [0.5555555555555556, \"#d8576b\"], [0.6666666666666666, \"#ed7953\"], [0.7777777777777778, \"#fb9f3a\"], [0.8888888888888888, \"#fdca26\"], [1.0, \"#f0f921\"]], \"type\": \"heatmapgl\"}], \"histogram\": [{\"marker\": {\"colorbar\": {\"outlinewidth\": 0, \"ticks\": \"\"}}, \"type\": \"histogram\"}], \"histogram2d\": [{\"colorbar\": {\"outlinewidth\": 0, \"ticks\": \"\"}, \"colorscale\": [[0.0, \"#0d0887\"], [0.1111111111111111, \"#46039f\"], [0.2222222222222222, \"#7201a8\"], [0.3333333333333333, \"#9c179e\"], [0.4444444444444444, \"#bd3786\"], [0.5555555555555556, \"#d8576b\"], [0.6666666666666666, \"#ed7953\"], [0.7777777777777778, \"#fb9f3a\"], [0.8888888888888888, \"#fdca26\"], [1.0, \"#f0f921\"]], \"type\": \"histogram2d\"}], \"histogram2dcontour\": [{\"colorbar\": {\"outlinewidth\": 0, \"ticks\": \"\"}, \"colorscale\": [[0.0, \"#0d0887\"], [0.1111111111111111, \"#46039f\"], [0.2222222222222222, \"#7201a8\"], [0.3333333333333333, \"#9c179e\"], [0.4444444444444444, \"#bd3786\"], [0.5555555555555556, \"#d8576b\"], [0.6666666666666666, \"#ed7953\"], [0.7777777777777778, \"#fb9f3a\"], [0.8888888888888888, \"#fdca26\"], [1.0, \"#f0f921\"]], \"type\": \"histogram2dcontour\"}], \"mesh3d\": [{\"colorbar\": {\"outlinewidth\": 0, \"ticks\": \"\"}, \"type\": \"mesh3d\"}], \"parcoords\": [{\"line\": {\"colorbar\": {\"outlinewidth\": 0, \"ticks\": \"\"}}, \"type\": \"parcoords\"}], \"pie\": [{\"automargin\": true, \"type\": \"pie\"}], \"scatter\": [{\"marker\": {\"colorbar\": {\"outlinewidth\": 0, \"ticks\": \"\"}}, \"type\": \"scatter\"}], \"scatter3d\": [{\"line\": {\"colorbar\": {\"outlinewidth\": 0, \"ticks\": \"\"}}, \"marker\": {\"colorbar\": {\"outlinewidth\": 0, \"ticks\": \"\"}}, \"type\": \"scatter3d\"}], \"scattercarpet\": [{\"marker\": {\"colorbar\": {\"outlinewidth\": 0, \"ticks\": \"\"}}, \"type\": \"scattercarpet\"}], \"scattergeo\": [{\"marker\": {\"colorbar\": {\"outlinewidth\": 0, \"ticks\": \"\"}}, \"type\": \"scattergeo\"}], \"scattergl\": [{\"marker\": {\"colorbar\": {\"outlinewidth\": 0, \"ticks\": \"\"}}, \"type\": \"scattergl\"}], \"scattermapbox\": [{\"marker\": {\"colorbar\": {\"outlinewidth\": 0, \"ticks\": \"\"}}, \"type\": \"scattermapbox\"}], \"scatterpolar\": [{\"marker\": {\"colorbar\": {\"outlinewidth\": 0, \"ticks\": \"\"}}, \"type\": \"scatterpolar\"}], \"scatterpolargl\": [{\"marker\": {\"colorbar\": {\"outlinewidth\": 0, \"ticks\": \"\"}}, \"type\": \"scatterpolargl\"}], \"scatterternary\": [{\"marker\": {\"colorbar\": {\"outlinewidth\": 0, \"ticks\": \"\"}}, \"type\": \"scatterternary\"}], \"surface\": [{\"colorbar\": {\"outlinewidth\": 0, \"ticks\": \"\"}, \"colorscale\": [[0.0, \"#0d0887\"], [0.1111111111111111, \"#46039f\"], [0.2222222222222222, \"#7201a8\"], [0.3333333333333333, \"#9c179e\"], [0.4444444444444444, \"#bd3786\"], [0.5555555555555556, \"#d8576b\"], [0.6666666666666666, \"#ed7953\"], [0.7777777777777778, \"#fb9f3a\"], [0.8888888888888888, \"#fdca26\"], [1.0, \"#f0f921\"]], \"type\": \"surface\"}], \"table\": [{\"cells\": {\"fill\": {\"color\": \"#EBF0F8\"}, \"line\": {\"color\": \"white\"}}, \"header\": {\"fill\": {\"color\": \"#C8D4E3\"}, \"line\": {\"color\": \"white\"}}, \"type\": \"table\"}]}, \"layout\": {\"annotationdefaults\": {\"arrowcolor\": \"#2a3f5f\", \"arrowhead\": 0, \"arrowwidth\": 1}, \"coloraxis\": {\"colorbar\": {\"outlinewidth\": 0, \"ticks\": \"\"}}, \"colorscale\": {\"diverging\": [[0, \"#8e0152\"], [0.1, \"#c51b7d\"], [0.2, \"#de77ae\"], [0.3, \"#f1b6da\"], [0.4, \"#fde0ef\"], [0.5, \"#f7f7f7\"], [0.6, \"#e6f5d0\"], [0.7, \"#b8e186\"], [0.8, \"#7fbc41\"], [0.9, \"#4d9221\"], [1, \"#276419\"]], \"sequential\": [[0.0, \"#0d0887\"], [0.1111111111111111, \"#46039f\"], [0.2222222222222222, \"#7201a8\"], [0.3333333333333333, \"#9c179e\"], [0.4444444444444444, \"#bd3786\"], [0.5555555555555556, \"#d8576b\"], [0.6666666666666666, \"#ed7953\"], [0.7777777777777778, \"#fb9f3a\"], [0.8888888888888888, \"#fdca26\"], [1.0, \"#f0f921\"]], \"sequentialminus\": [[0.0, \"#0d0887\"], [0.1111111111111111, \"#46039f\"], [0.2222222222222222, \"#7201a8\"], [0.3333333333333333, \"#9c179e\"], [0.4444444444444444, \"#bd3786\"], [0.5555555555555556, \"#d8576b\"], [0.6666666666666666, \"#ed7953\"], [0.7777777777777778, \"#fb9f3a\"], [0.8888888888888888, \"#fdca26\"], [1.0, \"#f0f921\"]]}, \"colorway\": [\"#636efa\", \"#EF553B\", \"#00cc96\", \"#ab63fa\", \"#FFA15A\", \"#19d3f3\", \"#FF6692\", \"#B6E880\", \"#FF97FF\", \"#FECB52\"], \"font\": {\"color\": \"#2a3f5f\"}, \"geo\": {\"bgcolor\": \"white\", \"lakecolor\": \"white\", \"landcolor\": \"#E5ECF6\", \"showlakes\": true, \"showland\": true, \"subunitcolor\": \"white\"}, \"hoverlabel\": {\"align\": \"left\"}, \"hovermode\": \"closest\", \"mapbox\": {\"style\": \"light\"}, \"paper_bgcolor\": \"white\", \"plot_bgcolor\": \"#E5ECF6\", \"polar\": {\"angularaxis\": {\"gridcolor\": \"white\", \"linecolor\": \"white\", \"ticks\": \"\"}, \"bgcolor\": \"#E5ECF6\", \"radialaxis\": {\"gridcolor\": \"white\", \"linecolor\": \"white\", \"ticks\": \"\"}}, \"scene\": {\"xaxis\": {\"backgroundcolor\": \"#E5ECF6\", \"gridcolor\": \"white\", \"gridwidth\": 2, \"linecolor\": \"white\", \"showbackground\": true, \"ticks\": \"\", \"zerolinecolor\": \"white\"}, \"yaxis\": {\"backgroundcolor\": \"#E5ECF6\", \"gridcolor\": \"white\", \"gridwidth\": 2, \"linecolor\": \"white\", \"showbackground\": true, \"ticks\": \"\", \"zerolinecolor\": \"white\"}, \"zaxis\": {\"backgroundcolor\": \"#E5ECF6\", \"gridcolor\": \"white\", \"gridwidth\": 2, \"linecolor\": \"white\", \"showbackground\": true, \"ticks\": \"\", \"zerolinecolor\": \"white\"}}, \"shapedefaults\": {\"line\": {\"color\": \"#2a3f5f\"}}, \"ternary\": {\"aaxis\": {\"gridcolor\": \"white\", \"linecolor\": \"white\", \"ticks\": \"\"}, \"baxis\": {\"gridcolor\": \"white\", \"linecolor\": \"white\", \"ticks\": \"\"}, \"bgcolor\": \"#E5ECF6\", \"caxis\": {\"gridcolor\": \"white\", \"linecolor\": \"white\", \"ticks\": \"\"}}, \"title\": {\"x\": 0.05}, \"xaxis\": {\"automargin\": true, \"gridcolor\": \"white\", \"linecolor\": \"white\", \"ticks\": \"\", \"title\": {\"standoff\": 15}, \"zerolinecolor\": \"white\", \"zerolinewidth\": 2}, \"yaxis\": {\"automargin\": true, \"gridcolor\": \"white\", \"linecolor\": \"white\", \"ticks\": \"\", \"title\": {\"standoff\": 15}, \"zerolinecolor\": \"white\", \"zerolinewidth\": 2}}}, \"xaxis\": {\"anchor\": \"y\", \"domain\": [0.0, 1.0], \"title\": {\"text\": \"iteration\"}}, \"yaxis\": {\"anchor\": \"x\", \"domain\": [0.0, 1.0], \"title\": {\"text\": \"fitness\"}}},\n",
              "                        {\"responsive\": true}\n",
              "                    ).then(function(){\n",
              "                            \n",
              "var gd = document.getElementById('777948aa-2d00-4f58-aead-e4d4039408c4');\n",
              "var x = new MutationObserver(function (mutations, observer) {{\n",
              "        var display = window.getComputedStyle(gd).display;\n",
              "        if (!display || display === 'none') {{\n",
              "            console.log([gd, 'removed!']);\n",
              "            Plotly.purge(gd);\n",
              "            observer.disconnect();\n",
              "        }}\n",
              "}});\n",
              "\n",
              "// Listen for the removal of the full notebook cells\n",
              "var notebookContainer = gd.closest('#notebook-container');\n",
              "if (notebookContainer) {{\n",
              "    x.observe(notebookContainer, {childList: true});\n",
              "}}\n",
              "\n",
              "// Listen for the clearing of the current output cell\n",
              "var outputEl = gd.closest('.output');\n",
              "if (outputEl) {{\n",
              "    x.observe(outputEl, {childList: true});\n",
              "}}\n",
              "\n",
              "                        })\n",
              "                };\n",
              "                \n",
              "            </script>\n",
              "        </div>\n",
              "</body>\n",
              "</html>"
            ]
          },
          "metadata": {
            "tags": []
          }
        }
      ]
    },
    {
      "cell_type": "markdown",
      "metadata": {
        "id": "p2rtmgnNunvO"
      },
      "source": [
        "Ejecutar el método con los parámetros seleccionados\n"
      ]
    },
    {
      "cell_type": "code",
      "metadata": {
        "colab": {
          "base_uri": "https://localhost:8080/",
          "height": 281
        },
        "cellView": "form",
        "id": "OAm7cUAHuzwv",
        "outputId": "b70c808c-67d2-4508-f078-16c629911bdb"
      },
      "source": [
        "#@Ejecutar el problema de la mochila con los parámetros seleccionados\n",
        "sizeKnacksack = 15 #@param {type:\"integer\"}\n",
        "sizeIndividual = 10 #@param {type:\"integer\"}\n",
        "minprice = 1 #@param {type:\"number\"}\n",
        "maxprice = 100 #@param {type:\"number\"}\n",
        "\n",
        "sizePopulation = 30 #@param {type:\"integer\"}\n",
        "generations = 300 #@param {type:\"integer\"}\n",
        "mutation_probability = 0.2 #@param {type:\"number\"}\n",
        "crossover_probability = 0.9 #@param {type:\"number\"}\n",
        "\n",
        "W=sizeKnacksack\n",
        "N=sizeIndividual\n",
        "weights = W*np.random.random_sample((N,))\n",
        "prices = (maxprice-minprice)*np.random.random_sample((N,))+minprice\n",
        "\n",
        "\n",
        "from IPython.display import Markdown, display\n",
        "title='Suponiendo un problema donde tenemos una mochila con una capacidad de '+ str(sizeKnacksack) + 'Kg'\n",
        "display(Markdown('**{}**'.format(title)))\n",
        "display(Markdown(\"**Los siguientes productos:**\"))\n",
        "print(['p'+str(i) for i in range(N)])\n",
        "display(Markdown(\"**Con los siguientes pesos respectivos:**\"))\n",
        "print(weights)\n",
        "display(Markdown(\"**Y los siguientes precios:**\"))\n",
        "print(prices)\n",
        "KP=GA_KnacksackProblem(weights, prices, sizeKnacksack, sizeIndividual, sizePopulation, generations, mutation_probability, crossover_probability)\n",
        "solution, f=KP.geneticAlgorithm()\n",
        "resp='Para una mejor de ganancia de: ' +'{:.2f}'.format(f)\n",
        "display(Markdown('**{}**'.format(resp)))\n",
        "display(Markdown(\"**La mejor combinación es llevar los productos:**\"))\n",
        "print(['p'+str(i) for i,s in enumerate(solution) if s])\n",
        "#display(Markdown((solution, f)"
      ],
      "execution_count": null,
      "outputs": [
        {
          "output_type": "display_data",
          "data": {
            "text/markdown": "**Suponiendo un problema donde tenemos una mochila con una capacidad de 15Kg**",
            "text/plain": [
              "<IPython.core.display.Markdown object>"
            ]
          },
          "metadata": {
            "tags": []
          }
        },
        {
          "output_type": "display_data",
          "data": {
            "text/markdown": "**Los siguientes productos:**",
            "text/plain": [
              "<IPython.core.display.Markdown object>"
            ]
          },
          "metadata": {
            "tags": []
          }
        },
        {
          "output_type": "stream",
          "text": [
            "['p0', 'p1', 'p2', 'p3', 'p4', 'p5', 'p6', 'p7', 'p8', 'p9']\n"
          ],
          "name": "stdout"
        },
        {
          "output_type": "display_data",
          "data": {
            "text/markdown": "**Con los siguientes pesos respectivos:**",
            "text/plain": [
              "<IPython.core.display.Markdown object>"
            ]
          },
          "metadata": {
            "tags": []
          }
        },
        {
          "output_type": "stream",
          "text": [
            "[ 4.79814911 13.26741688  3.16290048  2.31096101 11.96595439  7.9769013\n",
            "  4.5160947   9.35114589  2.90183396 14.95798931]\n"
          ],
          "name": "stdout"
        },
        {
          "output_type": "display_data",
          "data": {
            "text/markdown": "**Y los siguientes precios:**",
            "text/plain": [
              "<IPython.core.display.Markdown object>"
            ]
          },
          "metadata": {
            "tags": []
          }
        },
        {
          "output_type": "stream",
          "text": [
            "[35.18303927 33.04937025 98.23156886 88.76395565 19.80693391 53.81731655\n",
            "  9.43835903 45.36768645 49.51589802 92.55931947]\n"
          ],
          "name": "stdout"
        },
        {
          "output_type": "display_data",
          "data": {
            "text/markdown": "**Para una mejor de ganancia de: 271.69**",
            "text/plain": [
              "<IPython.core.display.Markdown object>"
            ]
          },
          "metadata": {
            "tags": []
          }
        },
        {
          "output_type": "display_data",
          "data": {
            "text/markdown": "**La mejor combinación es llevar los productos:**",
            "text/plain": [
              "<IPython.core.display.Markdown object>"
            ]
          },
          "metadata": {
            "tags": []
          }
        },
        {
          "output_type": "stream",
          "text": [
            "['p0', 'p2', 'p3', 'p8']\n"
          ],
          "name": "stdout"
        }
      ]
    }
  ]
}