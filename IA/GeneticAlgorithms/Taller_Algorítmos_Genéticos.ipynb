{
  "nbformat": 4,
  "nbformat_minor": 0,
  "metadata": {
    "colab": {
      "provenance": [],
      "collapsed_sections": [
        "8QBP3Zqi5QH2",
        "9cGX9VHe4iJt",
        "bEH9HwX65PJy",
        "pwmnMlPu5jEp",
        "GGHxZR-k5n7_",
        "VEMkvv0y2CzF"
      ],
      "include_colab_link": true
    },
    "kernelspec": {
      "name": "python3",
      "display_name": "Python 3"
    },
    "language_info": {
      "name": "python"
    }
  },
  "cells": [
    {
      "cell_type": "markdown",
      "metadata": {
        "id": "view-in-github",
        "colab_type": "text"
      },
      "source": [
        "<a href=\"https://colab.research.google.com/github/K-Viera/Python/blob/main/IA/GeneticAlgorithms/Taller_Algor%C3%ADtmos_Gen%C3%A9ticos.ipynb\" target=\"_parent\"><img src=\"https://colab.research.google.com/assets/colab-badge.svg\" alt=\"Open In Colab\"/></a>"
      ]
    },
    {
      "cell_type": "markdown",
      "source": [
        "#Taller Algorítmos Genéticos\n",
        "-Simón Echeverri \\\n",
        "-Camilo Zapata \\\n",
        "-Kevin Viera"
      ],
      "metadata": {
        "id": "ApS7wBTD1uwb"
      }
    },
    {
      "cell_type": "code",
      "source": [
        "import numpy as np\n",
        "import pandas as pd\n",
        "import plotly.express as px\n",
        "import random\n",
        "import matplotlib.pyplot as plt"
      ],
      "metadata": {
        "id": "8jvacOyo5x3Q"
      },
      "execution_count": 125,
      "outputs": []
    },
    {
      "cell_type": "markdown",
      "source": [
        "##Punto 1"
      ],
      "metadata": {
        "id": "8QBP3Zqi5QH2"
      }
    },
    {
      "cell_type": "markdown",
      "source": [
        "f(x) (de la que se habla en el enunciado del problema) es de la forma \n",
        "f(x) = a1x1 + a2x2 + ... + am-1xm-1 - b\n",
        "\n",
        "Buscamos estimar los parámetros ai y b. La serie de parámetros (un arreglo con ellos) será entonces nuestro cromosoma, así:\n",
        "\n",
        "\\\n",
        "\n",
        "cromosoma = [a1, a2, a3, ... , am-1, b]\n",
        "\n",
        "\\\n",
        "\n",
        "Nuestros cromosomas serán generados aleatoriamente, aunque se podrían hacer acotaciones en los valores de las as y de la b para obtener mejores de una vez (por ejemplo que tengan un rango de generación específico).\n",
        "\n",
        "\\\n",
        "\n",
        "Contamos con una serie de arreglos (N en total) que tienen M componentes binarios que describen un objeto de un dominio, donde la M-ésima componente (última componente) corresponde a la clase de un objeto, que puede valer 1, 2 o 3.\n",
        "\n",
        "\\\n",
        "\n",
        "La idea es que f(x) estime la clase del objeto dados los componentes binarios. Estos componentes binarios corresponden a los xi de la función.\n",
        "\n",
        "\\\n",
        "\n",
        "Una función ejemplo entonces sería:\n",
        "\n",
        "\\\n",
        "\n",
        "Dados:\n",
        "\n",
        "a1 = 3, a2 = 1, a3 = 1 y b = 2 (cromosoma)\\\n",
        "x1 = 1, x2 = 0, x3 = 0\n",
        "\n",
        "f(x) = 3x1 + 1x0 + 1x0 - 2 = 1\n",
        "\n",
        "\\\n",
        "\n",
        "Según esta función de ejemplo, un vector con las componentes binarias dadas (las xs), corresponden a un objeto de clase 1.\n",
        "\n",
        "\\\n",
        "\n",
        "Como buscamos que f(x) sea capaz de identificar la clase de un objeto cualquiera dados sus componentes binarios, la función será valorada (funcion fitness) a partir de cuántos resultados correctos tenga al ser evaluada con los N arreglos que YA poseen la clase en su M-ésima posición.\n",
        "\n",
        "\\\n",
        "\n",
        "Así, si f(x) evaluada en los N arreglos tiene 4 resultados correctos (es decir, acertó 4 clases en total) va a tener una valoración de 4.\n",
        "\n",
        "La función que más resultados correctos tenga, será la mejor prediciendo la clase de un objeto dados solos sus componentes binarios.\n",
        "\n",
        "\\\n",
        "\n",
        "Los cromosomas pueden mutar al variar un valor en cualquier índice, utilizando el método de punto de corte. Es decir que puede cambiar ai o b, y eso generaría un nuevo individuo.\n",
        "\n",
        "\\\n",
        "\n",
        "El cruce también se puede generar con el método de punto de corte. Donde se tomarían las primeras ai de un padre y se unirían con las ai restantes del otro padre.\n",
        "\n"
      ],
      "metadata": {
        "id": "lSRe0SdK5Rwi"
      }
    },
    {
      "cell_type": "markdown",
      "source": [
        "##Punto 2\n"
      ],
      "metadata": {
        "id": "9cGX9VHe4iJt"
      }
    },
    {
      "cell_type": "markdown",
      "source": [
        "###Cromosomas\n"
      ],
      "metadata": {
        "id": "hSyDCC6F4orD"
      }
    },
    {
      "cell_type": "markdown",
      "source": [
        "A) Cada uno de nuestros cromosomas van a ser un arreglo de 6 posiciones (deberian ser 8 pero como la primera y ultima posicion son estáticas solo van a variar 6 de ellas) en la que cada una de las posiciones del arreglo nos indican que letra va dentro de ella de la siguiente manera"
      ],
      "metadata": {
        "id": "FcdbZ-jq4uc0"
      }
    },
    {
      "cell_type": "code",
      "source": [
        "# las letras van en orden\n",
        "valLetras=[('A',10),('B',3),('C',7),('D',1),('E',2),('F',8),('G',4),('H',10),('I',9),('J',3)]"
      ],
      "metadata": {
        "id": "J_fZCQxZ5JQi"
      },
      "execution_count": 126,
      "outputs": []
    },
    {
      "cell_type": "markdown",
      "source": [
        "###Generacion poblacional\n"
      ],
      "metadata": {
        "id": "bEH9HwX65PJy"
      }
    },
    {
      "cell_type": "markdown",
      "source": [
        "se crean dos formas de generacion poblacional, una en la que se pueden repetir las letras y otra en la que las letras no pueden ser repetidas"
      ],
      "metadata": {
        "id": "LWrEGQJY6MuL"
      }
    },
    {
      "cell_type": "markdown",
      "source": [
        "la primera seleccion repetible simplemente genera un arreglo de N posiciones (para efectos del ejercicio N=6) y a cada una de estas posiciones le asigna aleatoriamente una de las psiciones de arreglo de la lista de letras"
      ],
      "metadata": {
        "id": "bTxx440e6dl4"
      }
    },
    {
      "cell_type": "code",
      "source": [
        "#Poblacion que permite repetir letras\n",
        "def generateFirstPopulation(N, NP):\n",
        "  population =[np.random.randint(0, len(valLetras), N) for _ in range(NP)]\n",
        "  return population"
      ],
      "metadata": {
        "id": "eha3d7gy5Yu1"
      },
      "execution_count": 127,
      "outputs": []
    },
    {
      "cell_type": "markdown",
      "source": [
        "la segunda seleccion sin repetibles genera un estado inicial por cada individuo de la poblacion con la lista de letras disponible y las va seleccionando y eliminado de este a medida que va agregando valores en la poblacion"
      ],
      "metadata": {
        "id": "EPxPF7w968Dc"
      }
    },
    {
      "cell_type": "code",
      "source": [
        "#Poblacion que no permite repetir numeros\n",
        "def generateFirstPopulationSR(NP):\n",
        "  population=[]\n",
        "  for _ in range(NP):\n",
        "    disponible=[1,2,3,4,5,6,7,8]\n",
        "    individual=[]\n",
        "    while len(individual)!=6:\n",
        "      rand=random.randint(0,len(disponible)-1)\n",
        "      letra=disponible[rand]\n",
        "      individual.append(letra)\n",
        "      disponible.remove(letra)\n",
        "    population.append(individual)\n",
        "  return population"
      ],
      "metadata": {
        "id": "sci_J9f85cgU"
      },
      "execution_count": 128,
      "outputs": []
    },
    {
      "cell_type": "markdown",
      "source": [
        "###Funcion de evaluacion\n"
      ],
      "metadata": {
        "id": "pwmnMlPu5jEp"
      }
    },
    {
      "cell_type": "markdown",
      "source": [
        "la funcion de evaluacion primero multiplica los adyacentes (en caso de ser la primera y ultima posicion del arreglo lo multiplicamos por el valor estatico que nos indicaba el enunciado la primera con A y el ultimo con J) para luego sumarlos a la cantidad o suma total"
      ],
      "metadata": {
        "id": "eC1QECag7P5h"
      }
    },
    {
      "cell_type": "code",
      "source": [
        "def fitnessFunct(x):\n",
        "  sum=0\n",
        "  inital=10*valLetras[x[0]][1]\n",
        "  final=3*valLetras[x[len(x)-1]][1]\n",
        "  sum+=inital+final\n",
        "  for i,letra in enumerate(x):\n",
        "    actualSum=valLetras[letra][1]\n",
        "    if i>0:\n",
        "      actualSum*=valLetras[x[i-1]][1]\n",
        "    else:\n",
        "      #significa que el anterior siempre es b\n",
        "      actualSum*=10\n",
        "    if i<len(x)-1:\n",
        "      actualSum*=valLetras[x[i+1]][1]\n",
        "    else:\n",
        "      #significa que el siguiente siempre es j\n",
        "      actualSum*=3\n",
        "    sum+=actualSum\n",
        "  return sum"
      ],
      "metadata": {
        "id": "QhRw9TXy5m4V"
      },
      "execution_count": 129,
      "outputs": []
    },
    {
      "cell_type": "code",
      "source": [
        "def roulette(population):\n",
        "  of=[fitnessFunct(s) for s in population]\n",
        "  suma=np.int64(sum(of))\n",
        "  probability=of/suma\n",
        "  # print(probability)\n",
        "  accumulatedProb=np.cumsum(probability)\n",
        "  return accumulatedProb"
      ],
      "metadata": {
        "id": "MutIK-Qqygxy"
      },
      "execution_count": 130,
      "outputs": []
    },
    {
      "cell_type": "code",
      "source": [
        "def selection(population):\n",
        "  nr=np.random.uniform()\n",
        "  for i,p in enumerate(roulette(population)):\n",
        "    if nr<p:\n",
        "      return i, population[i]"
      ],
      "metadata": {
        "id": "c3CTE7P49gJR"
      },
      "execution_count": 131,
      "outputs": []
    },
    {
      "cell_type": "code",
      "source": [
        "def crossover(ind1, ind2):\n",
        "  cp=np.random.randint(1,len(ind1)-1)\n",
        "  ## Create new children\n",
        "  child1=np.concatenate((ind1[0:cp+1],ind2[cp+1:len(ind2)]))\n",
        "  child2=np.concatenate((ind2[0:cp+1],ind1[cp+1:len(ind1)]))\n",
        "  return child1,child2"
      ],
      "metadata": {
        "id": "2ZAMxLJ6hY00"
      },
      "execution_count": 132,
      "outputs": []
    },
    {
      "cell_type": "code",
      "source": [
        "def mutate(ind):\n",
        "  cp=np.random.randint(0,len(ind)-1)\n",
        "  child=np.copy(ind)\n",
        "  child[cp]=np.random.randint(0,len(valLetras))\n",
        "  return child"
      ],
      "metadata": {
        "id": "DoEiNMTh9pLe"
      },
      "execution_count": 133,
      "outputs": []
    },
    {
      "cell_type": "code",
      "source": [
        "def geneticAlgorithm(sizeIndividual, sizePopulation, generations, mutation_probability, crossover_probability):\n",
        "  #Genera la poblacion con una cantidad de cromosomas de individual y una poblacion de population\n",
        "  population=generateFirstPopulation(sizeIndividual, sizePopulation)\n",
        "  #Genera la probabilidad acumulada (sin ordenar) para toda la poblacion\n",
        "  accumulatedProb=roulette(population)\n",
        "  print(\"first population:\",population)\n",
        "  print(\"accumulated Prob:\",accumulatedProb)\n",
        "  of=[fitnessFunct(s) for s in population]\n",
        "  sorted_population=sorted(population,key=fitnessFunct,reverse=True)\n",
        "  bestIndividual=[sorted_population[0]] # Lista de los mejores cromosomas\n",
        "  for i in range(generations):\n",
        "    #Generar la nueva población\n",
        "    nextPopulation=[]\n",
        "    count=0\n",
        "    while True: # para crear la población cuando tengamos NP individuos\n",
        "      # Hacemos selección de dos individuos y cruce si es posible\n",
        "      ind1=selection(population)[1]\n",
        "      ind2=selection(population)[1]\n",
        "      crossProb=nr=np.random.uniform()\n",
        "      if crossProb<crossover_probability:\n",
        "        child1,child2=crossover(ind1,ind2)\n",
        "        print(ind1,ind2)\n",
        "        nextPopulation.append(child1)\n",
        "        nextPopulation.append(child2)\n",
        "        print('cross',nextPopulation)\n",
        "      else:\n",
        "        nextPopulation.append(ind1)\n",
        "        nextPopulation.append(ind2)\n",
        "      print('1',nextPopulation)\n",
        "      # Hacemos selección de un individuo y mutación si es posible\n",
        "      mutProb=nr=np.random.uniform()\n",
        "      ind=selection(population)[1]\n",
        "      if mutProb<mutation_probability:\n",
        "        child=mutate(ind)\n",
        "        nextPopulation.append(child)\n",
        "      else:\n",
        "        nextPopulation.append(ind)\n",
        "      print('2',nextPopulation)\n",
        "      if len(nextPopulation)>=sizePopulation:\n",
        "        nextPopulation=nextPopulation[0:sizePopulation]\n",
        "        break;\n",
        "      print('3',nextPopulation)\n",
        "    \n",
        "    accumulatedProb=roulette(nextPopulation)\n",
        "    sorted_population=sorted(nextPopulation,key=fitnessFunct,reverse=True)\n",
        "    print('poblacion generacion', i,nextPopulation)\n",
        "    print('___________________________________________________________________')\n",
        "    print()\n",
        "\n",
        "    bestIndividual.append(sorted_population[0]) \n",
        "    population=nextPopulation\n",
        "  sortedBest=sorted(bestIndividual,key=fitnessFunct,reverse=True) \n",
        "  return bestIndividual,sortedBest[0]"
      ],
      "metadata": {
        "id": "t_1jqp59nSSg"
      },
      "execution_count": 156,
      "outputs": []
    },
    {
      "cell_type": "markdown",
      "source": [
        "###Pruebas\n"
      ],
      "metadata": {
        "id": "GGHxZR-k5n7_"
      }
    },
    {
      "cell_type": "code",
      "source": [
        "print(fitnessFunct([0, 5, 5, 9, 7, 8]))\n",
        "print(fitnessFunct([7, 2, 8, 9, 0, 7]))\n",
        "print(fitnessFunct([0, 7, 0, 0, 8, 7]))\n",
        "print(fitnessFunct([0, 0, 0, 0, 0, 0]))"
      ],
      "metadata": {
        "colab": {
          "base_uri": "https://localhost:8080/"
        },
        "id": "oaxYIxTXrofX",
        "outputId": "410b34cd-0994-4e58-fe89-219685ec3b47"
      },
      "execution_count": 164,
      "outputs": [
        {
          "output_type": "stream",
          "name": "stdout",
          "text": [
            "2539\n",
            "2519\n",
            "5200\n",
            "5430\n"
          ]
        }
      ]
    },
    {
      "cell_type": "code",
      "source": [
        "bestList,bestInd=geneticAlgorithm(6, 10, 30, 0.5, 0.5)\n",
        "bestInd"
      ],
      "metadata": {
        "colab": {
          "base_uri": "https://localhost:8080/"
        },
        "id": "ZLcZpZDHpygB",
        "outputId": "34d522de-d9a2-4da5-8af0-8d345b69de15"
      },
      "execution_count": 162,
      "outputs": [
        {
          "output_type": "stream",
          "name": "stdout",
          "text": [
            "first population: [array([2, 4, 7, 9, 8, 7]), array([2, 2, 1, 4, 9, 6]), array([0, 7, 6, 3, 1, 1]), array([9, 2, 4, 0, 4, 7]), array([4, 5, 0, 2, 3, 2]), array([3, 3, 9, 4, 4, 5]), array([6, 1, 9, 3, 4, 5]), array([3, 8, 1, 8, 8, 6]), array([9, 5, 0, 4, 0, 1]), array([7, 7, 3, 3, 4, 3])]\n",
            "accumulated Prob: [0.13510592 0.22578902 0.39840035 0.47968007 0.59435798 0.61003026\n",
            " 0.6423476  0.75659317 0.86781236 1.        ]\n",
            "1 [array([2, 4, 7, 9, 8, 7]), array([2, 4, 7, 9, 8, 7])]\n",
            "2 [array([2, 4, 7, 9, 8, 7]), array([2, 4, 7, 9, 8, 7]), array([7, 7, 3, 3, 4, 3])]\n",
            "3 [array([2, 4, 7, 9, 8, 7]), array([2, 4, 7, 9, 8, 7]), array([7, 7, 3, 3, 4, 3])]\n",
            "1 [array([2, 4, 7, 9, 8, 7]), array([2, 4, 7, 9, 8, 7]), array([7, 7, 3, 3, 4, 3]), array([0, 7, 6, 3, 1, 1]), array([9, 5, 0, 4, 0, 1])]\n",
            "2 [array([2, 4, 7, 9, 8, 7]), array([2, 4, 7, 9, 8, 7]), array([7, 7, 3, 3, 4, 3]), array([0, 7, 6, 3, 1, 1]), array([9, 5, 0, 4, 0, 1]), array([4, 7, 6, 3, 1, 1])]\n",
            "3 [array([2, 4, 7, 9, 8, 7]), array([2, 4, 7, 9, 8, 7]), array([7, 7, 3, 3, 4, 3]), array([0, 7, 6, 3, 1, 1]), array([9, 5, 0, 4, 0, 1]), array([4, 7, 6, 3, 1, 1])]\n",
            "[4 5 0 2 3 2] [9 2 4 0 4 7]\n",
            "cross [array([2, 4, 7, 9, 8, 7]), array([2, 4, 7, 9, 8, 7]), array([7, 7, 3, 3, 4, 3]), array([0, 7, 6, 3, 1, 1]), array([9, 5, 0, 4, 0, 1]), array([4, 7, 6, 3, 1, 1]), array([4, 5, 0, 0, 4, 7]), array([9, 2, 4, 2, 3, 2])]\n",
            "1 [array([2, 4, 7, 9, 8, 7]), array([2, 4, 7, 9, 8, 7]), array([7, 7, 3, 3, 4, 3]), array([0, 7, 6, 3, 1, 1]), array([9, 5, 0, 4, 0, 1]), array([4, 7, 6, 3, 1, 1]), array([4, 5, 0, 0, 4, 7]), array([9, 2, 4, 2, 3, 2])]\n",
            "2 [array([2, 4, 7, 9, 8, 7]), array([2, 4, 7, 9, 8, 7]), array([7, 7, 3, 3, 4, 3]), array([0, 7, 6, 3, 1, 1]), array([9, 5, 0, 4, 0, 1]), array([4, 7, 6, 3, 1, 1]), array([4, 5, 0, 0, 4, 7]), array([9, 2, 4, 2, 3, 2]), array([9, 5, 0, 4, 0, 1])]\n",
            "3 [array([2, 4, 7, 9, 8, 7]), array([2, 4, 7, 9, 8, 7]), array([7, 7, 3, 3, 4, 3]), array([0, 7, 6, 3, 1, 1]), array([9, 5, 0, 4, 0, 1]), array([4, 7, 6, 3, 1, 1]), array([4, 5, 0, 0, 4, 7]), array([9, 2, 4, 2, 3, 2]), array([9, 5, 0, 4, 0, 1])]\n",
            "1 [array([2, 4, 7, 9, 8, 7]), array([2, 4, 7, 9, 8, 7]), array([7, 7, 3, 3, 4, 3]), array([0, 7, 6, 3, 1, 1]), array([9, 5, 0, 4, 0, 1]), array([4, 7, 6, 3, 1, 1]), array([4, 5, 0, 0, 4, 7]), array([9, 2, 4, 2, 3, 2]), array([9, 5, 0, 4, 0, 1]), array([3, 8, 1, 8, 8, 6]), array([2, 2, 1, 4, 9, 6])]\n",
            "2 [array([2, 4, 7, 9, 8, 7]), array([2, 4, 7, 9, 8, 7]), array([7, 7, 3, 3, 4, 3]), array([0, 7, 6, 3, 1, 1]), array([9, 5, 0, 4, 0, 1]), array([4, 7, 6, 3, 1, 1]), array([4, 5, 0, 0, 4, 7]), array([9, 2, 4, 2, 3, 2]), array([9, 5, 0, 4, 0, 1]), array([3, 8, 1, 8, 8, 6]), array([2, 2, 1, 4, 9, 6]), array([4, 5, 0, 2, 3, 2])]\n",
            "poblacion generacion 0 [array([2, 4, 7, 9, 8, 7]), array([2, 4, 7, 9, 8, 7]), array([7, 7, 3, 3, 4, 3]), array([0, 7, 6, 3, 1, 1]), array([9, 5, 0, 4, 0, 1]), array([4, 7, 6, 3, 1, 1]), array([4, 5, 0, 0, 4, 7]), array([9, 2, 4, 2, 3, 2]), array([9, 5, 0, 4, 0, 1]), array([3, 8, 1, 8, 8, 6])]\n",
            "___________________________________________________________________\n",
            "\n",
            "[0 7 6 3 1 1] [9 2 4 2 3 2]\n",
            "cross [array([0, 7, 6, 2, 3, 2]), array([9, 2, 4, 3, 1, 1])]\n",
            "1 [array([0, 7, 6, 2, 3, 2]), array([9, 2, 4, 3, 1, 1])]\n",
            "2 [array([0, 7, 6, 2, 3, 2]), array([9, 2, 4, 3, 1, 1]), array([8, 7, 6, 3, 1, 1])]\n",
            "3 [array([0, 7, 6, 2, 3, 2]), array([9, 2, 4, 3, 1, 1]), array([8, 7, 6, 3, 1, 1])]\n",
            "1 [array([0, 7, 6, 2, 3, 2]), array([9, 2, 4, 3, 1, 1]), array([8, 7, 6, 3, 1, 1]), array([9, 5, 0, 4, 0, 1]), array([4, 7, 6, 3, 1, 1])]\n",
            "2 [array([0, 7, 6, 2, 3, 2]), array([9, 2, 4, 3, 1, 1]), array([8, 7, 6, 3, 1, 1]), array([9, 5, 0, 4, 0, 1]), array([4, 7, 6, 3, 1, 1]), array([7, 7, 3, 3, 4, 3])]\n",
            "3 [array([0, 7, 6, 2, 3, 2]), array([9, 2, 4, 3, 1, 1]), array([8, 7, 6, 3, 1, 1]), array([9, 5, 0, 4, 0, 1]), array([4, 7, 6, 3, 1, 1]), array([7, 7, 3, 3, 4, 3])]\n",
            "[2 4 7 9 8 7] [4 5 0 0 4 7]\n",
            "cross [array([0, 7, 6, 2, 3, 2]), array([9, 2, 4, 3, 1, 1]), array([8, 7, 6, 3, 1, 1]), array([9, 5, 0, 4, 0, 1]), array([4, 7, 6, 3, 1, 1]), array([7, 7, 3, 3, 4, 3]), array([2, 4, 7, 9, 4, 7]), array([4, 5, 0, 0, 8, 7])]\n",
            "1 [array([0, 7, 6, 2, 3, 2]), array([9, 2, 4, 3, 1, 1]), array([8, 7, 6, 3, 1, 1]), array([9, 5, 0, 4, 0, 1]), array([4, 7, 6, 3, 1, 1]), array([7, 7, 3, 3, 4, 3]), array([2, 4, 7, 9, 4, 7]), array([4, 5, 0, 0, 8, 7])]\n",
            "2 [array([0, 7, 6, 2, 3, 2]), array([9, 2, 4, 3, 1, 1]), array([8, 7, 6, 3, 1, 1]), array([9, 5, 0, 4, 0, 1]), array([4, 7, 6, 3, 1, 1]), array([7, 7, 3, 3, 4, 3]), array([2, 4, 7, 9, 4, 7]), array([4, 5, 0, 0, 8, 7]), array([9, 5, 0, 4, 0, 1])]\n",
            "3 [array([0, 7, 6, 2, 3, 2]), array([9, 2, 4, 3, 1, 1]), array([8, 7, 6, 3, 1, 1]), array([9, 5, 0, 4, 0, 1]), array([4, 7, 6, 3, 1, 1]), array([7, 7, 3, 3, 4, 3]), array([2, 4, 7, 9, 4, 7]), array([4, 5, 0, 0, 8, 7]), array([9, 5, 0, 4, 0, 1])]\n",
            "1 [array([0, 7, 6, 2, 3, 2]), array([9, 2, 4, 3, 1, 1]), array([8, 7, 6, 3, 1, 1]), array([9, 5, 0, 4, 0, 1]), array([4, 7, 6, 3, 1, 1]), array([7, 7, 3, 3, 4, 3]), array([2, 4, 7, 9, 4, 7]), array([4, 5, 0, 0, 8, 7]), array([9, 5, 0, 4, 0, 1]), array([4, 5, 0, 0, 4, 7]), array([4, 5, 0, 0, 4, 7])]\n",
            "2 [array([0, 7, 6, 2, 3, 2]), array([9, 2, 4, 3, 1, 1]), array([8, 7, 6, 3, 1, 1]), array([9, 5, 0, 4, 0, 1]), array([4, 7, 6, 3, 1, 1]), array([7, 7, 3, 3, 4, 3]), array([2, 4, 7, 9, 4, 7]), array([4, 5, 0, 0, 8, 7]), array([9, 5, 0, 4, 0, 1]), array([4, 5, 0, 0, 4, 7]), array([4, 5, 0, 0, 4, 7]), array([4, 5, 5, 0, 4, 7])]\n",
            "poblacion generacion 1 [array([0, 7, 6, 2, 3, 2]), array([9, 2, 4, 3, 1, 1]), array([8, 7, 6, 3, 1, 1]), array([9, 5, 0, 4, 0, 1]), array([4, 7, 6, 3, 1, 1]), array([7, 7, 3, 3, 4, 3]), array([2, 4, 7, 9, 4, 7]), array([4, 5, 0, 0, 8, 7]), array([9, 5, 0, 4, 0, 1]), array([4, 5, 0, 0, 4, 7])]\n",
            "___________________________________________________________________\n",
            "\n",
            "[9 5 0 4 0 1] [2 4 7 9 4 7]\n",
            "cross [array([9, 5, 0, 9, 4, 7]), array([2, 4, 7, 4, 0, 1])]\n",
            "1 [array([9, 5, 0, 9, 4, 7]), array([2, 4, 7, 4, 0, 1])]\n",
            "2 [array([9, 5, 0, 9, 4, 7]), array([2, 4, 7, 4, 0, 1]), array([8, 5, 0, 0, 8, 7])]\n",
            "3 [array([9, 5, 0, 9, 4, 7]), array([2, 4, 7, 4, 0, 1]), array([8, 5, 0, 0, 8, 7])]\n",
            "1 [array([9, 5, 0, 9, 4, 7]), array([2, 4, 7, 4, 0, 1]), array([8, 5, 0, 0, 8, 7]), array([4, 5, 0, 0, 8, 7]), array([8, 7, 6, 3, 1, 1])]\n",
            "2 [array([9, 5, 0, 9, 4, 7]), array([2, 4, 7, 4, 0, 1]), array([8, 5, 0, 0, 8, 7]), array([4, 5, 0, 0, 8, 7]), array([8, 7, 6, 3, 1, 1]), array([4, 5, 0, 0, 8, 7])]\n",
            "3 [array([9, 5, 0, 9, 4, 7]), array([2, 4, 7, 4, 0, 1]), array([8, 5, 0, 0, 8, 7]), array([4, 5, 0, 0, 8, 7]), array([8, 7, 6, 3, 1, 1]), array([4, 5, 0, 0, 8, 7])]\n",
            "[0 7 6 2 3 2] [9 5 0 4 0 1]\n",
            "cross [array([9, 5, 0, 9, 4, 7]), array([2, 4, 7, 4, 0, 1]), array([8, 5, 0, 0, 8, 7]), array([4, 5, 0, 0, 8, 7]), array([8, 7, 6, 3, 1, 1]), array([4, 5, 0, 0, 8, 7]), array([0, 7, 6, 2, 0, 1]), array([9, 5, 0, 4, 3, 2])]\n",
            "1 [array([9, 5, 0, 9, 4, 7]), array([2, 4, 7, 4, 0, 1]), array([8, 5, 0, 0, 8, 7]), array([4, 5, 0, 0, 8, 7]), array([8, 7, 6, 3, 1, 1]), array([4, 5, 0, 0, 8, 7]), array([0, 7, 6, 2, 0, 1]), array([9, 5, 0, 4, 3, 2])]\n",
            "2 [array([9, 5, 0, 9, 4, 7]), array([2, 4, 7, 4, 0, 1]), array([8, 5, 0, 0, 8, 7]), array([4, 5, 0, 0, 8, 7]), array([8, 7, 6, 3, 1, 1]), array([4, 5, 0, 0, 8, 7]), array([0, 7, 6, 2, 0, 1]), array([9, 5, 0, 4, 3, 2]), array([9, 5, 0, 4, 0, 1])]\n",
            "3 [array([9, 5, 0, 9, 4, 7]), array([2, 4, 7, 4, 0, 1]), array([8, 5, 0, 0, 8, 7]), array([4, 5, 0, 0, 8, 7]), array([8, 7, 6, 3, 1, 1]), array([4, 5, 0, 0, 8, 7]), array([0, 7, 6, 2, 0, 1]), array([9, 5, 0, 4, 3, 2]), array([9, 5, 0, 4, 0, 1])]\n",
            "[2 4 7 9 4 7] [4 7 6 3 1 1]\n",
            "cross [array([9, 5, 0, 9, 4, 7]), array([2, 4, 7, 4, 0, 1]), array([8, 5, 0, 0, 8, 7]), array([4, 5, 0, 0, 8, 7]), array([8, 7, 6, 3, 1, 1]), array([4, 5, 0, 0, 8, 7]), array([0, 7, 6, 2, 0, 1]), array([9, 5, 0, 4, 3, 2]), array([9, 5, 0, 4, 0, 1]), array([2, 4, 6, 3, 1, 1]), array([4, 7, 7, 9, 4, 7])]\n",
            "1 [array([9, 5, 0, 9, 4, 7]), array([2, 4, 7, 4, 0, 1]), array([8, 5, 0, 0, 8, 7]), array([4, 5, 0, 0, 8, 7]), array([8, 7, 6, 3, 1, 1]), array([4, 5, 0, 0, 8, 7]), array([0, 7, 6, 2, 0, 1]), array([9, 5, 0, 4, 3, 2]), array([9, 5, 0, 4, 0, 1]), array([2, 4, 6, 3, 1, 1]), array([4, 7, 7, 9, 4, 7])]\n",
            "2 [array([9, 5, 0, 9, 4, 7]), array([2, 4, 7, 4, 0, 1]), array([8, 5, 0, 0, 8, 7]), array([4, 5, 0, 0, 8, 7]), array([8, 7, 6, 3, 1, 1]), array([4, 5, 0, 0, 8, 7]), array([0, 7, 6, 2, 0, 1]), array([9, 5, 0, 4, 3, 2]), array([9, 5, 0, 4, 0, 1]), array([2, 4, 6, 3, 1, 1]), array([4, 7, 7, 9, 4, 7]), array([4, 5, 0, 1, 8, 7])]\n",
            "poblacion generacion 2 [array([9, 5, 0, 9, 4, 7]), array([2, 4, 7, 4, 0, 1]), array([8, 5, 0, 0, 8, 7]), array([4, 5, 0, 0, 8, 7]), array([8, 7, 6, 3, 1, 1]), array([4, 5, 0, 0, 8, 7]), array([0, 7, 6, 2, 0, 1]), array([9, 5, 0, 4, 3, 2]), array([9, 5, 0, 4, 0, 1]), array([2, 4, 6, 3, 1, 1])]\n",
            "___________________________________________________________________\n",
            "\n",
            "[9 5 0 4 0 1] [0 7 6 2 0 1]\n",
            "cross [array([9, 5, 0, 4, 0, 1]), array([0, 7, 6, 2, 0, 1])]\n",
            "1 [array([9, 5, 0, 4, 0, 1]), array([0, 7, 6, 2, 0, 1])]\n",
            "2 [array([9, 5, 0, 4, 0, 1]), array([0, 7, 6, 2, 0, 1]), array([9, 5, 0, 4, 0, 1])]\n",
            "3 [array([9, 5, 0, 4, 0, 1]), array([0, 7, 6, 2, 0, 1]), array([9, 5, 0, 4, 0, 1])]\n",
            "[0 7 6 2 0 1] [9 5 0 4 0 1]\n",
            "cross [array([9, 5, 0, 4, 0, 1]), array([0, 7, 6, 2, 0, 1]), array([9, 5, 0, 4, 0, 1]), array([0, 7, 0, 4, 0, 1]), array([9, 5, 6, 2, 0, 1])]\n",
            "1 [array([9, 5, 0, 4, 0, 1]), array([0, 7, 6, 2, 0, 1]), array([9, 5, 0, 4, 0, 1]), array([0, 7, 0, 4, 0, 1]), array([9, 5, 6, 2, 0, 1])]\n",
            "2 [array([9, 5, 0, 4, 0, 1]), array([0, 7, 6, 2, 0, 1]), array([9, 5, 0, 4, 0, 1]), array([0, 7, 0, 4, 0, 1]), array([9, 5, 6, 2, 0, 1]), array([9, 5, 0, 9, 4, 7])]\n",
            "3 [array([9, 5, 0, 4, 0, 1]), array([0, 7, 6, 2, 0, 1]), array([9, 5, 0, 4, 0, 1]), array([0, 7, 0, 4, 0, 1]), array([9, 5, 6, 2, 0, 1]), array([9, 5, 0, 9, 4, 7])]\n",
            "1 [array([9, 5, 0, 4, 0, 1]), array([0, 7, 6, 2, 0, 1]), array([9, 5, 0, 4, 0, 1]), array([0, 7, 0, 4, 0, 1]), array([9, 5, 6, 2, 0, 1]), array([9, 5, 0, 9, 4, 7]), array([4, 5, 0, 0, 8, 7]), array([4, 5, 0, 0, 8, 7])]\n",
            "2 [array([9, 5, 0, 4, 0, 1]), array([0, 7, 6, 2, 0, 1]), array([9, 5, 0, 4, 0, 1]), array([0, 7, 0, 4, 0, 1]), array([9, 5, 6, 2, 0, 1]), array([9, 5, 0, 9, 4, 7]), array([4, 5, 0, 0, 8, 7]), array([4, 5, 0, 0, 8, 7]), array([4, 5, 0, 0, 8, 7])]\n",
            "3 [array([9, 5, 0, 4, 0, 1]), array([0, 7, 6, 2, 0, 1]), array([9, 5, 0, 4, 0, 1]), array([0, 7, 0, 4, 0, 1]), array([9, 5, 6, 2, 0, 1]), array([9, 5, 0, 9, 4, 7]), array([4, 5, 0, 0, 8, 7]), array([4, 5, 0, 0, 8, 7]), array([4, 5, 0, 0, 8, 7])]\n",
            "[8 7 6 3 1 1] [8 7 6 3 1 1]\n",
            "cross [array([9, 5, 0, 4, 0, 1]), array([0, 7, 6, 2, 0, 1]), array([9, 5, 0, 4, 0, 1]), array([0, 7, 0, 4, 0, 1]), array([9, 5, 6, 2, 0, 1]), array([9, 5, 0, 9, 4, 7]), array([4, 5, 0, 0, 8, 7]), array([4, 5, 0, 0, 8, 7]), array([4, 5, 0, 0, 8, 7]), array([8, 7, 6, 3, 1, 1]), array([8, 7, 6, 3, 1, 1])]\n",
            "1 [array([9, 5, 0, 4, 0, 1]), array([0, 7, 6, 2, 0, 1]), array([9, 5, 0, 4, 0, 1]), array([0, 7, 0, 4, 0, 1]), array([9, 5, 6, 2, 0, 1]), array([9, 5, 0, 9, 4, 7]), array([4, 5, 0, 0, 8, 7]), array([4, 5, 0, 0, 8, 7]), array([4, 5, 0, 0, 8, 7]), array([8, 7, 6, 3, 1, 1]), array([8, 7, 6, 3, 1, 1])]\n",
            "2 [array([9, 5, 0, 4, 0, 1]), array([0, 7, 6, 2, 0, 1]), array([9, 5, 0, 4, 0, 1]), array([0, 7, 0, 4, 0, 1]), array([9, 5, 6, 2, 0, 1]), array([9, 5, 0, 9, 4, 7]), array([4, 5, 0, 0, 8, 7]), array([4, 5, 0, 0, 8, 7]), array([4, 5, 0, 0, 8, 7]), array([8, 7, 6, 3, 1, 1]), array([8, 7, 6, 3, 1, 1]), array([4, 5, 0, 0, 8, 7])]\n",
            "poblacion generacion 3 [array([9, 5, 0, 4, 0, 1]), array([0, 7, 6, 2, 0, 1]), array([9, 5, 0, 4, 0, 1]), array([0, 7, 0, 4, 0, 1]), array([9, 5, 6, 2, 0, 1]), array([9, 5, 0, 9, 4, 7]), array([4, 5, 0, 0, 8, 7]), array([4, 5, 0, 0, 8, 7]), array([4, 5, 0, 0, 8, 7]), array([8, 7, 6, 3, 1, 1])]\n",
            "___________________________________________________________________\n",
            "\n",
            "1 [array([4, 5, 0, 0, 8, 7]), array([0, 7, 6, 2, 0, 1])]\n",
            "2 [array([4, 5, 0, 0, 8, 7]), array([0, 7, 6, 2, 0, 1]), array([0, 7, 0, 2, 0, 1])]\n",
            "3 [array([4, 5, 0, 0, 8, 7]), array([0, 7, 6, 2, 0, 1]), array([0, 7, 0, 2, 0, 1])]\n",
            "1 [array([4, 5, 0, 0, 8, 7]), array([0, 7, 6, 2, 0, 1]), array([0, 7, 0, 2, 0, 1]), array([4, 5, 0, 0, 8, 7]), array([0, 7, 6, 2, 0, 1])]\n",
            "2 [array([4, 5, 0, 0, 8, 7]), array([0, 7, 6, 2, 0, 1]), array([0, 7, 0, 2, 0, 1]), array([4, 5, 0, 0, 8, 7]), array([0, 7, 6, 2, 0, 1]), array([4, 7, 0, 0, 8, 7])]\n",
            "3 [array([4, 5, 0, 0, 8, 7]), array([0, 7, 6, 2, 0, 1]), array([0, 7, 0, 2, 0, 1]), array([4, 5, 0, 0, 8, 7]), array([0, 7, 6, 2, 0, 1]), array([4, 7, 0, 0, 8, 7])]\n",
            "1 [array([4, 5, 0, 0, 8, 7]), array([0, 7, 6, 2, 0, 1]), array([0, 7, 0, 2, 0, 1]), array([4, 5, 0, 0, 8, 7]), array([0, 7, 6, 2, 0, 1]), array([4, 7, 0, 0, 8, 7]), array([0, 7, 6, 2, 0, 1]), array([4, 5, 0, 0, 8, 7])]\n",
            "2 [array([4, 5, 0, 0, 8, 7]), array([0, 7, 6, 2, 0, 1]), array([0, 7, 0, 2, 0, 1]), array([4, 5, 0, 0, 8, 7]), array([0, 7, 6, 2, 0, 1]), array([4, 7, 0, 0, 8, 7]), array([0, 7, 6, 2, 0, 1]), array([4, 5, 0, 0, 8, 7]), array([9, 2, 0, 4, 0, 1])]\n",
            "3 [array([4, 5, 0, 0, 8, 7]), array([0, 7, 6, 2, 0, 1]), array([0, 7, 0, 2, 0, 1]), array([4, 5, 0, 0, 8, 7]), array([0, 7, 6, 2, 0, 1]), array([4, 7, 0, 0, 8, 7]), array([0, 7, 6, 2, 0, 1]), array([4, 5, 0, 0, 8, 7]), array([9, 2, 0, 4, 0, 1])]\n",
            "1 [array([4, 5, 0, 0, 8, 7]), array([0, 7, 6, 2, 0, 1]), array([0, 7, 0, 2, 0, 1]), array([4, 5, 0, 0, 8, 7]), array([0, 7, 6, 2, 0, 1]), array([4, 7, 0, 0, 8, 7]), array([0, 7, 6, 2, 0, 1]), array([4, 5, 0, 0, 8, 7]), array([9, 2, 0, 4, 0, 1]), array([4, 5, 0, 0, 8, 7]), array([0, 7, 6, 2, 0, 1])]\n",
            "2 [array([4, 5, 0, 0, 8, 7]), array([0, 7, 6, 2, 0, 1]), array([0, 7, 0, 2, 0, 1]), array([4, 5, 0, 0, 8, 7]), array([0, 7, 6, 2, 0, 1]), array([4, 7, 0, 0, 8, 7]), array([0, 7, 6, 2, 0, 1]), array([4, 5, 0, 0, 8, 7]), array([9, 2, 0, 4, 0, 1]), array([4, 5, 0, 0, 8, 7]), array([0, 7, 6, 2, 0, 1]), array([4, 5, 0, 0, 8, 7])]\n",
            "poblacion generacion 4 [array([4, 5, 0, 0, 8, 7]), array([0, 7, 6, 2, 0, 1]), array([0, 7, 0, 2, 0, 1]), array([4, 5, 0, 0, 8, 7]), array([0, 7, 6, 2, 0, 1]), array([4, 7, 0, 0, 8, 7]), array([0, 7, 6, 2, 0, 1]), array([4, 5, 0, 0, 8, 7]), array([9, 2, 0, 4, 0, 1]), array([4, 5, 0, 0, 8, 7])]\n",
            "___________________________________________________________________\n",
            "\n",
            "[4 5 0 0 8 7] [0 7 0 2 0 1]\n",
            "cross [array([4, 5, 0, 2, 0, 1]), array([0, 7, 0, 0, 8, 7])]\n",
            "1 [array([4, 5, 0, 2, 0, 1]), array([0, 7, 0, 0, 8, 7])]\n",
            "2 [array([4, 5, 0, 2, 0, 1]), array([0, 7, 0, 0, 8, 7]), array([4, 7, 0, 4, 8, 7])]\n",
            "3 [array([4, 5, 0, 2, 0, 1]), array([0, 7, 0, 0, 8, 7]), array([4, 7, 0, 4, 8, 7])]\n",
            "1 [array([4, 5, 0, 2, 0, 1]), array([0, 7, 0, 0, 8, 7]), array([4, 7, 0, 4, 8, 7]), array([0, 7, 0, 2, 0, 1]), array([0, 7, 6, 2, 0, 1])]\n",
            "2 [array([4, 5, 0, 2, 0, 1]), array([0, 7, 0, 0, 8, 7]), array([4, 7, 0, 4, 8, 7]), array([0, 7, 0, 2, 0, 1]), array([0, 7, 6, 2, 0, 1]), array([0, 9, 0, 2, 0, 1])]\n",
            "3 [array([4, 5, 0, 2, 0, 1]), array([0, 7, 0, 0, 8, 7]), array([4, 7, 0, 4, 8, 7]), array([0, 7, 0, 2, 0, 1]), array([0, 7, 6, 2, 0, 1]), array([0, 9, 0, 2, 0, 1])]\n",
            "1 [array([4, 5, 0, 2, 0, 1]), array([0, 7, 0, 0, 8, 7]), array([4, 7, 0, 4, 8, 7]), array([0, 7, 0, 2, 0, 1]), array([0, 7, 6, 2, 0, 1]), array([0, 9, 0, 2, 0, 1]), array([4, 5, 0, 0, 8, 7]), array([4, 5, 0, 0, 8, 7])]\n",
            "2 [array([4, 5, 0, 2, 0, 1]), array([0, 7, 0, 0, 8, 7]), array([4, 7, 0, 4, 8, 7]), array([0, 7, 0, 2, 0, 1]), array([0, 7, 6, 2, 0, 1]), array([0, 9, 0, 2, 0, 1]), array([4, 5, 0, 0, 8, 7]), array([4, 5, 0, 0, 8, 7]), array([0, 7, 6, 2, 0, 1])]\n",
            "3 [array([4, 5, 0, 2, 0, 1]), array([0, 7, 0, 0, 8, 7]), array([4, 7, 0, 4, 8, 7]), array([0, 7, 0, 2, 0, 1]), array([0, 7, 6, 2, 0, 1]), array([0, 9, 0, 2, 0, 1]), array([4, 5, 0, 0, 8, 7]), array([4, 5, 0, 0, 8, 7]), array([0, 7, 6, 2, 0, 1])]\n",
            "1 [array([4, 5, 0, 2, 0, 1]), array([0, 7, 0, 0, 8, 7]), array([4, 7, 0, 4, 8, 7]), array([0, 7, 0, 2, 0, 1]), array([0, 7, 6, 2, 0, 1]), array([0, 9, 0, 2, 0, 1]), array([4, 5, 0, 0, 8, 7]), array([4, 5, 0, 0, 8, 7]), array([0, 7, 6, 2, 0, 1]), array([4, 5, 0, 0, 8, 7]), array([0, 7, 6, 2, 0, 1])]\n",
            "2 [array([4, 5, 0, 2, 0, 1]), array([0, 7, 0, 0, 8, 7]), array([4, 7, 0, 4, 8, 7]), array([0, 7, 0, 2, 0, 1]), array([0, 7, 6, 2, 0, 1]), array([0, 9, 0, 2, 0, 1]), array([4, 5, 0, 0, 8, 7]), array([4, 5, 0, 0, 8, 7]), array([0, 7, 6, 2, 0, 1]), array([4, 5, 0, 0, 8, 7]), array([0, 7, 6, 2, 0, 1]), array([4, 5, 0, 0, 8, 7])]\n",
            "poblacion generacion 5 [array([4, 5, 0, 2, 0, 1]), array([0, 7, 0, 0, 8, 7]), array([4, 7, 0, 4, 8, 7]), array([0, 7, 0, 2, 0, 1]), array([0, 7, 6, 2, 0, 1]), array([0, 9, 0, 2, 0, 1]), array([4, 5, 0, 0, 8, 7]), array([4, 5, 0, 0, 8, 7]), array([0, 7, 6, 2, 0, 1]), array([4, 5, 0, 0, 8, 7])]\n",
            "___________________________________________________________________\n",
            "\n",
            "[4 5 0 0 8 7] [4 5 0 2 0 1]\n",
            "cross [array([4, 5, 0, 0, 8, 1]), array([4, 5, 0, 2, 0, 7])]\n",
            "1 [array([4, 5, 0, 0, 8, 1]), array([4, 5, 0, 2, 0, 7])]\n",
            "2 [array([4, 5, 0, 0, 8, 1]), array([4, 5, 0, 2, 0, 7]), array([0, 7, 6, 2, 0, 1])]\n",
            "3 [array([4, 5, 0, 0, 8, 1]), array([4, 5, 0, 2, 0, 7]), array([0, 7, 6, 2, 0, 1])]\n",
            "[0 7 0 0 8 7] [0 9 0 2 0 1]\n",
            "cross [array([4, 5, 0, 0, 8, 1]), array([4, 5, 0, 2, 0, 7]), array([0, 7, 6, 2, 0, 1]), array([0, 7, 0, 0, 8, 1]), array([0, 9, 0, 2, 0, 7])]\n",
            "1 [array([4, 5, 0, 0, 8, 1]), array([4, 5, 0, 2, 0, 7]), array([0, 7, 6, 2, 0, 1]), array([0, 7, 0, 0, 8, 1]), array([0, 9, 0, 2, 0, 7])]\n",
            "2 [array([4, 5, 0, 0, 8, 1]), array([4, 5, 0, 2, 0, 7]), array([0, 7, 6, 2, 0, 1]), array([0, 7, 0, 0, 8, 1]), array([0, 9, 0, 2, 0, 7]), array([0, 7, 0, 2, 0, 1])]\n",
            "3 [array([4, 5, 0, 0, 8, 1]), array([4, 5, 0, 2, 0, 7]), array([0, 7, 6, 2, 0, 1]), array([0, 7, 0, 0, 8, 1]), array([0, 9, 0, 2, 0, 7]), array([0, 7, 0, 2, 0, 1])]\n",
            "[4 5 0 2 0 1] [0 7 0 2 0 1]\n",
            "cross [array([4, 5, 0, 0, 8, 1]), array([4, 5, 0, 2, 0, 7]), array([0, 7, 6, 2, 0, 1]), array([0, 7, 0, 0, 8, 1]), array([0, 9, 0, 2, 0, 7]), array([0, 7, 0, 2, 0, 1]), array([4, 5, 0, 2, 0, 1]), array([0, 7, 0, 2, 0, 1])]\n",
            "1 [array([4, 5, 0, 0, 8, 1]), array([4, 5, 0, 2, 0, 7]), array([0, 7, 6, 2, 0, 1]), array([0, 7, 0, 0, 8, 1]), array([0, 9, 0, 2, 0, 7]), array([0, 7, 0, 2, 0, 1]), array([4, 5, 0, 2, 0, 1]), array([0, 7, 0, 2, 0, 1])]\n",
            "2 [array([4, 5, 0, 0, 8, 1]), array([4, 5, 0, 2, 0, 7]), array([0, 7, 6, 2, 0, 1]), array([0, 7, 0, 0, 8, 1]), array([0, 9, 0, 2, 0, 7]), array([0, 7, 0, 2, 0, 1]), array([4, 5, 0, 2, 0, 1]), array([0, 7, 0, 2, 0, 1]), array([9, 7, 0, 2, 0, 1])]\n",
            "3 [array([4, 5, 0, 0, 8, 1]), array([4, 5, 0, 2, 0, 7]), array([0, 7, 6, 2, 0, 1]), array([0, 7, 0, 0, 8, 1]), array([0, 9, 0, 2, 0, 7]), array([0, 7, 0, 2, 0, 1]), array([4, 5, 0, 2, 0, 1]), array([0, 7, 0, 2, 0, 1]), array([9, 7, 0, 2, 0, 1])]\n",
            "[0 7 0 2 0 1] [0 9 0 2 0 1]\n",
            "cross [array([4, 5, 0, 0, 8, 1]), array([4, 5, 0, 2, 0, 7]), array([0, 7, 6, 2, 0, 1]), array([0, 7, 0, 0, 8, 1]), array([0, 9, 0, 2, 0, 7]), array([0, 7, 0, 2, 0, 1]), array([4, 5, 0, 2, 0, 1]), array([0, 7, 0, 2, 0, 1]), array([9, 7, 0, 2, 0, 1]), array([0, 7, 0, 2, 0, 1]), array([0, 9, 0, 2, 0, 1])]\n",
            "1 [array([4, 5, 0, 0, 8, 1]), array([4, 5, 0, 2, 0, 7]), array([0, 7, 6, 2, 0, 1]), array([0, 7, 0, 0, 8, 1]), array([0, 9, 0, 2, 0, 7]), array([0, 7, 0, 2, 0, 1]), array([4, 5, 0, 2, 0, 1]), array([0, 7, 0, 2, 0, 1]), array([9, 7, 0, 2, 0, 1]), array([0, 7, 0, 2, 0, 1]), array([0, 9, 0, 2, 0, 1])]\n",
            "2 [array([4, 5, 0, 0, 8, 1]), array([4, 5, 0, 2, 0, 7]), array([0, 7, 6, 2, 0, 1]), array([0, 7, 0, 0, 8, 1]), array([0, 9, 0, 2, 0, 7]), array([0, 7, 0, 2, 0, 1]), array([4, 5, 0, 2, 0, 1]), array([0, 7, 0, 2, 0, 1]), array([9, 7, 0, 2, 0, 1]), array([0, 7, 0, 2, 0, 1]), array([0, 9, 0, 2, 0, 1]), array([4, 7, 0, 7, 8, 7])]\n",
            "poblacion generacion 6 [array([4, 5, 0, 0, 8, 1]), array([4, 5, 0, 2, 0, 7]), array([0, 7, 6, 2, 0, 1]), array([0, 7, 0, 0, 8, 1]), array([0, 9, 0, 2, 0, 7]), array([0, 7, 0, 2, 0, 1]), array([4, 5, 0, 2, 0, 1]), array([0, 7, 0, 2, 0, 1]), array([9, 7, 0, 2, 0, 1]), array([0, 7, 0, 2, 0, 1])]\n",
            "___________________________________________________________________\n",
            "\n",
            "[0 9 0 2 0 7] [9 7 0 2 0 1]\n",
            "cross [array([0, 9, 0, 2, 0, 1]), array([9, 7, 0, 2, 0, 7])]\n",
            "1 [array([0, 9, 0, 2, 0, 1]), array([9, 7, 0, 2, 0, 7])]\n",
            "2 [array([0, 9, 0, 2, 0, 1]), array([9, 7, 0, 2, 0, 7]), array([4, 5, 0, 0, 5, 1])]\n",
            "3 [array([0, 9, 0, 2, 0, 1]), array([9, 7, 0, 2, 0, 7]), array([4, 5, 0, 0, 5, 1])]\n",
            "1 [array([0, 9, 0, 2, 0, 1]), array([9, 7, 0, 2, 0, 7]), array([4, 5, 0, 0, 5, 1]), array([0, 7, 0, 2, 0, 1]), array([0, 7, 0, 0, 8, 1])]\n",
            "2 [array([0, 9, 0, 2, 0, 1]), array([9, 7, 0, 2, 0, 7]), array([4, 5, 0, 0, 5, 1]), array([0, 7, 0, 2, 0, 1]), array([0, 7, 0, 0, 8, 1]), array([0, 7, 0, 2, 0, 1])]\n",
            "3 [array([0, 9, 0, 2, 0, 1]), array([9, 7, 0, 2, 0, 7]), array([4, 5, 0, 0, 5, 1]), array([0, 7, 0, 2, 0, 1]), array([0, 7, 0, 0, 8, 1]), array([0, 7, 0, 2, 0, 1])]\n",
            "1 [array([0, 9, 0, 2, 0, 1]), array([9, 7, 0, 2, 0, 7]), array([4, 5, 0, 0, 5, 1]), array([0, 7, 0, 2, 0, 1]), array([0, 7, 0, 0, 8, 1]), array([0, 7, 0, 2, 0, 1]), array([0, 7, 0, 0, 8, 1]), array([9, 7, 0, 2, 0, 1])]\n",
            "2 [array([0, 9, 0, 2, 0, 1]), array([9, 7, 0, 2, 0, 7]), array([4, 5, 0, 0, 5, 1]), array([0, 7, 0, 2, 0, 1]), array([0, 7, 0, 0, 8, 1]), array([0, 7, 0, 2, 0, 1]), array([0, 7, 0, 0, 8, 1]), array([9, 7, 0, 2, 0, 1]), array([4, 5, 0, 2, 0, 1])]\n",
            "3 [array([0, 9, 0, 2, 0, 1]), array([9, 7, 0, 2, 0, 7]), array([4, 5, 0, 0, 5, 1]), array([0, 7, 0, 2, 0, 1]), array([0, 7, 0, 0, 8, 1]), array([0, 7, 0, 2, 0, 1]), array([0, 7, 0, 0, 8, 1]), array([9, 7, 0, 2, 0, 1]), array([4, 5, 0, 2, 0, 1])]\n",
            "1 [array([0, 9, 0, 2, 0, 1]), array([9, 7, 0, 2, 0, 7]), array([4, 5, 0, 0, 5, 1]), array([0, 7, 0, 2, 0, 1]), array([0, 7, 0, 0, 8, 1]), array([0, 7, 0, 2, 0, 1]), array([0, 7, 0, 0, 8, 1]), array([9, 7, 0, 2, 0, 1]), array([4, 5, 0, 2, 0, 1]), array([4, 5, 0, 0, 8, 1]), array([0, 7, 0, 2, 0, 1])]\n",
            "2 [array([0, 9, 0, 2, 0, 1]), array([9, 7, 0, 2, 0, 7]), array([4, 5, 0, 0, 5, 1]), array([0, 7, 0, 2, 0, 1]), array([0, 7, 0, 0, 8, 1]), array([0, 7, 0, 2, 0, 1]), array([0, 7, 0, 0, 8, 1]), array([9, 7, 0, 2, 0, 1]), array([4, 5, 0, 2, 0, 1]), array([4, 5, 0, 0, 8, 1]), array([0, 7, 0, 2, 0, 1]), array([4, 5, 0, 0, 8, 1])]\n",
            "poblacion generacion 7 [array([0, 9, 0, 2, 0, 1]), array([9, 7, 0, 2, 0, 7]), array([4, 5, 0, 0, 5, 1]), array([0, 7, 0, 2, 0, 1]), array([0, 7, 0, 0, 8, 1]), array([0, 7, 0, 2, 0, 1]), array([0, 7, 0, 0, 8, 1]), array([9, 7, 0, 2, 0, 1]), array([4, 5, 0, 2, 0, 1]), array([4, 5, 0, 0, 8, 1])]\n",
            "___________________________________________________________________\n",
            "\n",
            "1 [array([0, 7, 0, 2, 0, 1]), array([9, 7, 0, 2, 0, 1])]\n",
            "2 [array([0, 7, 0, 2, 0, 1]), array([9, 7, 0, 2, 0, 1]), array([4, 2, 0, 0, 8, 1])]\n",
            "3 [array([0, 7, 0, 2, 0, 1]), array([9, 7, 0, 2, 0, 1]), array([4, 2, 0, 0, 8, 1])]\n",
            "1 [array([0, 7, 0, 2, 0, 1]), array([9, 7, 0, 2, 0, 1]), array([4, 2, 0, 0, 8, 1]), array([0, 7, 0, 0, 8, 1]), array([9, 7, 0, 2, 0, 7])]\n",
            "2 [array([0, 7, 0, 2, 0, 1]), array([9, 7, 0, 2, 0, 1]), array([4, 2, 0, 0, 8, 1]), array([0, 7, 0, 0, 8, 1]), array([9, 7, 0, 2, 0, 7]), array([9, 7, 0, 2, 0, 7])]\n",
            "3 [array([0, 7, 0, 2, 0, 1]), array([9, 7, 0, 2, 0, 1]), array([4, 2, 0, 0, 8, 1]), array([0, 7, 0, 0, 8, 1]), array([9, 7, 0, 2, 0, 7]), array([9, 7, 0, 2, 0, 7])]\n",
            "[0 7 0 0 8 1] [9 7 0 2 0 7]\n",
            "cross [array([0, 7, 0, 2, 0, 1]), array([9, 7, 0, 2, 0, 1]), array([4, 2, 0, 0, 8, 1]), array([0, 7, 0, 0, 8, 1]), array([9, 7, 0, 2, 0, 7]), array([9, 7, 0, 2, 0, 7]), array([0, 7, 0, 2, 0, 7]), array([9, 7, 0, 0, 8, 1])]\n",
            "1 [array([0, 7, 0, 2, 0, 1]), array([9, 7, 0, 2, 0, 1]), array([4, 2, 0, 0, 8, 1]), array([0, 7, 0, 0, 8, 1]), array([9, 7, 0, 2, 0, 7]), array([9, 7, 0, 2, 0, 7]), array([0, 7, 0, 2, 0, 7]), array([9, 7, 0, 0, 8, 1])]\n",
            "2 [array([0, 7, 0, 2, 0, 1]), array([9, 7, 0, 2, 0, 1]), array([4, 2, 0, 0, 8, 1]), array([0, 7, 0, 0, 8, 1]), array([9, 7, 0, 2, 0, 7]), array([9, 7, 0, 2, 0, 7]), array([0, 7, 0, 2, 0, 7]), array([9, 7, 0, 0, 8, 1]), array([4, 5, 0, 5, 0, 1])]\n",
            "3 [array([0, 7, 0, 2, 0, 1]), array([9, 7, 0, 2, 0, 1]), array([4, 2, 0, 0, 8, 1]), array([0, 7, 0, 0, 8, 1]), array([9, 7, 0, 2, 0, 7]), array([9, 7, 0, 2, 0, 7]), array([0, 7, 0, 2, 0, 7]), array([9, 7, 0, 0, 8, 1]), array([4, 5, 0, 5, 0, 1])]\n",
            "[0 7 0 2 0 1] [0 9 0 2 0 1]\n",
            "cross [array([0, 7, 0, 2, 0, 1]), array([9, 7, 0, 2, 0, 1]), array([4, 2, 0, 0, 8, 1]), array([0, 7, 0, 0, 8, 1]), array([9, 7, 0, 2, 0, 7]), array([9, 7, 0, 2, 0, 7]), array([0, 7, 0, 2, 0, 7]), array([9, 7, 0, 0, 8, 1]), array([4, 5, 0, 5, 0, 1]), array([0, 7, 0, 2, 0, 1]), array([0, 9, 0, 2, 0, 1])]\n",
            "1 [array([0, 7, 0, 2, 0, 1]), array([9, 7, 0, 2, 0, 1]), array([4, 2, 0, 0, 8, 1]), array([0, 7, 0, 0, 8, 1]), array([9, 7, 0, 2, 0, 7]), array([9, 7, 0, 2, 0, 7]), array([0, 7, 0, 2, 0, 7]), array([9, 7, 0, 0, 8, 1]), array([4, 5, 0, 5, 0, 1]), array([0, 7, 0, 2, 0, 1]), array([0, 9, 0, 2, 0, 1])]\n",
            "2 [array([0, 7, 0, 2, 0, 1]), array([9, 7, 0, 2, 0, 1]), array([4, 2, 0, 0, 8, 1]), array([0, 7, 0, 0, 8, 1]), array([9, 7, 0, 2, 0, 7]), array([9, 7, 0, 2, 0, 7]), array([0, 7, 0, 2, 0, 7]), array([9, 7, 0, 0, 8, 1]), array([4, 5, 0, 5, 0, 1]), array([0, 7, 0, 2, 0, 1]), array([0, 9, 0, 2, 0, 1]), array([0, 7, 0, 0, 8, 1])]\n",
            "poblacion generacion 8 [array([0, 7, 0, 2, 0, 1]), array([9, 7, 0, 2, 0, 1]), array([4, 2, 0, 0, 8, 1]), array([0, 7, 0, 0, 8, 1]), array([9, 7, 0, 2, 0, 7]), array([9, 7, 0, 2, 0, 7]), array([0, 7, 0, 2, 0, 7]), array([9, 7, 0, 0, 8, 1]), array([4, 5, 0, 5, 0, 1]), array([0, 7, 0, 2, 0, 1])]\n",
            "___________________________________________________________________\n",
            "\n",
            "[9 7 0 0 8 1] [0 7 0 2 0 7]\n",
            "cross [array([9, 7, 0, 2, 0, 7]), array([0, 7, 0, 0, 8, 1])]\n",
            "1 [array([9, 7, 0, 2, 0, 7]), array([0, 7, 0, 0, 8, 1])]\n",
            "2 [array([9, 7, 0, 2, 0, 7]), array([0, 7, 0, 0, 8, 1]), array([7, 7, 0, 0, 8, 1])]\n",
            "3 [array([9, 7, 0, 2, 0, 7]), array([0, 7, 0, 0, 8, 1]), array([7, 7, 0, 0, 8, 1])]\n",
            "[9 7 0 2 0 7] [9 7 0 2 0 1]\n",
            "cross [array([9, 7, 0, 2, 0, 7]), array([0, 7, 0, 0, 8, 1]), array([7, 7, 0, 0, 8, 1]), array([9, 7, 0, 2, 0, 1]), array([9, 7, 0, 2, 0, 7])]\n",
            "1 [array([9, 7, 0, 2, 0, 7]), array([0, 7, 0, 0, 8, 1]), array([7, 7, 0, 0, 8, 1]), array([9, 7, 0, 2, 0, 1]), array([9, 7, 0, 2, 0, 7])]\n",
            "2 [array([9, 7, 0, 2, 0, 7]), array([0, 7, 0, 0, 8, 1]), array([7, 7, 0, 0, 8, 1]), array([9, 7, 0, 2, 0, 1]), array([9, 7, 0, 2, 0, 7]), array([0, 7, 0, 2, 0, 7])]\n",
            "3 [array([9, 7, 0, 2, 0, 7]), array([0, 7, 0, 0, 8, 1]), array([7, 7, 0, 0, 8, 1]), array([9, 7, 0, 2, 0, 1]), array([9, 7, 0, 2, 0, 7]), array([0, 7, 0, 2, 0, 7])]\n",
            "[4 2 0 0 8 1] [0 7 0 2 0 1]\n",
            "cross [array([9, 7, 0, 2, 0, 7]), array([0, 7, 0, 0, 8, 1]), array([7, 7, 0, 0, 8, 1]), array([9, 7, 0, 2, 0, 1]), array([9, 7, 0, 2, 0, 7]), array([0, 7, 0, 2, 0, 7]), array([4, 2, 0, 0, 8, 1]), array([0, 7, 0, 2, 0, 1])]\n",
            "1 [array([9, 7, 0, 2, 0, 7]), array([0, 7, 0, 0, 8, 1]), array([7, 7, 0, 0, 8, 1]), array([9, 7, 0, 2, 0, 1]), array([9, 7, 0, 2, 0, 7]), array([0, 7, 0, 2, 0, 7]), array([4, 2, 0, 0, 8, 1]), array([0, 7, 0, 2, 0, 1])]\n",
            "2 [array([9, 7, 0, 2, 0, 7]), array([0, 7, 0, 0, 8, 1]), array([7, 7, 0, 0, 8, 1]), array([9, 7, 0, 2, 0, 1]), array([9, 7, 0, 2, 0, 7]), array([0, 7, 0, 2, 0, 7]), array([4, 2, 0, 0, 8, 1]), array([0, 7, 0, 2, 0, 1]), array([9, 7, 0, 2, 0, 7])]\n",
            "3 [array([9, 7, 0, 2, 0, 7]), array([0, 7, 0, 0, 8, 1]), array([7, 7, 0, 0, 8, 1]), array([9, 7, 0, 2, 0, 1]), array([9, 7, 0, 2, 0, 7]), array([0, 7, 0, 2, 0, 7]), array([4, 2, 0, 0, 8, 1]), array([0, 7, 0, 2, 0, 1]), array([9, 7, 0, 2, 0, 7])]\n",
            "1 [array([9, 7, 0, 2, 0, 7]), array([0, 7, 0, 0, 8, 1]), array([7, 7, 0, 0, 8, 1]), array([9, 7, 0, 2, 0, 1]), array([9, 7, 0, 2, 0, 7]), array([0, 7, 0, 2, 0, 7]), array([4, 2, 0, 0, 8, 1]), array([0, 7, 0, 2, 0, 1]), array([9, 7, 0, 2, 0, 7]), array([0, 7, 0, 2, 0, 1]), array([9, 7, 0, 2, 0, 7])]\n",
            "2 [array([9, 7, 0, 2, 0, 7]), array([0, 7, 0, 0, 8, 1]), array([7, 7, 0, 0, 8, 1]), array([9, 7, 0, 2, 0, 1]), array([9, 7, 0, 2, 0, 7]), array([0, 7, 0, 2, 0, 7]), array([4, 2, 0, 0, 8, 1]), array([0, 7, 0, 2, 0, 1]), array([9, 7, 0, 2, 0, 7]), array([0, 7, 0, 2, 0, 1]), array([9, 7, 0, 2, 0, 7]), array([9, 7, 0, 2, 0, 7])]\n",
            "poblacion generacion 9 [array([9, 7, 0, 2, 0, 7]), array([0, 7, 0, 0, 8, 1]), array([7, 7, 0, 0, 8, 1]), array([9, 7, 0, 2, 0, 1]), array([9, 7, 0, 2, 0, 7]), array([0, 7, 0, 2, 0, 7]), array([4, 2, 0, 0, 8, 1]), array([0, 7, 0, 2, 0, 1]), array([9, 7, 0, 2, 0, 7]), array([0, 7, 0, 2, 0, 1])]\n",
            "___________________________________________________________________\n",
            "\n",
            "[0 7 0 2 0 1] [0 7 0 2 0 1]\n",
            "cross [array([0, 7, 0, 2, 0, 1]), array([0, 7, 0, 2, 0, 1])]\n",
            "1 [array([0, 7, 0, 2, 0, 1]), array([0, 7, 0, 2, 0, 1])]\n",
            "2 [array([0, 7, 0, 2, 0, 1]), array([0, 7, 0, 2, 0, 1]), array([9, 7, 0, 2, 0, 7])]\n",
            "3 [array([0, 7, 0, 2, 0, 1]), array([0, 7, 0, 2, 0, 1]), array([9, 7, 0, 2, 0, 7])]\n",
            "1 [array([0, 7, 0, 2, 0, 1]), array([0, 7, 0, 2, 0, 1]), array([9, 7, 0, 2, 0, 7]), array([0, 7, 0, 2, 0, 1]), array([0, 7, 0, 2, 0, 1])]\n",
            "2 [array([0, 7, 0, 2, 0, 1]), array([0, 7, 0, 2, 0, 1]), array([9, 7, 0, 2, 0, 7]), array([0, 7, 0, 2, 0, 1]), array([0, 7, 0, 2, 0, 1]), array([9, 7, 0, 2, 0, 1])]\n",
            "3 [array([0, 7, 0, 2, 0, 1]), array([0, 7, 0, 2, 0, 1]), array([9, 7, 0, 2, 0, 7]), array([0, 7, 0, 2, 0, 1]), array([0, 7, 0, 2, 0, 1]), array([9, 7, 0, 2, 0, 1])]\n",
            "1 [array([0, 7, 0, 2, 0, 1]), array([0, 7, 0, 2, 0, 1]), array([9, 7, 0, 2, 0, 7]), array([0, 7, 0, 2, 0, 1]), array([0, 7, 0, 2, 0, 1]), array([9, 7, 0, 2, 0, 1]), array([9, 7, 0, 2, 0, 7]), array([9, 7, 0, 2, 0, 1])]\n",
            "2 [array([0, 7, 0, 2, 0, 1]), array([0, 7, 0, 2, 0, 1]), array([9, 7, 0, 2, 0, 7]), array([0, 7, 0, 2, 0, 1]), array([0, 7, 0, 2, 0, 1]), array([9, 7, 0, 2, 0, 1]), array([9, 7, 0, 2, 0, 7]), array([9, 7, 0, 2, 0, 1]), array([0, 4, 0, 2, 0, 7])]\n",
            "3 [array([0, 7, 0, 2, 0, 1]), array([0, 7, 0, 2, 0, 1]), array([9, 7, 0, 2, 0, 7]), array([0, 7, 0, 2, 0, 1]), array([0, 7, 0, 2, 0, 1]), array([9, 7, 0, 2, 0, 1]), array([9, 7, 0, 2, 0, 7]), array([9, 7, 0, 2, 0, 1]), array([0, 4, 0, 2, 0, 7])]\n",
            "1 [array([0, 7, 0, 2, 0, 1]), array([0, 7, 0, 2, 0, 1]), array([9, 7, 0, 2, 0, 7]), array([0, 7, 0, 2, 0, 1]), array([0, 7, 0, 2, 0, 1]), array([9, 7, 0, 2, 0, 1]), array([9, 7, 0, 2, 0, 7]), array([9, 7, 0, 2, 0, 1]), array([0, 4, 0, 2, 0, 7]), array([9, 7, 0, 2, 0, 7]), array([0, 7, 0, 2, 0, 1])]\n",
            "2 [array([0, 7, 0, 2, 0, 1]), array([0, 7, 0, 2, 0, 1]), array([9, 7, 0, 2, 0, 7]), array([0, 7, 0, 2, 0, 1]), array([0, 7, 0, 2, 0, 1]), array([9, 7, 0, 2, 0, 1]), array([9, 7, 0, 2, 0, 7]), array([9, 7, 0, 2, 0, 1]), array([0, 4, 0, 2, 0, 7]), array([9, 7, 0, 2, 0, 7]), array([0, 7, 0, 2, 0, 1]), array([9, 7, 3, 2, 0, 7])]\n",
            "poblacion generacion 10 [array([0, 7, 0, 2, 0, 1]), array([0, 7, 0, 2, 0, 1]), array([9, 7, 0, 2, 0, 7]), array([0, 7, 0, 2, 0, 1]), array([0, 7, 0, 2, 0, 1]), array([9, 7, 0, 2, 0, 1]), array([9, 7, 0, 2, 0, 7]), array([9, 7, 0, 2, 0, 1]), array([0, 4, 0, 2, 0, 7]), array([9, 7, 0, 2, 0, 7])]\n",
            "___________________________________________________________________\n",
            "\n",
            "[9 7 0 2 0 1] [0 7 0 2 0 1]\n",
            "cross [array([9, 7, 0, 2, 0, 1]), array([0, 7, 0, 2, 0, 1])]\n",
            "1 [array([9, 7, 0, 2, 0, 1]), array([0, 7, 0, 2, 0, 1])]\n",
            "2 [array([9, 7, 0, 2, 0, 1]), array([0, 7, 0, 2, 0, 1]), array([0, 7, 0, 2, 3, 1])]\n",
            "3 [array([9, 7, 0, 2, 0, 1]), array([0, 7, 0, 2, 0, 1]), array([0, 7, 0, 2, 3, 1])]\n",
            "[0 7 0 2 0 1] [0 7 0 2 0 1]\n",
            "cross [array([9, 7, 0, 2, 0, 1]), array([0, 7, 0, 2, 0, 1]), array([0, 7, 0, 2, 3, 1]), array([0, 7, 0, 2, 0, 1]), array([0, 7, 0, 2, 0, 1])]\n",
            "1 [array([9, 7, 0, 2, 0, 1]), array([0, 7, 0, 2, 0, 1]), array([0, 7, 0, 2, 3, 1]), array([0, 7, 0, 2, 0, 1]), array([0, 7, 0, 2, 0, 1])]\n",
            "2 [array([9, 7, 0, 2, 0, 1]), array([0, 7, 0, 2, 0, 1]), array([0, 7, 0, 2, 3, 1]), array([0, 7, 0, 2, 0, 1]), array([0, 7, 0, 2, 0, 1]), array([0, 7, 0, 2, 9, 1])]\n",
            "3 [array([9, 7, 0, 2, 0, 1]), array([0, 7, 0, 2, 0, 1]), array([0, 7, 0, 2, 3, 1]), array([0, 7, 0, 2, 0, 1]), array([0, 7, 0, 2, 0, 1]), array([0, 7, 0, 2, 9, 1])]\n",
            "[9 7 0 2 0 7] [9 7 0 2 0 7]\n",
            "cross [array([9, 7, 0, 2, 0, 1]), array([0, 7, 0, 2, 0, 1]), array([0, 7, 0, 2, 3, 1]), array([0, 7, 0, 2, 0, 1]), array([0, 7, 0, 2, 0, 1]), array([0, 7, 0, 2, 9, 1]), array([9, 7, 0, 2, 0, 7]), array([9, 7, 0, 2, 0, 7])]\n",
            "1 [array([9, 7, 0, 2, 0, 1]), array([0, 7, 0, 2, 0, 1]), array([0, 7, 0, 2, 3, 1]), array([0, 7, 0, 2, 0, 1]), array([0, 7, 0, 2, 0, 1]), array([0, 7, 0, 2, 9, 1]), array([9, 7, 0, 2, 0, 7]), array([9, 7, 0, 2, 0, 7])]\n",
            "2 [array([9, 7, 0, 2, 0, 1]), array([0, 7, 0, 2, 0, 1]), array([0, 7, 0, 2, 3, 1]), array([0, 7, 0, 2, 0, 1]), array([0, 7, 0, 2, 0, 1]), array([0, 7, 0, 2, 9, 1]), array([9, 7, 0, 2, 0, 7]), array([9, 7, 0, 2, 0, 7]), array([9, 7, 0, 2, 0, 7])]\n",
            "3 [array([9, 7, 0, 2, 0, 1]), array([0, 7, 0, 2, 0, 1]), array([0, 7, 0, 2, 3, 1]), array([0, 7, 0, 2, 0, 1]), array([0, 7, 0, 2, 0, 1]), array([0, 7, 0, 2, 9, 1]), array([9, 7, 0, 2, 0, 7]), array([9, 7, 0, 2, 0, 7]), array([9, 7, 0, 2, 0, 7])]\n",
            "1 [array([9, 7, 0, 2, 0, 1]), array([0, 7, 0, 2, 0, 1]), array([0, 7, 0, 2, 3, 1]), array([0, 7, 0, 2, 0, 1]), array([0, 7, 0, 2, 0, 1]), array([0, 7, 0, 2, 9, 1]), array([9, 7, 0, 2, 0, 7]), array([9, 7, 0, 2, 0, 7]), array([9, 7, 0, 2, 0, 7]), array([0, 7, 0, 2, 0, 1]), array([0, 7, 0, 2, 0, 1])]\n",
            "2 [array([9, 7, 0, 2, 0, 1]), array([0, 7, 0, 2, 0, 1]), array([0, 7, 0, 2, 3, 1]), array([0, 7, 0, 2, 0, 1]), array([0, 7, 0, 2, 0, 1]), array([0, 7, 0, 2, 9, 1]), array([9, 7, 0, 2, 0, 7]), array([9, 7, 0, 2, 0, 7]), array([9, 7, 0, 2, 0, 7]), array([0, 7, 0, 2, 0, 1]), array([0, 7, 0, 2, 0, 1]), array([9, 7, 0, 2, 0, 7])]\n",
            "poblacion generacion 11 [array([9, 7, 0, 2, 0, 1]), array([0, 7, 0, 2, 0, 1]), array([0, 7, 0, 2, 3, 1]), array([0, 7, 0, 2, 0, 1]), array([0, 7, 0, 2, 0, 1]), array([0, 7, 0, 2, 9, 1]), array([9, 7, 0, 2, 0, 7]), array([9, 7, 0, 2, 0, 7]), array([9, 7, 0, 2, 0, 7]), array([0, 7, 0, 2, 0, 1])]\n",
            "___________________________________________________________________\n",
            "\n",
            "1 [array([9, 7, 0, 2, 0, 1]), array([0, 7, 0, 2, 9, 1])]\n",
            "2 [array([9, 7, 0, 2, 0, 1]), array([0, 7, 0, 2, 9, 1]), array([0, 7, 0, 0, 9, 1])]\n",
            "3 [array([9, 7, 0, 2, 0, 1]), array([0, 7, 0, 2, 9, 1]), array([0, 7, 0, 0, 9, 1])]\n",
            "[0 7 0 2 9 1] [9 7 0 2 0 7]\n",
            "cross [array([9, 7, 0, 2, 0, 1]), array([0, 7, 0, 2, 9, 1]), array([0, 7, 0, 0, 9, 1]), array([0, 7, 0, 2, 9, 7]), array([9, 7, 0, 2, 0, 1])]\n",
            "1 [array([9, 7, 0, 2, 0, 1]), array([0, 7, 0, 2, 9, 1]), array([0, 7, 0, 0, 9, 1]), array([0, 7, 0, 2, 9, 7]), array([9, 7, 0, 2, 0, 1])]\n",
            "2 [array([9, 7, 0, 2, 0, 1]), array([0, 7, 0, 2, 9, 1]), array([0, 7, 0, 0, 9, 1]), array([0, 7, 0, 2, 9, 7]), array([9, 7, 0, 2, 0, 1]), array([0, 7, 0, 2, 0, 1])]\n",
            "3 [array([9, 7, 0, 2, 0, 1]), array([0, 7, 0, 2, 9, 1]), array([0, 7, 0, 0, 9, 1]), array([0, 7, 0, 2, 9, 7]), array([9, 7, 0, 2, 0, 1]), array([0, 7, 0, 2, 0, 1])]\n",
            "[0 7 0 2 0 1] [0 7 0 2 0 1]\n",
            "cross [array([9, 7, 0, 2, 0, 1]), array([0, 7, 0, 2, 9, 1]), array([0, 7, 0, 0, 9, 1]), array([0, 7, 0, 2, 9, 7]), array([9, 7, 0, 2, 0, 1]), array([0, 7, 0, 2, 0, 1]), array([0, 7, 0, 2, 0, 1]), array([0, 7, 0, 2, 0, 1])]\n",
            "1 [array([9, 7, 0, 2, 0, 1]), array([0, 7, 0, 2, 9, 1]), array([0, 7, 0, 0, 9, 1]), array([0, 7, 0, 2, 9, 7]), array([9, 7, 0, 2, 0, 1]), array([0, 7, 0, 2, 0, 1]), array([0, 7, 0, 2, 0, 1]), array([0, 7, 0, 2, 0, 1])]\n",
            "2 [array([9, 7, 0, 2, 0, 1]), array([0, 7, 0, 2, 9, 1]), array([0, 7, 0, 0, 9, 1]), array([0, 7, 0, 2, 9, 7]), array([9, 7, 0, 2, 0, 1]), array([0, 7, 0, 2, 0, 1]), array([0, 7, 0, 2, 0, 1]), array([0, 7, 0, 2, 0, 1]), array([0, 7, 0, 2, 0, 1])]\n",
            "3 [array([9, 7, 0, 2, 0, 1]), array([0, 7, 0, 2, 9, 1]), array([0, 7, 0, 0, 9, 1]), array([0, 7, 0, 2, 9, 7]), array([9, 7, 0, 2, 0, 1]), array([0, 7, 0, 2, 0, 1]), array([0, 7, 0, 2, 0, 1]), array([0, 7, 0, 2, 0, 1]), array([0, 7, 0, 2, 0, 1])]\n",
            "1 [array([9, 7, 0, 2, 0, 1]), array([0, 7, 0, 2, 9, 1]), array([0, 7, 0, 0, 9, 1]), array([0, 7, 0, 2, 9, 7]), array([9, 7, 0, 2, 0, 1]), array([0, 7, 0, 2, 0, 1]), array([0, 7, 0, 2, 0, 1]), array([0, 7, 0, 2, 0, 1]), array([0, 7, 0, 2, 0, 1]), array([0, 7, 0, 2, 0, 1]), array([0, 7, 0, 2, 0, 1])]\n",
            "2 [array([9, 7, 0, 2, 0, 1]), array([0, 7, 0, 2, 9, 1]), array([0, 7, 0, 0, 9, 1]), array([0, 7, 0, 2, 9, 7]), array([9, 7, 0, 2, 0, 1]), array([0, 7, 0, 2, 0, 1]), array([0, 7, 0, 2, 0, 1]), array([0, 7, 0, 2, 0, 1]), array([0, 7, 0, 2, 0, 1]), array([0, 7, 0, 2, 0, 1]), array([0, 7, 0, 2, 0, 1]), array([0, 7, 0, 2, 3, 1])]\n",
            "poblacion generacion 12 [array([9, 7, 0, 2, 0, 1]), array([0, 7, 0, 2, 9, 1]), array([0, 7, 0, 0, 9, 1]), array([0, 7, 0, 2, 9, 7]), array([9, 7, 0, 2, 0, 1]), array([0, 7, 0, 2, 0, 1]), array([0, 7, 0, 2, 0, 1]), array([0, 7, 0, 2, 0, 1]), array([0, 7, 0, 2, 0, 1]), array([0, 7, 0, 2, 0, 1])]\n",
            "___________________________________________________________________\n",
            "\n",
            "1 [array([0, 7, 0, 2, 9, 7]), array([0, 7, 0, 2, 0, 1])]\n",
            "2 [array([0, 7, 0, 2, 9, 7]), array([0, 7, 0, 2, 0, 1]), array([5, 7, 0, 2, 0, 1])]\n",
            "3 [array([0, 7, 0, 2, 9, 7]), array([0, 7, 0, 2, 0, 1]), array([5, 7, 0, 2, 0, 1])]\n",
            "[0 7 0 2 0 1] [0 7 0 2 0 1]\n",
            "cross [array([0, 7, 0, 2, 9, 7]), array([0, 7, 0, 2, 0, 1]), array([5, 7, 0, 2, 0, 1]), array([0, 7, 0, 2, 0, 1]), array([0, 7, 0, 2, 0, 1])]\n",
            "1 [array([0, 7, 0, 2, 9, 7]), array([0, 7, 0, 2, 0, 1]), array([5, 7, 0, 2, 0, 1]), array([0, 7, 0, 2, 0, 1]), array([0, 7, 0, 2, 0, 1])]\n",
            "2 [array([0, 7, 0, 2, 9, 7]), array([0, 7, 0, 2, 0, 1]), array([5, 7, 0, 2, 0, 1]), array([0, 7, 0, 2, 0, 1]), array([0, 7, 0, 2, 0, 1]), array([0, 7, 0, 2, 9, 1])]\n",
            "3 [array([0, 7, 0, 2, 9, 7]), array([0, 7, 0, 2, 0, 1]), array([5, 7, 0, 2, 0, 1]), array([0, 7, 0, 2, 0, 1]), array([0, 7, 0, 2, 0, 1]), array([0, 7, 0, 2, 9, 1])]\n",
            "[0 7 0 2 0 1] [0 7 0 2 0 1]\n",
            "cross [array([0, 7, 0, 2, 9, 7]), array([0, 7, 0, 2, 0, 1]), array([5, 7, 0, 2, 0, 1]), array([0, 7, 0, 2, 0, 1]), array([0, 7, 0, 2, 0, 1]), array([0, 7, 0, 2, 9, 1]), array([0, 7, 0, 2, 0, 1]), array([0, 7, 0, 2, 0, 1])]\n",
            "1 [array([0, 7, 0, 2, 9, 7]), array([0, 7, 0, 2, 0, 1]), array([5, 7, 0, 2, 0, 1]), array([0, 7, 0, 2, 0, 1]), array([0, 7, 0, 2, 0, 1]), array([0, 7, 0, 2, 9, 1]), array([0, 7, 0, 2, 0, 1]), array([0, 7, 0, 2, 0, 1])]\n",
            "2 [array([0, 7, 0, 2, 9, 7]), array([0, 7, 0, 2, 0, 1]), array([5, 7, 0, 2, 0, 1]), array([0, 7, 0, 2, 0, 1]), array([0, 7, 0, 2, 0, 1]), array([0, 7, 0, 2, 9, 1]), array([0, 7, 0, 2, 0, 1]), array([0, 7, 0, 2, 0, 1]), array([0, 7, 0, 2, 0, 1])]\n",
            "3 [array([0, 7, 0, 2, 9, 7]), array([0, 7, 0, 2, 0, 1]), array([5, 7, 0, 2, 0, 1]), array([0, 7, 0, 2, 0, 1]), array([0, 7, 0, 2, 0, 1]), array([0, 7, 0, 2, 9, 1]), array([0, 7, 0, 2, 0, 1]), array([0, 7, 0, 2, 0, 1]), array([0, 7, 0, 2, 0, 1])]\n",
            "[9 7 0 2 0 1] [0 7 0 2 0 1]\n",
            "cross [array([0, 7, 0, 2, 9, 7]), array([0, 7, 0, 2, 0, 1]), array([5, 7, 0, 2, 0, 1]), array([0, 7, 0, 2, 0, 1]), array([0, 7, 0, 2, 0, 1]), array([0, 7, 0, 2, 9, 1]), array([0, 7, 0, 2, 0, 1]), array([0, 7, 0, 2, 0, 1]), array([0, 7, 0, 2, 0, 1]), array([9, 7, 0, 2, 0, 1]), array([0, 7, 0, 2, 0, 1])]\n",
            "1 [array([0, 7, 0, 2, 9, 7]), array([0, 7, 0, 2, 0, 1]), array([5, 7, 0, 2, 0, 1]), array([0, 7, 0, 2, 0, 1]), array([0, 7, 0, 2, 0, 1]), array([0, 7, 0, 2, 9, 1]), array([0, 7, 0, 2, 0, 1]), array([0, 7, 0, 2, 0, 1]), array([0, 7, 0, 2, 0, 1]), array([9, 7, 0, 2, 0, 1]), array([0, 7, 0, 2, 0, 1])]\n",
            "2 [array([0, 7, 0, 2, 9, 7]), array([0, 7, 0, 2, 0, 1]), array([5, 7, 0, 2, 0, 1]), array([0, 7, 0, 2, 0, 1]), array([0, 7, 0, 2, 0, 1]), array([0, 7, 0, 2, 9, 1]), array([0, 7, 0, 2, 0, 1]), array([0, 7, 0, 2, 0, 1]), array([0, 7, 0, 2, 0, 1]), array([9, 7, 0, 2, 0, 1]), array([0, 7, 0, 2, 0, 1]), array([3, 7, 0, 2, 0, 1])]\n",
            "poblacion generacion 13 [array([0, 7, 0, 2, 9, 7]), array([0, 7, 0, 2, 0, 1]), array([5, 7, 0, 2, 0, 1]), array([0, 7, 0, 2, 0, 1]), array([0, 7, 0, 2, 0, 1]), array([0, 7, 0, 2, 9, 1]), array([0, 7, 0, 2, 0, 1]), array([0, 7, 0, 2, 0, 1]), array([0, 7, 0, 2, 0, 1]), array([9, 7, 0, 2, 0, 1])]\n",
            "___________________________________________________________________\n",
            "\n",
            "[0 7 0 2 0 1] [5 7 0 2 0 1]\n",
            "cross [array([0, 7, 0, 2, 0, 1]), array([5, 7, 0, 2, 0, 1])]\n",
            "1 [array([0, 7, 0, 2, 0, 1]), array([5, 7, 0, 2, 0, 1])]\n",
            "2 [array([0, 7, 0, 2, 0, 1]), array([5, 7, 0, 2, 0, 1]), array([0, 7, 0, 2, 9, 1])]\n",
            "3 [array([0, 7, 0, 2, 0, 1]), array([5, 7, 0, 2, 0, 1]), array([0, 7, 0, 2, 9, 1])]\n",
            "1 [array([0, 7, 0, 2, 0, 1]), array([5, 7, 0, 2, 0, 1]), array([0, 7, 0, 2, 9, 1]), array([0, 7, 0, 2, 9, 7]), array([0, 7, 0, 2, 9, 7])]\n",
            "2 [array([0, 7, 0, 2, 0, 1]), array([5, 7, 0, 2, 0, 1]), array([0, 7, 0, 2, 9, 1]), array([0, 7, 0, 2, 9, 7]), array([0, 7, 0, 2, 9, 7]), array([0, 7, 2, 2, 0, 1])]\n",
            "3 [array([0, 7, 0, 2, 0, 1]), array([5, 7, 0, 2, 0, 1]), array([0, 7, 0, 2, 9, 1]), array([0, 7, 0, 2, 9, 7]), array([0, 7, 0, 2, 9, 7]), array([0, 7, 2, 2, 0, 1])]\n",
            "1 [array([0, 7, 0, 2, 0, 1]), array([5, 7, 0, 2, 0, 1]), array([0, 7, 0, 2, 9, 1]), array([0, 7, 0, 2, 9, 7]), array([0, 7, 0, 2, 9, 7]), array([0, 7, 2, 2, 0, 1]), array([0, 7, 0, 2, 9, 7]), array([0, 7, 0, 2, 0, 1])]\n",
            "2 [array([0, 7, 0, 2, 0, 1]), array([5, 7, 0, 2, 0, 1]), array([0, 7, 0, 2, 9, 1]), array([0, 7, 0, 2, 9, 7]), array([0, 7, 0, 2, 9, 7]), array([0, 7, 2, 2, 0, 1]), array([0, 7, 0, 2, 9, 7]), array([0, 7, 0, 2, 0, 1]), array([0, 7, 0, 6, 0, 1])]\n",
            "3 [array([0, 7, 0, 2, 0, 1]), array([5, 7, 0, 2, 0, 1]), array([0, 7, 0, 2, 9, 1]), array([0, 7, 0, 2, 9, 7]), array([0, 7, 0, 2, 9, 7]), array([0, 7, 2, 2, 0, 1]), array([0, 7, 0, 2, 9, 7]), array([0, 7, 0, 2, 0, 1]), array([0, 7, 0, 6, 0, 1])]\n",
            "[0 7 0 2 0 1] [5 7 0 2 0 1]\n",
            "cross [array([0, 7, 0, 2, 0, 1]), array([5, 7, 0, 2, 0, 1]), array([0, 7, 0, 2, 9, 1]), array([0, 7, 0, 2, 9, 7]), array([0, 7, 0, 2, 9, 7]), array([0, 7, 2, 2, 0, 1]), array([0, 7, 0, 2, 9, 7]), array([0, 7, 0, 2, 0, 1]), array([0, 7, 0, 6, 0, 1]), array([0, 7, 0, 2, 0, 1]), array([5, 7, 0, 2, 0, 1])]\n",
            "1 [array([0, 7, 0, 2, 0, 1]), array([5, 7, 0, 2, 0, 1]), array([0, 7, 0, 2, 9, 1]), array([0, 7, 0, 2, 9, 7]), array([0, 7, 0, 2, 9, 7]), array([0, 7, 2, 2, 0, 1]), array([0, 7, 0, 2, 9, 7]), array([0, 7, 0, 2, 0, 1]), array([0, 7, 0, 6, 0, 1]), array([0, 7, 0, 2, 0, 1]), array([5, 7, 0, 2, 0, 1])]\n",
            "2 [array([0, 7, 0, 2, 0, 1]), array([5, 7, 0, 2, 0, 1]), array([0, 7, 0, 2, 9, 1]), array([0, 7, 0, 2, 9, 7]), array([0, 7, 0, 2, 9, 7]), array([0, 7, 2, 2, 0, 1]), array([0, 7, 0, 2, 9, 7]), array([0, 7, 0, 2, 0, 1]), array([0, 7, 0, 6, 0, 1]), array([0, 7, 0, 2, 0, 1]), array([5, 7, 0, 2, 0, 1]), array([0, 7, 0, 2, 4, 1])]\n",
            "poblacion generacion 14 [array([0, 7, 0, 2, 0, 1]), array([5, 7, 0, 2, 0, 1]), array([0, 7, 0, 2, 9, 1]), array([0, 7, 0, 2, 9, 7]), array([0, 7, 0, 2, 9, 7]), array([0, 7, 2, 2, 0, 1]), array([0, 7, 0, 2, 9, 7]), array([0, 7, 0, 2, 0, 1]), array([0, 7, 0, 6, 0, 1]), array([0, 7, 0, 2, 0, 1])]\n",
            "___________________________________________________________________\n",
            "\n",
            "1 [array([5, 7, 0, 2, 0, 1]), array([0, 7, 0, 2, 0, 1])]\n",
            "2 [array([5, 7, 0, 2, 0, 1]), array([0, 7, 0, 2, 0, 1]), array([2, 7, 0, 2, 9, 7])]\n",
            "3 [array([5, 7, 0, 2, 0, 1]), array([0, 7, 0, 2, 0, 1]), array([2, 7, 0, 2, 9, 7])]\n",
            "1 [array([5, 7, 0, 2, 0, 1]), array([0, 7, 0, 2, 0, 1]), array([2, 7, 0, 2, 9, 7]), array([0, 7, 0, 6, 0, 1]), array([0, 7, 0, 2, 9, 7])]\n",
            "2 [array([5, 7, 0, 2, 0, 1]), array([0, 7, 0, 2, 0, 1]), array([2, 7, 0, 2, 9, 7]), array([0, 7, 0, 6, 0, 1]), array([0, 7, 0, 2, 9, 7]), array([0, 7, 0, 6, 0, 1])]\n",
            "3 [array([5, 7, 0, 2, 0, 1]), array([0, 7, 0, 2, 0, 1]), array([2, 7, 0, 2, 9, 7]), array([0, 7, 0, 6, 0, 1]), array([0, 7, 0, 2, 9, 7]), array([0, 7, 0, 6, 0, 1])]\n",
            "[0 7 2 2 0 1] [0 7 0 2 0 1]\n",
            "cross [array([5, 7, 0, 2, 0, 1]), array([0, 7, 0, 2, 0, 1]), array([2, 7, 0, 2, 9, 7]), array([0, 7, 0, 6, 0, 1]), array([0, 7, 0, 2, 9, 7]), array([0, 7, 0, 6, 0, 1]), array([0, 7, 2, 2, 0, 1]), array([0, 7, 0, 2, 0, 1])]\n",
            "1 [array([5, 7, 0, 2, 0, 1]), array([0, 7, 0, 2, 0, 1]), array([2, 7, 0, 2, 9, 7]), array([0, 7, 0, 6, 0, 1]), array([0, 7, 0, 2, 9, 7]), array([0, 7, 0, 6, 0, 1]), array([0, 7, 2, 2, 0, 1]), array([0, 7, 0, 2, 0, 1])]\n",
            "2 [array([5, 7, 0, 2, 0, 1]), array([0, 7, 0, 2, 0, 1]), array([2, 7, 0, 2, 9, 7]), array([0, 7, 0, 6, 0, 1]), array([0, 7, 0, 2, 9, 7]), array([0, 7, 0, 6, 0, 1]), array([0, 7, 2, 2, 0, 1]), array([0, 7, 0, 2, 0, 1]), array([6, 7, 0, 2, 0, 1])]\n",
            "3 [array([5, 7, 0, 2, 0, 1]), array([0, 7, 0, 2, 0, 1]), array([2, 7, 0, 2, 9, 7]), array([0, 7, 0, 6, 0, 1]), array([0, 7, 0, 2, 9, 7]), array([0, 7, 0, 6, 0, 1]), array([0, 7, 2, 2, 0, 1]), array([0, 7, 0, 2, 0, 1]), array([6, 7, 0, 2, 0, 1])]\n",
            "1 [array([5, 7, 0, 2, 0, 1]), array([0, 7, 0, 2, 0, 1]), array([2, 7, 0, 2, 9, 7]), array([0, 7, 0, 6, 0, 1]), array([0, 7, 0, 2, 9, 7]), array([0, 7, 0, 6, 0, 1]), array([0, 7, 2, 2, 0, 1]), array([0, 7, 0, 2, 0, 1]), array([6, 7, 0, 2, 0, 1]), array([0, 7, 0, 6, 0, 1]), array([0, 7, 0, 2, 0, 1])]\n",
            "2 [array([5, 7, 0, 2, 0, 1]), array([0, 7, 0, 2, 0, 1]), array([2, 7, 0, 2, 9, 7]), array([0, 7, 0, 6, 0, 1]), array([0, 7, 0, 2, 9, 7]), array([0, 7, 0, 6, 0, 1]), array([0, 7, 2, 2, 0, 1]), array([0, 7, 0, 2, 0, 1]), array([6, 7, 0, 2, 0, 1]), array([0, 7, 0, 6, 0, 1]), array([0, 7, 0, 2, 0, 1]), array([0, 7, 0, 2, 9, 7])]\n",
            "poblacion generacion 15 [array([5, 7, 0, 2, 0, 1]), array([0, 7, 0, 2, 0, 1]), array([2, 7, 0, 2, 9, 7]), array([0, 7, 0, 6, 0, 1]), array([0, 7, 0, 2, 9, 7]), array([0, 7, 0, 6, 0, 1]), array([0, 7, 2, 2, 0, 1]), array([0, 7, 0, 2, 0, 1]), array([6, 7, 0, 2, 0, 1]), array([0, 7, 0, 6, 0, 1])]\n",
            "___________________________________________________________________\n",
            "\n",
            "1 [array([2, 7, 0, 2, 9, 7]), array([0, 7, 0, 6, 0, 1])]\n",
            "2 [array([2, 7, 0, 2, 9, 7]), array([0, 7, 0, 6, 0, 1]), array([6, 7, 0, 2, 0, 1])]\n",
            "3 [array([2, 7, 0, 2, 9, 7]), array([0, 7, 0, 6, 0, 1]), array([6, 7, 0, 2, 0, 1])]\n",
            "[5 7 0 2 0 1] [0 7 0 2 9 7]\n",
            "cross [array([2, 7, 0, 2, 9, 7]), array([0, 7, 0, 6, 0, 1]), array([6, 7, 0, 2, 0, 1]), array([5, 7, 0, 2, 9, 7]), array([0, 7, 0, 2, 0, 1])]\n",
            "1 [array([2, 7, 0, 2, 9, 7]), array([0, 7, 0, 6, 0, 1]), array([6, 7, 0, 2, 0, 1]), array([5, 7, 0, 2, 9, 7]), array([0, 7, 0, 2, 0, 1])]\n",
            "2 [array([2, 7, 0, 2, 9, 7]), array([0, 7, 0, 6, 0, 1]), array([6, 7, 0, 2, 0, 1]), array([5, 7, 0, 2, 9, 7]), array([0, 7, 0, 2, 0, 1]), array([0, 7, 0, 6, 0, 1])]\n",
            "3 [array([2, 7, 0, 2, 9, 7]), array([0, 7, 0, 6, 0, 1]), array([6, 7, 0, 2, 0, 1]), array([5, 7, 0, 2, 9, 7]), array([0, 7, 0, 2, 0, 1]), array([0, 7, 0, 6, 0, 1])]\n",
            "1 [array([2, 7, 0, 2, 9, 7]), array([0, 7, 0, 6, 0, 1]), array([6, 7, 0, 2, 0, 1]), array([5, 7, 0, 2, 9, 7]), array([0, 7, 0, 2, 0, 1]), array([0, 7, 0, 6, 0, 1]), array([0, 7, 0, 2, 9, 7]), array([0, 7, 0, 6, 0, 1])]\n",
            "2 [array([2, 7, 0, 2, 9, 7]), array([0, 7, 0, 6, 0, 1]), array([6, 7, 0, 2, 0, 1]), array([5, 7, 0, 2, 9, 7]), array([0, 7, 0, 2, 0, 1]), array([0, 7, 0, 6, 0, 1]), array([0, 7, 0, 2, 9, 7]), array([0, 7, 0, 6, 0, 1]), array([0, 7, 0, 1, 0, 1])]\n",
            "3 [array([2, 7, 0, 2, 9, 7]), array([0, 7, 0, 6, 0, 1]), array([6, 7, 0, 2, 0, 1]), array([5, 7, 0, 2, 9, 7]), array([0, 7, 0, 2, 0, 1]), array([0, 7, 0, 6, 0, 1]), array([0, 7, 0, 2, 9, 7]), array([0, 7, 0, 6, 0, 1]), array([0, 7, 0, 1, 0, 1])]\n",
            "[0 7 0 2 9 7] [0 7 0 6 0 1]\n",
            "cross [array([2, 7, 0, 2, 9, 7]), array([0, 7, 0, 6, 0, 1]), array([6, 7, 0, 2, 0, 1]), array([5, 7, 0, 2, 9, 7]), array([0, 7, 0, 2, 0, 1]), array([0, 7, 0, 6, 0, 1]), array([0, 7, 0, 2, 9, 7]), array([0, 7, 0, 6, 0, 1]), array([0, 7, 0, 1, 0, 1]), array([0, 7, 0, 6, 0, 1]), array([0, 7, 0, 2, 9, 7])]\n",
            "1 [array([2, 7, 0, 2, 9, 7]), array([0, 7, 0, 6, 0, 1]), array([6, 7, 0, 2, 0, 1]), array([5, 7, 0, 2, 9, 7]), array([0, 7, 0, 2, 0, 1]), array([0, 7, 0, 6, 0, 1]), array([0, 7, 0, 2, 9, 7]), array([0, 7, 0, 6, 0, 1]), array([0, 7, 0, 1, 0, 1]), array([0, 7, 0, 6, 0, 1]), array([0, 7, 0, 2, 9, 7])]\n",
            "2 [array([2, 7, 0, 2, 9, 7]), array([0, 7, 0, 6, 0, 1]), array([6, 7, 0, 2, 0, 1]), array([5, 7, 0, 2, 9, 7]), array([0, 7, 0, 2, 0, 1]), array([0, 7, 0, 6, 0, 1]), array([0, 7, 0, 2, 9, 7]), array([0, 7, 0, 6, 0, 1]), array([0, 7, 0, 1, 0, 1]), array([0, 7, 0, 6, 0, 1]), array([0, 7, 0, 2, 9, 7]), array([4, 7, 0, 2, 0, 1])]\n",
            "poblacion generacion 16 [array([2, 7, 0, 2, 9, 7]), array([0, 7, 0, 6, 0, 1]), array([6, 7, 0, 2, 0, 1]), array([5, 7, 0, 2, 9, 7]), array([0, 7, 0, 2, 0, 1]), array([0, 7, 0, 6, 0, 1]), array([0, 7, 0, 2, 9, 7]), array([0, 7, 0, 6, 0, 1]), array([0, 7, 0, 1, 0, 1]), array([0, 7, 0, 6, 0, 1])]\n",
            "___________________________________________________________________\n",
            "\n",
            "1 [array([0, 7, 0, 2, 0, 1]), array([0, 7, 0, 2, 9, 7])]\n",
            "2 [array([0, 7, 0, 2, 0, 1]), array([0, 7, 0, 2, 9, 7]), array([0, 7, 0, 2, 0, 1])]\n",
            "3 [array([0, 7, 0, 2, 0, 1]), array([0, 7, 0, 2, 9, 7]), array([0, 7, 0, 2, 0, 1])]\n",
            "1 [array([0, 7, 0, 2, 0, 1]), array([0, 7, 0, 2, 9, 7]), array([0, 7, 0, 2, 0, 1]), array([0, 7, 0, 6, 0, 1]), array([0, 7, 0, 2, 0, 1])]\n",
            "2 [array([0, 7, 0, 2, 0, 1]), array([0, 7, 0, 2, 9, 7]), array([0, 7, 0, 2, 0, 1]), array([0, 7, 0, 6, 0, 1]), array([0, 7, 0, 2, 0, 1]), array([0, 7, 0, 6, 0, 1])]\n",
            "3 [array([0, 7, 0, 2, 0, 1]), array([0, 7, 0, 2, 9, 7]), array([0, 7, 0, 2, 0, 1]), array([0, 7, 0, 6, 0, 1]), array([0, 7, 0, 2, 0, 1]), array([0, 7, 0, 6, 0, 1])]\n",
            "1 [array([0, 7, 0, 2, 0, 1]), array([0, 7, 0, 2, 9, 7]), array([0, 7, 0, 2, 0, 1]), array([0, 7, 0, 6, 0, 1]), array([0, 7, 0, 2, 0, 1]), array([0, 7, 0, 6, 0, 1]), array([0, 7, 0, 6, 0, 1]), array([0, 7, 0, 6, 0, 1])]\n",
            "2 [array([0, 7, 0, 2, 0, 1]), array([0, 7, 0, 2, 9, 7]), array([0, 7, 0, 2, 0, 1]), array([0, 7, 0, 6, 0, 1]), array([0, 7, 0, 2, 0, 1]), array([0, 7, 0, 6, 0, 1]), array([0, 7, 0, 6, 0, 1]), array([0, 7, 0, 6, 0, 1]), array([0, 7, 0, 2, 9, 7])]\n",
            "3 [array([0, 7, 0, 2, 0, 1]), array([0, 7, 0, 2, 9, 7]), array([0, 7, 0, 2, 0, 1]), array([0, 7, 0, 6, 0, 1]), array([0, 7, 0, 2, 0, 1]), array([0, 7, 0, 6, 0, 1]), array([0, 7, 0, 6, 0, 1]), array([0, 7, 0, 6, 0, 1]), array([0, 7, 0, 2, 9, 7])]\n",
            "[5 7 0 2 9 7] [0 7 0 6 0 1]\n",
            "cross [array([0, 7, 0, 2, 0, 1]), array([0, 7, 0, 2, 9, 7]), array([0, 7, 0, 2, 0, 1]), array([0, 7, 0, 6, 0, 1]), array([0, 7, 0, 2, 0, 1]), array([0, 7, 0, 6, 0, 1]), array([0, 7, 0, 6, 0, 1]), array([0, 7, 0, 6, 0, 1]), array([0, 7, 0, 2, 9, 7]), array([5, 7, 0, 6, 0, 1]), array([0, 7, 0, 2, 9, 7])]\n",
            "1 [array([0, 7, 0, 2, 0, 1]), array([0, 7, 0, 2, 9, 7]), array([0, 7, 0, 2, 0, 1]), array([0, 7, 0, 6, 0, 1]), array([0, 7, 0, 2, 0, 1]), array([0, 7, 0, 6, 0, 1]), array([0, 7, 0, 6, 0, 1]), array([0, 7, 0, 6, 0, 1]), array([0, 7, 0, 2, 9, 7]), array([5, 7, 0, 6, 0, 1]), array([0, 7, 0, 2, 9, 7])]\n",
            "2 [array([0, 7, 0, 2, 0, 1]), array([0, 7, 0, 2, 9, 7]), array([0, 7, 0, 2, 0, 1]), array([0, 7, 0, 6, 0, 1]), array([0, 7, 0, 2, 0, 1]), array([0, 7, 0, 6, 0, 1]), array([0, 7, 0, 6, 0, 1]), array([0, 7, 0, 6, 0, 1]), array([0, 7, 0, 2, 9, 7]), array([5, 7, 0, 6, 0, 1]), array([0, 7, 0, 2, 9, 7]), array([0, 7, 0, 2, 0, 1])]\n",
            "poblacion generacion 17 [array([0, 7, 0, 2, 0, 1]), array([0, 7, 0, 2, 9, 7]), array([0, 7, 0, 2, 0, 1]), array([0, 7, 0, 6, 0, 1]), array([0, 7, 0, 2, 0, 1]), array([0, 7, 0, 6, 0, 1]), array([0, 7, 0, 6, 0, 1]), array([0, 7, 0, 6, 0, 1]), array([0, 7, 0, 2, 9, 7]), array([5, 7, 0, 6, 0, 1])]\n",
            "___________________________________________________________________\n",
            "\n",
            "[0 7 0 6 0 1] [0 7 0 2 0 1]\n",
            "cross [array([0, 7, 0, 2, 0, 1]), array([0, 7, 0, 6, 0, 1])]\n",
            "1 [array([0, 7, 0, 2, 0, 1]), array([0, 7, 0, 6, 0, 1])]\n",
            "2 [array([0, 7, 0, 2, 0, 1]), array([0, 7, 0, 6, 0, 1]), array([0, 7, 0, 2, 9, 7])]\n",
            "3 [array([0, 7, 0, 2, 0, 1]), array([0, 7, 0, 6, 0, 1]), array([0, 7, 0, 2, 9, 7])]\n",
            "1 [array([0, 7, 0, 2, 0, 1]), array([0, 7, 0, 6, 0, 1]), array([0, 7, 0, 2, 9, 7]), array([0, 7, 0, 2, 0, 1]), array([0, 7, 0, 2, 0, 1])]\n",
            "2 [array([0, 7, 0, 2, 0, 1]), array([0, 7, 0, 6, 0, 1]), array([0, 7, 0, 2, 9, 7]), array([0, 7, 0, 2, 0, 1]), array([0, 7, 0, 2, 0, 1]), array([0, 7, 0, 2, 9, 7])]\n",
            "3 [array([0, 7, 0, 2, 0, 1]), array([0, 7, 0, 6, 0, 1]), array([0, 7, 0, 2, 9, 7]), array([0, 7, 0, 2, 0, 1]), array([0, 7, 0, 2, 0, 1]), array([0, 7, 0, 2, 9, 7])]\n",
            "1 [array([0, 7, 0, 2, 0, 1]), array([0, 7, 0, 6, 0, 1]), array([0, 7, 0, 2, 9, 7]), array([0, 7, 0, 2, 0, 1]), array([0, 7, 0, 2, 0, 1]), array([0, 7, 0, 2, 9, 7]), array([0, 7, 0, 6, 0, 1]), array([0, 7, 0, 2, 9, 7])]\n",
            "2 [array([0, 7, 0, 2, 0, 1]), array([0, 7, 0, 6, 0, 1]), array([0, 7, 0, 2, 9, 7]), array([0, 7, 0, 2, 0, 1]), array([0, 7, 0, 2, 0, 1]), array([0, 7, 0, 2, 9, 7]), array([0, 7, 0, 6, 0, 1]), array([0, 7, 0, 2, 9, 7]), array([0, 7, 0, 6, 0, 1])]\n",
            "3 [array([0, 7, 0, 2, 0, 1]), array([0, 7, 0, 6, 0, 1]), array([0, 7, 0, 2, 9, 7]), array([0, 7, 0, 2, 0, 1]), array([0, 7, 0, 2, 0, 1]), array([0, 7, 0, 2, 9, 7]), array([0, 7, 0, 6, 0, 1]), array([0, 7, 0, 2, 9, 7]), array([0, 7, 0, 6, 0, 1])]\n",
            "[0 7 0 2 9 7] [5 7 0 6 0 1]\n",
            "cross [array([0, 7, 0, 2, 0, 1]), array([0, 7, 0, 6, 0, 1]), array([0, 7, 0, 2, 9, 7]), array([0, 7, 0, 2, 0, 1]), array([0, 7, 0, 2, 0, 1]), array([0, 7, 0, 2, 9, 7]), array([0, 7, 0, 6, 0, 1]), array([0, 7, 0, 2, 9, 7]), array([0, 7, 0, 6, 0, 1]), array([0, 7, 0, 6, 0, 1]), array([5, 7, 0, 2, 9, 7])]\n",
            "1 [array([0, 7, 0, 2, 0, 1]), array([0, 7, 0, 6, 0, 1]), array([0, 7, 0, 2, 9, 7]), array([0, 7, 0, 2, 0, 1]), array([0, 7, 0, 2, 0, 1]), array([0, 7, 0, 2, 9, 7]), array([0, 7, 0, 6, 0, 1]), array([0, 7, 0, 2, 9, 7]), array([0, 7, 0, 6, 0, 1]), array([0, 7, 0, 6, 0, 1]), array([5, 7, 0, 2, 9, 7])]\n",
            "2 [array([0, 7, 0, 2, 0, 1]), array([0, 7, 0, 6, 0, 1]), array([0, 7, 0, 2, 9, 7]), array([0, 7, 0, 2, 0, 1]), array([0, 7, 0, 2, 0, 1]), array([0, 7, 0, 2, 9, 7]), array([0, 7, 0, 6, 0, 1]), array([0, 7, 0, 2, 9, 7]), array([0, 7, 0, 6, 0, 1]), array([0, 7, 0, 6, 0, 1]), array([5, 7, 0, 2, 9, 7]), array([0, 7, 9, 6, 0, 1])]\n",
            "poblacion generacion 18 [array([0, 7, 0, 2, 0, 1]), array([0, 7, 0, 6, 0, 1]), array([0, 7, 0, 2, 9, 7]), array([0, 7, 0, 2, 0, 1]), array([0, 7, 0, 2, 0, 1]), array([0, 7, 0, 2, 9, 7]), array([0, 7, 0, 6, 0, 1]), array([0, 7, 0, 2, 9, 7]), array([0, 7, 0, 6, 0, 1]), array([0, 7, 0, 6, 0, 1])]\n",
            "___________________________________________________________________\n",
            "\n",
            "1 [array([0, 7, 0, 6, 0, 1]), array([0, 7, 0, 2, 9, 7])]\n",
            "2 [array([0, 7, 0, 6, 0, 1]), array([0, 7, 0, 2, 9, 7]), array([0, 7, 3, 6, 0, 1])]\n",
            "3 [array([0, 7, 0, 6, 0, 1]), array([0, 7, 0, 2, 9, 7]), array([0, 7, 3, 6, 0, 1])]\n",
            "[0 7 0 2 9 7] [0 7 0 2 9 7]\n",
            "cross [array([0, 7, 0, 6, 0, 1]), array([0, 7, 0, 2, 9, 7]), array([0, 7, 3, 6, 0, 1]), array([0, 7, 0, 2, 9, 7]), array([0, 7, 0, 2, 9, 7])]\n",
            "1 [array([0, 7, 0, 6, 0, 1]), array([0, 7, 0, 2, 9, 7]), array([0, 7, 3, 6, 0, 1]), array([0, 7, 0, 2, 9, 7]), array([0, 7, 0, 2, 9, 7])]\n",
            "2 [array([0, 7, 0, 6, 0, 1]), array([0, 7, 0, 2, 9, 7]), array([0, 7, 3, 6, 0, 1]), array([0, 7, 0, 2, 9, 7]), array([0, 7, 0, 2, 9, 7]), array([0, 7, 0, 4, 0, 1])]\n",
            "3 [array([0, 7, 0, 6, 0, 1]), array([0, 7, 0, 2, 9, 7]), array([0, 7, 3, 6, 0, 1]), array([0, 7, 0, 2, 9, 7]), array([0, 7, 0, 2, 9, 7]), array([0, 7, 0, 4, 0, 1])]\n",
            "[0 7 0 6 0 1] [0 7 0 2 9 7]\n",
            "cross [array([0, 7, 0, 6, 0, 1]), array([0, 7, 0, 2, 9, 7]), array([0, 7, 3, 6, 0, 1]), array([0, 7, 0, 2, 9, 7]), array([0, 7, 0, 2, 9, 7]), array([0, 7, 0, 4, 0, 1]), array([0, 7, 0, 2, 9, 7]), array([0, 7, 0, 6, 0, 1])]\n",
            "1 [array([0, 7, 0, 6, 0, 1]), array([0, 7, 0, 2, 9, 7]), array([0, 7, 3, 6, 0, 1]), array([0, 7, 0, 2, 9, 7]), array([0, 7, 0, 2, 9, 7]), array([0, 7, 0, 4, 0, 1]), array([0, 7, 0, 2, 9, 7]), array([0, 7, 0, 6, 0, 1])]\n",
            "2 [array([0, 7, 0, 6, 0, 1]), array([0, 7, 0, 2, 9, 7]), array([0, 7, 3, 6, 0, 1]), array([0, 7, 0, 2, 9, 7]), array([0, 7, 0, 2, 9, 7]), array([0, 7, 0, 4, 0, 1]), array([0, 7, 0, 2, 9, 7]), array([0, 7, 0, 6, 0, 1]), array([0, 7, 0, 6, 1, 1])]\n",
            "3 [array([0, 7, 0, 6, 0, 1]), array([0, 7, 0, 2, 9, 7]), array([0, 7, 3, 6, 0, 1]), array([0, 7, 0, 2, 9, 7]), array([0, 7, 0, 2, 9, 7]), array([0, 7, 0, 4, 0, 1]), array([0, 7, 0, 2, 9, 7]), array([0, 7, 0, 6, 0, 1]), array([0, 7, 0, 6, 1, 1])]\n",
            "[0 7 0 2 0 1] [0 7 0 2 9 7]\n",
            "cross [array([0, 7, 0, 6, 0, 1]), array([0, 7, 0, 2, 9, 7]), array([0, 7, 3, 6, 0, 1]), array([0, 7, 0, 2, 9, 7]), array([0, 7, 0, 2, 9, 7]), array([0, 7, 0, 4, 0, 1]), array([0, 7, 0, 2, 9, 7]), array([0, 7, 0, 6, 0, 1]), array([0, 7, 0, 6, 1, 1]), array([0, 7, 0, 2, 0, 7]), array([0, 7, 0, 2, 9, 1])]\n",
            "1 [array([0, 7, 0, 6, 0, 1]), array([0, 7, 0, 2, 9, 7]), array([0, 7, 3, 6, 0, 1]), array([0, 7, 0, 2, 9, 7]), array([0, 7, 0, 2, 9, 7]), array([0, 7, 0, 4, 0, 1]), array([0, 7, 0, 2, 9, 7]), array([0, 7, 0, 6, 0, 1]), array([0, 7, 0, 6, 1, 1]), array([0, 7, 0, 2, 0, 7]), array([0, 7, 0, 2, 9, 1])]\n",
            "2 [array([0, 7, 0, 6, 0, 1]), array([0, 7, 0, 2, 9, 7]), array([0, 7, 3, 6, 0, 1]), array([0, 7, 0, 2, 9, 7]), array([0, 7, 0, 2, 9, 7]), array([0, 7, 0, 4, 0, 1]), array([0, 7, 0, 2, 9, 7]), array([0, 7, 0, 6, 0, 1]), array([0, 7, 0, 6, 1, 1]), array([0, 7, 0, 2, 0, 7]), array([0, 7, 0, 2, 9, 1]), array([0, 7, 0, 2, 9, 7])]\n",
            "poblacion generacion 19 [array([0, 7, 0, 6, 0, 1]), array([0, 7, 0, 2, 9, 7]), array([0, 7, 3, 6, 0, 1]), array([0, 7, 0, 2, 9, 7]), array([0, 7, 0, 2, 9, 7]), array([0, 7, 0, 4, 0, 1]), array([0, 7, 0, 2, 9, 7]), array([0, 7, 0, 6, 0, 1]), array([0, 7, 0, 6, 1, 1]), array([0, 7, 0, 2, 0, 7])]\n",
            "___________________________________________________________________\n",
            "\n",
            "1 [array([0, 7, 0, 2, 0, 7]), array([0, 7, 0, 2, 9, 7])]\n",
            "2 [array([0, 7, 0, 2, 0, 7]), array([0, 7, 0, 2, 9, 7]), array([7, 7, 0, 2, 9, 7])]\n",
            "3 [array([0, 7, 0, 2, 0, 7]), array([0, 7, 0, 2, 9, 7]), array([7, 7, 0, 2, 9, 7])]\n",
            "1 [array([0, 7, 0, 2, 0, 7]), array([0, 7, 0, 2, 9, 7]), array([7, 7, 0, 2, 9, 7]), array([0, 7, 0, 2, 9, 7]), array([0, 7, 0, 6, 0, 1])]\n",
            "2 [array([0, 7, 0, 2, 0, 7]), array([0, 7, 0, 2, 9, 7]), array([7, 7, 0, 2, 9, 7]), array([0, 7, 0, 2, 9, 7]), array([0, 7, 0, 6, 0, 1]), array([0, 7, 0, 4, 0, 1])]\n",
            "3 [array([0, 7, 0, 2, 0, 7]), array([0, 7, 0, 2, 9, 7]), array([7, 7, 0, 2, 9, 7]), array([0, 7, 0, 2, 9, 7]), array([0, 7, 0, 6, 0, 1]), array([0, 7, 0, 4, 0, 1])]\n",
            "[0 7 0 6 0 1] [0 7 0 2 0 7]\n",
            "cross [array([0, 7, 0, 2, 0, 7]), array([0, 7, 0, 2, 9, 7]), array([7, 7, 0, 2, 9, 7]), array([0, 7, 0, 2, 9, 7]), array([0, 7, 0, 6, 0, 1]), array([0, 7, 0, 4, 0, 1]), array([0, 7, 0, 6, 0, 7]), array([0, 7, 0, 2, 0, 1])]\n",
            "1 [array([0, 7, 0, 2, 0, 7]), array([0, 7, 0, 2, 9, 7]), array([7, 7, 0, 2, 9, 7]), array([0, 7, 0, 2, 9, 7]), array([0, 7, 0, 6, 0, 1]), array([0, 7, 0, 4, 0, 1]), array([0, 7, 0, 6, 0, 7]), array([0, 7, 0, 2, 0, 1])]\n",
            "2 [array([0, 7, 0, 2, 0, 7]), array([0, 7, 0, 2, 9, 7]), array([7, 7, 0, 2, 9, 7]), array([0, 7, 0, 2, 9, 7]), array([0, 7, 0, 6, 0, 1]), array([0, 7, 0, 4, 0, 1]), array([0, 7, 0, 6, 0, 7]), array([0, 7, 0, 2, 0, 1]), array([4, 7, 0, 6, 0, 1])]\n",
            "3 [array([0, 7, 0, 2, 0, 7]), array([0, 7, 0, 2, 9, 7]), array([7, 7, 0, 2, 9, 7]), array([0, 7, 0, 2, 9, 7]), array([0, 7, 0, 6, 0, 1]), array([0, 7, 0, 4, 0, 1]), array([0, 7, 0, 6, 0, 7]), array([0, 7, 0, 2, 0, 1]), array([4, 7, 0, 6, 0, 1])]\n",
            "[0 7 0 2 9 7] [0 7 0 2 9 7]\n",
            "cross [array([0, 7, 0, 2, 0, 7]), array([0, 7, 0, 2, 9, 7]), array([7, 7, 0, 2, 9, 7]), array([0, 7, 0, 2, 9, 7]), array([0, 7, 0, 6, 0, 1]), array([0, 7, 0, 4, 0, 1]), array([0, 7, 0, 6, 0, 7]), array([0, 7, 0, 2, 0, 1]), array([4, 7, 0, 6, 0, 1]), array([0, 7, 0, 2, 9, 7]), array([0, 7, 0, 2, 9, 7])]\n",
            "1 [array([0, 7, 0, 2, 0, 7]), array([0, 7, 0, 2, 9, 7]), array([7, 7, 0, 2, 9, 7]), array([0, 7, 0, 2, 9, 7]), array([0, 7, 0, 6, 0, 1]), array([0, 7, 0, 4, 0, 1]), array([0, 7, 0, 6, 0, 7]), array([0, 7, 0, 2, 0, 1]), array([4, 7, 0, 6, 0, 1]), array([0, 7, 0, 2, 9, 7]), array([0, 7, 0, 2, 9, 7])]\n",
            "2 [array([0, 7, 0, 2, 0, 7]), array([0, 7, 0, 2, 9, 7]), array([7, 7, 0, 2, 9, 7]), array([0, 7, 0, 2, 9, 7]), array([0, 7, 0, 6, 0, 1]), array([0, 7, 0, 4, 0, 1]), array([0, 7, 0, 6, 0, 7]), array([0, 7, 0, 2, 0, 1]), array([4, 7, 0, 6, 0, 1]), array([0, 7, 0, 2, 9, 7]), array([0, 7, 0, 2, 9, 7]), array([0, 7, 0, 4, 7, 1])]\n",
            "poblacion generacion 20 [array([0, 7, 0, 2, 0, 7]), array([0, 7, 0, 2, 9, 7]), array([7, 7, 0, 2, 9, 7]), array([0, 7, 0, 2, 9, 7]), array([0, 7, 0, 6, 0, 1]), array([0, 7, 0, 4, 0, 1]), array([0, 7, 0, 6, 0, 7]), array([0, 7, 0, 2, 0, 1]), array([4, 7, 0, 6, 0, 1]), array([0, 7, 0, 2, 9, 7])]\n",
            "___________________________________________________________________\n",
            "\n",
            "[0 7 0 6 0 7] [0 7 0 2 0 7]\n",
            "cross [array([0, 7, 0, 6, 0, 7]), array([0, 7, 0, 2, 0, 7])]\n",
            "1 [array([0, 7, 0, 6, 0, 7]), array([0, 7, 0, 2, 0, 7])]\n",
            "2 [array([0, 7, 0, 6, 0, 7]), array([0, 7, 0, 2, 0, 7]), array([0, 7, 0, 2, 9, 7])]\n",
            "3 [array([0, 7, 0, 6, 0, 7]), array([0, 7, 0, 2, 0, 7]), array([0, 7, 0, 2, 9, 7])]\n",
            "[0 7 0 6 0 1] [0 7 0 4 0 1]\n",
            "cross [array([0, 7, 0, 6, 0, 7]), array([0, 7, 0, 2, 0, 7]), array([0, 7, 0, 2, 9, 7]), array([0, 7, 0, 6, 0, 1]), array([0, 7, 0, 4, 0, 1])]\n",
            "1 [array([0, 7, 0, 6, 0, 7]), array([0, 7, 0, 2, 0, 7]), array([0, 7, 0, 2, 9, 7]), array([0, 7, 0, 6, 0, 1]), array([0, 7, 0, 4, 0, 1])]\n",
            "2 [array([0, 7, 0, 6, 0, 7]), array([0, 7, 0, 2, 0, 7]), array([0, 7, 0, 2, 9, 7]), array([0, 7, 0, 6, 0, 1]), array([0, 7, 0, 4, 0, 1]), array([0, 7, 0, 6, 2, 7])]\n",
            "3 [array([0, 7, 0, 6, 0, 7]), array([0, 7, 0, 2, 0, 7]), array([0, 7, 0, 2, 9, 7]), array([0, 7, 0, 6, 0, 1]), array([0, 7, 0, 4, 0, 1]), array([0, 7, 0, 6, 2, 7])]\n",
            "[0 7 0 6 0 7] [0 7 0 2 9 7]\n",
            "cross [array([0, 7, 0, 6, 0, 7]), array([0, 7, 0, 2, 0, 7]), array([0, 7, 0, 2, 9, 7]), array([0, 7, 0, 6, 0, 1]), array([0, 7, 0, 4, 0, 1]), array([0, 7, 0, 6, 2, 7]), array([0, 7, 0, 2, 9, 7]), array([0, 7, 0, 6, 0, 7])]\n",
            "1 [array([0, 7, 0, 6, 0, 7]), array([0, 7, 0, 2, 0, 7]), array([0, 7, 0, 2, 9, 7]), array([0, 7, 0, 6, 0, 1]), array([0, 7, 0, 4, 0, 1]), array([0, 7, 0, 6, 2, 7]), array([0, 7, 0, 2, 9, 7]), array([0, 7, 0, 6, 0, 7])]\n",
            "2 [array([0, 7, 0, 6, 0, 7]), array([0, 7, 0, 2, 0, 7]), array([0, 7, 0, 2, 9, 7]), array([0, 7, 0, 6, 0, 1]), array([0, 7, 0, 4, 0, 1]), array([0, 7, 0, 6, 2, 7]), array([0, 7, 0, 2, 9, 7]), array([0, 7, 0, 6, 0, 7]), array([0, 7, 0, 2, 9, 7])]\n",
            "3 [array([0, 7, 0, 6, 0, 7]), array([0, 7, 0, 2, 0, 7]), array([0, 7, 0, 2, 9, 7]), array([0, 7, 0, 6, 0, 1]), array([0, 7, 0, 4, 0, 1]), array([0, 7, 0, 6, 2, 7]), array([0, 7, 0, 2, 9, 7]), array([0, 7, 0, 6, 0, 7]), array([0, 7, 0, 2, 9, 7])]\n",
            "[0 7 0 2 0 7] [0 7 0 2 0 1]\n",
            "cross [array([0, 7, 0, 6, 0, 7]), array([0, 7, 0, 2, 0, 7]), array([0, 7, 0, 2, 9, 7]), array([0, 7, 0, 6, 0, 1]), array([0, 7, 0, 4, 0, 1]), array([0, 7, 0, 6, 2, 7]), array([0, 7, 0, 2, 9, 7]), array([0, 7, 0, 6, 0, 7]), array([0, 7, 0, 2, 9, 7]), array([0, 7, 0, 2, 0, 1]), array([0, 7, 0, 2, 0, 7])]\n",
            "1 [array([0, 7, 0, 6, 0, 7]), array([0, 7, 0, 2, 0, 7]), array([0, 7, 0, 2, 9, 7]), array([0, 7, 0, 6, 0, 1]), array([0, 7, 0, 4, 0, 1]), array([0, 7, 0, 6, 2, 7]), array([0, 7, 0, 2, 9, 7]), array([0, 7, 0, 6, 0, 7]), array([0, 7, 0, 2, 9, 7]), array([0, 7, 0, 2, 0, 1]), array([0, 7, 0, 2, 0, 7])]\n",
            "2 [array([0, 7, 0, 6, 0, 7]), array([0, 7, 0, 2, 0, 7]), array([0, 7, 0, 2, 9, 7]), array([0, 7, 0, 6, 0, 1]), array([0, 7, 0, 4, 0, 1]), array([0, 7, 0, 6, 2, 7]), array([0, 7, 0, 2, 9, 7]), array([0, 7, 0, 6, 0, 7]), array([0, 7, 0, 2, 9, 7]), array([0, 7, 0, 2, 0, 1]), array([0, 7, 0, 2, 0, 7]), array([0, 9, 0, 2, 9, 7])]\n",
            "poblacion generacion 21 [array([0, 7, 0, 6, 0, 7]), array([0, 7, 0, 2, 0, 7]), array([0, 7, 0, 2, 9, 7]), array([0, 7, 0, 6, 0, 1]), array([0, 7, 0, 4, 0, 1]), array([0, 7, 0, 6, 2, 7]), array([0, 7, 0, 2, 9, 7]), array([0, 7, 0, 6, 0, 7]), array([0, 7, 0, 2, 9, 7]), array([0, 7, 0, 2, 0, 1])]\n",
            "___________________________________________________________________\n",
            "\n",
            "[0 7 0 2 9 7] [0 7 0 2 0 7]\n",
            "cross [array([0, 7, 0, 2, 0, 7]), array([0, 7, 0, 2, 9, 7])]\n",
            "1 [array([0, 7, 0, 2, 0, 7]), array([0, 7, 0, 2, 9, 7])]\n",
            "2 [array([0, 7, 0, 2, 0, 7]), array([0, 7, 0, 2, 9, 7]), array([0, 7, 0, 6, 1, 7])]\n",
            "3 [array([0, 7, 0, 2, 0, 7]), array([0, 7, 0, 2, 9, 7]), array([0, 7, 0, 6, 1, 7])]\n",
            "1 [array([0, 7, 0, 2, 0, 7]), array([0, 7, 0, 2, 9, 7]), array([0, 7, 0, 6, 1, 7]), array([0, 7, 0, 6, 0, 7]), array([0, 7, 0, 6, 0, 7])]\n",
            "2 [array([0, 7, 0, 2, 0, 7]), array([0, 7, 0, 2, 9, 7]), array([0, 7, 0, 6, 1, 7]), array([0, 7, 0, 6, 0, 7]), array([0, 7, 0, 6, 0, 7]), array([0, 7, 7, 6, 0, 7])]\n",
            "3 [array([0, 7, 0, 2, 0, 7]), array([0, 7, 0, 2, 9, 7]), array([0, 7, 0, 6, 1, 7]), array([0, 7, 0, 6, 0, 7]), array([0, 7, 0, 6, 0, 7]), array([0, 7, 7, 6, 0, 7])]\n",
            "[0 7 0 2 9 7] [0 7 0 2 9 7]\n",
            "cross [array([0, 7, 0, 2, 0, 7]), array([0, 7, 0, 2, 9, 7]), array([0, 7, 0, 6, 1, 7]), array([0, 7, 0, 6, 0, 7]), array([0, 7, 0, 6, 0, 7]), array([0, 7, 7, 6, 0, 7]), array([0, 7, 0, 2, 9, 7]), array([0, 7, 0, 2, 9, 7])]\n",
            "1 [array([0, 7, 0, 2, 0, 7]), array([0, 7, 0, 2, 9, 7]), array([0, 7, 0, 6, 1, 7]), array([0, 7, 0, 6, 0, 7]), array([0, 7, 0, 6, 0, 7]), array([0, 7, 7, 6, 0, 7]), array([0, 7, 0, 2, 9, 7]), array([0, 7, 0, 2, 9, 7])]\n",
            "2 [array([0, 7, 0, 2, 0, 7]), array([0, 7, 0, 2, 9, 7]), array([0, 7, 0, 6, 1, 7]), array([0, 7, 0, 6, 0, 7]), array([0, 7, 0, 6, 0, 7]), array([0, 7, 7, 6, 0, 7]), array([0, 7, 0, 2, 9, 7]), array([0, 7, 0, 2, 9, 7]), array([0, 7, 6, 6, 0, 1])]\n",
            "3 [array([0, 7, 0, 2, 0, 7]), array([0, 7, 0, 2, 9, 7]), array([0, 7, 0, 6, 1, 7]), array([0, 7, 0, 6, 0, 7]), array([0, 7, 0, 6, 0, 7]), array([0, 7, 7, 6, 0, 7]), array([0, 7, 0, 2, 9, 7]), array([0, 7, 0, 2, 9, 7]), array([0, 7, 6, 6, 0, 1])]\n",
            "1 [array([0, 7, 0, 2, 0, 7]), array([0, 7, 0, 2, 9, 7]), array([0, 7, 0, 6, 1, 7]), array([0, 7, 0, 6, 0, 7]), array([0, 7, 0, 6, 0, 7]), array([0, 7, 7, 6, 0, 7]), array([0, 7, 0, 2, 9, 7]), array([0, 7, 0, 2, 9, 7]), array([0, 7, 6, 6, 0, 1]), array([0, 7, 0, 6, 0, 7]), array([0, 7, 0, 6, 0, 7])]\n",
            "2 [array([0, 7, 0, 2, 0, 7]), array([0, 7, 0, 2, 9, 7]), array([0, 7, 0, 6, 1, 7]), array([0, 7, 0, 6, 0, 7]), array([0, 7, 0, 6, 0, 7]), array([0, 7, 7, 6, 0, 7]), array([0, 7, 0, 2, 9, 7]), array([0, 7, 0, 2, 9, 7]), array([0, 7, 6, 6, 0, 1]), array([0, 7, 0, 6, 0, 7]), array([0, 7, 0, 6, 0, 7]), array([5, 7, 0, 2, 0, 1])]\n",
            "poblacion generacion 22 [array([0, 7, 0, 2, 0, 7]), array([0, 7, 0, 2, 9, 7]), array([0, 7, 0, 6, 1, 7]), array([0, 7, 0, 6, 0, 7]), array([0, 7, 0, 6, 0, 7]), array([0, 7, 7, 6, 0, 7]), array([0, 7, 0, 2, 9, 7]), array([0, 7, 0, 2, 9, 7]), array([0, 7, 6, 6, 0, 1]), array([0, 7, 0, 6, 0, 7])]\n",
            "___________________________________________________________________\n",
            "\n",
            "[0 7 0 2 9 7] [0 7 0 6 0 7]\n",
            "cross [array([0, 7, 0, 6, 0, 7]), array([0, 7, 0, 2, 9, 7])]\n",
            "1 [array([0, 7, 0, 6, 0, 7]), array([0, 7, 0, 2, 9, 7])]\n",
            "2 [array([0, 7, 0, 6, 0, 7]), array([0, 7, 0, 2, 9, 7]), array([0, 7, 0, 2, 8, 7])]\n",
            "3 [array([0, 7, 0, 6, 0, 7]), array([0, 7, 0, 2, 9, 7]), array([0, 7, 0, 2, 8, 7])]\n",
            "1 [array([0, 7, 0, 6, 0, 7]), array([0, 7, 0, 2, 9, 7]), array([0, 7, 0, 2, 8, 7]), array([0, 7, 0, 6, 0, 7]), array([0, 7, 0, 2, 0, 7])]\n",
            "2 [array([0, 7, 0, 6, 0, 7]), array([0, 7, 0, 2, 9, 7]), array([0, 7, 0, 2, 8, 7]), array([0, 7, 0, 6, 0, 7]), array([0, 7, 0, 2, 0, 7]), array([0, 7, 0, 2, 9, 7])]\n",
            "3 [array([0, 7, 0, 6, 0, 7]), array([0, 7, 0, 2, 9, 7]), array([0, 7, 0, 2, 8, 7]), array([0, 7, 0, 6, 0, 7]), array([0, 7, 0, 2, 0, 7]), array([0, 7, 0, 2, 9, 7])]\n",
            "1 [array([0, 7, 0, 6, 0, 7]), array([0, 7, 0, 2, 9, 7]), array([0, 7, 0, 2, 8, 7]), array([0, 7, 0, 6, 0, 7]), array([0, 7, 0, 2, 0, 7]), array([0, 7, 0, 2, 9, 7]), array([0, 7, 0, 6, 0, 7]), array([0, 7, 7, 6, 0, 7])]\n",
            "2 [array([0, 7, 0, 6, 0, 7]), array([0, 7, 0, 2, 9, 7]), array([0, 7, 0, 2, 8, 7]), array([0, 7, 0, 6, 0, 7]), array([0, 7, 0, 2, 0, 7]), array([0, 7, 0, 2, 9, 7]), array([0, 7, 0, 6, 0, 7]), array([0, 7, 7, 6, 0, 7]), array([0, 7, 0, 2, 9, 7])]\n",
            "3 [array([0, 7, 0, 6, 0, 7]), array([0, 7, 0, 2, 9, 7]), array([0, 7, 0, 2, 8, 7]), array([0, 7, 0, 6, 0, 7]), array([0, 7, 0, 2, 0, 7]), array([0, 7, 0, 2, 9, 7]), array([0, 7, 0, 6, 0, 7]), array([0, 7, 7, 6, 0, 7]), array([0, 7, 0, 2, 9, 7])]\n",
            "1 [array([0, 7, 0, 6, 0, 7]), array([0, 7, 0, 2, 9, 7]), array([0, 7, 0, 2, 8, 7]), array([0, 7, 0, 6, 0, 7]), array([0, 7, 0, 2, 0, 7]), array([0, 7, 0, 2, 9, 7]), array([0, 7, 0, 6, 0, 7]), array([0, 7, 7, 6, 0, 7]), array([0, 7, 0, 2, 9, 7]), array([0, 7, 7, 6, 0, 7]), array([0, 7, 0, 2, 0, 7])]\n",
            "2 [array([0, 7, 0, 6, 0, 7]), array([0, 7, 0, 2, 9, 7]), array([0, 7, 0, 2, 8, 7]), array([0, 7, 0, 6, 0, 7]), array([0, 7, 0, 2, 0, 7]), array([0, 7, 0, 2, 9, 7]), array([0, 7, 0, 6, 0, 7]), array([0, 7, 7, 6, 0, 7]), array([0, 7, 0, 2, 9, 7]), array([0, 7, 7, 6, 0, 7]), array([0, 7, 0, 2, 0, 7]), array([0, 7, 7, 6, 7, 7])]\n",
            "poblacion generacion 23 [array([0, 7, 0, 6, 0, 7]), array([0, 7, 0, 2, 9, 7]), array([0, 7, 0, 2, 8, 7]), array([0, 7, 0, 6, 0, 7]), array([0, 7, 0, 2, 0, 7]), array([0, 7, 0, 2, 9, 7]), array([0, 7, 0, 6, 0, 7]), array([0, 7, 7, 6, 0, 7]), array([0, 7, 0, 2, 9, 7]), array([0, 7, 7, 6, 0, 7])]\n",
            "___________________________________________________________________\n",
            "\n",
            "1 [array([0, 7, 7, 6, 0, 7]), array([0, 7, 7, 6, 0, 7])]\n",
            "2 [array([0, 7, 7, 6, 0, 7]), array([0, 7, 7, 6, 0, 7]), array([0, 9, 0, 2, 0, 7])]\n",
            "3 [array([0, 7, 7, 6, 0, 7]), array([0, 7, 7, 6, 0, 7]), array([0, 9, 0, 2, 0, 7])]\n",
            "1 [array([0, 7, 7, 6, 0, 7]), array([0, 7, 7, 6, 0, 7]), array([0, 9, 0, 2, 0, 7]), array([0, 7, 0, 2, 9, 7]), array([0, 7, 0, 2, 8, 7])]\n",
            "2 [array([0, 7, 7, 6, 0, 7]), array([0, 7, 7, 6, 0, 7]), array([0, 9, 0, 2, 0, 7]), array([0, 7, 0, 2, 9, 7]), array([0, 7, 0, 2, 8, 7]), array([0, 8, 7, 6, 0, 7])]\n",
            "3 [array([0, 7, 7, 6, 0, 7]), array([0, 7, 7, 6, 0, 7]), array([0, 9, 0, 2, 0, 7]), array([0, 7, 0, 2, 9, 7]), array([0, 7, 0, 2, 8, 7]), array([0, 8, 7, 6, 0, 7])]\n",
            "[0 7 0 6 0 7] [0 7 7 6 0 7]\n",
            "cross [array([0, 7, 7, 6, 0, 7]), array([0, 7, 7, 6, 0, 7]), array([0, 9, 0, 2, 0, 7]), array([0, 7, 0, 2, 9, 7]), array([0, 7, 0, 2, 8, 7]), array([0, 8, 7, 6, 0, 7]), array([0, 7, 0, 6, 0, 7]), array([0, 7, 7, 6, 0, 7])]\n",
            "1 [array([0, 7, 7, 6, 0, 7]), array([0, 7, 7, 6, 0, 7]), array([0, 9, 0, 2, 0, 7]), array([0, 7, 0, 2, 9, 7]), array([0, 7, 0, 2, 8, 7]), array([0, 8, 7, 6, 0, 7]), array([0, 7, 0, 6, 0, 7]), array([0, 7, 7, 6, 0, 7])]\n",
            "2 [array([0, 7, 7, 6, 0, 7]), array([0, 7, 7, 6, 0, 7]), array([0, 9, 0, 2, 0, 7]), array([0, 7, 0, 2, 9, 7]), array([0, 7, 0, 2, 8, 7]), array([0, 8, 7, 6, 0, 7]), array([0, 7, 0, 6, 0, 7]), array([0, 7, 7, 6, 0, 7]), array([0, 7, 0, 6, 0, 7])]\n",
            "3 [array([0, 7, 7, 6, 0, 7]), array([0, 7, 7, 6, 0, 7]), array([0, 9, 0, 2, 0, 7]), array([0, 7, 0, 2, 9, 7]), array([0, 7, 0, 2, 8, 7]), array([0, 8, 7, 6, 0, 7]), array([0, 7, 0, 6, 0, 7]), array([0, 7, 7, 6, 0, 7]), array([0, 7, 0, 6, 0, 7])]\n",
            "[0 7 0 6 0 7] [0 7 0 6 0 7]\n",
            "cross [array([0, 7, 7, 6, 0, 7]), array([0, 7, 7, 6, 0, 7]), array([0, 9, 0, 2, 0, 7]), array([0, 7, 0, 2, 9, 7]), array([0, 7, 0, 2, 8, 7]), array([0, 8, 7, 6, 0, 7]), array([0, 7, 0, 6, 0, 7]), array([0, 7, 7, 6, 0, 7]), array([0, 7, 0, 6, 0, 7]), array([0, 7, 0, 6, 0, 7]), array([0, 7, 0, 6, 0, 7])]\n",
            "1 [array([0, 7, 7, 6, 0, 7]), array([0, 7, 7, 6, 0, 7]), array([0, 9, 0, 2, 0, 7]), array([0, 7, 0, 2, 9, 7]), array([0, 7, 0, 2, 8, 7]), array([0, 8, 7, 6, 0, 7]), array([0, 7, 0, 6, 0, 7]), array([0, 7, 7, 6, 0, 7]), array([0, 7, 0, 6, 0, 7]), array([0, 7, 0, 6, 0, 7]), array([0, 7, 0, 6, 0, 7])]\n",
            "2 [array([0, 7, 7, 6, 0, 7]), array([0, 7, 7, 6, 0, 7]), array([0, 9, 0, 2, 0, 7]), array([0, 7, 0, 2, 9, 7]), array([0, 7, 0, 2, 8, 7]), array([0, 8, 7, 6, 0, 7]), array([0, 7, 0, 6, 0, 7]), array([0, 7, 7, 6, 0, 7]), array([0, 7, 0, 6, 0, 7]), array([0, 7, 0, 6, 0, 7]), array([0, 7, 0, 6, 0, 7]), array([0, 7, 0, 6, 0, 7])]\n",
            "poblacion generacion 24 [array([0, 7, 7, 6, 0, 7]), array([0, 7, 7, 6, 0, 7]), array([0, 9, 0, 2, 0, 7]), array([0, 7, 0, 2, 9, 7]), array([0, 7, 0, 2, 8, 7]), array([0, 8, 7, 6, 0, 7]), array([0, 7, 0, 6, 0, 7]), array([0, 7, 7, 6, 0, 7]), array([0, 7, 0, 6, 0, 7]), array([0, 7, 0, 6, 0, 7])]\n",
            "___________________________________________________________________\n",
            "\n",
            "[0 7 0 6 0 7] [0 7 7 6 0 7]\n",
            "cross [array([0, 7, 0, 6, 0, 7]), array([0, 7, 7, 6, 0, 7])]\n",
            "1 [array([0, 7, 0, 6, 0, 7]), array([0, 7, 7, 6, 0, 7])]\n",
            "2 [array([0, 7, 0, 6, 0, 7]), array([0, 7, 7, 6, 0, 7]), array([0, 7, 7, 6, 0, 7])]\n",
            "3 [array([0, 7, 0, 6, 0, 7]), array([0, 7, 7, 6, 0, 7]), array([0, 7, 7, 6, 0, 7])]\n",
            "[0 7 7 6 0 7] [0 7 7 6 0 7]\n",
            "cross [array([0, 7, 0, 6, 0, 7]), array([0, 7, 7, 6, 0, 7]), array([0, 7, 7, 6, 0, 7]), array([0, 7, 7, 6, 0, 7]), array([0, 7, 7, 6, 0, 7])]\n",
            "1 [array([0, 7, 0, 6, 0, 7]), array([0, 7, 7, 6, 0, 7]), array([0, 7, 7, 6, 0, 7]), array([0, 7, 7, 6, 0, 7]), array([0, 7, 7, 6, 0, 7])]\n",
            "2 [array([0, 7, 0, 6, 0, 7]), array([0, 7, 7, 6, 0, 7]), array([0, 7, 7, 6, 0, 7]), array([0, 7, 7, 6, 0, 7]), array([0, 7, 7, 6, 0, 7]), array([0, 7, 0, 2, 9, 7])]\n",
            "3 [array([0, 7, 0, 6, 0, 7]), array([0, 7, 7, 6, 0, 7]), array([0, 7, 7, 6, 0, 7]), array([0, 7, 7, 6, 0, 7]), array([0, 7, 7, 6, 0, 7]), array([0, 7, 0, 2, 9, 7])]\n",
            "1 [array([0, 7, 0, 6, 0, 7]), array([0, 7, 7, 6, 0, 7]), array([0, 7, 7, 6, 0, 7]), array([0, 7, 7, 6, 0, 7]), array([0, 7, 7, 6, 0, 7]), array([0, 7, 0, 2, 9, 7]), array([0, 9, 0, 2, 0, 7]), array([0, 7, 7, 6, 0, 7])]\n",
            "2 [array([0, 7, 0, 6, 0, 7]), array([0, 7, 7, 6, 0, 7]), array([0, 7, 7, 6, 0, 7]), array([0, 7, 7, 6, 0, 7]), array([0, 7, 7, 6, 0, 7]), array([0, 7, 0, 2, 9, 7]), array([0, 9, 0, 2, 0, 7]), array([0, 7, 7, 6, 0, 7]), array([0, 7, 0, 6, 0, 7])]\n",
            "3 [array([0, 7, 0, 6, 0, 7]), array([0, 7, 7, 6, 0, 7]), array([0, 7, 7, 6, 0, 7]), array([0, 7, 7, 6, 0, 7]), array([0, 7, 7, 6, 0, 7]), array([0, 7, 0, 2, 9, 7]), array([0, 9, 0, 2, 0, 7]), array([0, 7, 7, 6, 0, 7]), array([0, 7, 0, 6, 0, 7])]\n",
            "[0 7 7 6 0 7] [0 7 0 6 0 7]\n",
            "cross [array([0, 7, 0, 6, 0, 7]), array([0, 7, 7, 6, 0, 7]), array([0, 7, 7, 6, 0, 7]), array([0, 7, 7, 6, 0, 7]), array([0, 7, 7, 6, 0, 7]), array([0, 7, 0, 2, 9, 7]), array([0, 9, 0, 2, 0, 7]), array([0, 7, 7, 6, 0, 7]), array([0, 7, 0, 6, 0, 7]), array([0, 7, 7, 6, 0, 7]), array([0, 7, 0, 6, 0, 7])]\n",
            "1 [array([0, 7, 0, 6, 0, 7]), array([0, 7, 7, 6, 0, 7]), array([0, 7, 7, 6, 0, 7]), array([0, 7, 7, 6, 0, 7]), array([0, 7, 7, 6, 0, 7]), array([0, 7, 0, 2, 9, 7]), array([0, 9, 0, 2, 0, 7]), array([0, 7, 7, 6, 0, 7]), array([0, 7, 0, 6, 0, 7]), array([0, 7, 7, 6, 0, 7]), array([0, 7, 0, 6, 0, 7])]\n",
            "2 [array([0, 7, 0, 6, 0, 7]), array([0, 7, 7, 6, 0, 7]), array([0, 7, 7, 6, 0, 7]), array([0, 7, 7, 6, 0, 7]), array([0, 7, 7, 6, 0, 7]), array([0, 7, 0, 2, 9, 7]), array([0, 9, 0, 2, 0, 7]), array([0, 7, 7, 6, 0, 7]), array([0, 7, 0, 6, 0, 7]), array([0, 7, 7, 6, 0, 7]), array([0, 7, 0, 6, 0, 7]), array([3, 7, 0, 2, 8, 7])]\n",
            "poblacion generacion 25 [array([0, 7, 0, 6, 0, 7]), array([0, 7, 7, 6, 0, 7]), array([0, 7, 7, 6, 0, 7]), array([0, 7, 7, 6, 0, 7]), array([0, 7, 7, 6, 0, 7]), array([0, 7, 0, 2, 9, 7]), array([0, 9, 0, 2, 0, 7]), array([0, 7, 7, 6, 0, 7]), array([0, 7, 0, 6, 0, 7]), array([0, 7, 7, 6, 0, 7])]\n",
            "___________________________________________________________________\n",
            "\n",
            "[0 7 7 6 0 7] [0 9 0 2 0 7]\n",
            "cross [array([0, 7, 0, 2, 0, 7]), array([0, 9, 7, 6, 0, 7])]\n",
            "1 [array([0, 7, 0, 2, 0, 7]), array([0, 9, 7, 6, 0, 7])]\n",
            "2 [array([0, 7, 0, 2, 0, 7]), array([0, 9, 7, 6, 0, 7]), array([0, 7, 0, 2, 9, 7])]\n",
            "3 [array([0, 7, 0, 2, 0, 7]), array([0, 9, 7, 6, 0, 7]), array([0, 7, 0, 2, 9, 7])]\n",
            "[0 9 0 2 0 7] [0 7 7 6 0 7]\n",
            "cross [array([0, 7, 0, 2, 0, 7]), array([0, 9, 7, 6, 0, 7]), array([0, 7, 0, 2, 9, 7]), array([0, 9, 7, 6, 0, 7]), array([0, 7, 0, 2, 0, 7])]\n",
            "1 [array([0, 7, 0, 2, 0, 7]), array([0, 9, 7, 6, 0, 7]), array([0, 7, 0, 2, 9, 7]), array([0, 9, 7, 6, 0, 7]), array([0, 7, 0, 2, 0, 7])]\n",
            "2 [array([0, 7, 0, 2, 0, 7]), array([0, 9, 7, 6, 0, 7]), array([0, 7, 0, 2, 9, 7]), array([0, 9, 7, 6, 0, 7]), array([0, 7, 0, 2, 0, 7]), array([0, 7, 7, 6, 0, 7])]\n",
            "3 [array([0, 7, 0, 2, 0, 7]), array([0, 9, 7, 6, 0, 7]), array([0, 7, 0, 2, 9, 7]), array([0, 9, 7, 6, 0, 7]), array([0, 7, 0, 2, 0, 7]), array([0, 7, 7, 6, 0, 7])]\n",
            "[0 7 7 6 0 7] [0 7 7 6 0 7]\n",
            "cross [array([0, 7, 0, 2, 0, 7]), array([0, 9, 7, 6, 0, 7]), array([0, 7, 0, 2, 9, 7]), array([0, 9, 7, 6, 0, 7]), array([0, 7, 0, 2, 0, 7]), array([0, 7, 7, 6, 0, 7]), array([0, 7, 7, 6, 0, 7]), array([0, 7, 7, 6, 0, 7])]\n",
            "1 [array([0, 7, 0, 2, 0, 7]), array([0, 9, 7, 6, 0, 7]), array([0, 7, 0, 2, 9, 7]), array([0, 9, 7, 6, 0, 7]), array([0, 7, 0, 2, 0, 7]), array([0, 7, 7, 6, 0, 7]), array([0, 7, 7, 6, 0, 7]), array([0, 7, 7, 6, 0, 7])]\n",
            "2 [array([0, 7, 0, 2, 0, 7]), array([0, 9, 7, 6, 0, 7]), array([0, 7, 0, 2, 9, 7]), array([0, 9, 7, 6, 0, 7]), array([0, 7, 0, 2, 0, 7]), array([0, 7, 7, 6, 0, 7]), array([0, 7, 7, 6, 0, 7]), array([0, 7, 7, 6, 0, 7]), array([0, 9, 7, 6, 0, 7])]\n",
            "3 [array([0, 7, 0, 2, 0, 7]), array([0, 9, 7, 6, 0, 7]), array([0, 7, 0, 2, 9, 7]), array([0, 9, 7, 6, 0, 7]), array([0, 7, 0, 2, 0, 7]), array([0, 7, 7, 6, 0, 7]), array([0, 7, 7, 6, 0, 7]), array([0, 7, 7, 6, 0, 7]), array([0, 9, 7, 6, 0, 7])]\n",
            "[0 7 7 6 0 7] [0 7 7 6 0 7]\n",
            "cross [array([0, 7, 0, 2, 0, 7]), array([0, 9, 7, 6, 0, 7]), array([0, 7, 0, 2, 9, 7]), array([0, 9, 7, 6, 0, 7]), array([0, 7, 0, 2, 0, 7]), array([0, 7, 7, 6, 0, 7]), array([0, 7, 7, 6, 0, 7]), array([0, 7, 7, 6, 0, 7]), array([0, 9, 7, 6, 0, 7]), array([0, 7, 7, 6, 0, 7]), array([0, 7, 7, 6, 0, 7])]\n",
            "1 [array([0, 7, 0, 2, 0, 7]), array([0, 9, 7, 6, 0, 7]), array([0, 7, 0, 2, 9, 7]), array([0, 9, 7, 6, 0, 7]), array([0, 7, 0, 2, 0, 7]), array([0, 7, 7, 6, 0, 7]), array([0, 7, 7, 6, 0, 7]), array([0, 7, 7, 6, 0, 7]), array([0, 9, 7, 6, 0, 7]), array([0, 7, 7, 6, 0, 7]), array([0, 7, 7, 6, 0, 7])]\n",
            "2 [array([0, 7, 0, 2, 0, 7]), array([0, 9, 7, 6, 0, 7]), array([0, 7, 0, 2, 9, 7]), array([0, 9, 7, 6, 0, 7]), array([0, 7, 0, 2, 0, 7]), array([0, 7, 7, 6, 0, 7]), array([0, 7, 7, 6, 0, 7]), array([0, 7, 7, 6, 0, 7]), array([0, 9, 7, 6, 0, 7]), array([0, 7, 7, 6, 0, 7]), array([0, 7, 7, 6, 0, 7]), array([4, 7, 7, 6, 0, 7])]\n",
            "poblacion generacion 26 [array([0, 7, 0, 2, 0, 7]), array([0, 9, 7, 6, 0, 7]), array([0, 7, 0, 2, 9, 7]), array([0, 9, 7, 6, 0, 7]), array([0, 7, 0, 2, 0, 7]), array([0, 7, 7, 6, 0, 7]), array([0, 7, 7, 6, 0, 7]), array([0, 7, 7, 6, 0, 7]), array([0, 9, 7, 6, 0, 7]), array([0, 7, 7, 6, 0, 7])]\n",
            "___________________________________________________________________\n",
            "\n",
            "[0 7 7 6 0 7] [0 9 7 6 0 7]\n",
            "cross [array([0, 7, 7, 6, 0, 7]), array([0, 9, 7, 6, 0, 7])]\n",
            "1 [array([0, 7, 7, 6, 0, 7]), array([0, 9, 7, 6, 0, 7])]\n",
            "2 [array([0, 7, 7, 6, 0, 7]), array([0, 9, 7, 6, 0, 7]), array([0, 7, 7, 6, 0, 7])]\n",
            "3 [array([0, 7, 7, 6, 0, 7]), array([0, 9, 7, 6, 0, 7]), array([0, 7, 7, 6, 0, 7])]\n",
            "[0 7 7 6 0 7] [0 7 0 2 0 7]\n",
            "cross [array([0, 7, 7, 6, 0, 7]), array([0, 9, 7, 6, 0, 7]), array([0, 7, 7, 6, 0, 7]), array([0, 7, 0, 2, 0, 7]), array([0, 7, 7, 6, 0, 7])]\n",
            "1 [array([0, 7, 7, 6, 0, 7]), array([0, 9, 7, 6, 0, 7]), array([0, 7, 7, 6, 0, 7]), array([0, 7, 0, 2, 0, 7]), array([0, 7, 7, 6, 0, 7])]\n",
            "2 [array([0, 7, 7, 6, 0, 7]), array([0, 9, 7, 6, 0, 7]), array([0, 7, 7, 6, 0, 7]), array([0, 7, 0, 2, 0, 7]), array([0, 7, 7, 6, 0, 7]), array([0, 9, 7, 6, 0, 7])]\n",
            "3 [array([0, 7, 7, 6, 0, 7]), array([0, 9, 7, 6, 0, 7]), array([0, 7, 7, 6, 0, 7]), array([0, 7, 0, 2, 0, 7]), array([0, 7, 7, 6, 0, 7]), array([0, 9, 7, 6, 0, 7])]\n",
            "1 [array([0, 7, 7, 6, 0, 7]), array([0, 9, 7, 6, 0, 7]), array([0, 7, 7, 6, 0, 7]), array([0, 7, 0, 2, 0, 7]), array([0, 7, 7, 6, 0, 7]), array([0, 9, 7, 6, 0, 7]), array([0, 7, 0, 2, 0, 7]), array([0, 9, 7, 6, 0, 7])]\n",
            "2 [array([0, 7, 7, 6, 0, 7]), array([0, 9, 7, 6, 0, 7]), array([0, 7, 7, 6, 0, 7]), array([0, 7, 0, 2, 0, 7]), array([0, 7, 7, 6, 0, 7]), array([0, 9, 7, 6, 0, 7]), array([0, 7, 0, 2, 0, 7]), array([0, 9, 7, 6, 0, 7]), array([0, 9, 7, 6, 0, 7])]\n",
            "3 [array([0, 7, 7, 6, 0, 7]), array([0, 9, 7, 6, 0, 7]), array([0, 7, 7, 6, 0, 7]), array([0, 7, 0, 2, 0, 7]), array([0, 7, 7, 6, 0, 7]), array([0, 9, 7, 6, 0, 7]), array([0, 7, 0, 2, 0, 7]), array([0, 9, 7, 6, 0, 7]), array([0, 9, 7, 6, 0, 7])]\n",
            "1 [array([0, 7, 7, 6, 0, 7]), array([0, 9, 7, 6, 0, 7]), array([0, 7, 7, 6, 0, 7]), array([0, 7, 0, 2, 0, 7]), array([0, 7, 7, 6, 0, 7]), array([0, 9, 7, 6, 0, 7]), array([0, 7, 0, 2, 0, 7]), array([0, 9, 7, 6, 0, 7]), array([0, 9, 7, 6, 0, 7]), array([0, 7, 0, 2, 9, 7]), array([0, 7, 0, 2, 9, 7])]\n",
            "2 [array([0, 7, 7, 6, 0, 7]), array([0, 9, 7, 6, 0, 7]), array([0, 7, 7, 6, 0, 7]), array([0, 7, 0, 2, 0, 7]), array([0, 7, 7, 6, 0, 7]), array([0, 9, 7, 6, 0, 7]), array([0, 7, 0, 2, 0, 7]), array([0, 9, 7, 6, 0, 7]), array([0, 9, 7, 6, 0, 7]), array([0, 7, 0, 2, 9, 7]), array([0, 7, 0, 2, 9, 7]), array([0, 7, 7, 3, 0, 7])]\n",
            "poblacion generacion 27 [array([0, 7, 7, 6, 0, 7]), array([0, 9, 7, 6, 0, 7]), array([0, 7, 7, 6, 0, 7]), array([0, 7, 0, 2, 0, 7]), array([0, 7, 7, 6, 0, 7]), array([0, 9, 7, 6, 0, 7]), array([0, 7, 0, 2, 0, 7]), array([0, 9, 7, 6, 0, 7]), array([0, 9, 7, 6, 0, 7]), array([0, 7, 0, 2, 9, 7])]\n",
            "___________________________________________________________________\n",
            "\n",
            "[0 7 7 6 0 7] [0 7 7 6 0 7]\n",
            "cross [array([0, 7, 7, 6, 0, 7]), array([0, 7, 7, 6, 0, 7])]\n",
            "1 [array([0, 7, 7, 6, 0, 7]), array([0, 7, 7, 6, 0, 7])]\n",
            "2 [array([0, 7, 7, 6, 0, 7]), array([0, 7, 7, 6, 0, 7]), array([0, 7, 0, 5, 0, 7])]\n",
            "3 [array([0, 7, 7, 6, 0, 7]), array([0, 7, 7, 6, 0, 7]), array([0, 7, 0, 5, 0, 7])]\n",
            "[0 7 7 6 0 7] [0 7 0 2 9 7]\n",
            "cross [array([0, 7, 7, 6, 0, 7]), array([0, 7, 7, 6, 0, 7]), array([0, 7, 0, 5, 0, 7]), array([0, 7, 7, 6, 9, 7]), array([0, 7, 0, 2, 0, 7])]\n",
            "1 [array([0, 7, 7, 6, 0, 7]), array([0, 7, 7, 6, 0, 7]), array([0, 7, 0, 5, 0, 7]), array([0, 7, 7, 6, 9, 7]), array([0, 7, 0, 2, 0, 7])]\n",
            "2 [array([0, 7, 7, 6, 0, 7]), array([0, 7, 7, 6, 0, 7]), array([0, 7, 0, 5, 0, 7]), array([0, 7, 7, 6, 9, 7]), array([0, 7, 0, 2, 0, 7]), array([0, 7, 5, 2, 0, 7])]\n",
            "3 [array([0, 7, 7, 6, 0, 7]), array([0, 7, 7, 6, 0, 7]), array([0, 7, 0, 5, 0, 7]), array([0, 7, 7, 6, 9, 7]), array([0, 7, 0, 2, 0, 7]), array([0, 7, 5, 2, 0, 7])]\n",
            "[0 9 7 6 0 7] [0 9 7 6 0 7]\n",
            "cross [array([0, 7, 7, 6, 0, 7]), array([0, 7, 7, 6, 0, 7]), array([0, 7, 0, 5, 0, 7]), array([0, 7, 7, 6, 9, 7]), array([0, 7, 0, 2, 0, 7]), array([0, 7, 5, 2, 0, 7]), array([0, 9, 7, 6, 0, 7]), array([0, 9, 7, 6, 0, 7])]\n",
            "1 [array([0, 7, 7, 6, 0, 7]), array([0, 7, 7, 6, 0, 7]), array([0, 7, 0, 5, 0, 7]), array([0, 7, 7, 6, 9, 7]), array([0, 7, 0, 2, 0, 7]), array([0, 7, 5, 2, 0, 7]), array([0, 9, 7, 6, 0, 7]), array([0, 9, 7, 6, 0, 7])]\n",
            "2 [array([0, 7, 7, 6, 0, 7]), array([0, 7, 7, 6, 0, 7]), array([0, 7, 0, 5, 0, 7]), array([0, 7, 7, 6, 9, 7]), array([0, 7, 0, 2, 0, 7]), array([0, 7, 5, 2, 0, 7]), array([0, 9, 7, 6, 0, 7]), array([0, 9, 7, 6, 0, 7]), array([0, 7, 0, 2, 9, 7])]\n",
            "3 [array([0, 7, 7, 6, 0, 7]), array([0, 7, 7, 6, 0, 7]), array([0, 7, 0, 5, 0, 7]), array([0, 7, 7, 6, 9, 7]), array([0, 7, 0, 2, 0, 7]), array([0, 7, 5, 2, 0, 7]), array([0, 9, 7, 6, 0, 7]), array([0, 9, 7, 6, 0, 7]), array([0, 7, 0, 2, 9, 7])]\n",
            "1 [array([0, 7, 7, 6, 0, 7]), array([0, 7, 7, 6, 0, 7]), array([0, 7, 0, 5, 0, 7]), array([0, 7, 7, 6, 9, 7]), array([0, 7, 0, 2, 0, 7]), array([0, 7, 5, 2, 0, 7]), array([0, 9, 7, 6, 0, 7]), array([0, 9, 7, 6, 0, 7]), array([0, 7, 0, 2, 9, 7]), array([0, 7, 7, 6, 0, 7]), array([0, 7, 7, 6, 0, 7])]\n",
            "2 [array([0, 7, 7, 6, 0, 7]), array([0, 7, 7, 6, 0, 7]), array([0, 7, 0, 5, 0, 7]), array([0, 7, 7, 6, 9, 7]), array([0, 7, 0, 2, 0, 7]), array([0, 7, 5, 2, 0, 7]), array([0, 9, 7, 6, 0, 7]), array([0, 9, 7, 6, 0, 7]), array([0, 7, 0, 2, 9, 7]), array([0, 7, 7, 6, 0, 7]), array([0, 7, 7, 6, 0, 7]), array([0, 9, 7, 6, 0, 7])]\n",
            "poblacion generacion 28 [array([0, 7, 7, 6, 0, 7]), array([0, 7, 7, 6, 0, 7]), array([0, 7, 0, 5, 0, 7]), array([0, 7, 7, 6, 9, 7]), array([0, 7, 0, 2, 0, 7]), array([0, 7, 5, 2, 0, 7]), array([0, 9, 7, 6, 0, 7]), array([0, 9, 7, 6, 0, 7]), array([0, 7, 0, 2, 9, 7]), array([0, 7, 7, 6, 0, 7])]\n",
            "___________________________________________________________________\n",
            "\n",
            "[0 7 5 2 0 7] [0 7 7 6 0 7]\n",
            "cross [array([0, 7, 7, 6, 0, 7]), array([0, 7, 5, 2, 0, 7])]\n",
            "1 [array([0, 7, 7, 6, 0, 7]), array([0, 7, 5, 2, 0, 7])]\n",
            "2 [array([0, 7, 7, 6, 0, 7]), array([0, 7, 5, 2, 0, 7]), array([6, 7, 0, 2, 0, 7])]\n",
            "3 [array([0, 7, 7, 6, 0, 7]), array([0, 7, 5, 2, 0, 7]), array([6, 7, 0, 2, 0, 7])]\n",
            "1 [array([0, 7, 7, 6, 0, 7]), array([0, 7, 5, 2, 0, 7]), array([6, 7, 0, 2, 0, 7]), array([0, 7, 0, 2, 0, 7]), array([0, 7, 0, 5, 0, 7])]\n",
            "2 [array([0, 7, 7, 6, 0, 7]), array([0, 7, 5, 2, 0, 7]), array([6, 7, 0, 2, 0, 7]), array([0, 7, 0, 2, 0, 7]), array([0, 7, 0, 5, 0, 7]), array([0, 9, 7, 6, 0, 7])]\n",
            "3 [array([0, 7, 7, 6, 0, 7]), array([0, 7, 5, 2, 0, 7]), array([6, 7, 0, 2, 0, 7]), array([0, 7, 0, 2, 0, 7]), array([0, 7, 0, 5, 0, 7]), array([0, 9, 7, 6, 0, 7])]\n",
            "1 [array([0, 7, 7, 6, 0, 7]), array([0, 7, 5, 2, 0, 7]), array([6, 7, 0, 2, 0, 7]), array([0, 7, 0, 2, 0, 7]), array([0, 7, 0, 5, 0, 7]), array([0, 9, 7, 6, 0, 7]), array([0, 7, 7, 6, 9, 7]), array([0, 7, 0, 5, 0, 7])]\n",
            "2 [array([0, 7, 7, 6, 0, 7]), array([0, 7, 5, 2, 0, 7]), array([6, 7, 0, 2, 0, 7]), array([0, 7, 0, 2, 0, 7]), array([0, 7, 0, 5, 0, 7]), array([0, 9, 7, 6, 0, 7]), array([0, 7, 7, 6, 9, 7]), array([0, 7, 0, 5, 0, 7]), array([0, 7, 0, 5, 0, 7])]\n",
            "3 [array([0, 7, 7, 6, 0, 7]), array([0, 7, 5, 2, 0, 7]), array([6, 7, 0, 2, 0, 7]), array([0, 7, 0, 2, 0, 7]), array([0, 7, 0, 5, 0, 7]), array([0, 9, 7, 6, 0, 7]), array([0, 7, 7, 6, 9, 7]), array([0, 7, 0, 5, 0, 7]), array([0, 7, 0, 5, 0, 7])]\n",
            "1 [array([0, 7, 7, 6, 0, 7]), array([0, 7, 5, 2, 0, 7]), array([6, 7, 0, 2, 0, 7]), array([0, 7, 0, 2, 0, 7]), array([0, 7, 0, 5, 0, 7]), array([0, 9, 7, 6, 0, 7]), array([0, 7, 7, 6, 9, 7]), array([0, 7, 0, 5, 0, 7]), array([0, 7, 0, 5, 0, 7]), array([0, 7, 7, 6, 0, 7]), array([0, 7, 7, 6, 9, 7])]\n",
            "2 [array([0, 7, 7, 6, 0, 7]), array([0, 7, 5, 2, 0, 7]), array([6, 7, 0, 2, 0, 7]), array([0, 7, 0, 2, 0, 7]), array([0, 7, 0, 5, 0, 7]), array([0, 9, 7, 6, 0, 7]), array([0, 7, 7, 6, 9, 7]), array([0, 7, 0, 5, 0, 7]), array([0, 7, 0, 5, 0, 7]), array([0, 7, 7, 6, 0, 7]), array([0, 7, 7, 6, 9, 7]), array([9, 7, 7, 6, 0, 7])]\n",
            "poblacion generacion 29 [array([0, 7, 7, 6, 0, 7]), array([0, 7, 5, 2, 0, 7]), array([6, 7, 0, 2, 0, 7]), array([0, 7, 0, 2, 0, 7]), array([0, 7, 0, 5, 0, 7]), array([0, 9, 7, 6, 0, 7]), array([0, 7, 7, 6, 9, 7]), array([0, 7, 0, 5, 0, 7]), array([0, 7, 0, 5, 0, 7]), array([0, 7, 7, 6, 0, 7])]\n",
            "___________________________________________________________________\n",
            "\n"
          ]
        },
        {
          "output_type": "execute_result",
          "data": {
            "text/plain": [
              "array([0, 7, 0, 0, 8, 7])"
            ]
          },
          "metadata": {},
          "execution_count": 162
        }
      ]
    },
    {
      "cell_type": "code",
      "source": [
        "population=generateFirstPopulation(6,5)\n",
        "print(population)\n",
        "# print(pop[0])\n",
        "# print(fitnessFunct(pop[0]))\n",
        "print(roulette(population))\n",
        "selection(population)[1]\n"
      ],
      "metadata": {
        "colab": {
          "base_uri": "https://localhost:8080/"
        },
        "id": "fYFd-RE35rdp",
        "outputId": "e3aa0652-2bd1-40ee-b033-23c765375f0b"
      },
      "execution_count": 137,
      "outputs": [
        {
          "output_type": "stream",
          "name": "stdout",
          "text": [
            "[array([5, 6, 8, 9, 8, 6]), array([3, 9, 9, 4, 7, 0]), array([0, 5, 7, 4, 2, 4]), array([2, 4, 3, 9, 8, 7]), array([3, 5, 0, 8, 2, 2])]\n",
            "[0.18214491 0.27659574 0.57504313 0.69393329 1.        ]\n"
          ]
        },
        {
          "output_type": "execute_result",
          "data": {
            "text/plain": [
              "array([0, 5, 7, 4, 2, 4])"
            ]
          },
          "metadata": {},
          "execution_count": 137
        }
      ]
    },
    {
      "cell_type": "code",
      "source": [
        "ind1=selection(population)[1]\n",
        "ind2=selection(population)[1]\n",
        "print(ind1)\n",
        "print(ind2)\n",
        "crossover(ind1,ind2)"
      ],
      "metadata": {
        "colab": {
          "base_uri": "https://localhost:8080/"
        },
        "id": "-C3mnLEEizCU",
        "outputId": "986f99c6-9e6a-47e4-c2ab-1bd92a532036"
      },
      "execution_count": 138,
      "outputs": [
        {
          "output_type": "stream",
          "name": "stdout",
          "text": [
            "[0 5 7 4 2 4]\n",
            "[0 5 7 4 2 4]\n"
          ]
        },
        {
          "output_type": "execute_result",
          "data": {
            "text/plain": [
              "(array([0, 5, 7, 4, 2, 4]), array([0, 5, 7, 4, 2, 4]))"
            ]
          },
          "metadata": {},
          "execution_count": 138
        }
      ]
    },
    {
      "cell_type": "code",
      "source": [
        "popSR=generateFirstPopulationSR(5)\n",
        "print(popSR)\n",
        "print(popSR[0])\n",
        "print(fitnessFunct(popSR[0]))"
      ],
      "metadata": {
        "colab": {
          "base_uri": "https://localhost:8080/"
        },
        "id": "3W8ujX7_5sJv",
        "outputId": "f98c7510-bccc-40d5-cf9a-046972dc1cbe"
      },
      "execution_count": 139,
      "outputs": [
        {
          "output_type": "stream",
          "name": "stdout",
          "text": [
            "[[2, 5, 6, 8, 3, 4], [4, 8, 2, 6, 7, 3], [1, 7, 6, 5, 4, 3], [7, 1, 8, 6, 2, 4], [5, 4, 8, 1, 2, 7]]\n",
            "[2, 5, 6, 8, 3, 4]\n",
            "1208\n"
          ]
        }
      ]
    },
    {
      "cell_type": "markdown",
      "source": [
        "##Punto 3"
      ],
      "metadata": {
        "id": "VEMkvv0y2CzF"
      }
    },
    {
      "cell_type": "markdown",
      "source": [
        "###Definiciones"
      ],
      "metadata": {
        "id": "uJUuETfL2JDk"
      }
    },
    {
      "cell_type": "markdown",
      "source": [
        "Cantidad de máquinas -> M \\\n",
        "Cantidad de piezas -> N \\\n",
        "Matriz de tiempos NxM \\\n",
        "Índice de pieza -> i \\\n",
        "Índice de máquina -> j "
      ],
      "metadata": {
        "id": "dnSOJ-SW2od_"
      }
    },
    {
      "cell_type": "markdown",
      "source": [
        "###Cromosoma"
      ],
      "metadata": {
        "id": "8FUE9bNp2JIy"
      }
    },
    {
      "cell_type": "markdown",
      "source": [
        "Nuestro cromosoma será el arreglo de piezas. El índice del arreglo indica qué pieza es, el valor en \n",
        "ese índice, indica qué máquina producirá esa pieza. En el ejemplo de abajo, la pieza #1 será producida\n",
        "en la máquina #4, por lo cual tendrá un tiempo asociado de elaboración de 105.\n",
        "\n",
        "La matriz de tiempos en la fila i está asociada a la pieza i. Cada valor dentro de esta fila\n",
        "corresponde al tiempo que le toma ser producida en la máquina j (el índice de columnas es j)."
      ],
      "metadata": {
        "id": "ZUhnfw_A2un6"
      }
    },
    {
      "cell_type": "code",
      "source": [
        "import random\n",
        "\n",
        "\n",
        "piezas = [3, 4, 2, 4, 5, 0, 1, 2, 5]\n",
        "tiempos = [[30, 40, 10, 60, 100, 50],\n",
        "           [35, 45, 15, 65, 105, 55],\n",
        "           [30, 40, 10, 60, 100, 50],\n",
        "           [30, 40, 10, 60, 100, 50]]\n",
        "\n"
      ],
      "metadata": {
        "id": "AhtwhM9E2ylN"
      },
      "execution_count": 140,
      "outputs": []
    },
    {
      "cell_type": "markdown",
      "source": [
        "###Función Fitness"
      ],
      "metadata": {
        "id": "TJKuy5a229ai"
      }
    },
    {
      "cell_type": "markdown",
      "source": [
        "Dado un cromosoma, retorna el tiempo total de producción, haciendo la búsqueda en la matriz de tiempos"
      ],
      "metadata": {
        "id": "2IpiUfe03A9_"
      }
    },
    {
      "cell_type": "code",
      "source": [
        "def fitness (piezas):\n",
        "  totalTime = 0\n",
        "  for i, pieza in enumerate(piezas):\n",
        "      totalTime = tiempos[i][pieza] + totalTime\n",
        "  return totalTime"
      ],
      "metadata": {
        "id": "9DPjLtKZ2_Xu"
      },
      "execution_count": 141,
      "outputs": []
    },
    {
      "cell_type": "markdown",
      "source": [
        "###Método de cruce"
      ],
      "metadata": {
        "id": "aJh2GUsZ2gjh"
      }
    },
    {
      "cell_type": "markdown",
      "source": [
        "Usaremos el método de punto de corte, donde dados 2 cromosomas, para la\n",
        "generación del primer nuevo individuo, se toman los valores de 0 a cp del primer padre y de cp+1 a N del segundo padre. Para el segundo individuo se hace el proceso inverso. El cp es generado aleatoriamente."
      ],
      "metadata": {
        "id": "SlxM_8433G1C"
      }
    },
    {
      "cell_type": "markdown",
      "source": [
        "###Mutación"
      ],
      "metadata": {
        "id": "iOd7WTcF2kak"
      }
    },
    {
      "cell_type": "markdown",
      "source": [
        "Para mutar también generaremos un punto de corte (cp). Esta vez el punto de corte indicará el índice de la pieza a ser mutada. También se generará aleatoriamente un entero entre 0 y M-1, que indicará el índice de la máquina a la que se mutará la pieza."
      ],
      "metadata": {
        "id": "Yu3ThD0t3Nmf"
      }
    },
    {
      "cell_type": "code",
      "source": [
        "cp = random.randint(0, len(piezas)-1) \n",
        "m = random.randint(0, len(tiempos[0])-1)\n",
        "\n",
        "#se muta la pieza respectiva con el número de la máquina\n",
        "piezas[cp] = m"
      ],
      "metadata": {
        "id": "u04_4uK43QMb"
      },
      "execution_count": 142,
      "outputs": []
    }
  ]
}