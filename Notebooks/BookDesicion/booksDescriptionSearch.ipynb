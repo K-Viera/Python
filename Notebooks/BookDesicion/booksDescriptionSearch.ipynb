{
 "cells": [
  {
   "cell_type": "markdown",
   "metadata": {},
   "source": [
    "# Configuration"
   ]
  },
  {
   "cell_type": "code",
   "execution_count": 69,
   "metadata": {},
   "outputs": [
    {
     "name": "stdout",
     "output_type": "stream",
     "text": [
      "Requirement already satisfied: langchain-openai in c:\\users\\kevin\\personal\\repositories\\notebooks\\.venv\\lib\\site-packages (0.1.1)\n",
      "Requirement already satisfied: langchain-core<0.2.0,>=0.1.33 in c:\\users\\kevin\\personal\\repositories\\notebooks\\.venv\\lib\\site-packages (from langchain-openai) (0.1.33)\n",
      "Requirement already satisfied: openai<2.0.0,>=1.10.0 in c:\\users\\kevin\\personal\\repositories\\notebooks\\.venv\\lib\\site-packages (from langchain-openai) (1.14.3)\n",
      "Requirement already satisfied: tiktoken<1,>=0.5.2 in c:\\users\\kevin\\personal\\repositories\\notebooks\\.venv\\lib\\site-packages (from langchain-openai) (0.6.0)\n",
      "Requirement already satisfied: PyYAML>=5.3 in c:\\users\\kevin\\personal\\repositories\\notebooks\\.venv\\lib\\site-packages (from langchain-core<0.2.0,>=0.1.33->langchain-openai) (6.0.1)\n",
      "Requirement already satisfied: anyio<5,>=3 in c:\\users\\kevin\\personal\\repositories\\notebooks\\.venv\\lib\\site-packages (from langchain-core<0.2.0,>=0.1.33->langchain-openai) (4.3.0)\n",
      "Requirement already satisfied: jsonpatch<2.0,>=1.33 in c:\\users\\kevin\\personal\\repositories\\notebooks\\.venv\\lib\\site-packages (from langchain-core<0.2.0,>=0.1.33->langchain-openai) (1.33)\n",
      "Requirement already satisfied: langsmith<0.2.0,>=0.1.0 in c:\\users\\kevin\\personal\\repositories\\notebooks\\.venv\\lib\\site-packages (from langchain-core<0.2.0,>=0.1.33->langchain-openai) (0.1.31)\n",
      "Requirement already satisfied: packaging<24.0,>=23.2 in c:\\users\\kevin\\personal\\repositories\\notebooks\\.venv\\lib\\site-packages (from langchain-core<0.2.0,>=0.1.33->langchain-openai) (23.2)\n",
      "Requirement already satisfied: pydantic<3,>=1 in c:\\users\\kevin\\personal\\repositories\\notebooks\\.venv\\lib\\site-packages (from langchain-core<0.2.0,>=0.1.33->langchain-openai) (2.6.4)\n",
      "Requirement already satisfied: requests<3,>=2 in c:\\users\\kevin\\personal\\repositories\\notebooks\\.venv\\lib\\site-packages (from langchain-core<0.2.0,>=0.1.33->langchain-openai) (2.31.0)\n",
      "Requirement already satisfied: tenacity<9.0.0,>=8.1.0 in c:\\users\\kevin\\personal\\repositories\\notebooks\\.venv\\lib\\site-packages (from langchain-core<0.2.0,>=0.1.33->langchain-openai) (8.2.3)\n",
      "Requirement already satisfied: distro<2,>=1.7.0 in c:\\users\\kevin\\personal\\repositories\\notebooks\\.venv\\lib\\site-packages (from openai<2.0.0,>=1.10.0->langchain-openai) (1.9.0)\n",
      "Requirement already satisfied: httpx<1,>=0.23.0 in c:\\users\\kevin\\personal\\repositories\\notebooks\\.venv\\lib\\site-packages (from openai<2.0.0,>=1.10.0->langchain-openai) (0.27.0)\n",
      "Requirement already satisfied: sniffio in c:\\users\\kevin\\personal\\repositories\\notebooks\\.venv\\lib\\site-packages (from openai<2.0.0,>=1.10.0->langchain-openai) (1.3.1)\n",
      "Requirement already satisfied: tqdm>4 in c:\\users\\kevin\\personal\\repositories\\notebooks\\.venv\\lib\\site-packages (from openai<2.0.0,>=1.10.0->langchain-openai) (4.66.2)\n",
      "Requirement already satisfied: typing-extensions<5,>=4.7 in c:\\users\\kevin\\personal\\repositories\\notebooks\\.venv\\lib\\site-packages (from openai<2.0.0,>=1.10.0->langchain-openai) (4.10.0)\n",
      "Requirement already satisfied: regex>=2022.1.18 in c:\\users\\kevin\\personal\\repositories\\notebooks\\.venv\\lib\\site-packages (from tiktoken<1,>=0.5.2->langchain-openai) (2023.12.25)\n",
      "Requirement already satisfied: idna>=2.8 in c:\\users\\kevin\\personal\\repositories\\notebooks\\.venv\\lib\\site-packages (from anyio<5,>=3->langchain-core<0.2.0,>=0.1.33->langchain-openai) (3.6)\n",
      "Requirement already satisfied: certifi in c:\\users\\kevin\\personal\\repositories\\notebooks\\.venv\\lib\\site-packages (from httpx<1,>=0.23.0->openai<2.0.0,>=1.10.0->langchain-openai) (2024.2.2)\n",
      "Requirement already satisfied: httpcore==1.* in c:\\users\\kevin\\personal\\repositories\\notebooks\\.venv\\lib\\site-packages (from httpx<1,>=0.23.0->openai<2.0.0,>=1.10.0->langchain-openai) (1.0.4)\n",
      "Requirement already satisfied: h11<0.15,>=0.13 in c:\\users\\kevin\\personal\\repositories\\notebooks\\.venv\\lib\\site-packages (from httpcore==1.*->httpx<1,>=0.23.0->openai<2.0.0,>=1.10.0->langchain-openai) (0.14.0)\n",
      "Requirement already satisfied: jsonpointer>=1.9 in c:\\users\\kevin\\personal\\repositories\\notebooks\\.venv\\lib\\site-packages (from jsonpatch<2.0,>=1.33->langchain-core<0.2.0,>=0.1.33->langchain-openai) (2.4)\n",
      "Requirement already satisfied: orjson<4.0.0,>=3.9.14 in c:\\users\\kevin\\personal\\repositories\\notebooks\\.venv\\lib\\site-packages (from langsmith<0.2.0,>=0.1.0->langchain-core<0.2.0,>=0.1.33->langchain-openai) (3.9.15)\n",
      "Requirement already satisfied: annotated-types>=0.4.0 in c:\\users\\kevin\\personal\\repositories\\notebooks\\.venv\\lib\\site-packages (from pydantic<3,>=1->langchain-core<0.2.0,>=0.1.33->langchain-openai) (0.6.0)\n",
      "Requirement already satisfied: pydantic-core==2.16.3 in c:\\users\\kevin\\personal\\repositories\\notebooks\\.venv\\lib\\site-packages (from pydantic<3,>=1->langchain-core<0.2.0,>=0.1.33->langchain-openai) (2.16.3)\n",
      "Requirement already satisfied: charset-normalizer<4,>=2 in c:\\users\\kevin\\personal\\repositories\\notebooks\\.venv\\lib\\site-packages (from requests<3,>=2->langchain-core<0.2.0,>=0.1.33->langchain-openai) (3.3.2)\n",
      "Requirement already satisfied: urllib3<3,>=1.21.1 in c:\\users\\kevin\\personal\\repositories\\notebooks\\.venv\\lib\\site-packages (from requests<3,>=2->langchain-core<0.2.0,>=0.1.33->langchain-openai) (2.2.1)\n",
      "Requirement already satisfied: colorama in c:\\users\\kevin\\personal\\repositories\\notebooks\\.venv\\lib\\site-packages (from tqdm>4->openai<2.0.0,>=1.10.0->langchain-openai) (0.4.6)\n"
     ]
    }
   ],
   "source": [
    "# %%capture\n",
    "# !pip install cohere tiktoken openai\n",
    "# !pip install langchain\n",
    "# !pip install python-dotenv\n",
    "# !pip install pandas\n",
    "# !pip install langchain\n",
    "# !pip install chromadb\n",
    "# !pip install langchain-openai"
   ]
  },
  {
   "cell_type": "code",
   "execution_count": 6,
   "metadata": {},
   "outputs": [],
   "source": [
    "import openai\n",
    "import os\n",
    "\n",
    "from dotenv import load_dotenv, find_dotenv"
   ]
  },
  {
   "cell_type": "code",
   "execution_count": 7,
   "metadata": {},
   "outputs": [],
   "source": [
    "_ = load_dotenv(find_dotenv())\n",
    "openai.api_key = os.environ.get(\"OPENAI_API_KEY\")"
   ]
  },
  {
   "cell_type": "markdown",
   "metadata": {},
   "source": [
    "# Data import"
   ]
  },
  {
   "cell_type": "code",
   "execution_count": 10,
   "metadata": {},
   "outputs": [],
   "source": [
    "import pandas as pd"
   ]
  },
  {
   "cell_type": "code",
   "execution_count": 12,
   "metadata": {},
   "outputs": [],
   "source": [
    "file_name=\"data/books.csv\""
   ]
  },
  {
   "cell_type": "code",
   "execution_count": 13,
   "metadata": {},
   "outputs": [
    {
     "data": {
      "text/plain": [
       "(100, 25)"
      ]
     },
     "execution_count": 13,
     "metadata": {},
     "output_type": "execute_result"
    }
   ],
   "source": [
    "df = pd.read_csv(file_name)\n",
    "df = df[:100]\n",
    "df.shape"
   ]
  },
  {
   "cell_type": "code",
   "execution_count": 14,
   "metadata": {},
   "outputs": [
    {
     "data": {
      "text/plain": [
       "Index(['bookId', 'title', 'series', 'author', 'rating', 'description',\n",
       "       'language', 'isbn', 'genres', 'characters', 'bookFormat', 'edition',\n",
       "       'pages', 'publisher', 'publishDate', 'firstPublishDate', 'awards',\n",
       "       'numRatings', 'ratingsByStars', 'likedPercent', 'setting', 'coverImg',\n",
       "       'bbeScore', 'bbeVotes', 'price'],\n",
       "      dtype='object')"
      ]
     },
     "execution_count": 14,
     "metadata": {},
     "output_type": "execute_result"
    }
   ],
   "source": [
    "df.columns"
   ]
  },
  {
   "cell_type": "code",
   "execution_count": 15,
   "metadata": {},
   "outputs": [],
   "source": [
    "#get only title and description\n",
    "df = df[[\"title\", \"description\", \"author\",\"genres\",\"characters\",\"publishDate\"]]"
   ]
  },
  {
   "cell_type": "code",
   "execution_count": 16,
   "metadata": {},
   "outputs": [],
   "source": [
    "# df.to_csv(\"tabular.csv\", index=False)"
   ]
  },
  {
   "cell_type": "markdown",
   "metadata": {},
   "source": [
    "# Lang-chain"
   ]
  },
  {
   "cell_type": "code",
   "execution_count": 18,
   "metadata": {},
   "outputs": [],
   "source": [
    "from langchain_community.document_loaders import DataFrameLoader\n",
    " \n",
    "# Load data from a Pandas DataFrame using PandasDataFrameLoader\n",
    "loader = DataFrameLoader(df, page_content_column=\"description\")\n"
   ]
  },
  {
   "cell_type": "code",
   "execution_count": 19,
   "metadata": {},
   "outputs": [
    {
     "name": "stdout",
     "output_type": "stream",
     "text": [
      "WINNING MEANS FAME AND FORTUNE.LOSING MEANS CERTAIN DEATH.THE HUNGER GAMES HAVE BEGUN. . . .In the ruins of a place once known as North America lies the nation of Panem, a shining Capitol surrounded by twelve outlying districts. The Capitol is harsh and cruel and keeps the districts in line by forcing them all to send one boy and once girl between the ages of twelve and eighteen to participate in the annual Hunger Games, a fight to the death on live TV.Sixteen-year-old Katniss Everdeen regards it as a death sentence when she steps forward to take her sister's place in the Games. But Katniss has been close to dead before—and survival, for her, is second nature. Without really meaning to, she becomes a contender. But if she is to win, she will have to start making choices that weight survival against humanity and life against love.\n"
     ]
    }
   ],
   "source": [
    "docs = loader.load()\n",
    "print(docs[0].page_content)"
   ]
  },
  {
   "cell_type": "code",
   "execution_count": 20,
   "metadata": {},
   "outputs": [],
   "source": [
    "from langchain.text_splitter import CharacterTextSplitter,RecursiveCharacterTextSplitter"
   ]
  },
  {
   "cell_type": "code",
   "execution_count": 21,
   "metadata": {},
   "outputs": [],
   "source": [
    "chunk_size = 128\n",
    "chunk_overlap = 64"
   ]
  },
  {
   "cell_type": "code",
   "execution_count": 22,
   "metadata": {},
   "outputs": [],
   "source": [
    "c_text_splitter = CharacterTextSplitter(chunk_size=chunk_size, chunk_overlap=chunk_overlap)\n",
    "r_text_splitter = RecursiveCharacterTextSplitter(chunk_size=chunk_size, chunk_overlap=chunk_overlap)"
   ]
  },
  {
   "cell_type": "code",
   "execution_count": 23,
   "metadata": {},
   "outputs": [],
   "source": [
    "pagesC= c_text_splitter.split_documents(docs)\n",
    "pagesR= r_text_splitter.split_documents(docs)"
   ]
  },
  {
   "cell_type": "code",
   "execution_count": 24,
   "metadata": {},
   "outputs": [
    {
     "name": "stdout",
     "output_type": "stream",
     "text": [
      "page_content=\"WINNING MEANS FAME AND FORTUNE.LOSING MEANS CERTAIN DEATH.THE HUNGER GAMES HAVE BEGUN. . . .In the ruins of a place once known as North America lies the nation of Panem, a shining Capitol surrounded by twelve outlying districts. The Capitol is harsh and cruel and keeps the districts in line by forcing them all to send one boy and once girl between the ages of twelve and eighteen to participate in the annual Hunger Games, a fight to the death on live TV.Sixteen-year-old Katniss Everdeen regards it as a death sentence when she steps forward to take her sister's place in the Games. But Katniss has been close to dead before—and survival, for her, is second nature. Without really meaning to, she becomes a contender. But if she is to win, she will have to start making choices that weight survival against humanity and life against love.\" metadata={'title': 'The Hunger Games', 'author': 'Suzanne Collins', 'genres': \"['Young Adult', 'Fiction', 'Dystopia', 'Fantasy', 'Science Fiction', 'Romance', 'Adventure', 'Teen', 'Post Apocalyptic', 'Action']\", 'characters': \"['Katniss Everdeen', 'Peeta Mellark', 'Cato (Hunger Games)', 'Primrose Everdeen', 'Gale Hawthorne', 'Effie Trinket', 'Haymitch Abernathy', 'Cinna', 'President Coriolanus Snow', 'Rue', 'Flavius', 'Lavinia (Hunger Games)', 'Marvel', 'Glimmer', 'Clove', 'Foxface', 'Thresh', 'Greasy Sae', 'Madge Undersee', 'Caesar Flickerman', 'Claudius Templesmith', 'Octavia (Hunger Games)', 'Portia (hunger Games)']\", 'publishDate': '09/14/08'}\n",
      "page_content=\"WINNING MEANS FAME AND FORTUNE.LOSING MEANS CERTAIN DEATH.THE HUNGER GAMES HAVE BEGUN. . . .In the ruins of a place once known as North America lies the nation of Panem, a shining Capitol surrounded by twelve outlying districts. The Capitol is harsh and cruel and keeps the districts in line by forcing them all to send one boy and once girl between the ages of twelve and eighteen to participate in the annual Hunger Games, a fight to the death on live TV.Sixteen-year-old Katniss Everdeen regards it as a death sentence when she steps forward to take her sister's place in the Games. But Katniss has been close to dead before—and survival, for her, is second nature. Without really meaning to, she becomes a contender. But if she is to win, she will have to start making choices that weight survival against humanity and life against love.\" metadata={'title': 'The Hunger Games', 'author': 'Suzanne Collins', 'genres': \"['Young Adult', 'Fiction', 'Dystopia', 'Fantasy', 'Science Fiction', 'Romance', 'Adventure', 'Teen', 'Post Apocalyptic', 'Action']\", 'characters': \"['Katniss Everdeen', 'Peeta Mellark', 'Cato (Hunger Games)', 'Primrose Everdeen', 'Gale Hawthorne', 'Effie Trinket', 'Haymitch Abernathy', 'Cinna', 'President Coriolanus Snow', 'Rue', 'Flavius', 'Lavinia (Hunger Games)', 'Marvel', 'Glimmer', 'Clove', 'Foxface', 'Thresh', 'Greasy Sae', 'Madge Undersee', 'Caesar Flickerman', 'Claudius Templesmith', 'Octavia (Hunger Games)', 'Portia (hunger Games)']\", 'publishDate': '09/14/08'}\n",
      "page_content='There is a door at the end of a silent corridor. And it’s haunting Harry Pottter’s dreams. Why else would he be waking in the middle of the night, screaming in terror?Harry has a lot on his mind for this, his fifth year at Hogwarts: a Defense Against the Dark Arts teacher with a personality like poisoned honey; a big surprise on the Gryffindor Quidditch team; and the looming terror of the Ordinary Wizarding Level exams. But all these things pale next to the growing threat of He-Who-Must-Not-Be-Named - a threat that neither the magical government nor the authorities at Hogwarts can stop.As the grasp of darkness tightens, Harry must discover the true depth and strength of his friends, the importance of boundless loyalty, and the shocking price of unbearable sacrifice.His fate depends on them all.' metadata={'title': 'Harry Potter and the Order of the Phoenix', 'author': 'J.K. Rowling, Mary GrandPré (Illustrator)', 'genres': \"['Fantasy', 'Young Adult', 'Fiction', 'Magic', 'Childrens', 'Adventure', 'Audiobook', 'Middle Grade', 'Classics', 'Science Fiction Fantasy']\", 'characters': \"['Sirius Black', 'Draco Malfoy', 'Ron Weasley', 'Petunia Dursley', 'Vernon Dursley', 'Dudley Dursley', 'Severus Snape', 'Rubeus Hagrid', 'Lord Voldemort', 'Minerva McGonagall', 'Neville Longbottom', 'Fred Weasley', 'George Weasley', 'Percy Weasley', 'Ginny Weasley', 'Colin Creevey', 'Filius Flitwick', 'Gilderoy Lockhart', 'Lucius Malfoy', 'Pomona Sprout', 'Arthur Weasley', 'Molly Weasley', 'Cho Chang', 'Cornelius Fudge', 'Remus Lupin', 'Sybil Trelawney', 'Stan Shunpike', 'Bellatrix Lestrange', 'Alastor Moody', 'Rita Skeeter', 'Luna Lovegood', 'Nymphadora Tonks', 'Dolores Umbridge', 'Dobby', 'Kingsley Shacklebolt', 'Padma Patil', 'Parvati Patil', 'Kreacher', 'Dean Thomas', 'Seamus Finnigan', 'Albus Dumbledore', 'Harry Potter', 'Hermione Granger', 'Lavender Brown']\", 'publishDate': '09/28/04'}\n",
      "\n",
      "page_content='WINNING MEANS FAME AND FORTUNE.LOSING MEANS CERTAIN DEATH.THE HUNGER GAMES HAVE BEGUN. . . .In the ruins of a place once known' metadata={'title': 'The Hunger Games', 'author': 'Suzanne Collins', 'genres': \"['Young Adult', 'Fiction', 'Dystopia', 'Fantasy', 'Science Fiction', 'Romance', 'Adventure', 'Teen', 'Post Apocalyptic', 'Action']\", 'characters': \"['Katniss Everdeen', 'Peeta Mellark', 'Cato (Hunger Games)', 'Primrose Everdeen', 'Gale Hawthorne', 'Effie Trinket', 'Haymitch Abernathy', 'Cinna', 'President Coriolanus Snow', 'Rue', 'Flavius', 'Lavinia (Hunger Games)', 'Marvel', 'Glimmer', 'Clove', 'Foxface', 'Thresh', 'Greasy Sae', 'Madge Undersee', 'Caesar Flickerman', 'Claudius Templesmith', 'Octavia (Hunger Games)', 'Portia (hunger Games)']\", 'publishDate': '09/14/08'}\n",
      "page_content='GAMES HAVE BEGUN. . . .In the ruins of a place once known as North America lies the nation of Panem, a shining Capitol' metadata={'title': 'The Hunger Games', 'author': 'Suzanne Collins', 'genres': \"['Young Adult', 'Fiction', 'Dystopia', 'Fantasy', 'Science Fiction', 'Romance', 'Adventure', 'Teen', 'Post Apocalyptic', 'Action']\", 'characters': \"['Katniss Everdeen', 'Peeta Mellark', 'Cato (Hunger Games)', 'Primrose Everdeen', 'Gale Hawthorne', 'Effie Trinket', 'Haymitch Abernathy', 'Cinna', 'President Coriolanus Snow', 'Rue', 'Flavius', 'Lavinia (Hunger Games)', 'Marvel', 'Glimmer', 'Clove', 'Foxface', 'Thresh', 'Greasy Sae', 'Madge Undersee', 'Caesar Flickerman', 'Claudius Templesmith', 'Octavia (Hunger Games)', 'Portia (hunger Games)']\", 'publishDate': '09/14/08'}\n"
     ]
    }
   ],
   "source": [
    "print(docs[0])\n",
    "\n",
    "print(pagesC[0])\n",
    "print(pagesC[1])\n",
    "print()\n",
    "print(pagesR[0])\n",
    "print(pagesR[1])\n"
   ]
  },
  {
   "cell_type": "code",
   "execution_count": 25,
   "metadata": {},
   "outputs": [
    {
     "name": "stdout",
     "output_type": "stream",
     "text": [
      "100\n",
      "103\n",
      "1234\n"
     ]
    }
   ],
   "source": [
    "print(len(docs))\n",
    "print(len(pagesC))\n",
    "print(len(pagesR))"
   ]
  },
  {
   "cell_type": "code",
   "execution_count": 26,
   "metadata": {},
   "outputs": [],
   "source": [
    "pages=pagesR"
   ]
  },
  {
   "cell_type": "markdown",
   "metadata": {},
   "source": [
    "# ChromaDB and OpenAIAPI\n",
    "to manage the embeddings"
   ]
  },
  {
   "cell_type": "code",
   "execution_count": 43,
   "metadata": {},
   "outputs": [],
   "source": [
    "from langchain.vectorstores import Chroma\n",
    "from langchain.embeddings import OpenAIEmbeddings"
   ]
  },
  {
   "cell_type": "code",
   "execution_count": 54,
   "metadata": {},
   "outputs": [],
   "source": [
    "embeddings = OpenAIEmbeddings()\n",
    "#name of the directory to save the embeddings\n",
    "persist_directory = 'persis_chroma2'\n",
    "vectordb = Chroma.from_documents(documents=pages, embedding=embeddings, persist_directory=persist_directory)"
   ]
  },
  {
   "cell_type": "code",
   "execution_count": 55,
   "metadata": {},
   "outputs": [
    {
     "data": {
      "text/plain": [
       "1234"
      ]
     },
     "execution_count": 55,
     "metadata": {},
     "output_type": "execute_result"
    }
   ],
   "source": [
    "vectordb._collection.count()"
   ]
  },
  {
   "cell_type": "code",
   "execution_count": 56,
   "metadata": {},
   "outputs": [],
   "source": [
    "vectordb.persist()"
   ]
  },
  {
   "cell_type": "markdown",
   "metadata": {},
   "source": [
    "# Similarity search and MMR search\n",
    "Similarity search to find the most silir response for axample all apples\n",
    ", and MMR search to find diverse apples\n",
    "\n",
    "<img src=\"img.jpg\" width=\"300\">"
   ]
  },
  {
   "cell_type": "code",
   "execution_count": 62,
   "metadata": {},
   "outputs": [],
   "source": [
    "question = \"which book talks about a wizard?\""
   ]
  },
  {
   "cell_type": "code",
   "execution_count": 63,
   "metadata": {},
   "outputs": [
    {
     "data": {
      "text/plain": [
       "[Document(page_content=\"receives a letter that tells him the truth about himself: he's a wizard. A mysterious visitor rescues him from his relatives\", metadata={'author': 'J.K. Rowling, Mary GrandPré (Illustrator)', 'characters': \"['Draco Malfoy', 'Ron Weasley', 'Petunia Dursley', 'Vernon Dursley', 'Dudley Dursley', 'Severus Snape', 'Quirinus Quirrell', 'Rubeus Hagrid', 'Lord Voldemort', 'Minerva McGonagall', 'Neville Longbottom', 'Fred Weasley', 'George Weasley', 'Percy Weasley', 'Filius Flitwick', 'Pomona Sprout', 'Molly Weasley', 'Poppy Pomfrey', 'Oliver Wood', 'Parvati Patil', 'Dean Thomas', 'James Potter', 'Lily Potter', 'Seamus Finnigan', 'Garrick Ollivander', 'Rolanda Hooch', 'Katie Bell', 'Albus Dumbledore', 'Dedalus Diggle', 'Harry Potter', 'Hermione Granger', 'Lavender Brown']\", 'genres': \"['Fantasy', 'Fiction', 'Young Adult', 'Magic', 'Childrens', 'Middle Grade', 'Adventure', 'Classics', 'Audiobook', 'Science Fiction Fantasy']\", 'publishDate': '11/01/03', 'title': \"Harry Potter and the Sorcerer's Stone\"}),\n",
       " Document(page_content='surprises, and high-stakes magical adventures await the boy wizard in this funny and poignant third installment of the beloved', metadata={'author': 'J.K. Rowling, Mary GrandPré (Illustrator)', 'characters': \"['Sirius Black', 'Draco Malfoy', 'Ron Weasley', 'Petunia Dursley', 'Vernon Dursley', 'Dudley Dursley', 'Severus Snape', 'Rubeus Hagrid', 'Minerva McGonagall', 'Neville Longbottom', 'Fred Weasley', 'George Weasley', 'Percy Weasley', 'Ginny Weasley', 'Colin Creevey', 'Filius Flitwick', 'Pomona Sprout', 'Arthur Weasley', 'Molly Weasley', 'Cho Chang', 'Marjorie Dursley', 'Cornelius Fudge', 'Remus Lupin', 'Sybil Trelawney', 'Peter Pettigrew', 'Poppy Pomfrey', 'Stan Shunpike', 'Oliver Wood', 'Cedric Diggory', 'Dean Thomas', 'Seamus Finnigan', 'Rolanda Hooch', 'Katie Bell', 'Ernie Prang', 'Albus Dumbledore', 'Harry Potter', 'Hermione Granger']\", 'genres': \"['Fantasy', 'Young Adult', 'Fiction', 'Magic', 'Childrens', 'Adventure', 'Middle Grade', 'Audiobook', 'Classics', 'Science Fiction Fantasy']\", 'publishDate': '05/01/04', 'title': 'Harry Potter and the Prisoner of Azkaban'}),\n",
       " Document(page_content='seven books is a masterpiece, drawing the reader into a land where magic meets reality, and the result is a fictional world', metadata={'author': 'C.S. Lewis, Pauline Baynes (Illustrator)', 'characters': \"['Polly', 'Aslan', 'Lucy Pevensie', 'Edmund Pevensie', 'Eustace Scrubb', 'Prince Caspian', 'Jill Pole', 'Prince Rilian', 'Puddleglum', 'Trumpkin', 'Jewel', 'Aravis', 'Mr. Tumnus', 'Puzzle', 'King Tirian', 'Digory Kirke', 'Peter Pevensie', 'Susan Pevensie', 'Reepicheep', 'Jadis', 'Bacchus (god)', 'Mr. & Mrs. Beaver', 'Andrew Kirke', 'Shasta', 'Silenus', 'Nikabrik', 'King Miraz', 'Dr. Cornelius', 'Trufflehunter', 'Shift']\", 'genres': \"['Fantasy', 'Classics', 'Fiction', 'Young Adult', 'Childrens', 'Christian', 'Adventure', 'Science Fiction Fantasy', 'Middle Grade', 'Christian Fiction']\", 'publishDate': '09/16/02', 'title': 'The Chronicles of Narnia'})]"
      ]
     },
     "execution_count": 63,
     "metadata": {},
     "output_type": "execute_result"
    }
   ],
   "source": [
    "response = vectordb.similarity_search(question, k=3)\n",
    "response"
   ]
  },
  {
   "cell_type": "code",
   "execution_count": 64,
   "metadata": {},
   "outputs": [
    {
     "data": {
      "text/plain": [
       "[Document(page_content=\"receives a letter that tells him the truth about himself: he's a wizard. A mysterious visitor rescues him from his relatives\", metadata={'author': 'J.K. Rowling, Mary GrandPré (Illustrator)', 'characters': \"['Draco Malfoy', 'Ron Weasley', 'Petunia Dursley', 'Vernon Dursley', 'Dudley Dursley', 'Severus Snape', 'Quirinus Quirrell', 'Rubeus Hagrid', 'Lord Voldemort', 'Minerva McGonagall', 'Neville Longbottom', 'Fred Weasley', 'George Weasley', 'Percy Weasley', 'Filius Flitwick', 'Pomona Sprout', 'Molly Weasley', 'Poppy Pomfrey', 'Oliver Wood', 'Parvati Patil', 'Dean Thomas', 'James Potter', 'Lily Potter', 'Seamus Finnigan', 'Garrick Ollivander', 'Rolanda Hooch', 'Katie Bell', 'Albus Dumbledore', 'Dedalus Diggle', 'Harry Potter', 'Hermione Granger', 'Lavender Brown']\", 'genres': \"['Fantasy', 'Fiction', 'Young Adult', 'Magic', 'Childrens', 'Middle Grade', 'Adventure', 'Classics', 'Audiobook', 'Science Fiction Fantasy']\", 'publishDate': '11/01/03', 'title': \"Harry Potter and the Sorcerer's Stone\"}),\n",
       " Document(page_content='seven books is a masterpiece, drawing the reader into a land where magic meets reality, and the result is a fictional world', metadata={'author': 'C.S. Lewis, Pauline Baynes (Illustrator)', 'characters': \"['Polly', 'Aslan', 'Lucy Pevensie', 'Edmund Pevensie', 'Eustace Scrubb', 'Prince Caspian', 'Jill Pole', 'Prince Rilian', 'Puddleglum', 'Trumpkin', 'Jewel', 'Aravis', 'Mr. Tumnus', 'Puzzle', 'King Tirian', 'Digory Kirke', 'Peter Pevensie', 'Susan Pevensie', 'Reepicheep', 'Jadis', 'Bacchus (god)', 'Mr. & Mrs. Beaver', 'Andrew Kirke', 'Shasta', 'Silenus', 'Nikabrik', 'King Miraz', 'Dr. Cornelius', 'Trufflehunter', 'Shift']\", 'genres': \"['Fantasy', 'Classics', 'Fiction', 'Young Adult', 'Childrens', 'Christian', 'Adventure', 'Science Fiction Fantasy', 'Middle Grade', 'Christian Fiction']\", 'publishDate': '09/16/02', 'title': 'The Chronicles of Narnia'}),\n",
       " Document(page_content=\"of the world's great antiwar books. Centering on the infamous firebombing of Dresden, Billy Pilgrim's odyssey through time\", metadata={'author': 'Kurt Vonnegut Jr.', 'characters': \"['Billy Pilgrim', 'Kilgore Trout', 'Eliot Rosewater', 'Roland Weary', 'Paul Lazzaro', 'Edgar Derby', 'Robert Pilgrim', 'Valencia Merble', 'Barbara Pilgrim', 'Howard W. Campbell Jr.', 'Montana Wildhack', 'Bertam Copeland Rumfoord']\", 'genres': \"['Classics', 'Fiction', 'Science Fiction', 'War', 'Historical Fiction', 'Literature', 'Novels', 'Time Travel', 'American', 'Fantasy']\", 'publishDate': '01/12/99', 'title': 'Slaughterhouse-Five'})]"
      ]
     },
     "execution_count": 64,
     "metadata": {},
     "output_type": "execute_result"
    }
   ],
   "source": [
    "response = vectordb.max_marginal_relevance_search(question, k=3)\n",
    "response"
   ]
  },
  {
   "cell_type": "markdown",
   "metadata": {},
   "source": [
    "# RAG"
   ]
  },
  {
   "cell_type": "code",
   "execution_count": 71,
   "metadata": {},
   "outputs": [],
   "source": [
    "from langchain.chains import RetrievalQA\n",
    "from langchain_openai import ChatOpenAI\n",
    "import langchain\n",
    "langchain.verbose = True"
   ]
  },
  {
   "cell_type": "code",
   "execution_count": 95,
   "metadata": {},
   "outputs": [],
   "source": [
    "llm_name = \"gpt-3.5-turbo\"\n",
    "\n",
    "llm = ChatOpenAI(model_name=llm_name, temperature=1)"
   ]
  },
  {
   "cell_type": "code",
   "execution_count": 96,
   "metadata": {},
   "outputs": [],
   "source": [
    "qa_chain=RetrievalQA.from_chain_type(\n",
    "    llm,\n",
    "    retriever=vectordb.as_retriever(search_kwargs={\"k\":3}),\n",
    "    chain_type=\"stuff\",\n",
    "    return_source_documents=True\n",
    "    )"
   ]
  },
  {
   "cell_type": "code",
   "execution_count": 97,
   "metadata": {},
   "outputs": [],
   "source": [
    "question=\"which book talks about a vampire?\""
   ]
  },
  {
   "cell_type": "code",
   "execution_count": 98,
   "metadata": {},
   "outputs": [
    {
     "name": "stdout",
     "output_type": "stream",
     "text": [
      "\n",
      "\n",
      "\u001b[1m> Entering new RetrievalQA chain...\u001b[0m\n",
      "\n",
      "\n",
      "\u001b[1m> Entering new StuffDocumentsChain chain...\u001b[0m\n",
      "\n",
      "\n",
      "\u001b[1m> Entering new LLMChain chain...\u001b[0m\n",
      "Prompt after formatting:\n",
      "\u001b[32;1m\u001b[1;3mSystem: Use the following pieces of context to answer the user's question. \n",
      "If you don't know the answer, just say that you don't know, don't try to make up an answer.\n",
      "----------------\n",
      "theoretical interpretations of Dracula by Phyllis A. Roth, Carol A. Senf, Franco Moretti, Christopher Craft, Bram Dijkstra,\n",
      "\n",
      "Deeply seductive and extraordinarily suspenseful, Twilight is a love story with bite.\n",
      "\n",
      "journey through mortal and immortal life. Louis recounts how he became a vampire at the hands of the radiant and sinister\n",
      "Human: which book talks about a vampire?\u001b[0m\n",
      "\n",
      "\u001b[1m> Finished chain.\u001b[0m\n",
      "\n",
      "\u001b[1m> Finished chain.\u001b[0m\n",
      "\n",
      "\u001b[1m> Finished chain.\u001b[0m\n"
     ]
    }
   ],
   "source": [
    "result = qa_chain({\"query\":question})"
   ]
  },
  {
   "cell_type": "code",
   "execution_count": 100,
   "metadata": {},
   "outputs": [
    {
     "data": {
      "text/plain": [
       "{'query': 'which book talks about a vampire?',\n",
       " 'result': 'The book that talks about a vampire is \"Interview with the Vampire\" by Anne Rice. It is part of \"The Vampire Chronicles\" series.',\n",
       " 'source_documents': [Document(page_content='theoretical interpretations of Dracula by Phyllis A. Roth, Carol A. Senf, Franco Moretti, Christopher Craft, Bram Dijkstra,', metadata={'author': 'Bram Stoker, Nina Auerbach (Editor), David J. Skal (Editor)', 'characters': \"['Jonathan Harker', 'Lucy Westenra', 'Abraham Van Helsing', 'John Seward', 'Quincey Morris', 'Arthur Holmwood (later Lord Godalming)', 'R.M. Renfield', 'Mina Harker', 'Quincey Harker', 'Peter Hawkins', 'Samuel F. Billington', 'Herr Leutner', 'Mr. Swales', 'Mr. Westenra', 'Mrs. Westenra', 'Lord Godalming (elder)', 'Patrick Hennessey', 'Thomas Bilder', 'Sister Agatha (Dracula)', 'Dr. Vincent', 'Thomas Snelling', 'Joseph Smollett', 'Sam Bloxam', 'Billington Junior', 'Attendant Hardy', 'Captain of the Demeter', 'Abramoff (Demeter Crew)', 'Olgaren (Demeter Crew)', 'Mate of the Demeter (Roumanian)', 'Second Mate of the Demeter', 'Rufus Smith', 'Mr. Mackenzie', 'Mr. Steinkoff', 'Captain Donelson', 'Immanuel Hildesheim', 'Petrof Skinsky', 'Lady Godalming', 'Mrs. Seward', 'Dracula']\", 'genres': \"['Classics', 'Horror', 'Fiction', 'Fantasy', 'Vampires', 'Gothic', 'Paranormal', 'Literature', 'Audiobook', 'Supernatural']\", 'publishDate': '05/12/86', 'title': 'Dracula'}),\n",
       "  Document(page_content='Deeply seductive and extraordinarily suspenseful, Twilight is a love story with bite.', metadata={'author': 'Stephenie Meyer', 'characters': \"['Edward Cullen', 'Jacob Black', 'Laurent', 'Renee', 'Bella Swan', 'Billy Black', 'Esme Cullen', 'Alice Cullen', 'Jasper Hale', 'Carlisle Cullen', 'Emmett Cullen', 'Rosalie Hale', 'Charlie Swan', 'Mike Newton', 'Jessica Stanley', 'Angela Weber', 'Tyler Crowley']\", 'genres': \"['Young Adult', 'Fantasy', 'Romance', 'Vampires', 'Fiction', 'Paranormal', 'Paranormal Romance', 'Supernatural', 'Teen', 'Urban Fantasy']\", 'publishDate': '09/06/06', 'title': 'Twilight'}),\n",
       "  Document(page_content='journey through mortal and immortal life. Louis recounts how he became a vampire at the hands of the radiant and sinister', metadata={'author': 'Anne Rice', 'characters': \"['Lestat de Lioncourt', 'Claudia', 'Daniel Molloy', 'Louis de Pointe du Lac']\", 'genres': \"['Horror', 'Fantasy', 'Fiction', 'Vampires', 'Paranormal', 'Supernatural', 'Classics', 'Gothic', 'Urban Fantasy', 'Historical Fiction']\", 'publishDate': '08/31/04', 'title': 'Interview with the Vampire'})]}"
      ]
     },
     "execution_count": 100,
     "metadata": {},
     "output_type": "execute_result"
    }
   ],
   "source": [
    "result"
   ]
  }
 ],
 "metadata": {
  "kernelspec": {
   "display_name": "Python 3",
   "language": "python",
   "name": "python3"
  },
  "language_info": {
   "codemirror_mode": {
    "name": "ipython",
    "version": 3
   },
   "file_extension": ".py",
   "mimetype": "text/x-python",
   "name": "python",
   "nbconvert_exporter": "python",
   "pygments_lexer": "ipython3",
   "version": "3.11.0"
  }
 },
 "nbformat": 4,
 "nbformat_minor": 2
}
