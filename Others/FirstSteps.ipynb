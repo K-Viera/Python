{
  "nbformat": 4,
  "nbformat_minor": 0,
  "metadata": {
    "colab": {
      "name": "FirstSteps.ipynb",
      "provenance": [],
      "collapsed_sections": [
        "iZ4cINksxwUl",
        "FVwdorEZy0Ya"
      ],
      "toc_visible": true,
      "authorship_tag": "ABX9TyPs9qgX8cO7bVyuX2xNQdVB",
      "include_colab_link": true
    },
    "kernelspec": {
      "name": "python3",
      "display_name": "Python 3"
    },
    "language_info": {
      "name": "python"
    }
  },
  "cells": [
    {
      "cell_type": "markdown",
      "metadata": {
        "id": "view-in-github",
        "colab_type": "text"
      },
      "source": [
        "<a href=\"https://colab.research.google.com/github/K-Viera/Phyton/blob/main/FirstSteps.ipynb\" target=\"_parent\"><img src=\"https://colab.research.google.com/assets/colab-badge.svg\" alt=\"Open In Colab\"/></a>"
      ]
    },
    {
      "cell_type": "markdown",
      "source": [
        "# First Steps\n"
      ],
      "metadata": {
        "id": "GOwkWkoUdMXP"
      }
    },
    {
      "cell_type": "code",
      "execution_count": null,
      "metadata": {
        "id": "vZ3TWPWpbQKA",
        "colab": {
          "base_uri": "https://localhost:8080/"
        },
        "outputId": "0a6ce21d-edcc-4364-9dd6-8ff4b2647113"
      },
      "outputs": [
        {
          "output_type": "stream",
          "name": "stdout",
          "text": [
            "hello world\n"
          ]
        }
      ],
      "source": [
        "print(\"hello world\")"
      ]
    },
    {
      "cell_type": "code",
      "source": [
        "x=5\n",
        "y=\"kevin\"\n",
        "print(type(x))\n",
        "print(type(y))\n",
        "print(x,y) #have a space by default\n",
        "# print(x + y) not possible because have diferent data types\n",
        "print(str(x)+\" \"+y)\n"
      ],
      "metadata": {
        "colab": {
          "base_uri": "https://localhost:8080/"
        },
        "id": "dfEahQIMFNX-",
        "outputId": "052bdbb4-ff4d-4244-a4fe-053b8750370c"
      },
      "execution_count": null,
      "outputs": [
        {
          "output_type": "stream",
          "name": "stdout",
          "text": [
            "<class 'int'>\n",
            "<class 'str'>\n",
            "5 kevin\n",
            "5 kevin\n"
          ]
        }
      ]
    },
    {
      "cell_type": "markdown",
      "source": [
        "### Randoms"
      ],
      "metadata": {
        "id": "365lgJH8InR4"
      }
    },
    {
      "cell_type": "code",
      "source": [
        "#to use random we need to import a built-in module\n",
        "import random\n",
        "print(random.randrange(1,10))\n",
        "print(random.randrange(1,10))\n",
        "print(random.randrange(1,10))\n",
        "print(random.randrange(1,10))\n",
        "print(random.randrange(1,10))"
      ],
      "metadata": {
        "colab": {
          "base_uri": "https://localhost:8080/"
        },
        "id": "0gtQCUi8IWG4",
        "outputId": "9037d44f-0f72-4a6c-f47c-688591ca2f2a"
      },
      "execution_count": null,
      "outputs": [
        {
          "output_type": "stream",
          "name": "stdout",
          "text": [
            "9\n",
            "4\n",
            "6\n",
            "1\n",
            "3\n"
          ]
        }
      ]
    },
    {
      "cell_type": "markdown",
      "source": [
        "## Functions\n"
      ],
      "metadata": {
        "id": "WzaW9mYLMfrt"
      }
    },
    {
      "cell_type": "code",
      "source": [
        "def my_function(name=\"default name\"):\n",
        "  if name!=\"default name\":\n",
        "    print(\"hello {}\".format(name))\n",
        "  return name\n",
        "\n",
        "my_function(\"kevin\")\n",
        "my_function(\"viera\")\n",
        "print(my_function())"
      ],
      "metadata": {
        "colab": {
          "base_uri": "https://localhost:8080/"
        },
        "id": "ti8kmr4YMkiX",
        "outputId": "3f2085cc-79ed-4458-dc7e-f920f0b8204b"
      },
      "execution_count": null,
      "outputs": [
        {
          "output_type": "stream",
          "name": "stdout",
          "text": [
            "hello kevin\n",
            "hello viera\n",
            "default name\n"
          ]
        }
      ]
    },
    {
      "cell_type": "code",
      "source": [
        "def arbitrary_fuction(*names):\n",
        "  print(type(names))\n",
        "  print(names);\n",
        "  # print(names[2]) Error because the first function call only set 1 argument\n",
        "\n",
        "arbitrary_fuction(\"kevin\");\n",
        "arbitrary_fuction(\"Kevin\",\"viera\")\n",
        "arbitrary_fuction(\"kevin\",\"Viera\",3)"
      ],
      "metadata": {
        "colab": {
          "base_uri": "https://localhost:8080/"
        },
        "id": "keg1Z_MsN9a9",
        "outputId": "e144707e-81da-4f8d-f11c-10ddf31fe2e3"
      },
      "execution_count": null,
      "outputs": [
        {
          "output_type": "stream",
          "name": "stdout",
          "text": [
            "<class 'tuple'>\n",
            "('kevin',)\n",
            "<class 'tuple'>\n",
            "('Kevin', 'viera')\n",
            "<class 'tuple'>\n",
            "('kevin', 'Viera', 3)\n"
          ]
        }
      ]
    },
    {
      "cell_type": "markdown",
      "source": [
        "### Lambda functions\n",
        "Is a small anonymous fuction"
      ],
      "metadata": {
        "id": "iZ4cINksxwUl"
      }
    },
    {
      "cell_type": "code",
      "source": [
        "x = lambda a : a + 10\n",
        "print(x(5))\n",
        "x = lambda a, b : a * b\n",
        "print(x(5, 6))"
      ],
      "metadata": {
        "colab": {
          "base_uri": "https://localhost:8080/"
        },
        "id": "EnC3JWnlx7GJ",
        "outputId": "8c588349-437f-44ed-c5dc-e7a66eb4058b"
      },
      "execution_count": null,
      "outputs": [
        {
          "output_type": "stream",
          "name": "stdout",
          "text": [
            "15\n",
            "30\n"
          ]
        }
      ]
    },
    {
      "cell_type": "markdown",
      "source": [
        "## Class and objects\n",
        "\n",
        "\n",
        "\n",
        "\n"
      ],
      "metadata": {
        "id": "CTsaT48Fz4Si"
      }
    },
    {
      "cell_type": "code",
      "source": [
        "class Student:\n",
        "  #class attribute, donot change in instanctiation \n",
        "  classMessage=\"Hello World\" \n",
        "\n",
        "  def __init__(self, name, major, gpa, is_on_probation):\n",
        "    self.name = name\n",
        "    self.major = major\n",
        "    self.__gpa=gpa\n",
        "    self.is_on_probation=is_on_probation\n",
        "\n",
        "  def changeGPA(self,gpa):\n",
        "    #Phyton allow create global variable inside functions\n",
        "    global lastGPA\n",
        "    lastGPA=self.__gpa\n",
        "    self.__gpa=gpa\n",
        "  #we need to put this attribute above the method to make a class method\n",
        "  @classmethod\n",
        "  def helloWorld(cls):\n",
        "    print(cls.classMessage)\n",
        "  \n",
        "  #Static method (same as C#) we put this attribute above\n",
        "  @staticmethod\n",
        "  def yourMessage(message):\n",
        "    print(message)\n",
        "\n",
        "  #Getters and setters in phyton\n",
        "  #we use the attribute @property\n",
        "  @property\n",
        "  def gpa(self):\n",
        "    return self.__gpa\n",
        "  \n",
        "  @gpa.setter\n",
        "  def gpa(self,gpa):\n",
        "    if gpa > 0:\n",
        "      self.__gpa=gpa\n",
        "    else:\n",
        "      print(\"invalid gpa\")"
      ],
      "metadata": {
        "id": "Xq9ylK4Rz9rN"
      },
      "execution_count": null,
      "outputs": []
    },
    {
      "cell_type": "code",
      "source": [
        "student1=Student(\"jim\",\"business\",3,False)\n",
        "print(student1.gpa)\n",
        "student1.changeGPA(-3)\n",
        "print(student1.gpa)\n",
        "print(lastGPA)\n",
        "student2=Student(\"Kevin\",\"Engineering\",1.5,True)\n",
        "student2.changeGPA(2)\n",
        "print(lastGPA)\n",
        "student2.helloWorld()\n",
        "student2.yourMessage(\"Hola\")\n",
        "#setter\n",
        "student2.gpa=-2\n"
      ],
      "metadata": {
        "colab": {
          "base_uri": "https://localhost:8080/"
        },
        "id": "kFH44uiJ0-Vz",
        "outputId": "247809c1-181f-49b9-d9e6-3652f2e25a7b"
      },
      "execution_count": null,
      "outputs": [
        {
          "output_type": "stream",
          "name": "stdout",
          "text": [
            "3\n",
            "-3\n",
            "3\n",
            "1.5\n",
            "Hello World\n",
            "Hola\n",
            "invalid gpa\n"
          ]
        }
      ]
    },
    {
      "cell_type": "markdown",
      "source": [
        "### Inheritance\n"
      ],
      "metadata": {
        "id": "FVwdorEZy0Ya"
      }
    },
    {
      "cell_type": "code",
      "source": [
        "class Person:\n",
        "  def __init__(self,fname,lname):\n",
        "    self.firstname=fname\n",
        "    self.lastname=lname\n",
        "  def printName(self):\n",
        "    print(self.firstname, self.lastname)\n",
        "x=Person(\"kevin\",\"viera\")\n",
        "x.printName()"
      ],
      "metadata": {
        "colab": {
          "base_uri": "https://localhost:8080/"
        },
        "id": "LEBeAgcmzFLh",
        "outputId": "2d5036d3-0061-43ee-cc07-ae169c9f8c2e"
      },
      "execution_count": null,
      "outputs": [
        {
          "output_type": "stream",
          "name": "stdout",
          "text": [
            "kevin viera\n"
          ]
        }
      ]
    },
    {
      "cell_type": "code",
      "source": [
        "class Student(Person):\n",
        "  def __init__(self,fname,lname,graduation):\n",
        "    super().__init__(fname,lname)\n",
        "    self.graduation=graduation\n",
        "  \n",
        "  def getGraduation(self):\n",
        "    return self.graduation\n",
        "\n",
        "y=Student(\"kevin2\",\"viera2\",2023)\n",
        "y.printName()\n",
        "print(y.getGraduation())"
      ],
      "metadata": {
        "colab": {
          "base_uri": "https://localhost:8080/"
        },
        "id": "UwPbH4YfzvZa",
        "outputId": "2310e7a6-7b2b-4c54-bd32-762d56d6215d"
      },
      "execution_count": null,
      "outputs": [
        {
          "output_type": "stream",
          "name": "stdout",
          "text": [
            "kevin2 viera2\n",
            "2023\n"
          ]
        }
      ]
    },
    {
      "cell_type": "markdown",
      "source": [
        "#Data Structures"
      ],
      "metadata": {
        "id": "uDk8gbxCAThp"
      }
    },
    {
      "cell_type": "markdown",
      "source": [
        "## Tree\n"
      ],
      "metadata": {
        "id": "kmAP-Il3AZIZ"
      }
    },
    {
      "cell_type": "code",
      "source": [
        "# Get from https://www.codecademy.com/learn/nonlinear-data-structures-python/modules/trees-python/cheatsheet\n",
        "\n",
        "class TreeNode:\n",
        "  def __init__(self,state):\n",
        "    self.state=state\n",
        "    self.children=[]\n",
        "  \n",
        "  def add_child(self,child_node):\n",
        "    self.children.append(child_node)\n",
        "  \n",
        "  def remove_child(self,child_node):\n",
        "    self.children=[child for child in self.children if child is not child_node ]\n",
        "\n",
        "  def traverse(self):\n",
        "    nodes_to_visit=[self]\n",
        "    while len(nodes_to_visit) > 0:\n",
        "      current_node=nodes_to_visit.pop()\n",
        "      #function\n",
        "      print(current_node.state)\n",
        "      nodes_to_visit+=current_node.children"
      ],
      "metadata": {
        "id": "g8Xjvyo2Ao1x"
      },
      "execution_count": 1,
      "outputs": []
    },
    {
      "cell_type": "code",
      "source": [
        "node1=TreeNode(1)\n",
        "node2=TreeNode(2)\n",
        "node3=TreeNode(3)\n",
        "node1.add_child(node2)\n",
        "node1.add_child(node3)\n",
        "node1.traverse()"
      ],
      "metadata": {
        "id": "Zqq7CJ2oGDJc",
        "outputId": "3a4c93e8-42c7-47ed-d2cc-daac3f1d2840",
        "colab": {
          "base_uri": "https://localhost:8080/"
        }
      },
      "execution_count": 4,
      "outputs": [
        {
          "output_type": "stream",
          "name": "stdout",
          "text": [
            "1\n",
            "3\n",
            "2\n"
          ]
        }
      ]
    },
    {
      "cell_type": "markdown",
      "source": [
        "# External Modules\n"
      ],
      "metadata": {
        "id": "KBB5GiG9GaFL"
      }
    },
    {
      "cell_type": "markdown",
      "source": [
        "##NumPy\n"
      ],
      "metadata": {
        "id": "CdnioUzSGejj"
      }
    },
    {
      "cell_type": "code",
      "source": [
        "import numpy as np"
      ],
      "metadata": {
        "id": "kl7XnCkCJTnr"
      },
      "execution_count": null,
      "outputs": []
    },
    {
      "cell_type": "code",
      "source": [
        "arr = np.array([1,2,3,4,5,6])\n",
        "print(arr)\n",
        "print(type(arr))\n",
        "#np receive any array-like object\n",
        "arr= np.array((1,2,3,4,5,6,7))\n",
        "print(arr)\n",
        "print(type(arr))\n",
        "print(arr[:-2])\n",
        "print(arr[2:])\n",
        "print(arr[2:4])\n",
        "print(arr[::2])\n",
        "print(arr[1::2])\n",
        "print(arr[::-2])"
      ],
      "metadata": {
        "colab": {
          "base_uri": "https://localhost:8080/"
        },
        "id": "3kUFegXCJXCJ",
        "outputId": "12101035-8d1c-4774-cd50-2e422247089b"
      },
      "execution_count": null,
      "outputs": [
        {
          "output_type": "stream",
          "name": "stdout",
          "text": [
            "[1 2 3 4 5 6]\n",
            "<class 'numpy.ndarray'>\n",
            "[1 2 3 4 5 6 7]\n",
            "<class 'numpy.ndarray'>\n",
            "[1 2 3 4 5]\n",
            "[3 4 5 6 7]\n",
            "[3 4]\n",
            "[1 3 5 7]\n",
            "[2 4 6]\n",
            "[7 5 3 1]\n"
          ]
        }
      ]
    },
    {
      "cell_type": "code",
      "source": [
        "##Multiple dimensions\n",
        "a=np.array(1)\n",
        "b=np.array([1,2,3,4,5,6])\n",
        "c=np.array([[1,2,3],[4,5,6],[7,8,9]])\n",
        "d=np.array([[[1,2],[3,4]],[[5,6],[7,8]]])\n",
        "print(a.ndim)\n",
        "print(b.ndim)\n",
        "print(c.ndim)\n",
        "print(d.ndim)"
      ],
      "metadata": {
        "colab": {
          "base_uri": "https://localhost:8080/"
        },
        "id": "wGHNvLW2K-PH",
        "outputId": "9747a324-0e33-4c83-ef1e-983f77f23004"
      },
      "execution_count": null,
      "outputs": [
        {
          "output_type": "stream",
          "name": "stdout",
          "text": [
            "0\n",
            "1\n",
            "2\n",
            "3\n"
          ]
        }
      ]
    }
  ]
}